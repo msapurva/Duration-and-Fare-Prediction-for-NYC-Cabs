{
 "cells": [
  {
   "cell_type": "code",
   "execution_count": 1,
   "metadata": {},
   "outputs": [],
   "source": [
    "#Import Packages:\n",
    "\n",
    "import pandas as pd\n",
    "import os\n",
    "\n",
    "from pyspark.sql import SparkSession\n",
    "import numpy as np\n",
    "\n",
    "spark = SparkSession.builder.getOrCreate()\n",
    "sc = spark.sparkContext\n",
    "\n",
    "import pyspark\n",
    "from pyspark.ml import feature, regression, Pipeline\n",
    "from pyspark.sql import functions as fn, Row\n",
    "from pyspark import sql\n",
    "\n",
    "import matplotlib.pyplot as plt\n",
    "import pandas as pd\n",
    "\n",
    "spark = SparkSession.builder.getOrCreate()\n",
    "sc = spark.sparkContext\n",
    "\n",
    "from datetime import datetime\n",
    "from pyspark.sql.functions import col,udf\n",
    "from pyspark.sql.types import DateType\n",
    "from pyspark.sql import SQLContext\n",
    "sqlContext = SQLContext(sc)\n",
    "import matplotlib.pyplot as plt\n"
   ]
  },
  {
   "cell_type": "code",
   "execution_count": 2,
   "metadata": {},
   "outputs": [
    {
     "data": {
      "text/html": [
       "<div>\n",
       "<style scoped>\n",
       "    .dataframe tbody tr th:only-of-type {\n",
       "        vertical-align: middle;\n",
       "    }\n",
       "\n",
       "    .dataframe tbody tr th {\n",
       "        vertical-align: top;\n",
       "    }\n",
       "\n",
       "    .dataframe thead th {\n",
       "        text-align: right;\n",
       "    }\n",
       "</style>\n",
       "<table border=\"1\" class=\"dataframe\">\n",
       "  <thead>\n",
       "    <tr style=\"text-align: right;\">\n",
       "      <th></th>\n",
       "      <th>pickup_date</th>\n",
       "      <th>avg_temp_C</th>\n",
       "      <th>Rain</th>\n",
       "      <th>Fog</th>\n",
       "      <th>Snow</th>\n",
       "      <th>Holiday</th>\n",
       "    </tr>\n",
       "  </thead>\n",
       "  <tbody>\n",
       "    <tr>\n",
       "      <th>0</th>\n",
       "      <td>2015-01-01</td>\n",
       "      <td>1</td>\n",
       "      <td>0</td>\n",
       "      <td>0</td>\n",
       "      <td>0</td>\n",
       "      <td>1</td>\n",
       "    </tr>\n",
       "    <tr>\n",
       "      <th>1</th>\n",
       "      <td>2015-01-02</td>\n",
       "      <td>4</td>\n",
       "      <td>0</td>\n",
       "      <td>0</td>\n",
       "      <td>0</td>\n",
       "      <td>0</td>\n",
       "    </tr>\n",
       "    <tr>\n",
       "      <th>2</th>\n",
       "      <td>2015-01-03</td>\n",
       "      <td>3</td>\n",
       "      <td>1</td>\n",
       "      <td>0</td>\n",
       "      <td>1</td>\n",
       "      <td>0</td>\n",
       "    </tr>\n",
       "    <tr>\n",
       "      <th>3</th>\n",
       "      <td>2015-01-04</td>\n",
       "      <td>9</td>\n",
       "      <td>1</td>\n",
       "      <td>0</td>\n",
       "      <td>0</td>\n",
       "      <td>0</td>\n",
       "    </tr>\n",
       "    <tr>\n",
       "      <th>4</th>\n",
       "      <td>2015-01-05</td>\n",
       "      <td>2</td>\n",
       "      <td>0</td>\n",
       "      <td>0</td>\n",
       "      <td>0</td>\n",
       "      <td>0</td>\n",
       "    </tr>\n",
       "  </tbody>\n",
       "</table>\n",
       "</div>"
      ],
      "text/plain": [
       "  pickup_date  avg_temp_C  Rain  Fog  Snow  Holiday\n",
       "0  2015-01-01           1     0    0     0        1\n",
       "1  2015-01-02           4     0    0     0        0\n",
       "2  2015-01-03           3     1    0     1        0\n",
       "3  2015-01-04           9     1    0     0        0\n",
       "4  2015-01-05           2     0    0     0        0"
      ]
     },
     "execution_count": 2,
     "metadata": {},
     "output_type": "execute_result"
    }
   ],
   "source": [
    "#Reading Holiday data(US Federal) for year 2015\n",
    "raw_weather_holiday_merged = pd.read_excel(\"/Users/apsharma/IST718 Dropbox/IST718Project_Data/Weather Data/2015_weather_holiday_merged.xlsx\")\n",
    "raw_weather_holiday_merged[\"pickup_date\"] = pd.to_datetime(raw_weather_holiday_merged['pickup_date'], format=\"%d.%m.%y\", errors='coerce')\n",
    "raw_weather_holiday_merged.head()"
   ]
  },
  {
   "cell_type": "code",
   "execution_count": 3,
   "metadata": {},
   "outputs": [
    {
     "name": "stdout",
     "output_type": "stream",
     "text": [
      "+-------------------+----------+----+---+----+-------+----------+\n",
      "|        pickup_date|avg_temp_C|Rain|Fog|Snow|Holiday| date_only|\n",
      "+-------------------+----------+----+---+----+-------+----------+\n",
      "|2015-01-01 00:00:00|         1|   0|  0|   0|      1|2015-01-01|\n",
      "|2015-01-02 00:00:00|         4|   0|  0|   0|      0|2015-01-02|\n",
      "|2015-01-03 00:00:00|         3|   1|  0|   1|      0|2015-01-03|\n",
      "|2015-01-04 00:00:00|         9|   1|  0|   0|      0|2015-01-04|\n",
      "|2015-01-05 00:00:00|         2|   0|  0|   0|      0|2015-01-05|\n",
      "|2015-01-06 00:00:00|        -6|   0|  0|   1|      0|2015-01-06|\n",
      "|2015-01-07 00:00:00|        -9|   0|  0|   0|      0|2015-01-07|\n",
      "|2015-01-08 00:00:00|        -9|   0|  0|   0|      0|2015-01-08|\n",
      "|2015-01-09 00:00:00|        -3|   0|  0|   1|      0|2015-01-09|\n",
      "|2015-01-10 00:00:00|        -7|   0|  0|   0|      0|2015-01-10|\n",
      "|2015-01-11 00:00:00|        -2|   0|  0|   0|      0|2015-01-11|\n",
      "|2015-01-12 00:00:00|         3|   1|  0|   0|      0|2015-01-12|\n",
      "|2015-01-13 00:00:00|        -3|   0|  0|   0|      0|2015-01-13|\n",
      "|2015-01-14 00:00:00|        -4|   0|  0|   0|      0|2015-01-14|\n",
      "|2015-01-15 00:00:00|        -1|   0|  0|   0|      0|2015-01-15|\n",
      "|2015-01-16 00:00:00|         0|   0|  0|   0|      0|2015-01-16|\n",
      "|2015-01-17 00:00:00|        -4|   0|  0|   0|      0|2015-01-17|\n",
      "|2015-01-18 00:00:00|         3|   1|  1|   0|      0|2015-01-18|\n",
      "|2015-01-19 00:00:00|         4|   0|  0|   0|      1|2015-01-19|\n",
      "|2015-01-20 00:00:00|         2|   0|  0|   0|      0|2015-01-20|\n",
      "+-------------------+----------+----+---+----+-------+----------+\n",
      "only showing top 20 rows\n",
      "\n"
     ]
    }
   ],
   "source": [
    "raw_weather_holiday_merged = spark.createDataFrame(raw_weather_holiday_merged)\n",
    "raw_weather_holiday_merged = raw_weather_holiday_merged.withColumn(\"date_only\", fn.to_date(fn.col(\"pickup_date\")))\n",
    "raw_weather_holiday_merged.show()"
   ]
  },
  {
   "cell_type": "code",
   "execution_count": 4,
   "metadata": {},
   "outputs": [],
   "source": [
    "#Reading weather data for NYC in year 2015 \n",
    "weather_holiday_data_clean = raw_weather_holiday_merged"
   ]
  },
  {
   "cell_type": "code",
   "execution_count": 5,
   "metadata": {},
   "outputs": [],
   "source": [
    "# Reading 12 months of NYC's Yellow Taxi Data for year 2015 \n",
    "raw_Jan_Data1 = pd.read_csv(\"/Users/apsharma/IST718 Dropbox/IST718Project_Data/Taxi Data/2015-01_100k.csv\")\n",
    "raw_Feb_Data1 = pd.read_csv(\"/Users/apsharma/IST718 Dropbox/IST718Project_Data/Taxi Data/2015-02_100k.csv\")\n",
    "raw_Mar_Data1 = pd.read_csv(\"/Users/apsharma/IST718 Dropbox/IST718Project_Data/Taxi Data/2015-03_100k.csv\")\n",
    "raw_Apr_Data1 = pd.read_csv(\"/Users/apsharma/IST718 Dropbox/IST718Project_Data/Taxi Data/2015-04_100k.csv\")\n",
    "raw_May_Data1 = pd.read_csv(\"/Users/apsharma/IST718 Dropbox/IST718Project_Data/Taxi Data/2015-05_100k.csv\")\n",
    "raw_Jun_Data1 = pd.read_csv(\"/Users/apsharma/IST718 Dropbox/IST718Project_Data/Taxi Data/2015-06_100k.csv\")\n",
    "raw_Jul_Data1 = pd.read_csv(\"/Users/apsharma/IST718 Dropbox/IST718Project_Data/Taxi Data/2015-07_100k.csv\")\n",
    "raw_Aug_Data1 = pd.read_csv(\"/Users/apsharma/IST718 Dropbox/IST718Project_Data/Taxi Data/2015-08_100k.csv\")\n",
    "raw_Sep_Data1 = pd.read_csv(\"/Users/apsharma/IST718 Dropbox/IST718Project_Data/Taxi Data/2015-09_100k.csv\")\n",
    "raw_Oct_Data1 = pd.read_csv(\"/Users/apsharma/IST718 Dropbox/IST718Project_Data/Taxi Data/2015-10_100k.csv\")\n",
    "raw_Nov_Data1 = pd.read_csv(\"/Users/apsharma/IST718 Dropbox/IST718Project_Data/Taxi Data/2015-11_100k.csv\")\n",
    "raw_Dec_Data1 = pd.read_csv(\"/Users/apsharma/IST718 Dropbox/IST718Project_Data/Taxi Data/2015-12_100k.csv\")\n"
   ]
  },
  {
   "cell_type": "code",
   "execution_count": 6,
   "metadata": {},
   "outputs": [],
   "source": [
    "frames = [raw_Jan_Data1,raw_Feb_Data1,raw_Mar_Data1,raw_Apr_Data1,raw_May_Data1,raw_Jun_Data1,raw_Jul_Data1,\n",
    "          raw_Aug_Data1,raw_Sep_Data1,raw_Oct_Data1,raw_Nov_Data1,raw_Dec_Data1]"
   ]
  },
  {
   "cell_type": "code",
   "execution_count": 7,
   "metadata": {},
   "outputs": [],
   "source": [
    "# Merging the 3 different datasets\n",
    "Full_DataPD = pd.concat(frames)"
   ]
  },
  {
   "cell_type": "code",
   "execution_count": 8,
   "metadata": {},
   "outputs": [],
   "source": [
    "Full_DataPD1=Full_DataPD"
   ]
  },
  {
   "cell_type": "code",
   "execution_count": 9,
   "metadata": {},
   "outputs": [],
   "source": [
    "#Taking sample out of 12 Million datapoints:\n",
    "Full_DataPDSample= Full_DataPD.sample(60000)"
   ]
  },
  {
   "cell_type": "code",
   "execution_count": 10,
   "metadata": {},
   "outputs": [],
   "source": [
    "Full_DataPDSample1=Full_DataPDSample"
   ]
  },
  {
   "cell_type": "code",
   "execution_count": 11,
   "metadata": {},
   "outputs": [
    {
     "data": {
      "text/plain": [
       "pandas.core.frame.DataFrame"
      ]
     },
     "execution_count": 11,
     "metadata": {},
     "output_type": "execute_result"
    }
   ],
   "source": [
    "type(Full_DataPDSample1)"
   ]
  },
  {
   "cell_type": "code",
   "execution_count": 12,
   "metadata": {},
   "outputs": [],
   "source": [
    "#Removing unnecessary columns:\n",
    "Full_DataPDSample2 = Full_DataPDSample1.drop([\"pickup_borough\",\"dropoff_borough\",\"fare_amount\",\"extra\",\"mta_tax\",\"tip_amount\",\"tolls_amount\",\"improvement_surcharge\",\"dropoff_zip\",\"pickup_zip\"],axis =1)"
   ]
  },
  {
   "cell_type": "code",
   "execution_count": 13,
   "metadata": {},
   "outputs": [],
   "source": [
    "Full_DataPDSample_Spark = spark.createDataFrame(Full_DataPDSample2)"
   ]
  },
  {
   "cell_type": "code",
   "execution_count": 14,
   "metadata": {},
   "outputs": [],
   "source": [
    "Full_DataPDSample_Spark1= Full_DataPDSample_Spark"
   ]
  },
  {
   "cell_type": "code",
   "execution_count": 15,
   "metadata": {},
   "outputs": [
    {
     "name": "stdout",
     "output_type": "stream",
     "text": [
      "+--------+-------------------+-------------------+---------------+-------------+------------------+-----------------+----------+------------------+------------------+-----------------+------------+------------+-------------------+--------------------+----------+\n",
      "|VendorID|    pickup_datetime|   dropoff_datetime|passenger_count|trip_distance|  pickup_longitude|  pickup_latitude|RateCodeID|store_and_fwd_flag| dropoff_longitude| dropoff_latitude|payment_type|total_amount|pickup_neighborhood|dropoff_neighborhood| date_only|\n",
      "+--------+-------------------+-------------------+---------------+-------------+------------------+-----------------+----------+------------------+------------------+-----------------+------------+------------+-------------------+--------------------+----------+\n",
      "|       1|2015-11-14 22:35:02|2015-11-14 22:43:37|              2|          0.8|-73.98409271240234|40.76068115234375|         1|                 N|-73.97766876220702|40.75379180908203|           2|         8.3|Chelsea and Clinton|Gramercy Park and...|2015-11-14|\n",
      "|       2|2015-11-14 00:29:31|2015-11-14 00:56:31|              1|         4.82|-73.98548889160156|40.76525115966797|         1|                 N|-73.91667938232422|40.76321029663085|           1|       25.56|Chelsea and Clinton|    Northwest Queens|2015-11-14|\n",
      "+--------+-------------------+-------------------+---------------+-------------+------------------+-----------------+----------+------------------+------------------+-----------------+------------+------------+-------------------+--------------------+----------+\n",
      "only showing top 2 rows\n",
      "\n"
     ]
    }
   ],
   "source": [
    "Full_DataPDSample_Spark1 = Full_DataPDSample_Spark1.withColumn(\"date_only\", fn.to_date(fn.col(\"pickup_datetime\")))\n",
    "Full_DataPDSample_Spark1.limit(20).show(2)"
   ]
  },
  {
   "cell_type": "code",
   "execution_count": 16,
   "metadata": {},
   "outputs": [],
   "source": [
    "Merged_FULL_data = weather_holiday_data_clean.join(Full_DataPDSample_Spark1, ['date_only'], how='full') #execute this when needed"
   ]
  },
  {
   "cell_type": "code",
   "execution_count": 17,
   "metadata": {},
   "outputs": [],
   "source": [
    "Merged_FULL_data1 = Merged_FULL_data"
   ]
  },
  {
   "cell_type": "code",
   "execution_count": 18,
   "metadata": {},
   "outputs": [],
   "source": [
    "Merged_FULL_data2 = Merged_FULL_data1"
   ]
  },
  {
   "cell_type": "code",
   "execution_count": 19,
   "metadata": {},
   "outputs": [],
   "source": [
    "#Writing Full Merged Data:\n",
    "#Merged_FULL_data2.toPandas().to_csv(header=True, path_or_buf='/Users/apsharma/IST718 Dropbox/IST718Project_Data/FullMergedData_Dec6.csv')"
   ]
  },
  {
   "cell_type": "code",
   "execution_count": 20,
   "metadata": {},
   "outputs": [],
   "source": [
    "#Data Cleaning\n",
    "# from pyspark.sql.functions import isnan, when, count, col\n",
    "# Merged_FULL_data2.select([count(when(isnan(c), c)).alias(c) for c in Merged_FULL_data2.columns]).show()"
   ]
  },
  {
   "cell_type": "code",
   "execution_count": 21,
   "metadata": {},
   "outputs": [],
   "source": [
    "#Read_Merged_Data2 = Read_Merged_Data2.drop(\"Unnamed: 0\")"
   ]
  },
  {
   "cell_type": "code",
   "execution_count": 22,
   "metadata": {},
   "outputs": [],
   "source": [
    "#Read_Merged_Data2.printSchema()"
   ]
  },
  {
   "cell_type": "code",
   "execution_count": 23,
   "metadata": {},
   "outputs": [
    {
     "data": {
      "text/plain": [
       "22"
      ]
     },
     "execution_count": 23,
     "metadata": {},
     "output_type": "execute_result"
    }
   ],
   "source": [
    "len(Merged_FULL_data2.columns)"
   ]
  },
  {
   "cell_type": "code",
   "execution_count": 24,
   "metadata": {},
   "outputs": [],
   "source": [
    "Merged_FULL_data2Pandas = Merged_FULL_data2.toPandas()"
   ]
  },
  {
   "cell_type": "code",
   "execution_count": 25,
   "metadata": {},
   "outputs": [],
   "source": [
    "Merged_FULL_dataPandas1 = Merged_FULL_data2Pandas"
   ]
  },
  {
   "cell_type": "code",
   "execution_count": 26,
   "metadata": {},
   "outputs": [],
   "source": [
    "Merged_FULL_dataPandas2= Merged_FULL_dataPandas1"
   ]
  },
  {
   "cell_type": "code",
   "execution_count": 27,
   "metadata": {},
   "outputs": [],
   "source": [
    "#Dummy variables creation:----------------"
   ]
  },
  {
   "cell_type": "code",
   "execution_count": 28,
   "metadata": {},
   "outputs": [
    {
     "data": {
      "text/plain": [
       "21"
      ]
     },
     "execution_count": 28,
     "metadata": {},
     "output_type": "execute_result"
    }
   ],
   "source": [
    "dummy_df = Merged_FULL_data2.drop(\"date_only\") \n",
    "len(dummy_df.columns)"
   ]
  },
  {
   "cell_type": "code",
   "execution_count": 29,
   "metadata": {},
   "outputs": [
    {
     "data": {
      "text/plain": [
       "20"
      ]
     },
     "execution_count": 29,
     "metadata": {},
     "output_type": "execute_result"
    }
   ],
   "source": [
    "dummy_df = dummy_df.drop(\"pickup_date\") \n",
    "len(dummy_df.columns) "
   ]
  },
  {
   "cell_type": "code",
   "execution_count": 30,
   "metadata": {},
   "outputs": [],
   "source": [
    "from pyspark.sql.types import TimestampType\n",
    "dummy_df = dummy_df.withColumn(\"pickup_datetime\", dummy_df['pickup_datetime'].cast(TimestampType()))\n",
    "dummy_df = dummy_df.withColumn(\"dropoff_datetime\", dummy_df['dropoff_datetime'].cast(TimestampType()))\n",
    "#dummy_df.printSchema()"
   ]
  },
  {
   "cell_type": "code",
   "execution_count": 31,
   "metadata": {},
   "outputs": [],
   "source": [
    "# Dummy for Rate code: base is 99\n",
    "dummy_df= dummy_df.select(fn.when(fn.col('RateCodeID')=='1',1).otherwise(0).alias('RateCode_stdrate'), \n",
    "                           fn.when(fn.col('RateCodeID')=='2',1).otherwise(0).alias('RateCode_JFK'),\n",
    "                           fn.when(fn.col('RateCodeID')=='3',1).otherwise(0).alias('RateCode_Newark'), \n",
    "                           fn.when(fn.col('RateCodeID')=='4',1).otherwise(0).alias('RateCode_Nassau_W'),\n",
    "                           fn.when(fn.col('RateCodeID')=='5',1).otherwise(0).alias('RateCode_Negotiated'), \n",
    "                           fn.when(fn.col('RateCodeID')=='6',1).otherwise(0).alias('RateCode_Group'),\n",
    "                         '*')\n",
    "dummy_df=dummy_df.drop('RateCodeID')"
   ]
  },
  {
   "cell_type": "code",
   "execution_count": 32,
   "metadata": {},
   "outputs": [],
   "source": [
    "#base is unknown #5\n",
    "dummy_df = dummy_df.select('*',fn.when(fn.col('payment_type') == '1',1).otherwise(0).alias('ptype_CCard'),\n",
    "                           fn.when(fn.col('payment_type') == '2',1).otherwise(0).alias('ptype_cash'),\n",
    "                           fn.when(fn.col('payment_type') == '3',1).otherwise(0).alias('ptype_nocharge'),\n",
    "                           fn.when(fn.col('payment_type') == '4',1).otherwise(0).alias('ptype_dispute'),\n",
    "                           fn.when(fn.col('payment_type') == '6',1).otherwise(0).alias('ptype_voidtrip'))\n",
    "dummy_df = dummy_df.drop('payment_type')"
   ]
  },
  {
   "cell_type": "code",
   "execution_count": 33,
   "metadata": {},
   "outputs": [
    {
     "data": {
      "text/plain": [
       "29"
      ]
     },
     "execution_count": 33,
     "metadata": {},
     "output_type": "execute_result"
    }
   ],
   "source": [
    "len(dummy_df.columns)"
   ]
  },
  {
   "cell_type": "code",
   "execution_count": 34,
   "metadata": {},
   "outputs": [],
   "source": [
    "#Dummy for flag : base is No\n",
    "dummy_df= dummy_df.select(fn.when(fn.col('store_and_fwd_flag')=='Y',1).otherwise(0).alias('store_and_fwd_flag_1_0'),'*')\n",
    "dummy_df = dummy_df.drop('store_and_fwd_flag')"
   ]
  },
  {
   "cell_type": "code",
   "execution_count": 35,
   "metadata": {},
   "outputs": [
    {
     "data": {
      "text/plain": [
       "29"
      ]
     },
     "execution_count": 35,
     "metadata": {},
     "output_type": "execute_result"
    }
   ],
   "source": [
    "len(dummy_df.columns)"
   ]
  },
  {
   "cell_type": "code",
   "execution_count": 36,
   "metadata": {},
   "outputs": [],
   "source": [
    "#Dummy creation for Vendor ID: base is 2\n",
    "dummy_df= dummy_df.select(fn.when(fn.col('VendorID')=='1',1).otherwise(0).alias('VendorID_1_0'),'*')\n",
    "dummy_df=dummy_df.drop('VendorID')"
   ]
  },
  {
   "cell_type": "code",
   "execution_count": 37,
   "metadata": {},
   "outputs": [],
   "source": [
    "from pyspark.sql import functions as F\n",
    "timeFmt = \"yyyy-MM-dd'T'HH:mm:ss.SSS\"\n",
    "timeDiff = (F.unix_timestamp(dummy_df.dropoff_datetime, format=timeFmt)\n",
    "            - F.unix_timestamp(dummy_df.pickup_datetime, format=timeFmt))\n",
    "#dummy_df = dummy_df.wfrom pyspark.sql import functions as F\n",
    "timeFmt = \"yyyy-MM-dd'T'HH:mm:ss.SSS\"\n",
    "timeDiff = (F.unix_timestamp(dummy_df.dropoff_datetime, format=timeFmt)\n",
    "            - F.unix_timestamp(dummy_df.pickup_datetime, format=timeFmt))\n",
    "dummy_df = dummy_df.withColumn(\"Duration\", timeDiff)"
   ]
  },
  {
   "cell_type": "code",
   "execution_count": 38,
   "metadata": {},
   "outputs": [],
   "source": [
    "dummy_df1= dummy_df.toPandas()"
   ]
  },
  {
   "cell_type": "code",
   "execution_count": 39,
   "metadata": {},
   "outputs": [],
   "source": [
    "dummy_df1['day_of_week'] = dummy_df1['pickup_datetime'].dt.dayofweek"
   ]
  },
  {
   "cell_type": "code",
   "execution_count": 40,
   "metadata": {},
   "outputs": [],
   "source": [
    "dummy_df1['pickup_hour'] = dummy_df1.pickup_datetime.apply(lambda x: x.hour)"
   ]
  },
  {
   "cell_type": "code",
   "execution_count": 41,
   "metadata": {},
   "outputs": [],
   "source": [
    "dummy_df1['month'] = pd.DatetimeIndex(dummy_df1['pickup_datetime']).month"
   ]
  },
  {
   "cell_type": "code",
   "execution_count": 42,
   "metadata": {},
   "outputs": [
    {
     "data": {
      "text/plain": [
       "33"
      ]
     },
     "execution_count": 42,
     "metadata": {},
     "output_type": "execute_result"
    }
   ],
   "source": [
    "len(dummy_df1.columns)"
   ]
  },
  {
   "cell_type": "code",
   "execution_count": 43,
   "metadata": {},
   "outputs": [],
   "source": [
    "#Convert to Spark again"
   ]
  },
  {
   "cell_type": "code",
   "execution_count": 44,
   "metadata": {},
   "outputs": [],
   "source": [
    "dummy_df1_Spark = spark.createDataFrame(dummy_df1)"
   ]
  },
  {
   "cell_type": "code",
   "execution_count": 45,
   "metadata": {},
   "outputs": [],
   "source": [
    "dummy_df3Spark= dummy_df1_Spark"
   ]
  },
  {
   "cell_type": "code",
   "execution_count": 46,
   "metadata": {},
   "outputs": [
    {
     "name": "stdout",
     "output_type": "stream",
     "text": [
      "root\n",
      " |-- VendorID_1_0: long (nullable = true)\n",
      " |-- store_and_fwd_flag_1_0: long (nullable = true)\n",
      " |-- RateCode_stdrate: long (nullable = true)\n",
      " |-- RateCode_JFK: long (nullable = true)\n",
      " |-- RateCode_Newark: long (nullable = true)\n",
      " |-- RateCode_Nassau_W: long (nullable = true)\n",
      " |-- RateCode_Negotiated: long (nullable = true)\n",
      " |-- RateCode_Group: long (nullable = true)\n",
      " |-- avg_temp_C: long (nullable = true)\n",
      " |-- Rain: long (nullable = true)\n",
      " |-- Fog: long (nullable = true)\n",
      " |-- Snow: long (nullable = true)\n",
      " |-- Holiday: long (nullable = true)\n",
      " |-- pickup_datetime: timestamp (nullable = true)\n",
      " |-- dropoff_datetime: timestamp (nullable = true)\n",
      " |-- passenger_count: long (nullable = true)\n",
      " |-- trip_distance: double (nullable = true)\n",
      " |-- pickup_longitude: double (nullable = true)\n",
      " |-- pickup_latitude: double (nullable = true)\n",
      " |-- dropoff_longitude: double (nullable = true)\n",
      " |-- dropoff_latitude: double (nullable = true)\n",
      " |-- total_amount: double (nullable = true)\n",
      " |-- pickup_neighborhood: string (nullable = true)\n",
      " |-- dropoff_neighborhood: string (nullable = true)\n",
      " |-- ptype_CCard: long (nullable = true)\n",
      " |-- ptype_cash: long (nullable = true)\n",
      " |-- ptype_nocharge: long (nullable = true)\n",
      " |-- ptype_dispute: long (nullable = true)\n",
      " |-- ptype_voidtrip: long (nullable = true)\n",
      " |-- Duration: long (nullable = true)\n",
      " |-- day_of_week: long (nullable = true)\n",
      " |-- pickup_hour: long (nullable = true)\n",
      " |-- month: long (nullable = true)\n",
      "\n"
     ]
    }
   ],
   "source": [
    "#Conversion from long into int\n",
    "dummy_df3Spark.printSchema()"
   ]
  },
  {
   "cell_type": "code",
   "execution_count": 47,
   "metadata": {},
   "outputs": [],
   "source": [
    "dummy_df3Spark = dummy_df3Spark.withColumn('Duration', fn.col('Duration').cast('int'))\n",
    "dummy_df3Spark = dummy_df3Spark.withColumn('avg_temp_C', fn.col('Duration').cast('int'))\n",
    "dummy_df3Spark = dummy_df3Spark.withColumn('passenger_count', fn.col('Duration').cast('int'))"
   ]
  },
  {
   "cell_type": "code",
   "execution_count": 48,
   "metadata": {},
   "outputs": [
    {
     "name": "stdout",
     "output_type": "stream",
     "text": [
      "root\n",
      " |-- VendorID_1_0: long (nullable = true)\n",
      " |-- store_and_fwd_flag_1_0: long (nullable = true)\n",
      " |-- RateCode_stdrate: long (nullable = true)\n",
      " |-- RateCode_JFK: long (nullable = true)\n",
      " |-- RateCode_Newark: long (nullable = true)\n",
      " |-- RateCode_Nassau_W: long (nullable = true)\n",
      " |-- RateCode_Negotiated: long (nullable = true)\n",
      " |-- RateCode_Group: long (nullable = true)\n",
      " |-- avg_temp_C: integer (nullable = true)\n",
      " |-- Rain: long (nullable = true)\n",
      " |-- Fog: long (nullable = true)\n",
      " |-- Snow: long (nullable = true)\n",
      " |-- Holiday: long (nullable = true)\n",
      " |-- pickup_datetime: timestamp (nullable = true)\n",
      " |-- dropoff_datetime: timestamp (nullable = true)\n",
      " |-- passenger_count: integer (nullable = true)\n",
      " |-- trip_distance: double (nullable = true)\n",
      " |-- pickup_longitude: double (nullable = true)\n",
      " |-- pickup_latitude: double (nullable = true)\n",
      " |-- dropoff_longitude: double (nullable = true)\n",
      " |-- dropoff_latitude: double (nullable = true)\n",
      " |-- total_amount: double (nullable = true)\n",
      " |-- pickup_neighborhood: string (nullable = true)\n",
      " |-- dropoff_neighborhood: string (nullable = true)\n",
      " |-- ptype_CCard: long (nullable = true)\n",
      " |-- ptype_cash: long (nullable = true)\n",
      " |-- ptype_nocharge: long (nullable = true)\n",
      " |-- ptype_dispute: long (nullable = true)\n",
      " |-- ptype_voidtrip: long (nullable = true)\n",
      " |-- Duration: integer (nullable = true)\n",
      " |-- day_of_week: long (nullable = true)\n",
      " |-- pickup_hour: long (nullable = true)\n",
      " |-- month: long (nullable = true)\n",
      "\n"
     ]
    }
   ],
   "source": [
    "dummy_df3Spark.printSchema()"
   ]
  },
  {
   "cell_type": "code",
   "execution_count": 49,
   "metadata": {},
   "outputs": [
    {
     "data": {
      "text/plain": [
       "33"
      ]
     },
     "execution_count": 49,
     "metadata": {},
     "output_type": "execute_result"
    }
   ],
   "source": [
    "len(dummy_df3Spark.columns)"
   ]
  },
  {
   "cell_type": "code",
   "execution_count": 50,
   "metadata": {},
   "outputs": [],
   "source": [
    "#Remove Zipcodes's\n",
    "dummy_df_clean = dummy_df3Spark\n",
    "dummy_df_clean = dummy_df_clean.drop('dropoff_zip','pickup_zip')"
   ]
  },
  {
   "cell_type": "code",
   "execution_count": 51,
   "metadata": {},
   "outputs": [
    {
     "name": "stdout",
     "output_type": "stream",
     "text": [
      "root\n",
      " |-- VendorID_1_0: long (nullable = true)\n",
      " |-- store_and_fwd_flag_1_0: long (nullable = true)\n",
      " |-- RateCode_stdrate: long (nullable = true)\n",
      " |-- RateCode_JFK: long (nullable = true)\n",
      " |-- RateCode_Newark: long (nullable = true)\n",
      " |-- RateCode_Nassau_W: long (nullable = true)\n",
      " |-- RateCode_Negotiated: long (nullable = true)\n",
      " |-- RateCode_Group: long (nullable = true)\n",
      " |-- avg_temp_C: integer (nullable = true)\n",
      " |-- Rain: long (nullable = true)\n",
      " |-- Fog: long (nullable = true)\n",
      " |-- Snow: long (nullable = true)\n",
      " |-- Holiday: long (nullable = true)\n",
      " |-- pickup_datetime: timestamp (nullable = true)\n",
      " |-- dropoff_datetime: timestamp (nullable = true)\n",
      " |-- passenger_count: integer (nullable = true)\n",
      " |-- trip_distance: double (nullable = true)\n",
      " |-- pickup_longitude: double (nullable = true)\n",
      " |-- pickup_latitude: double (nullable = true)\n",
      " |-- dropoff_longitude: double (nullable = true)\n",
      " |-- dropoff_latitude: double (nullable = true)\n",
      " |-- total_amount: double (nullable = true)\n",
      " |-- pickup_neighborhood: string (nullable = true)\n",
      " |-- dropoff_neighborhood: string (nullable = true)\n",
      " |-- ptype_CCard: long (nullable = true)\n",
      " |-- ptype_cash: long (nullable = true)\n",
      " |-- ptype_nocharge: long (nullable = true)\n",
      " |-- ptype_dispute: long (nullable = true)\n",
      " |-- ptype_voidtrip: long (nullable = true)\n",
      " |-- Duration: integer (nullable = true)\n",
      " |-- day_of_week: long (nullable = true)\n",
      " |-- pickup_hour: long (nullable = true)\n",
      " |-- month: long (nullable = true)\n",
      "\n"
     ]
    }
   ],
   "source": [
    "dummy_df_clean.printSchema()"
   ]
  },
  {
   "cell_type": "code",
   "execution_count": 52,
   "metadata": {},
   "outputs": [
    {
     "name": "stdout",
     "output_type": "stream",
     "text": [
      "['Northeast Bronx', 'Lower Manhattan', 'Southeast Queens', 'Upper East Side', 'Central Brooklyn', 'Gramercy Park and Murray Hill', 'West Central Queens', 'Central Bronx', 'East Harlem', 'Southwest Queens', 'Lower East Side', 'Bushwick and Williamsburg', 'Bronx Park and Fordham', 'Sunset Park', 'Chelsea and Clinton', 'Hunts Point and Mott Haven', 'High Bridge and Morrisania', 'Upper West Side', 'Northeast Queens', 'Canarsie and Flatlands', 'East New York and New Lots', 'West Queens', 'Northwest Queens', 'Central Queens', 'Jamaica', 'Southwest Brooklyn', 'Borough Park', 'Central Harlem', 'Southeast Bronx', 'Southern Brooklyn', 'Flatbush', 'Greenwich Village and Soho', 'Northwest Brooklyn', 'North Queens', 'Stapleton and St. George', 'Inwood and Washington Heights', 'Greenpoint', 'Kingsbridge and Riverdale']\n"
     ]
    }
   ],
   "source": [
    "#Distinct neighborhoods in 'pickup_neighborhood' column\n",
    "distinct_neighborhoods = [i.pickup_neighborhood for i in dummy_df_clean.select('pickup_neighborhood').distinct().collect()]\n",
    "print (distinct_neighborhoods)"
   ]
  },
  {
   "cell_type": "code",
   "execution_count": 53,
   "metadata": {},
   "outputs": [
    {
     "data": {
      "text/plain": [
       "38"
      ]
     },
     "execution_count": 53,
     "metadata": {},
     "output_type": "execute_result"
    }
   ],
   "source": [
    "type(distinct_neighborhoods)\n",
    "len (distinct_neighborhoods)"
   ]
  },
  {
   "cell_type": "code",
   "execution_count": 54,
   "metadata": {},
   "outputs": [],
   "source": [
    "#Show Top 10 neighborhoods\n",
    "top10_Pickup_neighborhoods = dummy_df_clean.groupby('pickup_neighborhood').count().sort('count',ascending=False)"
   ]
  },
  {
   "cell_type": "code",
   "execution_count": 55,
   "metadata": {},
   "outputs": [
    {
     "data": {
      "text/plain": [
       "pyspark.sql.dataframe.DataFrame"
      ]
     },
     "execution_count": 55,
     "metadata": {},
     "output_type": "execute_result"
    }
   ],
   "source": [
    "type(top10_Pickup_neighborhoods)"
   ]
  },
  {
   "cell_type": "code",
   "execution_count": 56,
   "metadata": {},
   "outputs": [
    {
     "data": {
      "text/html": [
       "<div>\n",
       "<style scoped>\n",
       "    .dataframe tbody tr th:only-of-type {\n",
       "        vertical-align: middle;\n",
       "    }\n",
       "\n",
       "    .dataframe tbody tr th {\n",
       "        vertical-align: top;\n",
       "    }\n",
       "\n",
       "    .dataframe thead th {\n",
       "        text-align: right;\n",
       "    }\n",
       "</style>\n",
       "<table border=\"1\" class=\"dataframe\">\n",
       "  <thead>\n",
       "    <tr style=\"text-align: right;\">\n",
       "      <th></th>\n",
       "      <th>pickup_neighborhood</th>\n",
       "      <th>count</th>\n",
       "    </tr>\n",
       "  </thead>\n",
       "  <tbody>\n",
       "    <tr>\n",
       "      <th>0</th>\n",
       "      <td>Chelsea and Clinton</td>\n",
       "      <td>16370</td>\n",
       "    </tr>\n",
       "    <tr>\n",
       "      <th>1</th>\n",
       "      <td>Gramercy Park and Murray Hill</td>\n",
       "      <td>13062</td>\n",
       "    </tr>\n",
       "    <tr>\n",
       "      <th>2</th>\n",
       "      <td>Upper East Side</td>\n",
       "      <td>9354</td>\n",
       "    </tr>\n",
       "    <tr>\n",
       "      <th>3</th>\n",
       "      <td>Greenwich Village and Soho</td>\n",
       "      <td>5594</td>\n",
       "    </tr>\n",
       "    <tr>\n",
       "      <th>4</th>\n",
       "      <td>Upper West Side</td>\n",
       "      <td>5170</td>\n",
       "    </tr>\n",
       "    <tr>\n",
       "      <th>5</th>\n",
       "      <td>Lower East Side</td>\n",
       "      <td>3706</td>\n",
       "    </tr>\n",
       "    <tr>\n",
       "      <th>6</th>\n",
       "      <td>Lower Manhattan</td>\n",
       "      <td>2551</td>\n",
       "    </tr>\n",
       "    <tr>\n",
       "      <th>7</th>\n",
       "      <td>West Queens</td>\n",
       "      <td>1623</td>\n",
       "    </tr>\n",
       "    <tr>\n",
       "      <th>8</th>\n",
       "      <td>Northwest Brooklyn</td>\n",
       "      <td>511</td>\n",
       "    </tr>\n",
       "    <tr>\n",
       "      <th>9</th>\n",
       "      <td>East Harlem</td>\n",
       "      <td>453</td>\n",
       "    </tr>\n",
       "  </tbody>\n",
       "</table>\n",
       "</div>"
      ],
      "text/plain": [
       "             pickup_neighborhood  count\n",
       "0            Chelsea and Clinton  16370\n",
       "1  Gramercy Park and Murray Hill  13062\n",
       "2                Upper East Side   9354\n",
       "3     Greenwich Village and Soho   5594\n",
       "4                Upper West Side   5170\n",
       "5                Lower East Side   3706\n",
       "6                Lower Manhattan   2551\n",
       "7                    West Queens   1623\n",
       "8             Northwest Brooklyn    511\n",
       "9                    East Harlem    453"
      ]
     },
     "execution_count": 56,
     "metadata": {},
     "output_type": "execute_result"
    }
   ],
   "source": [
    "top10_Pickup_neighborhoods.toPandas().head(10)"
   ]
  },
  {
   "cell_type": "code",
   "execution_count": 57,
   "metadata": {},
   "outputs": [
    {
     "data": {
      "text/html": [
       "<div>\n",
       "<style scoped>\n",
       "    .dataframe tbody tr th:only-of-type {\n",
       "        vertical-align: middle;\n",
       "    }\n",
       "\n",
       "    .dataframe tbody tr th {\n",
       "        vertical-align: top;\n",
       "    }\n",
       "\n",
       "    .dataframe thead th {\n",
       "        text-align: right;\n",
       "    }\n",
       "</style>\n",
       "<table border=\"1\" class=\"dataframe\">\n",
       "  <thead>\n",
       "    <tr style=\"text-align: right;\">\n",
       "      <th></th>\n",
       "      <th>dropoff_neighborhood</th>\n",
       "      <th>count</th>\n",
       "    </tr>\n",
       "  </thead>\n",
       "  <tbody>\n",
       "    <tr>\n",
       "      <th>0</th>\n",
       "      <td>Chelsea and Clinton</td>\n",
       "      <td>14710</td>\n",
       "    </tr>\n",
       "    <tr>\n",
       "      <th>1</th>\n",
       "      <td>Gramercy Park and Murray Hill</td>\n",
       "      <td>12330</td>\n",
       "    </tr>\n",
       "    <tr>\n",
       "      <th>2</th>\n",
       "      <td>Upper East Side</td>\n",
       "      <td>9020</td>\n",
       "    </tr>\n",
       "    <tr>\n",
       "      <th>3</th>\n",
       "      <td>Upper West Side</td>\n",
       "      <td>5130</td>\n",
       "    </tr>\n",
       "    <tr>\n",
       "      <th>4</th>\n",
       "      <td>Greenwich Village and Soho</td>\n",
       "      <td>4945</td>\n",
       "    </tr>\n",
       "    <tr>\n",
       "      <th>5</th>\n",
       "      <td>Lower East Side</td>\n",
       "      <td>3409</td>\n",
       "    </tr>\n",
       "    <tr>\n",
       "      <th>6</th>\n",
       "      <td>Lower Manhattan</td>\n",
       "      <td>2689</td>\n",
       "    </tr>\n",
       "    <tr>\n",
       "      <th>7</th>\n",
       "      <td>West Queens</td>\n",
       "      <td>1074</td>\n",
       "    </tr>\n",
       "    <tr>\n",
       "      <th>8</th>\n",
       "      <td>Northwest Brooklyn</td>\n",
       "      <td>983</td>\n",
       "    </tr>\n",
       "    <tr>\n",
       "      <th>9</th>\n",
       "      <td>East Harlem</td>\n",
       "      <td>922</td>\n",
       "    </tr>\n",
       "  </tbody>\n",
       "</table>\n",
       "</div>"
      ],
      "text/plain": [
       "            dropoff_neighborhood  count\n",
       "0            Chelsea and Clinton  14710\n",
       "1  Gramercy Park and Murray Hill  12330\n",
       "2                Upper East Side   9020\n",
       "3                Upper West Side   5130\n",
       "4     Greenwich Village and Soho   4945\n",
       "5                Lower East Side   3409\n",
       "6                Lower Manhattan   2689\n",
       "7                    West Queens   1074\n",
       "8             Northwest Brooklyn    983\n",
       "9                    East Harlem    922"
      ]
     },
     "execution_count": 57,
     "metadata": {},
     "output_type": "execute_result"
    }
   ],
   "source": [
    "#Show Top 10 neighborhoods\n",
    "top10_DropOff_neighborhoods = dummy_df_clean.groupby('dropoff_neighborhood').count().sort('count',ascending=False)\n",
    "top10_DropOff_neighborhoods.toPandas().head(10)"
   ]
  },
  {
   "cell_type": "code",
   "execution_count": 58,
   "metadata": {},
   "outputs": [],
   "source": [
    "dummy_df_clean1=dummy_df_clean"
   ]
  },
  {
   "cell_type": "code",
   "execution_count": 59,
   "metadata": {},
   "outputs": [],
   "source": [
    "dummy_df_clean1 = dummy_df_clean1.withColumn(\"pickup_neighborhood\", \\\n",
    "               fn.when((dummy_df_clean1[\"pickup_neighborhood\"] != \"Chelsea and Clinton\")&\\\n",
    "                       (dummy_df_clean1[\"pickup_neighborhood\"] != \"Gramercy Park and Murray Hill\") &\\\n",
    "                    (dummy_df_clean1[\"pickup_neighborhood\"] != \"Upper East Side\") &\\\n",
    "                       (dummy_df_clean1[\"pickup_neighborhood\"] != \"Upper West Side\") &\\\n",
    "                    (dummy_df_clean1[\"pickup_neighborhood\"] != \"Greenwich Village and Soho\") &\\\n",
    "                    (dummy_df_clean1[\"pickup_neighborhood\"] != \"Lower East Side\") &\\\n",
    "                    (dummy_df_clean1[\"pickup_neighborhood\"] != \"Lower Manhattan\") &\\\n",
    "                    (dummy_df_clean1[\"pickup_neighborhood\"] != \"West Queens\") &\\\n",
    "                    (dummy_df_clean1[\"pickup_neighborhood\"] != \"Northwest Brooklyn\") &\\\n",
    "                    (dummy_df_clean1[\"pickup_neighborhood\"] != \"Northwest Queens\") , \"Other\").otherwise(dummy_df_clean1[\"pickup_neighborhood\"]))"
   ]
  },
  {
   "cell_type": "code",
   "execution_count": 60,
   "metadata": {},
   "outputs": [],
   "source": [
    "dummy_df_clean1 = dummy_df_clean1.withColumn(\"dropoff_neighborhood\", \\\n",
    "               fn.when((dummy_df_clean1[\"dropoff_neighborhood\"] != \"Chelsea and Clinton\")&\\\n",
    "                    (dummy_df_clean1[\"dropoff_neighborhood\"] != \"Gramercy Park and Murray Hill\") &\\\n",
    "                    (dummy_df_clean1[\"dropoff_neighborhood\"] != \"Upper East Side\") &\\\n",
    "                    (dummy_df_clean1[\"dropoff_neighborhood\"] != \"Upper West Side\") &\\\n",
    "                    (dummy_df_clean1[\"dropoff_neighborhood\"] != \"Greenwich Village and Soho\") &\\\n",
    "                    (dummy_df_clean1[\"dropoff_neighborhood\"] != \"Lower Manhattan\") &\\\n",
    "                    (dummy_df_clean1[\"dropoff_neighborhood\"] != \"Lower East Side\") &\\\n",
    "                    (dummy_df_clean1[\"dropoff_neighborhood\"] != \"West Queens\") &\\\n",
    "                    (dummy_df_clean1[\"dropoff_neighborhood\"] != \"Northwest Brooklyn\") &\\\n",
    "                    (dummy_df_clean1[\"dropoff_neighborhood\"] != \"Central Harlem\t\") , \"Other\").otherwise(dummy_df_clean1[\"pickup_neighborhood\"]))"
   ]
  },
  {
   "cell_type": "code",
   "execution_count": 61,
   "metadata": {},
   "outputs": [],
   "source": [
    "dummy_df_clean1 = dummy_df_clean1.select('pickup_neighborhood',\n",
    "                           fn.when(fn.col('pickup_neighborhood')==\"Chelsea and Clinton\",1).otherwise(0).alias('Pickup_cc'),\n",
    "                           fn.when(fn.col('pickup_neighborhood')=='Gramercy Park and Murray Hill',1).otherwise(0).alias('Pickup_GM'),\n",
    "                           fn.when(fn.col('pickup_neighborhood')=='Upper East Side',1).otherwise(0).alias('Pickup_ues'),\n",
    "                           fn.when(fn.col('pickup_neighborhood')=='Greenwich Village and Soho',1).otherwise(0).alias('Pickup_Gvs'),\n",
    "                            fn.when(fn.col('pickup_neighborhood')=='Upper West Side',1).otherwise(0).alias('Pickup_Uws'),\n",
    "                           fn.when(fn.col('pickup_neighborhood')=='Lower East Side',1).otherwise(0).alias('Pickup_Les'),\n",
    "                           fn.when(fn.col('pickup_neighborhood')=='Lower Manhattan',1).otherwise(0).alias('Pickup_Lm'),\n",
    "                           fn.when(fn.col('pickup_neighborhood')=='West Queens',1).otherwise(0).alias('Pickup_Wq'),\n",
    "                            fn.when(fn.col('pickup_neighborhood')=='Northwest Brooklyn',1).otherwise(0).alias('Pickup_Nb'),\n",
    "                            fn.when(fn.col('pickup_neighborhood')=='Northwest Queens',1).otherwise(0).alias('Pickup_Nq'),\n",
    "                           '*'\n",
    "                          )\n",
    "dummy_df_clean1 = dummy_df_clean1.drop('pickup_neighborhood')"
   ]
  },
  {
   "cell_type": "code",
   "execution_count": 62,
   "metadata": {},
   "outputs": [],
   "source": [
    "dummy_df_clean1 = dummy_df_clean1.select('dropoff_neighborhood',\n",
    "                           fn.when(fn.col('dropoff_neighborhood')==\"Chelsea and Clinton\",1).otherwise(0).alias('dropoff_cc'),\n",
    "                           fn.when(fn.col('dropoff_neighborhood')=='Gramercy Park and Murray Hill',1).otherwise(0).alias('dropoff_GM'),\n",
    "                           fn.when(fn.col('dropoff_neighborhood')=='Upper East Side',1).otherwise(0).alias('dropoff_ues'),\n",
    "                           fn.when(fn.col('dropoff_neighborhood')=='Greenwich Village and Soho',1).otherwise(0).alias('dropoff_Gvs'),\n",
    "                            fn.when(fn.col('dropoff_neighborhood')=='Upper West Side',1).otherwise(0).alias('dropoff_Uws'),\n",
    "                           fn.when(fn.col('dropoff_neighborhood')=='Lower East Side',1).otherwise(0).alias('dropoff_Les'),\n",
    "                           fn.when(fn.col('dropoff_neighborhood')=='Lower Manhattan',1).otherwise(0).alias('dropoff_Lm'),\n",
    "                           fn.when(fn.col('dropoff_neighborhood')=='West Queens',1).otherwise(0).alias('dropoff_Wq'),\n",
    "                            fn.when(fn.col('dropoff_neighborhood')=='Northwest Brooklyn',1).otherwise(0).alias('dropoff_Nb'),\n",
    "                            fn.when(fn.col('dropoff_neighborhood')=='Central Harlem',1).otherwise(0).alias('dropoff_ch'),\n",
    "                           '*'\n",
    "                          )\n",
    "dummy_df_clean1 = dummy_df_clean1.drop('dropoff_neighborhood')"
   ]
  },
  {
   "cell_type": "code",
   "execution_count": 63,
   "metadata": {},
   "outputs": [],
   "source": [
    "dummy_df_clean1 = dummy_df_clean1.select('day_of_week',\n",
    "                           fn.when(fn.col('day_of_week')==0,1).otherwise(0).alias('Monday'),\n",
    "                           fn.when(fn.col('day_of_week')==1,1).otherwise(0).alias('Tuesday'),\n",
    "                           fn.when(fn.col('day_of_week')==2,1).otherwise(0).alias('Wednesday'),\n",
    "                           fn.when(fn.col('day_of_week')==3,1).otherwise(0).alias('Thursday'),\n",
    "                            fn.when(fn.col('day_of_week')==4,1).otherwise(0).alias('Friday'),\n",
    "                           fn.when(fn.col('day_of_week')==5,1).otherwise(0).alias('Saturday'),\n",
    "                           fn.when(fn.col('day_of_week')==6,1).otherwise(0).alias('Sunday'),\n",
    "                                              '*'\n",
    "                          )\n",
    "dummy_df_clean1 = dummy_df_clean1.drop('day_of_week')"
   ]
  },
  {
   "cell_type": "code",
   "execution_count": 64,
   "metadata": {},
   "outputs": [],
   "source": [
    "dummy_df_clean1 = dummy_df_clean1.select('month',\n",
    "                           fn.when((fn.col('month')==8) | (fn.col('month')==9) | (fn.col('month')==10) ,1).otherwise(0).alias('Fall'),\n",
    "                           fn.when((fn.col('month')==11) | (fn.col('month')==12) | (fn.col('month')==1),1).otherwise(0).alias('Winter'),\n",
    "                           fn.when((fn.col('month')==2) | (fn.col('month')==3) | (fn.col('month')==4),1).otherwise(0).alias('Spring'),\n",
    "                                           '*')\n",
    "dummy_df_clean1 = dummy_df_clean1.drop('month')"
   ]
  },
  {
   "cell_type": "code",
   "execution_count": 65,
   "metadata": {},
   "outputs": [],
   "source": [
    "dummy_df_clean1 = dummy_df_clean1.select('pickup_hour',\n",
    "                fn.when((fn.col('pickup_hour')==0) | (fn.col('pickup_hour')==1) | (fn.col('pickup_hour')==2) |(fn.col('pickup_hour')==3) | (fn.col('pickup_hour')==4) |(fn.col('pickup_hour')==5) |(fn.col('pickup_hour')==6) ,1).otherwise(0).alias('Morning'),\n",
    "                fn.when((fn.col('pickup_hour')==6) | (fn.col('pickup_hour')==7) | (fn.col('pickup_hour')==8) |(fn.col('pickup_hour')==9) | (fn.col('pickup_hour')==10) |(fn.col('pickup_hour')==11) |(fn.col('pickup_hour')==12) ,1).otherwise(0).alias('Afternoon'),\n",
    "                fn.when((fn.col('pickup_hour')==12) | (fn.col('pickup_hour')==13) | (fn.col('pickup_hour')==14) |(fn.col('pickup_hour')==15) | (fn.col('pickup_hour')==16) |(fn.col('pickup_hour')==17) |(fn.col('pickup_hour')==18) ,1).otherwise(0).alias('Evening'),\n",
    "                 '*')\n",
    "dummy_df_clean1 = dummy_df_clean1.drop('pickup_hour')"
   ]
  },
  {
   "cell_type": "code",
   "execution_count": 69,
   "metadata": {},
   "outputs": [],
   "source": [
    "dummy_df_clean_61cols_Spark = dummy_df_clean1"
   ]
  },
  {
   "cell_type": "code",
   "execution_count": 265,
   "metadata": {},
   "outputs": [
    {
     "data": {
      "text/plain": [
       "61"
      ]
     },
     "execution_count": 265,
     "metadata": {},
     "output_type": "execute_result"
    }
   ],
   "source": [
    "len(dummy_df_clean1.columns)"
   ]
  },
  {
   "cell_type": "code",
   "execution_count": 70,
   "metadata": {},
   "outputs": [],
   "source": [
    "#dummy_df_clean_61cols_Pandas = dummy_df_clean1.toPandas()"
   ]
  },
  {
   "cell_type": "code",
   "execution_count": 71,
   "metadata": {},
   "outputs": [],
   "source": [
    "#Writing clean data:\n",
    "#dummy_df_clean_61cols_Spark.toPandas().to_csv(header=True, path_or_buf=\"/Users/apsharma/IST718 Dropbox/IST718Project_Data/dummy_df_clean_Dec6.csv\")"
   ]
  },
  {
   "cell_type": "code",
   "execution_count": 72,
   "metadata": {},
   "outputs": [],
   "source": [
    "###############################------------CORRELATION MATRIX:--------------##################################"
   ]
  },
  {
   "cell_type": "code",
   "execution_count": 73,
   "metadata": {},
   "outputs": [],
   "source": [
    "#read Clean data :\n",
    "dummy_df_clean_61cols_Pandas = pd.read_csv('/Users/apsharma/IST718 Dropbox/IST718Project_Data/dummy_df_clean(61Cols)_Dec3.csv')"
   ]
  },
  {
   "cell_type": "code",
   "execution_count": 74,
   "metadata": {},
   "outputs": [
    {
     "data": {
      "text/plain": [
       "Index(['Unnamed: 0', 'Morning', 'Afternoon', 'Evening', 'Fall', 'Winter',\n",
       "       'Spring', 'Monday', 'Tuesday', 'Wednesday', 'Thursday', 'Friday',\n",
       "       'Saturday', 'Sunday', 'dropoff_cc', 'dropoff_GM', 'dropoff_ues',\n",
       "       'dropoff_Gvs', 'dropoff_Uws', 'dropoff_Les', 'dropoff_Lm', 'dropoff_Wq',\n",
       "       'dropoff_Nb', 'dropoff_ch', 'Pickup_cc', 'Pickup_GM', 'Pickup_ues',\n",
       "       'Pickup_Gvs', 'Pickup_Uws', 'Pickup_Les', 'Pickup_Lm', 'Pickup_Wq',\n",
       "       'Pickup_Nb', 'Pickup_Nq', 'VendorID_1_0', 'store_and_fwd_flag_1_0',\n",
       "       'RateCode_stdrate', 'RateCode_JFK', 'RateCode_Newark',\n",
       "       'RateCode_Nassau_W', 'RateCode_Negotiated', 'RateCode_Group',\n",
       "       'avg_temp_C', 'Rain', 'Fog', 'Snow', 'Holiday', 'pickup_datetime',\n",
       "       'dropoff_datetime', 'passenger_count', 'trip_distance',\n",
       "       'pickup_longitude', 'pickup_latitude', 'dropoff_longitude',\n",
       "       'dropoff_latitude', 'total_amount', 'ptype_CCard', 'ptype_cash',\n",
       "       'ptype_nocharge', 'ptype_dispute', 'ptype_voidtrip', 'Duration'],\n",
       "      dtype='object')"
      ]
     },
     "execution_count": 74,
     "metadata": {},
     "output_type": "execute_result"
    }
   ],
   "source": [
    "dummy_df_clean_61cols_Pandas.columns"
   ]
  },
  {
   "cell_type": "code",
   "execution_count": 75,
   "metadata": {},
   "outputs": [],
   "source": [
    "dummy_df_clean_61cols_Pandas = dummy_df_clean_61cols_Pandas.drop('Unnamed: 0',axis =1)"
   ]
  },
  {
   "cell_type": "code",
   "execution_count": 76,
   "metadata": {},
   "outputs": [
    {
     "data": {
      "text/plain": [
       "Index(['Morning', 'Afternoon', 'Evening', 'Fall', 'Winter', 'Spring', 'Monday',\n",
       "       'Tuesday', 'Wednesday', 'Thursday', 'Friday', 'Saturday', 'Sunday',\n",
       "       'dropoff_cc', 'dropoff_GM', 'dropoff_ues', 'dropoff_Gvs', 'dropoff_Uws',\n",
       "       'dropoff_Les', 'dropoff_Lm', 'dropoff_Wq', 'dropoff_Nb', 'dropoff_ch',\n",
       "       'Pickup_cc', 'Pickup_GM', 'Pickup_ues', 'Pickup_Gvs', 'Pickup_Uws',\n",
       "       'Pickup_Les', 'Pickup_Lm', 'Pickup_Wq', 'Pickup_Nb', 'Pickup_Nq',\n",
       "       'VendorID_1_0', 'store_and_fwd_flag_1_0', 'RateCode_stdrate',\n",
       "       'RateCode_JFK', 'RateCode_Newark', 'RateCode_Nassau_W',\n",
       "       'RateCode_Negotiated', 'RateCode_Group', 'avg_temp_C', 'Rain', 'Fog',\n",
       "       'Snow', 'Holiday', 'pickup_datetime', 'dropoff_datetime',\n",
       "       'passenger_count', 'trip_distance', 'pickup_longitude',\n",
       "       'pickup_latitude', 'dropoff_longitude', 'dropoff_latitude',\n",
       "       'total_amount', 'ptype_CCard', 'ptype_cash', 'ptype_nocharge',\n",
       "       'ptype_dispute', 'ptype_voidtrip', 'Duration'],\n",
       "      dtype='object')"
      ]
     },
     "execution_count": 76,
     "metadata": {},
     "output_type": "execute_result"
    }
   ],
   "source": [
    "dummy_df_clean_61cols_Pandas.columns"
   ]
  },
  {
   "cell_type": "code",
   "execution_count": 77,
   "metadata": {},
   "outputs": [
    {
     "name": "stdout",
     "output_type": "stream",
     "text": [
      "root\n",
      " |-- Morning: integer (nullable = false)\n",
      " |-- Afternoon: integer (nullable = false)\n",
      " |-- Evening: integer (nullable = false)\n",
      " |-- Fall: integer (nullable = false)\n",
      " |-- Winter: integer (nullable = false)\n",
      " |-- Spring: integer (nullable = false)\n",
      " |-- Monday: integer (nullable = false)\n",
      " |-- Tuesday: integer (nullable = false)\n",
      " |-- Wednesday: integer (nullable = false)\n",
      " |-- Thursday: integer (nullable = false)\n",
      " |-- Friday: integer (nullable = false)\n",
      " |-- Saturday: integer (nullable = false)\n",
      " |-- Sunday: integer (nullable = false)\n",
      " |-- dropoff_cc: integer (nullable = false)\n",
      " |-- dropoff_GM: integer (nullable = false)\n",
      " |-- dropoff_ues: integer (nullable = false)\n",
      " |-- dropoff_Gvs: integer (nullable = false)\n",
      " |-- dropoff_Uws: integer (nullable = false)\n",
      " |-- dropoff_Les: integer (nullable = false)\n",
      " |-- dropoff_Lm: integer (nullable = false)\n",
      " |-- dropoff_Wq: integer (nullable = false)\n",
      " |-- dropoff_Nb: integer (nullable = false)\n",
      " |-- dropoff_ch: integer (nullable = false)\n",
      " |-- Pickup_cc: integer (nullable = false)\n",
      " |-- Pickup_GM: integer (nullable = false)\n",
      " |-- Pickup_ues: integer (nullable = false)\n",
      " |-- Pickup_Gvs: integer (nullable = false)\n",
      " |-- Pickup_Uws: integer (nullable = false)\n",
      " |-- Pickup_Les: integer (nullable = false)\n",
      " |-- Pickup_Lm: integer (nullable = false)\n",
      " |-- Pickup_Wq: integer (nullable = false)\n",
      " |-- Pickup_Nb: integer (nullable = false)\n",
      " |-- Pickup_Nq: integer (nullable = false)\n",
      " |-- VendorID_1_0: long (nullable = true)\n",
      " |-- store_and_fwd_flag_1_0: long (nullable = true)\n",
      " |-- RateCode_stdrate: long (nullable = true)\n",
      " |-- RateCode_JFK: long (nullable = true)\n",
      " |-- RateCode_Newark: long (nullable = true)\n",
      " |-- RateCode_Nassau_W: long (nullable = true)\n",
      " |-- RateCode_Negotiated: long (nullable = true)\n",
      " |-- RateCode_Group: long (nullable = true)\n",
      " |-- avg_temp_C: integer (nullable = true)\n",
      " |-- Rain: long (nullable = true)\n",
      " |-- Fog: long (nullable = true)\n",
      " |-- Snow: long (nullable = true)\n",
      " |-- Holiday: long (nullable = true)\n",
      " |-- pickup_datetime: timestamp (nullable = true)\n",
      " |-- dropoff_datetime: timestamp (nullable = true)\n",
      " |-- passenger_count: integer (nullable = true)\n",
      " |-- trip_distance: double (nullable = true)\n",
      " |-- pickup_longitude: double (nullable = true)\n",
      " |-- pickup_latitude: double (nullable = true)\n",
      " |-- dropoff_longitude: double (nullable = true)\n",
      " |-- dropoff_latitude: double (nullable = true)\n",
      " |-- total_amount: double (nullable = true)\n",
      " |-- ptype_CCard: long (nullable = true)\n",
      " |-- ptype_cash: long (nullable = true)\n",
      " |-- ptype_nocharge: long (nullable = true)\n",
      " |-- ptype_dispute: long (nullable = true)\n",
      " |-- ptype_voidtrip: long (nullable = true)\n",
      " |-- Duration: integer (nullable = true)\n",
      "\n"
     ]
    }
   ],
   "source": [
    "dummy_df_clean_61cols_Spark.printSchema()"
   ]
  },
  {
   "cell_type": "code",
   "execution_count": 78,
   "metadata": {},
   "outputs": [],
   "source": [
    "#Numeric Features for correlations\n",
    "numeric_features = [t[0] for t in dummy_df_clean_61cols_Spark.dtypes if t[1] == 'double' or t[1] == 'integer' or t[1] == 'long']"
   ]
  },
  {
   "cell_type": "code",
   "execution_count": 79,
   "metadata": {},
   "outputs": [
    {
     "data": {
      "text/plain": [
       "list"
      ]
     },
     "execution_count": 79,
     "metadata": {},
     "output_type": "execute_result"
    }
   ],
   "source": [
    "type(numeric_features)"
   ]
  },
  {
   "cell_type": "code",
   "execution_count": 80,
   "metadata": {},
   "outputs": [],
   "source": [
    "#CORRELATION MATRIX:\n",
    "#Correlations between independent variables.\n",
    "numeric_data = dummy_df_clean_61cols_Spark.select(numeric_features).toPandas()\n",
    "from pyspark.mllib.stat import Statistics\n",
    "from pyspark.ml.linalg import Vectors\n",
    "from pyspark.ml.stat import Correlation"
   ]
  },
  {
   "cell_type": "code",
   "execution_count": 81,
   "metadata": {},
   "outputs": [],
   "source": [
    "va_corr = feature.VectorAssembler(inputCols=[c for c in numeric_data] , outputCol='features')"
   ]
  },
  {
   "cell_type": "code",
   "execution_count": 82,
   "metadata": {},
   "outputs": [],
   "source": [
    "dummy_df_corr = dummy_df_clean_61cols_Spark"
   ]
  },
  {
   "cell_type": "code",
   "execution_count": 83,
   "metadata": {},
   "outputs": [],
   "source": [
    "features_sample_df = va_corr.transform(dummy_df_corr)"
   ]
  },
  {
   "cell_type": "code",
   "execution_count": 84,
   "metadata": {},
   "outputs": [],
   "source": [
    "from pyspark.ml.stat import Correlation\n",
    "r1 = Correlation.corr(features_sample_df, 'features').head()"
   ]
  },
  {
   "cell_type": "code",
   "execution_count": 85,
   "metadata": {},
   "outputs": [
    {
     "data": {
      "text/plain": [
       "array([[ 1.        ,  0.31408967, -0.02414641,  0.38856186, -0.08764108,\n",
       "         0.92866386],\n",
       "       [ 0.31408967,  1.        ,  0.49406315,  0.28679299,  0.1784735 ,\n",
       "         0.30619543],\n",
       "       [-0.02414641,  0.49406315,  1.        ,  0.20792481,  0.47921782,\n",
       "        -0.0252671 ],\n",
       "       [ 0.38856186,  0.28679299,  0.20792481,  1.        ,  0.3808814 ,\n",
       "         0.32692778],\n",
       "       [-0.08764108,  0.1784735 ,  0.47921782,  0.3808814 ,  1.        ,\n",
       "        -0.09621779],\n",
       "       [ 0.92866386,  0.30619543, -0.0252671 ,  0.32692778, -0.09621779,\n",
       "         1.        ]])"
      ]
     },
     "execution_count": 85,
     "metadata": {},
     "output_type": "execute_result"
    }
   ],
   "source": [
    "r1[0].toArray()"
   ]
  },
  {
   "cell_type": "code",
   "execution_count": 86,
   "metadata": {},
   "outputs": [
    {
     "data": {
      "text/plain": [
       "pyspark.sql.types.Row"
      ]
     },
     "execution_count": 86,
     "metadata": {},
     "output_type": "execute_result"
    }
   ],
   "source": [
    "type(r1)"
   ]
  },
  {
   "cell_type": "code",
   "execution_count": 87,
   "metadata": {},
   "outputs": [],
   "source": [
    "############ Visualization of above Correlation in Pandas --------------------"
   ]
  },
  {
   "cell_type": "code",
   "execution_count": 88,
   "metadata": {},
   "outputs": [],
   "source": [
    "#We dropped correlated columns for our modelling analysis:\n",
    "dummy_df_clean_61cols_Pandas2 = dummy_df_clean_61cols_Pandas.drop(columns=[\"RateCode_Nassau_W\",\"RateCode_Group\",\"ptype_voidtrip\",\"VendorID_1_0\",\n",
    "                                                   \"store_and_fwd_flag_1_0\",\"RateCode_Newark\",\"RateCode_Negotiated\",\"ptype_nocharge\",\n",
    "                                                    \"ptype_dispute\",\"dropoff_ch\",\"Monday\",\"Tuesday\",\n",
    "                                                    \"Wednesday\",\"Thursday\",\"Friday\",\"Saturday\",\"Sunday\",\"dropoff_cc\",\"dropoff_GM\",\n",
    "                                                     \"dropoff_ues\", \"dropoff_Gvs\",\"dropoff_Uws\",\"dropoff_Les\",\"dropoff_Lm\",\"dropoff_Wq\",\n",
    "                                                    \"dropoff_Nb\",\"Pickup_cc\",\"Pickup_GM\",\"Pickup_ues\",\"Pickup_Gvs\",\"Pickup_Uws\",\n",
    "                                                    \"Pickup_Les\",\"Pickup_Lm\",\"Pickup_Wq\",\"Pickup_Nb\"])"
   ]
  },
  {
   "cell_type": "code",
   "execution_count": 89,
   "metadata": {},
   "outputs": [
    {
     "data": {
      "text/plain": [
       "False"
      ]
     },
     "execution_count": 89,
     "metadata": {},
     "output_type": "execute_result"
    }
   ],
   "source": [
    "dummy_df_clean_61cols_Pandas2.isnull().values.any()"
   ]
  },
  {
   "cell_type": "code",
   "execution_count": 90,
   "metadata": {},
   "outputs": [
    {
     "data": {
      "text/html": [
       "<style  type=\"text/css\" >\n",
       "    #T_dd89f49e_f96a_11e8_af26_acbc3287038frow0_col0 {\n",
       "            background-color:  #023858;\n",
       "        }    #T_dd89f49e_f96a_11e8_af26_acbc3287038frow0_col1 {\n",
       "            background-color:  #f1ebf5;\n",
       "        }    #T_dd89f49e_f96a_11e8_af26_acbc3287038frow0_col2 {\n",
       "            background-color:  #fff7fb;\n",
       "        }    #T_dd89f49e_f96a_11e8_af26_acbc3287038frow0_col3 {\n",
       "            background-color:  #d0d1e6;\n",
       "        }    #T_dd89f49e_f96a_11e8_af26_acbc3287038frow0_col4 {\n",
       "            background-color:  #d0d1e6;\n",
       "        }    #T_dd89f49e_f96a_11e8_af26_acbc3287038frow0_col5 {\n",
       "            background-color:  #d2d2e7;\n",
       "        }    #T_dd89f49e_f96a_11e8_af26_acbc3287038frow0_col6 {\n",
       "            background-color:  #f4edf6;\n",
       "        }    #T_dd89f49e_f96a_11e8_af26_acbc3287038frow0_col7 {\n",
       "            background-color:  #83afd3;\n",
       "        }    #T_dd89f49e_f96a_11e8_af26_acbc3287038frow0_col8 {\n",
       "            background-color:  #83afd3;\n",
       "        }    #T_dd89f49e_f96a_11e8_af26_acbc3287038frow0_col9 {\n",
       "            background-color:  #faf3f9;\n",
       "        }    #T_dd89f49e_f96a_11e8_af26_acbc3287038frow0_col10 {\n",
       "            background-color:  #f3edf5;\n",
       "        }    #T_dd89f49e_f96a_11e8_af26_acbc3287038frow0_col11 {\n",
       "            background-color:  #f7f0f7;\n",
       "        }    #T_dd89f49e_f96a_11e8_af26_acbc3287038frow0_col12 {\n",
       "            background-color:  #e9e5f1;\n",
       "        }    #T_dd89f49e_f96a_11e8_af26_acbc3287038frow0_col13 {\n",
       "            background-color:  #f6eff7;\n",
       "        }    #T_dd89f49e_f96a_11e8_af26_acbc3287038frow0_col14 {\n",
       "            background-color:  #faf3f9;\n",
       "        }    #T_dd89f49e_f96a_11e8_af26_acbc3287038frow0_col15 {\n",
       "            background-color:  #e3e0ee;\n",
       "        }    #T_dd89f49e_f96a_11e8_af26_acbc3287038frow0_col16 {\n",
       "            background-color:  #fbf3f9;\n",
       "        }    #T_dd89f49e_f96a_11e8_af26_acbc3287038frow0_col17 {\n",
       "            background-color:  #fff7fb;\n",
       "        }    #T_dd89f49e_f96a_11e8_af26_acbc3287038frow0_col18 {\n",
       "            background-color:  #e8e4f0;\n",
       "        }    #T_dd89f49e_f96a_11e8_af26_acbc3287038frow0_col19 {\n",
       "            background-color:  #f8f1f8;\n",
       "        }    #T_dd89f49e_f96a_11e8_af26_acbc3287038frow0_col20 {\n",
       "            background-color:  #dfddec;\n",
       "        }    #T_dd89f49e_f96a_11e8_af26_acbc3287038frow0_col21 {\n",
       "            background-color:  #75a9cf;\n",
       "        }    #T_dd89f49e_f96a_11e8_af26_acbc3287038frow0_col22 {\n",
       "            background-color:  #75a9cf;\n",
       "        }    #T_dd89f49e_f96a_11e8_af26_acbc3287038frow0_col23 {\n",
       "            background-color:  #faf3f9;\n",
       "        }    #T_dd89f49e_f96a_11e8_af26_acbc3287038frow1_col0 {\n",
       "            background-color:  #ebe6f2;\n",
       "        }    #T_dd89f49e_f96a_11e8_af26_acbc3287038frow1_col1 {\n",
       "            background-color:  #023858;\n",
       "        }    #T_dd89f49e_f96a_11e8_af26_acbc3287038frow1_col2 {\n",
       "            background-color:  #f9f2f8;\n",
       "        }    #T_dd89f49e_f96a_11e8_af26_acbc3287038frow1_col3 {\n",
       "            background-color:  #d1d2e6;\n",
       "        }    #T_dd89f49e_f96a_11e8_af26_acbc3287038frow1_col4 {\n",
       "            background-color:  #d1d2e6;\n",
       "        }    #T_dd89f49e_f96a_11e8_af26_acbc3287038frow1_col5 {\n",
       "            background-color:  #ced0e6;\n",
       "        }    #T_dd89f49e_f96a_11e8_af26_acbc3287038frow1_col6 {\n",
       "            background-color:  #f9f2f8;\n",
       "        }    #T_dd89f49e_f96a_11e8_af26_acbc3287038frow1_col7 {\n",
       "            background-color:  #81aed2;\n",
       "        }    #T_dd89f49e_f96a_11e8_af26_acbc3287038frow1_col8 {\n",
       "            background-color:  #83afd3;\n",
       "        }    #T_dd89f49e_f96a_11e8_af26_acbc3287038frow1_col9 {\n",
       "            background-color:  #f1ebf4;\n",
       "        }    #T_dd89f49e_f96a_11e8_af26_acbc3287038frow1_col10 {\n",
       "            background-color:  #f1ebf5;\n",
       "        }    #T_dd89f49e_f96a_11e8_af26_acbc3287038frow1_col11 {\n",
       "            background-color:  #f6eff7;\n",
       "        }    #T_dd89f49e_f96a_11e8_af26_acbc3287038frow1_col12 {\n",
       "            background-color:  #ebe6f2;\n",
       "        }    #T_dd89f49e_f96a_11e8_af26_acbc3287038frow1_col13 {\n",
       "            background-color:  #fbf3f9;\n",
       "        }    #T_dd89f49e_f96a_11e8_af26_acbc3287038frow1_col14 {\n",
       "            background-color:  #f1ebf4;\n",
       "        }    #T_dd89f49e_f96a_11e8_af26_acbc3287038frow1_col15 {\n",
       "            background-color:  #f8f1f8;\n",
       "        }    #T_dd89f49e_f96a_11e8_af26_acbc3287038frow1_col16 {\n",
       "            background-color:  #ede8f3;\n",
       "        }    #T_dd89f49e_f96a_11e8_af26_acbc3287038frow1_col17 {\n",
       "            background-color:  #e2dfee;\n",
       "        }    #T_dd89f49e_f96a_11e8_af26_acbc3287038frow1_col18 {\n",
       "            background-color:  #fdf5fa;\n",
       "        }    #T_dd89f49e_f96a_11e8_af26_acbc3287038frow1_col19 {\n",
       "            background-color:  #ebe6f2;\n",
       "        }    #T_dd89f49e_f96a_11e8_af26_acbc3287038frow1_col20 {\n",
       "            background-color:  #ebe6f2;\n",
       "        }    #T_dd89f49e_f96a_11e8_af26_acbc3287038frow1_col21 {\n",
       "            background-color:  #73a9cf;\n",
       "        }    #T_dd89f49e_f96a_11e8_af26_acbc3287038frow1_col22 {\n",
       "            background-color:  #75a9cf;\n",
       "        }    #T_dd89f49e_f96a_11e8_af26_acbc3287038frow1_col23 {\n",
       "            background-color:  #f1ebf4;\n",
       "        }    #T_dd89f49e_f96a_11e8_af26_acbc3287038frow2_col0 {\n",
       "            background-color:  #fff7fb;\n",
       "        }    #T_dd89f49e_f96a_11e8_af26_acbc3287038frow2_col1 {\n",
       "            background-color:  #fff7fb;\n",
       "        }    #T_dd89f49e_f96a_11e8_af26_acbc3287038frow2_col2 {\n",
       "            background-color:  #023858;\n",
       "        }    #T_dd89f49e_f96a_11e8_af26_acbc3287038frow2_col3 {\n",
       "            background-color:  #d0d1e6;\n",
       "        }    #T_dd89f49e_f96a_11e8_af26_acbc3287038frow2_col4 {\n",
       "            background-color:  #ced0e6;\n",
       "        }    #T_dd89f49e_f96a_11e8_af26_acbc3287038frow2_col5 {\n",
       "            background-color:  #d1d2e6;\n",
       "        }    #T_dd89f49e_f96a_11e8_af26_acbc3287038frow2_col6 {\n",
       "            background-color:  #fef6fb;\n",
       "        }    #T_dd89f49e_f96a_11e8_af26_acbc3287038frow2_col7 {\n",
       "            background-color:  #83afd3;\n",
       "        }    #T_dd89f49e_f96a_11e8_af26_acbc3287038frow2_col8 {\n",
       "            background-color:  #80aed2;\n",
       "        }    #T_dd89f49e_f96a_11e8_af26_acbc3287038frow2_col9 {\n",
       "            background-color:  #e1dfed;\n",
       "        }    #T_dd89f49e_f96a_11e8_af26_acbc3287038frow2_col10 {\n",
       "            background-color:  #f2ecf5;\n",
       "        }    #T_dd89f49e_f96a_11e8_af26_acbc3287038frow2_col11 {\n",
       "            background-color:  #f8f1f8;\n",
       "        }    #T_dd89f49e_f96a_11e8_af26_acbc3287038frow2_col12 {\n",
       "            background-color:  #e9e5f1;\n",
       "        }    #T_dd89f49e_f96a_11e8_af26_acbc3287038frow2_col13 {\n",
       "            background-color:  #f7f0f7;\n",
       "        }    #T_dd89f49e_f96a_11e8_af26_acbc3287038frow2_col14 {\n",
       "            background-color:  #e1dfed;\n",
       "        }    #T_dd89f49e_f96a_11e8_af26_acbc3287038frow2_col15 {\n",
       "            background-color:  #fbf3f9;\n",
       "        }    #T_dd89f49e_f96a_11e8_af26_acbc3287038frow2_col16 {\n",
       "            background-color:  #eee9f3;\n",
       "        }    #T_dd89f49e_f96a_11e8_af26_acbc3287038frow2_col17 {\n",
       "            background-color:  #e2dfee;\n",
       "        }    #T_dd89f49e_f96a_11e8_af26_acbc3287038frow2_col18 {\n",
       "            background-color:  #fbf4f9;\n",
       "        }    #T_dd89f49e_f96a_11e8_af26_acbc3287038frow2_col19 {\n",
       "            background-color:  #e6e2ef;\n",
       "        }    #T_dd89f49e_f96a_11e8_af26_acbc3287038frow2_col20 {\n",
       "            background-color:  #e3e0ee;\n",
       "        }    #T_dd89f49e_f96a_11e8_af26_acbc3287038frow2_col21 {\n",
       "            background-color:  #80aed2;\n",
       "        }    #T_dd89f49e_f96a_11e8_af26_acbc3287038frow2_col22 {\n",
       "            background-color:  #67a4cc;\n",
       "        }    #T_dd89f49e_f96a_11e8_af26_acbc3287038frow2_col23 {\n",
       "            background-color:  #e1dfed;\n",
       "        }    #T_dd89f49e_f96a_11e8_af26_acbc3287038frow3_col0 {\n",
       "            background-color:  #d4d4e8;\n",
       "        }    #T_dd89f49e_f96a_11e8_af26_acbc3287038frow3_col1 {\n",
       "            background-color:  #dddbec;\n",
       "        }    #T_dd89f49e_f96a_11e8_af26_acbc3287038frow3_col2 {\n",
       "            background-color:  #d4d4e8;\n",
       "        }    #T_dd89f49e_f96a_11e8_af26_acbc3287038frow3_col3 {\n",
       "            background-color:  #023858;\n",
       "        }    #T_dd89f49e_f96a_11e8_af26_acbc3287038frow3_col4 {\n",
       "            background-color:  #fff7fb;\n",
       "        }    #T_dd89f49e_f96a_11e8_af26_acbc3287038frow3_col5 {\n",
       "            background-color:  #fff7fb;\n",
       "        }    #T_dd89f49e_f96a_11e8_af26_acbc3287038frow3_col6 {\n",
       "            background-color:  #fbf4f9;\n",
       "        }    #T_dd89f49e_f96a_11e8_af26_acbc3287038frow3_col7 {\n",
       "            background-color:  #83afd3;\n",
       "        }    #T_dd89f49e_f96a_11e8_af26_acbc3287038frow3_col8 {\n",
       "            background-color:  #81aed2;\n",
       "        }    #T_dd89f49e_f96a_11e8_af26_acbc3287038frow3_col9 {\n",
       "            background-color:  #eee9f3;\n",
       "        }    #T_dd89f49e_f96a_11e8_af26_acbc3287038frow3_col10 {\n",
       "            background-color:  #fff7fb;\n",
       "        }    #T_dd89f49e_f96a_11e8_af26_acbc3287038frow3_col11 {\n",
       "            background-color:  #fbf3f9;\n",
       "        }    #T_dd89f49e_f96a_11e8_af26_acbc3287038frow3_col12 {\n",
       "            background-color:  #fff7fb;\n",
       "        }    #T_dd89f49e_f96a_11e8_af26_acbc3287038frow3_col13 {\n",
       "            background-color:  #fff7fb;\n",
       "        }    #T_dd89f49e_f96a_11e8_af26_acbc3287038frow3_col14 {\n",
       "            background-color:  #eee9f3;\n",
       "        }    #T_dd89f49e_f96a_11e8_af26_acbc3287038frow3_col15 {\n",
       "            background-color:  #f1ebf5;\n",
       "        }    #T_dd89f49e_f96a_11e8_af26_acbc3287038frow3_col16 {\n",
       "            background-color:  #f4eef6;\n",
       "        }    #T_dd89f49e_f96a_11e8_af26_acbc3287038frow3_col17 {\n",
       "            background-color:  #f1ebf5;\n",
       "        }    #T_dd89f49e_f96a_11e8_af26_acbc3287038frow3_col18 {\n",
       "            background-color:  #f8f1f8;\n",
       "        }    #T_dd89f49e_f96a_11e8_af26_acbc3287038frow3_col19 {\n",
       "            background-color:  #f1ebf5;\n",
       "        }    #T_dd89f49e_f96a_11e8_af26_acbc3287038frow3_col20 {\n",
       "            background-color:  #e0deed;\n",
       "        }    #T_dd89f49e_f96a_11e8_af26_acbc3287038frow3_col21 {\n",
       "            background-color:  #75a9cf;\n",
       "        }    #T_dd89f49e_f96a_11e8_af26_acbc3287038frow3_col22 {\n",
       "            background-color:  #75a9cf;\n",
       "        }    #T_dd89f49e_f96a_11e8_af26_acbc3287038frow3_col23 {\n",
       "            background-color:  #eee9f3;\n",
       "        }    #T_dd89f49e_f96a_11e8_af26_acbc3287038frow4_col0 {\n",
       "            background-color:  #d4d4e8;\n",
       "        }    #T_dd89f49e_f96a_11e8_af26_acbc3287038frow4_col1 {\n",
       "            background-color:  #dddbec;\n",
       "        }    #T_dd89f49e_f96a_11e8_af26_acbc3287038frow4_col2 {\n",
       "            background-color:  #d3d4e7;\n",
       "        }    #T_dd89f49e_f96a_11e8_af26_acbc3287038frow4_col3 {\n",
       "            background-color:  #fff7fb;\n",
       "        }    #T_dd89f49e_f96a_11e8_af26_acbc3287038frow4_col4 {\n",
       "            background-color:  #023858;\n",
       "        }    #T_dd89f49e_f96a_11e8_af26_acbc3287038frow4_col5 {\n",
       "            background-color:  #fff7fb;\n",
       "        }    #T_dd89f49e_f96a_11e8_af26_acbc3287038frow4_col6 {\n",
       "            background-color:  #fbf3f9;\n",
       "        }    #T_dd89f49e_f96a_11e8_af26_acbc3287038frow4_col7 {\n",
       "            background-color:  #81aed2;\n",
       "        }    #T_dd89f49e_f96a_11e8_af26_acbc3287038frow4_col8 {\n",
       "            background-color:  #83afd3;\n",
       "        }    #T_dd89f49e_f96a_11e8_af26_acbc3287038frow4_col9 {\n",
       "            background-color:  #f2ecf5;\n",
       "        }    #T_dd89f49e_f96a_11e8_af26_acbc3287038frow4_col10 {\n",
       "            background-color:  #ede7f2;\n",
       "        }    #T_dd89f49e_f96a_11e8_af26_acbc3287038frow4_col11 {\n",
       "            background-color:  #fff7fb;\n",
       "        }    #T_dd89f49e_f96a_11e8_af26_acbc3287038frow4_col12 {\n",
       "            background-color:  #e5e1ef;\n",
       "        }    #T_dd89f49e_f96a_11e8_af26_acbc3287038frow4_col13 {\n",
       "            background-color:  #efe9f3;\n",
       "        }    #T_dd89f49e_f96a_11e8_af26_acbc3287038frow4_col14 {\n",
       "            background-color:  #f2ecf5;\n",
       "        }    #T_dd89f49e_f96a_11e8_af26_acbc3287038frow4_col15 {\n",
       "            background-color:  #f4edf6;\n",
       "        }    #T_dd89f49e_f96a_11e8_af26_acbc3287038frow4_col16 {\n",
       "            background-color:  #f3edf5;\n",
       "        }    #T_dd89f49e_f96a_11e8_af26_acbc3287038frow4_col17 {\n",
       "            background-color:  #efe9f3;\n",
       "        }    #T_dd89f49e_f96a_11e8_af26_acbc3287038frow4_col18 {\n",
       "            background-color:  #f8f1f8;\n",
       "        }    #T_dd89f49e_f96a_11e8_af26_acbc3287038frow4_col19 {\n",
       "            background-color:  #f0eaf4;\n",
       "        }    #T_dd89f49e_f96a_11e8_af26_acbc3287038frow4_col20 {\n",
       "            background-color:  #e6e2ef;\n",
       "        }    #T_dd89f49e_f96a_11e8_af26_acbc3287038frow4_col21 {\n",
       "            background-color:  #75a9cf;\n",
       "        }    #T_dd89f49e_f96a_11e8_af26_acbc3287038frow4_col22 {\n",
       "            background-color:  #75a9cf;\n",
       "        }    #T_dd89f49e_f96a_11e8_af26_acbc3287038frow4_col23 {\n",
       "            background-color:  #f2ecf5;\n",
       "        }    #T_dd89f49e_f96a_11e8_af26_acbc3287038frow5_col0 {\n",
       "            background-color:  #d6d6e9;\n",
       "        }    #T_dd89f49e_f96a_11e8_af26_acbc3287038frow5_col1 {\n",
       "            background-color:  #dbdaeb;\n",
       "        }    #T_dd89f49e_f96a_11e8_af26_acbc3287038frow5_col2 {\n",
       "            background-color:  #d5d5e8;\n",
       "        }    #T_dd89f49e_f96a_11e8_af26_acbc3287038frow5_col3 {\n",
       "            background-color:  #fff7fb;\n",
       "        }    #T_dd89f49e_f96a_11e8_af26_acbc3287038frow5_col4 {\n",
       "            background-color:  #fff7fb;\n",
       "        }    #T_dd89f49e_f96a_11e8_af26_acbc3287038frow5_col5 {\n",
       "            background-color:  #023858;\n",
       "        }    #T_dd89f49e_f96a_11e8_af26_acbc3287038frow5_col6 {\n",
       "            background-color:  #faf3f9;\n",
       "        }    #T_dd89f49e_f96a_11e8_af26_acbc3287038frow5_col7 {\n",
       "            background-color:  #81aed2;\n",
       "        }    #T_dd89f49e_f96a_11e8_af26_acbc3287038frow5_col8 {\n",
       "            background-color:  #83afd3;\n",
       "        }    #T_dd89f49e_f96a_11e8_af26_acbc3287038frow5_col9 {\n",
       "            background-color:  #f2ecf5;\n",
       "        }    #T_dd89f49e_f96a_11e8_af26_acbc3287038frow5_col10 {\n",
       "            background-color:  #f4eef6;\n",
       "        }    #T_dd89f49e_f96a_11e8_af26_acbc3287038frow5_col11 {\n",
       "            background-color:  #f5eef6;\n",
       "        }    #T_dd89f49e_f96a_11e8_af26_acbc3287038frow5_col12 {\n",
       "            background-color:  #a4bcda;\n",
       "        }    #T_dd89f49e_f96a_11e8_af26_acbc3287038frow5_col13 {\n",
       "            background-color:  #fcf4fa;\n",
       "        }    #T_dd89f49e_f96a_11e8_af26_acbc3287038frow5_col14 {\n",
       "            background-color:  #f2ecf5;\n",
       "        }    #T_dd89f49e_f96a_11e8_af26_acbc3287038frow5_col15 {\n",
       "            background-color:  #f4eef6;\n",
       "        }    #T_dd89f49e_f96a_11e8_af26_acbc3287038frow5_col16 {\n",
       "            background-color:  #f4edf6;\n",
       "        }    #T_dd89f49e_f96a_11e8_af26_acbc3287038frow5_col17 {\n",
       "            background-color:  #f0eaf4;\n",
       "        }    #T_dd89f49e_f96a_11e8_af26_acbc3287038frow5_col18 {\n",
       "            background-color:  #f8f1f8;\n",
       "        }    #T_dd89f49e_f96a_11e8_af26_acbc3287038frow5_col19 {\n",
       "            background-color:  #f0eaf4;\n",
       "        }    #T_dd89f49e_f96a_11e8_af26_acbc3287038frow5_col20 {\n",
       "            background-color:  #e6e2ef;\n",
       "        }    #T_dd89f49e_f96a_11e8_af26_acbc3287038frow5_col21 {\n",
       "            background-color:  #73a9cf;\n",
       "        }    #T_dd89f49e_f96a_11e8_af26_acbc3287038frow5_col22 {\n",
       "            background-color:  #76aad0;\n",
       "        }    #T_dd89f49e_f96a_11e8_af26_acbc3287038frow5_col23 {\n",
       "            background-color:  #f2ecf5;\n",
       "        }    #T_dd89f49e_f96a_11e8_af26_acbc3287038frow6_col0 {\n",
       "            background-color:  #cacee5;\n",
       "        }    #T_dd89f49e_f96a_11e8_af26_acbc3287038frow6_col1 {\n",
       "            background-color:  #dad9ea;\n",
       "        }    #T_dd89f49e_f96a_11e8_af26_acbc3287038frow6_col2 {\n",
       "            background-color:  #d9d8ea;\n",
       "        }    #T_dd89f49e_f96a_11e8_af26_acbc3287038frow6_col3 {\n",
       "            background-color:  #d1d2e6;\n",
       "        }    #T_dd89f49e_f96a_11e8_af26_acbc3287038frow6_col4 {\n",
       "            background-color:  #d0d1e6;\n",
       "        }    #T_dd89f49e_f96a_11e8_af26_acbc3287038frow6_col5 {\n",
       "            background-color:  #d0d1e6;\n",
       "        }    #T_dd89f49e_f96a_11e8_af26_acbc3287038frow6_col6 {\n",
       "            background-color:  #023858;\n",
       "        }    #T_dd89f49e_f96a_11e8_af26_acbc3287038frow6_col7 {\n",
       "            background-color:  #88b1d4;\n",
       "        }    #T_dd89f49e_f96a_11e8_af26_acbc3287038frow6_col8 {\n",
       "            background-color:  #7dacd1;\n",
       "        }    #T_dd89f49e_f96a_11e8_af26_acbc3287038frow6_col9 {\n",
       "            background-color:  #f0eaf4;\n",
       "        }    #T_dd89f49e_f96a_11e8_af26_acbc3287038frow6_col10 {\n",
       "            background-color:  #f2ecf5;\n",
       "        }    #T_dd89f49e_f96a_11e8_af26_acbc3287038frow6_col11 {\n",
       "            background-color:  #f7f0f7;\n",
       "        }    #T_dd89f49e_f96a_11e8_af26_acbc3287038frow6_col12 {\n",
       "            background-color:  #e9e5f1;\n",
       "        }    #T_dd89f49e_f96a_11e8_af26_acbc3287038frow6_col13 {\n",
       "            background-color:  #f8f1f8;\n",
       "        }    #T_dd89f49e_f96a_11e8_af26_acbc3287038frow6_col14 {\n",
       "            background-color:  #f0eaf4;\n",
       "        }    #T_dd89f49e_f96a_11e8_af26_acbc3287038frow6_col15 {\n",
       "            background-color:  #f0eaf4;\n",
       "        }    #T_dd89f49e_f96a_11e8_af26_acbc3287038frow6_col16 {\n",
       "            background-color:  #d3d4e7;\n",
       "        }    #T_dd89f49e_f96a_11e8_af26_acbc3287038frow6_col17 {\n",
       "            background-color:  #eee8f3;\n",
       "        }    #T_dd89f49e_f96a_11e8_af26_acbc3287038frow6_col18 {\n",
       "            background-color:  #e2dfee;\n",
       "        }    #T_dd89f49e_f96a_11e8_af26_acbc3287038frow6_col19 {\n",
       "            background-color:  #f0eaf4;\n",
       "        }    #T_dd89f49e_f96a_11e8_af26_acbc3287038frow6_col20 {\n",
       "            background-color:  #e0deed;\n",
       "        }    #T_dd89f49e_f96a_11e8_af26_acbc3287038frow6_col21 {\n",
       "            background-color:  #7bacd1;\n",
       "        }    #T_dd89f49e_f96a_11e8_af26_acbc3287038frow6_col22 {\n",
       "            background-color:  #6da6cd;\n",
       "        }    #T_dd89f49e_f96a_11e8_af26_acbc3287038frow6_col23 {\n",
       "            background-color:  #f0eaf4;\n",
       "        }    #T_dd89f49e_f96a_11e8_af26_acbc3287038frow7_col0 {\n",
       "            background-color:  #d6d6e9;\n",
       "        }    #T_dd89f49e_f96a_11e8_af26_acbc3287038frow7_col1 {\n",
       "            background-color:  #dbdaeb;\n",
       "        }    #T_dd89f49e_f96a_11e8_af26_acbc3287038frow7_col2 {\n",
       "            background-color:  #d6d6e9;\n",
       "        }    #T_dd89f49e_f96a_11e8_af26_acbc3287038frow7_col3 {\n",
       "            background-color:  #d1d2e6;\n",
       "        }    #T_dd89f49e_f96a_11e8_af26_acbc3287038frow7_col4 {\n",
       "            background-color:  #d0d1e6;\n",
       "        }    #T_dd89f49e_f96a_11e8_af26_acbc3287038frow7_col5 {\n",
       "            background-color:  #d0d1e6;\n",
       "        }    #T_dd89f49e_f96a_11e8_af26_acbc3287038frow7_col6 {\n",
       "            background-color:  #fef6fb;\n",
       "        }    #T_dd89f49e_f96a_11e8_af26_acbc3287038frow7_col7 {\n",
       "            background-color:  #023858;\n",
       "        }    #T_dd89f49e_f96a_11e8_af26_acbc3287038frow7_col8 {\n",
       "            background-color:  #fff7fb;\n",
       "        }    #T_dd89f49e_f96a_11e8_af26_acbc3287038frow7_col9 {\n",
       "            background-color:  #f9f2f8;\n",
       "        }    #T_dd89f49e_f96a_11e8_af26_acbc3287038frow7_col10 {\n",
       "            background-color:  #f2ecf5;\n",
       "        }    #T_dd89f49e_f96a_11e8_af26_acbc3287038frow7_col11 {\n",
       "            background-color:  #f7f0f7;\n",
       "        }    #T_dd89f49e_f96a_11e8_af26_acbc3287038frow7_col12 {\n",
       "            background-color:  #e9e5f1;\n",
       "        }    #T_dd89f49e_f96a_11e8_af26_acbc3287038frow7_col13 {\n",
       "            background-color:  #f8f1f8;\n",
       "        }    #T_dd89f49e_f96a_11e8_af26_acbc3287038frow7_col14 {\n",
       "            background-color:  #f9f2f8;\n",
       "        }    #T_dd89f49e_f96a_11e8_af26_acbc3287038frow7_col15 {\n",
       "            background-color:  #fff7fb;\n",
       "        }    #T_dd89f49e_f96a_11e8_af26_acbc3287038frow7_col16 {\n",
       "            background-color:  #fff7fb;\n",
       "        }    #T_dd89f49e_f96a_11e8_af26_acbc3287038frow7_col17 {\n",
       "            background-color:  #ebe6f2;\n",
       "        }    #T_dd89f49e_f96a_11e8_af26_acbc3287038frow7_col18 {\n",
       "            background-color:  #fff7fb;\n",
       "        }    #T_dd89f49e_f96a_11e8_af26_acbc3287038frow7_col19 {\n",
       "            background-color:  #eee9f3;\n",
       "        }    #T_dd89f49e_f96a_11e8_af26_acbc3287038frow7_col20 {\n",
       "            background-color:  #fcf4fa;\n",
       "        }    #T_dd89f49e_f96a_11e8_af26_acbc3287038frow7_col21 {\n",
       "            background-color:  #73a9cf;\n",
       "        }    #T_dd89f49e_f96a_11e8_af26_acbc3287038frow7_col22 {\n",
       "            background-color:  #75a9cf;\n",
       "        }    #T_dd89f49e_f96a_11e8_af26_acbc3287038frow7_col23 {\n",
       "            background-color:  #f9f2f8;\n",
       "        }    #T_dd89f49e_f96a_11e8_af26_acbc3287038frow8_col0 {\n",
       "            background-color:  #d5d5e8;\n",
       "        }    #T_dd89f49e_f96a_11e8_af26_acbc3287038frow8_col1 {\n",
       "            background-color:  #dddbec;\n",
       "        }    #T_dd89f49e_f96a_11e8_af26_acbc3287038frow8_col2 {\n",
       "            background-color:  #d3d4e7;\n",
       "        }    #T_dd89f49e_f96a_11e8_af26_acbc3287038frow8_col3 {\n",
       "            background-color:  #d0d1e6;\n",
       "        }    #T_dd89f49e_f96a_11e8_af26_acbc3287038frow8_col4 {\n",
       "            background-color:  #d1d2e6;\n",
       "        }    #T_dd89f49e_f96a_11e8_af26_acbc3287038frow8_col5 {\n",
       "            background-color:  #d1d2e6;\n",
       "        }    #T_dd89f49e_f96a_11e8_af26_acbc3287038frow8_col6 {\n",
       "            background-color:  #f7f0f7;\n",
       "        }    #T_dd89f49e_f96a_11e8_af26_acbc3287038frow8_col7 {\n",
       "            background-color:  #fff7fb;\n",
       "        }    #T_dd89f49e_f96a_11e8_af26_acbc3287038frow8_col8 {\n",
       "            background-color:  #023858;\n",
       "        }    #T_dd89f49e_f96a_11e8_af26_acbc3287038frow8_col9 {\n",
       "            background-color:  #e4e1ef;\n",
       "        }    #T_dd89f49e_f96a_11e8_af26_acbc3287038frow8_col10 {\n",
       "            background-color:  #f2ecf5;\n",
       "        }    #T_dd89f49e_f96a_11e8_af26_acbc3287038frow8_col11 {\n",
       "            background-color:  #f8f1f8;\n",
       "        }    #T_dd89f49e_f96a_11e8_af26_acbc3287038frow8_col12 {\n",
       "            background-color:  #ebe6f2;\n",
       "        }    #T_dd89f49e_f96a_11e8_af26_acbc3287038frow8_col13 {\n",
       "            background-color:  #f8f1f8;\n",
       "        }    #T_dd89f49e_f96a_11e8_af26_acbc3287038frow8_col14 {\n",
       "            background-color:  #e4e1ef;\n",
       "        }    #T_dd89f49e_f96a_11e8_af26_acbc3287038frow8_col15 {\n",
       "            background-color:  #e1dfed;\n",
       "        }    #T_dd89f49e_f96a_11e8_af26_acbc3287038frow8_col16 {\n",
       "            background-color:  #e5e1ef;\n",
       "        }    #T_dd89f49e_f96a_11e8_af26_acbc3287038frow8_col17 {\n",
       "            background-color:  #f5eef6;\n",
       "        }    #T_dd89f49e_f96a_11e8_af26_acbc3287038frow8_col18 {\n",
       "            background-color:  #f1ebf5;\n",
       "        }    #T_dd89f49e_f96a_11e8_af26_acbc3287038frow8_col19 {\n",
       "            background-color:  #f3edf5;\n",
       "        }    #T_dd89f49e_f96a_11e8_af26_acbc3287038frow8_col20 {\n",
       "            background-color:  #bfc9e1;\n",
       "        }    #T_dd89f49e_f96a_11e8_af26_acbc3287038frow8_col21 {\n",
       "            background-color:  #75a9cf;\n",
       "        }    #T_dd89f49e_f96a_11e8_af26_acbc3287038frow8_col22 {\n",
       "            background-color:  #75a9cf;\n",
       "        }    #T_dd89f49e_f96a_11e8_af26_acbc3287038frow8_col23 {\n",
       "            background-color:  #e4e1ef;\n",
       "        }    #T_dd89f49e_f96a_11e8_af26_acbc3287038frow9_col0 {\n",
       "            background-color:  #e1dfed;\n",
       "        }    #T_dd89f49e_f96a_11e8_af26_acbc3287038frow9_col1 {\n",
       "            background-color:  #dddbec;\n",
       "        }    #T_dd89f49e_f96a_11e8_af26_acbc3287038frow9_col2 {\n",
       "            background-color:  #c1cae2;\n",
       "        }    #T_dd89f49e_f96a_11e8_af26_acbc3287038frow9_col3 {\n",
       "            background-color:  #cdd0e5;\n",
       "        }    #T_dd89f49e_f96a_11e8_af26_acbc3287038frow9_col4 {\n",
       "            background-color:  #d2d3e7;\n",
       "        }    #T_dd89f49e_f96a_11e8_af26_acbc3287038frow9_col5 {\n",
       "            background-color:  #d2d3e7;\n",
       "        }    #T_dd89f49e_f96a_11e8_af26_acbc3287038frow9_col6 {\n",
       "            background-color:  #fbf3f9;\n",
       "        }    #T_dd89f49e_f96a_11e8_af26_acbc3287038frow9_col7 {\n",
       "            background-color:  #8fb4d6;\n",
       "        }    #T_dd89f49e_f96a_11e8_af26_acbc3287038frow9_col8 {\n",
       "            background-color:  #73a9cf;\n",
       "        }    #T_dd89f49e_f96a_11e8_af26_acbc3287038frow9_col9 {\n",
       "            background-color:  #023858;\n",
       "        }    #T_dd89f49e_f96a_11e8_af26_acbc3287038frow9_col10 {\n",
       "            background-color:  #f1ebf4;\n",
       "        }    #T_dd89f49e_f96a_11e8_af26_acbc3287038frow9_col11 {\n",
       "            background-color:  #f7f0f7;\n",
       "        }    #T_dd89f49e_f96a_11e8_af26_acbc3287038frow9_col12 {\n",
       "            background-color:  #eee8f3;\n",
       "        }    #T_dd89f49e_f96a_11e8_af26_acbc3287038frow9_col13 {\n",
       "            background-color:  #fdf5fa;\n",
       "        }    #T_dd89f49e_f96a_11e8_af26_acbc3287038frow9_col14 {\n",
       "            background-color:  #023858;\n",
       "        }    #T_dd89f49e_f96a_11e8_af26_acbc3287038frow9_col15 {\n",
       "            background-color:  #157ab5;\n",
       "        }    #T_dd89f49e_f96a_11e8_af26_acbc3287038frow9_col16 {\n",
       "            background-color:  #d3d4e7;\n",
       "        }    #T_dd89f49e_f96a_11e8_af26_acbc3287038frow9_col17 {\n",
       "            background-color:  #f5eef6;\n",
       "        }    #T_dd89f49e_f96a_11e8_af26_acbc3287038frow9_col18 {\n",
       "            background-color:  #d5d5e8;\n",
       "        }    #T_dd89f49e_f96a_11e8_af26_acbc3287038frow9_col19 {\n",
       "            background-color:  #fff7fb;\n",
       "        }    #T_dd89f49e_f96a_11e8_af26_acbc3287038frow9_col20 {\n",
       "            background-color:  #04588a;\n",
       "        }    #T_dd89f49e_f96a_11e8_af26_acbc3287038frow9_col21 {\n",
       "            background-color:  #63a2cb;\n",
       "        }    #T_dd89f49e_f96a_11e8_af26_acbc3287038frow9_col22 {\n",
       "            background-color:  #83afd3;\n",
       "        }    #T_dd89f49e_f96a_11e8_af26_acbc3287038frow9_col23 {\n",
       "            background-color:  #023858;\n",
       "        }    #T_dd89f49e_f96a_11e8_af26_acbc3287038frow10_col0 {\n",
       "            background-color:  #d6d6e9;\n",
       "        }    #T_dd89f49e_f96a_11e8_af26_acbc3287038frow10_col1 {\n",
       "            background-color:  #dbdaeb;\n",
       "        }    #T_dd89f49e_f96a_11e8_af26_acbc3287038frow10_col2 {\n",
       "            background-color:  #d5d5e8;\n",
       "        }    #T_dd89f49e_f96a_11e8_af26_acbc3287038frow10_col3 {\n",
       "            background-color:  #e0dded;\n",
       "        }    #T_dd89f49e_f96a_11e8_af26_acbc3287038frow10_col4 {\n",
       "            background-color:  #c6cce3;\n",
       "        }    #T_dd89f49e_f96a_11e8_af26_acbc3287038frow10_col5 {\n",
       "            background-color:  #d2d3e7;\n",
       "        }    #T_dd89f49e_f96a_11e8_af26_acbc3287038frow10_col6 {\n",
       "            background-color:  #fbf3f9;\n",
       "        }    #T_dd89f49e_f96a_11e8_af26_acbc3287038frow10_col7 {\n",
       "            background-color:  #81aed2;\n",
       "        }    #T_dd89f49e_f96a_11e8_af26_acbc3287038frow10_col8 {\n",
       "            background-color:  #83afd3;\n",
       "        }    #T_dd89f49e_f96a_11e8_af26_acbc3287038frow10_col9 {\n",
       "            background-color:  #efe9f3;\n",
       "        }    #T_dd89f49e_f96a_11e8_af26_acbc3287038frow10_col10 {\n",
       "            background-color:  #023858;\n",
       "        }    #T_dd89f49e_f96a_11e8_af26_acbc3287038frow10_col11 {\n",
       "            background-color:  #abbfdc;\n",
       "        }    #T_dd89f49e_f96a_11e8_af26_acbc3287038frow10_col12 {\n",
       "            background-color:  #e8e4f0;\n",
       "        }    #T_dd89f49e_f96a_11e8_af26_acbc3287038frow10_col13 {\n",
       "            background-color:  #fbf4f9;\n",
       "        }    #T_dd89f49e_f96a_11e8_af26_acbc3287038frow10_col14 {\n",
       "            background-color:  #efe9f3;\n",
       "        }    #T_dd89f49e_f96a_11e8_af26_acbc3287038frow10_col15 {\n",
       "            background-color:  #f3edf5;\n",
       "        }    #T_dd89f49e_f96a_11e8_af26_acbc3287038frow10_col16 {\n",
       "            background-color:  #f2ecf5;\n",
       "        }    #T_dd89f49e_f96a_11e8_af26_acbc3287038frow10_col17 {\n",
       "            background-color:  #efe9f3;\n",
       "        }    #T_dd89f49e_f96a_11e8_af26_acbc3287038frow10_col18 {\n",
       "            background-color:  #f8f1f8;\n",
       "        }    #T_dd89f49e_f96a_11e8_af26_acbc3287038frow10_col19 {\n",
       "            background-color:  #f0eaf4;\n",
       "        }    #T_dd89f49e_f96a_11e8_af26_acbc3287038frow10_col20 {\n",
       "            background-color:  #e2dfee;\n",
       "        }    #T_dd89f49e_f96a_11e8_af26_acbc3287038frow10_col21 {\n",
       "            background-color:  #75a9cf;\n",
       "        }    #T_dd89f49e_f96a_11e8_af26_acbc3287038frow10_col22 {\n",
       "            background-color:  #75a9cf;\n",
       "        }    #T_dd89f49e_f96a_11e8_af26_acbc3287038frow10_col23 {\n",
       "            background-color:  #efe9f3;\n",
       "        }    #T_dd89f49e_f96a_11e8_af26_acbc3287038frow11_col0 {\n",
       "            background-color:  #d4d4e8;\n",
       "        }    #T_dd89f49e_f96a_11e8_af26_acbc3287038frow11_col1 {\n",
       "            background-color:  #dbdaeb;\n",
       "        }    #T_dd89f49e_f96a_11e8_af26_acbc3287038frow11_col2 {\n",
       "            background-color:  #d5d5e8;\n",
       "        }    #T_dd89f49e_f96a_11e8_af26_acbc3287038frow11_col3 {\n",
       "            background-color:  #d4d4e8;\n",
       "        }    #T_dd89f49e_f96a_11e8_af26_acbc3287038frow11_col4 {\n",
       "            background-color:  #d9d8ea;\n",
       "        }    #T_dd89f49e_f96a_11e8_af26_acbc3287038frow11_col5 {\n",
       "            background-color:  #cccfe5;\n",
       "        }    #T_dd89f49e_f96a_11e8_af26_acbc3287038frow11_col6 {\n",
       "            background-color:  #fbf3f9;\n",
       "        }    #T_dd89f49e_f96a_11e8_af26_acbc3287038frow11_col7 {\n",
       "            background-color:  #81aed2;\n",
       "        }    #T_dd89f49e_f96a_11e8_af26_acbc3287038frow11_col8 {\n",
       "            background-color:  #83afd3;\n",
       "        }    #T_dd89f49e_f96a_11e8_af26_acbc3287038frow11_col9 {\n",
       "            background-color:  #f0eaf4;\n",
       "        }    #T_dd89f49e_f96a_11e8_af26_acbc3287038frow11_col10 {\n",
       "            background-color:  #a2bcda;\n",
       "        }    #T_dd89f49e_f96a_11e8_af26_acbc3287038frow11_col11 {\n",
       "            background-color:  #023858;\n",
       "        }    #T_dd89f49e_f96a_11e8_af26_acbc3287038frow11_col12 {\n",
       "            background-color:  #abbfdc;\n",
       "        }    #T_dd89f49e_f96a_11e8_af26_acbc3287038frow11_col13 {\n",
       "            background-color:  #fef6fb;\n",
       "        }    #T_dd89f49e_f96a_11e8_af26_acbc3287038frow11_col14 {\n",
       "            background-color:  #f0eaf4;\n",
       "        }    #T_dd89f49e_f96a_11e8_af26_acbc3287038frow11_col15 {\n",
       "            background-color:  #f4edf6;\n",
       "        }    #T_dd89f49e_f96a_11e8_af26_acbc3287038frow11_col16 {\n",
       "            background-color:  #f4edf6;\n",
       "        }    #T_dd89f49e_f96a_11e8_af26_acbc3287038frow11_col17 {\n",
       "            background-color:  #f0eaf4;\n",
       "        }    #T_dd89f49e_f96a_11e8_af26_acbc3287038frow11_col18 {\n",
       "            background-color:  #f8f1f8;\n",
       "        }    #T_dd89f49e_f96a_11e8_af26_acbc3287038frow11_col19 {\n",
       "            background-color:  #f1ebf4;\n",
       "        }    #T_dd89f49e_f96a_11e8_af26_acbc3287038frow11_col20 {\n",
       "            background-color:  #e4e1ef;\n",
       "        }    #T_dd89f49e_f96a_11e8_af26_acbc3287038frow11_col21 {\n",
       "            background-color:  #75a9cf;\n",
       "        }    #T_dd89f49e_f96a_11e8_af26_acbc3287038frow11_col22 {\n",
       "            background-color:  #75a9cf;\n",
       "        }    #T_dd89f49e_f96a_11e8_af26_acbc3287038frow11_col23 {\n",
       "            background-color:  #f0eaf4;\n",
       "        }    #T_dd89f49e_f96a_11e8_af26_acbc3287038frow12_col0 {\n",
       "            background-color:  #d3d4e7;\n",
       "        }    #T_dd89f49e_f96a_11e8_af26_acbc3287038frow12_col1 {\n",
       "            background-color:  #dddbec;\n",
       "        }    #T_dd89f49e_f96a_11e8_af26_acbc3287038frow12_col2 {\n",
       "            background-color:  #d4d4e8;\n",
       "        }    #T_dd89f49e_f96a_11e8_af26_acbc3287038frow12_col3 {\n",
       "            background-color:  #eae6f1;\n",
       "        }    #T_dd89f49e_f96a_11e8_af26_acbc3287038frow12_col4 {\n",
       "            background-color:  #cacee5;\n",
       "        }    #T_dd89f49e_f96a_11e8_af26_acbc3287038frow12_col5 {\n",
       "            background-color:  #83afd3;\n",
       "        }    #T_dd89f49e_f96a_11e8_af26_acbc3287038frow12_col6 {\n",
       "            background-color:  #faf3f9;\n",
       "        }    #T_dd89f49e_f96a_11e8_af26_acbc3287038frow12_col7 {\n",
       "            background-color:  #81aed2;\n",
       "        }    #T_dd89f49e_f96a_11e8_af26_acbc3287038frow12_col8 {\n",
       "            background-color:  #83afd3;\n",
       "        }    #T_dd89f49e_f96a_11e8_af26_acbc3287038frow12_col9 {\n",
       "            background-color:  #f3edf5;\n",
       "        }    #T_dd89f49e_f96a_11e8_af26_acbc3287038frow12_col10 {\n",
       "            background-color:  #f1ebf5;\n",
       "        }    #T_dd89f49e_f96a_11e8_af26_acbc3287038frow12_col11 {\n",
       "            background-color:  #c0c9e2;\n",
       "        }    #T_dd89f49e_f96a_11e8_af26_acbc3287038frow12_col12 {\n",
       "            background-color:  #023858;\n",
       "        }    #T_dd89f49e_f96a_11e8_af26_acbc3287038frow12_col13 {\n",
       "            background-color:  #f5eff6;\n",
       "        }    #T_dd89f49e_f96a_11e8_af26_acbc3287038frow12_col14 {\n",
       "            background-color:  #f3edf5;\n",
       "        }    #T_dd89f49e_f96a_11e8_af26_acbc3287038frow12_col15 {\n",
       "            background-color:  #f4eef6;\n",
       "        }    #T_dd89f49e_f96a_11e8_af26_acbc3287038frow12_col16 {\n",
       "            background-color:  #f4eef6;\n",
       "        }    #T_dd89f49e_f96a_11e8_af26_acbc3287038frow12_col17 {\n",
       "            background-color:  #f0eaf4;\n",
       "        }    #T_dd89f49e_f96a_11e8_af26_acbc3287038frow12_col18 {\n",
       "            background-color:  #f8f1f8;\n",
       "        }    #T_dd89f49e_f96a_11e8_af26_acbc3287038frow12_col19 {\n",
       "            background-color:  #f1ebf4;\n",
       "        }    #T_dd89f49e_f96a_11e8_af26_acbc3287038frow12_col20 {\n",
       "            background-color:  #e7e3f0;\n",
       "        }    #T_dd89f49e_f96a_11e8_af26_acbc3287038frow12_col21 {\n",
       "            background-color:  #75a9cf;\n",
       "        }    #T_dd89f49e_f96a_11e8_af26_acbc3287038frow12_col22 {\n",
       "            background-color:  #75a9cf;\n",
       "        }    #T_dd89f49e_f96a_11e8_af26_acbc3287038frow12_col23 {\n",
       "            background-color:  #f3edf5;\n",
       "        }    #T_dd89f49e_f96a_11e8_af26_acbc3287038frow13_col0 {\n",
       "            background-color:  #d2d3e7;\n",
       "        }    #T_dd89f49e_f96a_11e8_af26_acbc3287038frow13_col1 {\n",
       "            background-color:  #e0dded;\n",
       "        }    #T_dd89f49e_f96a_11e8_af26_acbc3287038frow13_col2 {\n",
       "            background-color:  #d2d3e7;\n",
       "        }    #T_dd89f49e_f96a_11e8_af26_acbc3287038frow13_col3 {\n",
       "            background-color:  #d9d8ea;\n",
       "        }    #T_dd89f49e_f96a_11e8_af26_acbc3287038frow13_col4 {\n",
       "            background-color:  #c1cae2;\n",
       "        }    #T_dd89f49e_f96a_11e8_af26_acbc3287038frow13_col5 {\n",
       "            background-color:  #d5d5e8;\n",
       "        }    #T_dd89f49e_f96a_11e8_af26_acbc3287038frow13_col6 {\n",
       "            background-color:  #fbf3f9;\n",
       "        }    #T_dd89f49e_f96a_11e8_af26_acbc3287038frow13_col7 {\n",
       "            background-color:  #83afd3;\n",
       "        }    #T_dd89f49e_f96a_11e8_af26_acbc3287038frow13_col8 {\n",
       "            background-color:  #81aed2;\n",
       "        }    #T_dd89f49e_f96a_11e8_af26_acbc3287038frow13_col9 {\n",
       "            background-color:  #f5eef6;\n",
       "        }    #T_dd89f49e_f96a_11e8_af26_acbc3287038frow13_col10 {\n",
       "            background-color:  #f5eff6;\n",
       "        }    #T_dd89f49e_f96a_11e8_af26_acbc3287038frow13_col11 {\n",
       "            background-color:  #fef6fa;\n",
       "        }    #T_dd89f49e_f96a_11e8_af26_acbc3287038frow13_col12 {\n",
       "            background-color:  #e7e3f0;\n",
       "        }    #T_dd89f49e_f96a_11e8_af26_acbc3287038frow13_col13 {\n",
       "            background-color:  #023858;\n",
       "        }    #T_dd89f49e_f96a_11e8_af26_acbc3287038frow13_col14 {\n",
       "            background-color:  #f5eef6;\n",
       "        }    #T_dd89f49e_f96a_11e8_af26_acbc3287038frow13_col15 {\n",
       "            background-color:  #f2ecf5;\n",
       "        }    #T_dd89f49e_f96a_11e8_af26_acbc3287038frow13_col16 {\n",
       "            background-color:  #f3edf5;\n",
       "        }    #T_dd89f49e_f96a_11e8_af26_acbc3287038frow13_col17 {\n",
       "            background-color:  #f0eaf4;\n",
       "        }    #T_dd89f49e_f96a_11e8_af26_acbc3287038frow13_col18 {\n",
       "            background-color:  #f7f0f7;\n",
       "        }    #T_dd89f49e_f96a_11e8_af26_acbc3287038frow13_col19 {\n",
       "            background-color:  #f0eaf4;\n",
       "        }    #T_dd89f49e_f96a_11e8_af26_acbc3287038frow13_col20 {\n",
       "            background-color:  #e5e1ef;\n",
       "        }    #T_dd89f49e_f96a_11e8_af26_acbc3287038frow13_col21 {\n",
       "            background-color:  #78abd0;\n",
       "        }    #T_dd89f49e_f96a_11e8_af26_acbc3287038frow13_col22 {\n",
       "            background-color:  #71a8ce;\n",
       "        }    #T_dd89f49e_f96a_11e8_af26_acbc3287038frow13_col23 {\n",
       "            background-color:  #f5eef6;\n",
       "        }    #T_dd89f49e_f96a_11e8_af26_acbc3287038frow14_col0 {\n",
       "            background-color:  #e1dfed;\n",
       "        }    #T_dd89f49e_f96a_11e8_af26_acbc3287038frow14_col1 {\n",
       "            background-color:  #dddbec;\n",
       "        }    #T_dd89f49e_f96a_11e8_af26_acbc3287038frow14_col2 {\n",
       "            background-color:  #c1cae2;\n",
       "        }    #T_dd89f49e_f96a_11e8_af26_acbc3287038frow14_col3 {\n",
       "            background-color:  #cdd0e5;\n",
       "        }    #T_dd89f49e_f96a_11e8_af26_acbc3287038frow14_col4 {\n",
       "            background-color:  #d2d3e7;\n",
       "        }    #T_dd89f49e_f96a_11e8_af26_acbc3287038frow14_col5 {\n",
       "            background-color:  #d2d3e7;\n",
       "        }    #T_dd89f49e_f96a_11e8_af26_acbc3287038frow14_col6 {\n",
       "            background-color:  #fbf3f9;\n",
       "        }    #T_dd89f49e_f96a_11e8_af26_acbc3287038frow14_col7 {\n",
       "            background-color:  #8fb4d6;\n",
       "        }    #T_dd89f49e_f96a_11e8_af26_acbc3287038frow14_col8 {\n",
       "            background-color:  #73a9cf;\n",
       "        }    #T_dd89f49e_f96a_11e8_af26_acbc3287038frow14_col9 {\n",
       "            background-color:  #023858;\n",
       "        }    #T_dd89f49e_f96a_11e8_af26_acbc3287038frow14_col10 {\n",
       "            background-color:  #f1ebf4;\n",
       "        }    #T_dd89f49e_f96a_11e8_af26_acbc3287038frow14_col11 {\n",
       "            background-color:  #f7f0f7;\n",
       "        }    #T_dd89f49e_f96a_11e8_af26_acbc3287038frow14_col12 {\n",
       "            background-color:  #eee8f3;\n",
       "        }    #T_dd89f49e_f96a_11e8_af26_acbc3287038frow14_col13 {\n",
       "            background-color:  #fdf5fa;\n",
       "        }    #T_dd89f49e_f96a_11e8_af26_acbc3287038frow14_col14 {\n",
       "            background-color:  #023858;\n",
       "        }    #T_dd89f49e_f96a_11e8_af26_acbc3287038frow14_col15 {\n",
       "            background-color:  #157ab5;\n",
       "        }    #T_dd89f49e_f96a_11e8_af26_acbc3287038frow14_col16 {\n",
       "            background-color:  #d3d4e7;\n",
       "        }    #T_dd89f49e_f96a_11e8_af26_acbc3287038frow14_col17 {\n",
       "            background-color:  #f5eef6;\n",
       "        }    #T_dd89f49e_f96a_11e8_af26_acbc3287038frow14_col18 {\n",
       "            background-color:  #d5d5e8;\n",
       "        }    #T_dd89f49e_f96a_11e8_af26_acbc3287038frow14_col19 {\n",
       "            background-color:  #fff7fb;\n",
       "        }    #T_dd89f49e_f96a_11e8_af26_acbc3287038frow14_col20 {\n",
       "            background-color:  #04588a;\n",
       "        }    #T_dd89f49e_f96a_11e8_af26_acbc3287038frow14_col21 {\n",
       "            background-color:  #63a2cb;\n",
       "        }    #T_dd89f49e_f96a_11e8_af26_acbc3287038frow14_col22 {\n",
       "            background-color:  #83afd3;\n",
       "        }    #T_dd89f49e_f96a_11e8_af26_acbc3287038frow14_col23 {\n",
       "            background-color:  #023858;\n",
       "        }    #T_dd89f49e_f96a_11e8_af26_acbc3287038frow15_col0 {\n",
       "            background-color:  #c0c9e2;\n",
       "        }    #T_dd89f49e_f96a_11e8_af26_acbc3287038frow15_col1 {\n",
       "            background-color:  #e3e0ee;\n",
       "        }    #T_dd89f49e_f96a_11e8_af26_acbc3287038frow15_col2 {\n",
       "            background-color:  #dfddec;\n",
       "        }    #T_dd89f49e_f96a_11e8_af26_acbc3287038frow15_col3 {\n",
       "            background-color:  #cdd0e5;\n",
       "        }    #T_dd89f49e_f96a_11e8_af26_acbc3287038frow15_col4 {\n",
       "            background-color:  #d2d2e7;\n",
       "        }    #T_dd89f49e_f96a_11e8_af26_acbc3287038frow15_col5 {\n",
       "            background-color:  #d2d2e7;\n",
       "        }    #T_dd89f49e_f96a_11e8_af26_acbc3287038frow15_col6 {\n",
       "            background-color:  #f8f1f8;\n",
       "        }    #T_dd89f49e_f96a_11e8_af26_acbc3287038frow15_col7 {\n",
       "            background-color:  #96b6d7;\n",
       "        }    #T_dd89f49e_f96a_11e8_af26_acbc3287038frow15_col8 {\n",
       "            background-color:  #6ba5cd;\n",
       "        }    #T_dd89f49e_f96a_11e8_af26_acbc3287038frow15_col9 {\n",
       "            background-color:  #1379b5;\n",
       "        }    #T_dd89f49e_f96a_11e8_af26_acbc3287038frow15_col10 {\n",
       "            background-color:  #f2ecf5;\n",
       "        }    #T_dd89f49e_f96a_11e8_af26_acbc3287038frow15_col11 {\n",
       "            background-color:  #f8f1f8;\n",
       "        }    #T_dd89f49e_f96a_11e8_af26_acbc3287038frow15_col12 {\n",
       "            background-color:  #ece7f2;\n",
       "        }    #T_dd89f49e_f96a_11e8_af26_acbc3287038frow15_col13 {\n",
       "            background-color:  #f7f0f7;\n",
       "        }    #T_dd89f49e_f96a_11e8_af26_acbc3287038frow15_col14 {\n",
       "            background-color:  #1379b5;\n",
       "        }    #T_dd89f49e_f96a_11e8_af26_acbc3287038frow15_col15 {\n",
       "            background-color:  #023858;\n",
       "        }    #T_dd89f49e_f96a_11e8_af26_acbc3287038frow15_col16 {\n",
       "            background-color:  #b3c3de;\n",
       "        }    #T_dd89f49e_f96a_11e8_af26_acbc3287038frow15_col17 {\n",
       "            background-color:  #f2ecf5;\n",
       "        }    #T_dd89f49e_f96a_11e8_af26_acbc3287038frow15_col18 {\n",
       "            background-color:  #a2bcda;\n",
       "        }    #T_dd89f49e_f96a_11e8_af26_acbc3287038frow15_col19 {\n",
       "            background-color:  #faf3f9;\n",
       "        }    #T_dd89f49e_f96a_11e8_af26_acbc3287038frow15_col20 {\n",
       "            background-color:  #04598c;\n",
       "        }    #T_dd89f49e_f96a_11e8_af26_acbc3287038frow15_col21 {\n",
       "            background-color:  #62a2cb;\n",
       "        }    #T_dd89f49e_f96a_11e8_af26_acbc3287038frow15_col22 {\n",
       "            background-color:  #84b0d3;\n",
       "        }    #T_dd89f49e_f96a_11e8_af26_acbc3287038frow15_col23 {\n",
       "            background-color:  #1379b5;\n",
       "        }    #T_dd89f49e_f96a_11e8_af26_acbc3287038frow16_col0 {\n",
       "            background-color:  #dedcec;\n",
       "        }    #T_dd89f49e_f96a_11e8_af26_acbc3287038frow16_col1 {\n",
       "            background-color:  #d4d4e8;\n",
       "        }    #T_dd89f49e_f96a_11e8_af26_acbc3287038frow16_col2 {\n",
       "            background-color:  #ced0e6;\n",
       "        }    #T_dd89f49e_f96a_11e8_af26_acbc3287038frow16_col3 {\n",
       "            background-color:  #d1d2e6;\n",
       "        }    #T_dd89f49e_f96a_11e8_af26_acbc3287038frow16_col4 {\n",
       "            background-color:  #d0d1e6;\n",
       "        }    #T_dd89f49e_f96a_11e8_af26_acbc3287038frow16_col5 {\n",
       "            background-color:  #d1d2e6;\n",
       "        }    #T_dd89f49e_f96a_11e8_af26_acbc3287038frow16_col6 {\n",
       "            background-color:  #dcdaeb;\n",
       "        }    #T_dd89f49e_f96a_11e8_af26_acbc3287038frow16_col7 {\n",
       "            background-color:  #94b6d7;\n",
       "        }    #T_dd89f49e_f96a_11e8_af26_acbc3287038frow16_col8 {\n",
       "            background-color:  #6da6cd;\n",
       "        }    #T_dd89f49e_f96a_11e8_af26_acbc3287038frow16_col9 {\n",
       "            background-color:  #d0d1e6;\n",
       "        }    #T_dd89f49e_f96a_11e8_af26_acbc3287038frow16_col10 {\n",
       "            background-color:  #f2ecf5;\n",
       "        }    #T_dd89f49e_f96a_11e8_af26_acbc3287038frow16_col11 {\n",
       "            background-color:  #f8f1f8;\n",
       "        }    #T_dd89f49e_f96a_11e8_af26_acbc3287038frow16_col12 {\n",
       "            background-color:  #ebe6f2;\n",
       "        }    #T_dd89f49e_f96a_11e8_af26_acbc3287038frow16_col13 {\n",
       "            background-color:  #f8f1f8;\n",
       "        }    #T_dd89f49e_f96a_11e8_af26_acbc3287038frow16_col14 {\n",
       "            background-color:  #d0d1e6;\n",
       "        }    #T_dd89f49e_f96a_11e8_af26_acbc3287038frow16_col15 {\n",
       "            background-color:  #b1c2de;\n",
       "        }    #T_dd89f49e_f96a_11e8_af26_acbc3287038frow16_col16 {\n",
       "            background-color:  #023858;\n",
       "        }    #T_dd89f49e_f96a_11e8_af26_acbc3287038frow16_col17 {\n",
       "            background-color:  #5c9fc9;\n",
       "        }    #T_dd89f49e_f96a_11e8_af26_acbc3287038frow16_col18 {\n",
       "            background-color:  #b7c5df;\n",
       "        }    #T_dd89f49e_f96a_11e8_af26_acbc3287038frow16_col19 {\n",
       "            background-color:  #ced0e6;\n",
       "        }    #T_dd89f49e_f96a_11e8_af26_acbc3287038frow16_col20 {\n",
       "            background-color:  #96b6d7;\n",
       "        }    #T_dd89f49e_f96a_11e8_af26_acbc3287038frow16_col21 {\n",
       "            background-color:  #78abd0;\n",
       "        }    #T_dd89f49e_f96a_11e8_af26_acbc3287038frow16_col22 {\n",
       "            background-color:  #71a8ce;\n",
       "        }    #T_dd89f49e_f96a_11e8_af26_acbc3287038frow16_col23 {\n",
       "            background-color:  #d0d1e6;\n",
       "        }    #T_dd89f49e_f96a_11e8_af26_acbc3287038frow17_col0 {\n",
       "            background-color:  #e8e4f0;\n",
       "        }    #T_dd89f49e_f96a_11e8_af26_acbc3287038frow17_col1 {\n",
       "            background-color:  #ced0e6;\n",
       "        }    #T_dd89f49e_f96a_11e8_af26_acbc3287038frow17_col2 {\n",
       "            background-color:  #c2cbe2;\n",
       "        }    #T_dd89f49e_f96a_11e8_af26_acbc3287038frow17_col3 {\n",
       "            background-color:  #d2d2e7;\n",
       "        }    #T_dd89f49e_f96a_11e8_af26_acbc3287038frow17_col4 {\n",
       "            background-color:  #ced0e6;\n",
       "        }    #T_dd89f49e_f96a_11e8_af26_acbc3287038frow17_col5 {\n",
       "            background-color:  #d0d1e6;\n",
       "        }    #T_dd89f49e_f96a_11e8_af26_acbc3287038frow17_col6 {\n",
       "            background-color:  #f9f2f8;\n",
       "        }    #T_dd89f49e_f96a_11e8_af26_acbc3287038frow17_col7 {\n",
       "            background-color:  #7bacd1;\n",
       "        }    #T_dd89f49e_f96a_11e8_af26_acbc3287038frow17_col8 {\n",
       "            background-color:  #8bb2d4;\n",
       "        }    #T_dd89f49e_f96a_11e8_af26_acbc3287038frow17_col9 {\n",
       "            background-color:  #f5eff6;\n",
       "        }    #T_dd89f49e_f96a_11e8_af26_acbc3287038frow17_col10 {\n",
       "            background-color:  #f1ebf5;\n",
       "        }    #T_dd89f49e_f96a_11e8_af26_acbc3287038frow17_col11 {\n",
       "            background-color:  #f8f1f8;\n",
       "        }    #T_dd89f49e_f96a_11e8_af26_acbc3287038frow17_col12 {\n",
       "            background-color:  #ebe6f2;\n",
       "        }    #T_dd89f49e_f96a_11e8_af26_acbc3287038frow17_col13 {\n",
       "            background-color:  #f8f1f8;\n",
       "        }    #T_dd89f49e_f96a_11e8_af26_acbc3287038frow17_col14 {\n",
       "            background-color:  #f5eff6;\n",
       "        }    #T_dd89f49e_f96a_11e8_af26_acbc3287038frow17_col15 {\n",
       "            background-color:  #f5eff6;\n",
       "        }    #T_dd89f49e_f96a_11e8_af26_acbc3287038frow17_col16 {\n",
       "            background-color:  #62a2cb;\n",
       "        }    #T_dd89f49e_f96a_11e8_af26_acbc3287038frow17_col17 {\n",
       "            background-color:  #023858;\n",
       "        }    #T_dd89f49e_f96a_11e8_af26_acbc3287038frow17_col18 {\n",
       "            background-color:  #d2d3e7;\n",
       "        }    #T_dd89f49e_f96a_11e8_af26_acbc3287038frow17_col19 {\n",
       "            background-color:  #63a2cb;\n",
       "        }    #T_dd89f49e_f96a_11e8_af26_acbc3287038frow17_col20 {\n",
       "            background-color:  #e7e3f0;\n",
       "        }    #T_dd89f49e_f96a_11e8_af26_acbc3287038frow17_col21 {\n",
       "            background-color:  #7eadd1;\n",
       "        }    #T_dd89f49e_f96a_11e8_af26_acbc3287038frow17_col22 {\n",
       "            background-color:  #67a4cc;\n",
       "        }    #T_dd89f49e_f96a_11e8_af26_acbc3287038frow17_col23 {\n",
       "            background-color:  #f5eff6;\n",
       "        }    #T_dd89f49e_f96a_11e8_af26_acbc3287038frow18_col0 {\n",
       "            background-color:  #bdc8e1;\n",
       "        }    #T_dd89f49e_f96a_11e8_af26_acbc3287038frow18_col1 {\n",
       "            background-color:  #e2dfee;\n",
       "        }    #T_dd89f49e_f96a_11e8_af26_acbc3287038frow18_col2 {\n",
       "            background-color:  #d9d8ea;\n",
       "        }    #T_dd89f49e_f96a_11e8_af26_acbc3287038frow18_col3 {\n",
       "            background-color:  #d1d2e6;\n",
       "        }    #T_dd89f49e_f96a_11e8_af26_acbc3287038frow18_col4 {\n",
       "            background-color:  #d0d1e6;\n",
       "        }    #T_dd89f49e_f96a_11e8_af26_acbc3287038frow18_col5 {\n",
       "            background-color:  #d0d1e6;\n",
       "        }    #T_dd89f49e_f96a_11e8_af26_acbc3287038frow18_col6 {\n",
       "            background-color:  #e7e3f0;\n",
       "        }    #T_dd89f49e_f96a_11e8_af26_acbc3287038frow18_col7 {\n",
       "            background-color:  #8cb3d5;\n",
       "        }    #T_dd89f49e_f96a_11e8_af26_acbc3287038frow18_col8 {\n",
       "            background-color:  #78abd0;\n",
       "        }    #T_dd89f49e_f96a_11e8_af26_acbc3287038frow18_col9 {\n",
       "            background-color:  #cacee5;\n",
       "        }    #T_dd89f49e_f96a_11e8_af26_acbc3287038frow18_col10 {\n",
       "            background-color:  #f2ecf5;\n",
       "        }    #T_dd89f49e_f96a_11e8_af26_acbc3287038frow18_col11 {\n",
       "            background-color:  #f7f0f7;\n",
       "        }    #T_dd89f49e_f96a_11e8_af26_acbc3287038frow18_col12 {\n",
       "            background-color:  #ebe6f2;\n",
       "        }    #T_dd89f49e_f96a_11e8_af26_acbc3287038frow18_col13 {\n",
       "            background-color:  #f7f0f7;\n",
       "        }    #T_dd89f49e_f96a_11e8_af26_acbc3287038frow18_col14 {\n",
       "            background-color:  #cacee5;\n",
       "        }    #T_dd89f49e_f96a_11e8_af26_acbc3287038frow18_col15 {\n",
       "            background-color:  #99b8d8;\n",
       "        }    #T_dd89f49e_f96a_11e8_af26_acbc3287038frow18_col16 {\n",
       "            background-color:  #b0c2de;\n",
       "        }    #T_dd89f49e_f96a_11e8_af26_acbc3287038frow18_col17 {\n",
       "            background-color:  #c5cce3;\n",
       "        }    #T_dd89f49e_f96a_11e8_af26_acbc3287038frow18_col18 {\n",
       "            background-color:  #023858;\n",
       "        }    #T_dd89f49e_f96a_11e8_af26_acbc3287038frow18_col19 {\n",
       "            background-color:  #8bb2d4;\n",
       "        }    #T_dd89f49e_f96a_11e8_af26_acbc3287038frow18_col20 {\n",
       "            background-color:  #8eb3d5;\n",
       "        }    #T_dd89f49e_f96a_11e8_af26_acbc3287038frow18_col21 {\n",
       "            background-color:  #7bacd1;\n",
       "        }    #T_dd89f49e_f96a_11e8_af26_acbc3287038frow18_col22 {\n",
       "            background-color:  #6da6cd;\n",
       "        }    #T_dd89f49e_f96a_11e8_af26_acbc3287038frow18_col23 {\n",
       "            background-color:  #cacee5;\n",
       "        }    #T_dd89f49e_f96a_11e8_af26_acbc3287038frow19_col0 {\n",
       "            background-color:  #dfddec;\n",
       "        }    #T_dd89f49e_f96a_11e8_af26_acbc3287038frow19_col1 {\n",
       "            background-color:  #d6d6e9;\n",
       "        }    #T_dd89f49e_f96a_11e8_af26_acbc3287038frow19_col2 {\n",
       "            background-color:  #c6cce3;\n",
       "        }    #T_dd89f49e_f96a_11e8_af26_acbc3287038frow19_col3 {\n",
       "            background-color:  #d2d2e7;\n",
       "        }    #T_dd89f49e_f96a_11e8_af26_acbc3287038frow19_col4 {\n",
       "            background-color:  #ced0e6;\n",
       "        }    #T_dd89f49e_f96a_11e8_af26_acbc3287038frow19_col5 {\n",
       "            background-color:  #d0d1e6;\n",
       "        }    #T_dd89f49e_f96a_11e8_af26_acbc3287038frow19_col6 {\n",
       "            background-color:  #faf3f9;\n",
       "        }    #T_dd89f49e_f96a_11e8_af26_acbc3287038frow19_col7 {\n",
       "            background-color:  #7eadd1;\n",
       "        }    #T_dd89f49e_f96a_11e8_af26_acbc3287038frow19_col8 {\n",
       "            background-color:  #86b0d3;\n",
       "        }    #T_dd89f49e_f96a_11e8_af26_acbc3287038frow19_col9 {\n",
       "            background-color:  #fff7fb;\n",
       "        }    #T_dd89f49e_f96a_11e8_af26_acbc3287038frow19_col10 {\n",
       "            background-color:  #f2ecf5;\n",
       "        }    #T_dd89f49e_f96a_11e8_af26_acbc3287038frow19_col11 {\n",
       "            background-color:  #f8f1f8;\n",
       "        }    #T_dd89f49e_f96a_11e8_af26_acbc3287038frow19_col12 {\n",
       "            background-color:  #eae6f1;\n",
       "        }    #T_dd89f49e_f96a_11e8_af26_acbc3287038frow19_col13 {\n",
       "            background-color:  #f8f1f8;\n",
       "        }    #T_dd89f49e_f96a_11e8_af26_acbc3287038frow19_col14 {\n",
       "            background-color:  #fff7fb;\n",
       "        }    #T_dd89f49e_f96a_11e8_af26_acbc3287038frow19_col15 {\n",
       "            background-color:  #fdf5fa;\n",
       "        }    #T_dd89f49e_f96a_11e8_af26_acbc3287038frow19_col16 {\n",
       "            background-color:  #d2d3e7;\n",
       "        }    #T_dd89f49e_f96a_11e8_af26_acbc3287038frow19_col17 {\n",
       "            background-color:  #63a2cb;\n",
       "        }    #T_dd89f49e_f96a_11e8_af26_acbc3287038frow19_col18 {\n",
       "            background-color:  #96b6d7;\n",
       "        }    #T_dd89f49e_f96a_11e8_af26_acbc3287038frow19_col19 {\n",
       "            background-color:  #023858;\n",
       "        }    #T_dd89f49e_f96a_11e8_af26_acbc3287038frow19_col20 {\n",
       "            background-color:  #f1ebf5;\n",
       "        }    #T_dd89f49e_f96a_11e8_af26_acbc3287038frow19_col21 {\n",
       "            background-color:  #7eadd1;\n",
       "        }    #T_dd89f49e_f96a_11e8_af26_acbc3287038frow19_col22 {\n",
       "            background-color:  #69a5cc;\n",
       "        }    #T_dd89f49e_f96a_11e8_af26_acbc3287038frow19_col23 {\n",
       "            background-color:  #fff7fb;\n",
       "        }    #T_dd89f49e_f96a_11e8_af26_acbc3287038frow20_col0 {\n",
       "            background-color:  #d1d2e6;\n",
       "        }    #T_dd89f49e_f96a_11e8_af26_acbc3287038frow20_col1 {\n",
       "            background-color:  #e4e1ef;\n",
       "        }    #T_dd89f49e_f96a_11e8_af26_acbc3287038frow20_col2 {\n",
       "            background-color:  #d5d5e8;\n",
       "        }    #T_dd89f49e_f96a_11e8_af26_acbc3287038frow20_col3 {\n",
       "            background-color:  #cdd0e5;\n",
       "        }    #T_dd89f49e_f96a_11e8_af26_acbc3287038frow20_col4 {\n",
       "            background-color:  #d2d3e7;\n",
       "        }    #T_dd89f49e_f96a_11e8_af26_acbc3287038frow20_col5 {\n",
       "            background-color:  #d2d3e7;\n",
       "        }    #T_dd89f49e_f96a_11e8_af26_acbc3287038frow20_col6 {\n",
       "            background-color:  #f9f2f8;\n",
       "        }    #T_dd89f49e_f96a_11e8_af26_acbc3287038frow20_col7 {\n",
       "            background-color:  #a7bddb;\n",
       "        }    #T_dd89f49e_f96a_11e8_af26_acbc3287038frow20_col8 {\n",
       "            background-color:  #5a9ec9;\n",
       "        }    #T_dd89f49e_f96a_11e8_af26_acbc3287038frow20_col9 {\n",
       "            background-color:  #045b8e;\n",
       "        }    #T_dd89f49e_f96a_11e8_af26_acbc3287038frow20_col10 {\n",
       "            background-color:  #f2ecf5;\n",
       "        }    #T_dd89f49e_f96a_11e8_af26_acbc3287038frow20_col11 {\n",
       "            background-color:  #f8f1f8;\n",
       "        }    #T_dd89f49e_f96a_11e8_af26_acbc3287038frow20_col12 {\n",
       "            background-color:  #eee8f3;\n",
       "        }    #T_dd89f49e_f96a_11e8_af26_acbc3287038frow20_col13 {\n",
       "            background-color:  #faf2f8;\n",
       "        }    #T_dd89f49e_f96a_11e8_af26_acbc3287038frow20_col14 {\n",
       "            background-color:  #045b8e;\n",
       "        }    #T_dd89f49e_f96a_11e8_af26_acbc3287038frow20_col15 {\n",
       "            background-color:  #045b8f;\n",
       "        }    #T_dd89f49e_f96a_11e8_af26_acbc3287038frow20_col16 {\n",
       "            background-color:  #adc1dd;\n",
       "        }    #T_dd89f49e_f96a_11e8_af26_acbc3287038frow20_col17 {\n",
       "            background-color:  #f3edf5;\n",
       "        }    #T_dd89f49e_f96a_11e8_af26_acbc3287038frow20_col18 {\n",
       "            background-color:  #acc0dd;\n",
       "        }    #T_dd89f49e_f96a_11e8_af26_acbc3287038frow20_col19 {\n",
       "            background-color:  #fdf5fa;\n",
       "        }    #T_dd89f49e_f96a_11e8_af26_acbc3287038frow20_col20 {\n",
       "            background-color:  #023858;\n",
       "        }    #T_dd89f49e_f96a_11e8_af26_acbc3287038frow20_col21 {\n",
       "            background-color:  #4295c3;\n",
       "        }    #T_dd89f49e_f96a_11e8_af26_acbc3287038frow20_col22 {\n",
       "            background-color:  #9cb9d9;\n",
       "        }    #T_dd89f49e_f96a_11e8_af26_acbc3287038frow20_col23 {\n",
       "            background-color:  #045b8e;\n",
       "        }    #T_dd89f49e_f96a_11e8_af26_acbc3287038frow21_col0 {\n",
       "            background-color:  #d5d5e8;\n",
       "        }    #T_dd89f49e_f96a_11e8_af26_acbc3287038frow21_col1 {\n",
       "            background-color:  #dbdaeb;\n",
       "        }    #T_dd89f49e_f96a_11e8_af26_acbc3287038frow21_col2 {\n",
       "            background-color:  #dedcec;\n",
       "        }    #T_dd89f49e_f96a_11e8_af26_acbc3287038frow21_col3 {\n",
       "            background-color:  #d1d2e6;\n",
       "        }    #T_dd89f49e_f96a_11e8_af26_acbc3287038frow21_col4 {\n",
       "            background-color:  #d0d1e6;\n",
       "        }    #T_dd89f49e_f96a_11e8_af26_acbc3287038frow21_col5 {\n",
       "            background-color:  #d0d1e6;\n",
       "        }    #T_dd89f49e_f96a_11e8_af26_acbc3287038frow21_col6 {\n",
       "            background-color:  #fff7fb;\n",
       "        }    #T_dd89f49e_f96a_11e8_af26_acbc3287038frow21_col7 {\n",
       "            background-color:  #81aed2;\n",
       "        }    #T_dd89f49e_f96a_11e8_af26_acbc3287038frow21_col8 {\n",
       "            background-color:  #83afd3;\n",
       "        }    #T_dd89f49e_f96a_11e8_af26_acbc3287038frow21_col9 {\n",
       "            background-color:  #e4e1ef;\n",
       "        }    #T_dd89f49e_f96a_11e8_af26_acbc3287038frow21_col10 {\n",
       "            background-color:  #f2ecf5;\n",
       "        }    #T_dd89f49e_f96a_11e8_af26_acbc3287038frow21_col11 {\n",
       "            background-color:  #f7f0f7;\n",
       "        }    #T_dd89f49e_f96a_11e8_af26_acbc3287038frow21_col12 {\n",
       "            background-color:  #eae6f1;\n",
       "        }    #T_dd89f49e_f96a_11e8_af26_acbc3287038frow21_col13 {\n",
       "            background-color:  #faf3f9;\n",
       "        }    #T_dd89f49e_f96a_11e8_af26_acbc3287038frow21_col14 {\n",
       "            background-color:  #e4e1ef;\n",
       "        }    #T_dd89f49e_f96a_11e8_af26_acbc3287038frow21_col15 {\n",
       "            background-color:  #e7e3f0;\n",
       "        }    #T_dd89f49e_f96a_11e8_af26_acbc3287038frow21_col16 {\n",
       "            background-color:  #f6eff7;\n",
       "        }    #T_dd89f49e_f96a_11e8_af26_acbc3287038frow21_col17 {\n",
       "            background-color:  #f7f0f7;\n",
       "        }    #T_dd89f49e_f96a_11e8_af26_acbc3287038frow21_col18 {\n",
       "            background-color:  #fdf5fa;\n",
       "        }    #T_dd89f49e_f96a_11e8_af26_acbc3287038frow21_col19 {\n",
       "            background-color:  #f7f0f7;\n",
       "        }    #T_dd89f49e_f96a_11e8_af26_acbc3287038frow21_col20 {\n",
       "            background-color:  #b5c4df;\n",
       "        }    #T_dd89f49e_f96a_11e8_af26_acbc3287038frow21_col21 {\n",
       "            background-color:  #023858;\n",
       "        }    #T_dd89f49e_f96a_11e8_af26_acbc3287038frow21_col22 {\n",
       "            background-color:  #fff7fb;\n",
       "        }    #T_dd89f49e_f96a_11e8_af26_acbc3287038frow21_col23 {\n",
       "            background-color:  #e4e1ef;\n",
       "        }    #T_dd89f49e_f96a_11e8_af26_acbc3287038frow22_col0 {\n",
       "            background-color:  #d5d5e8;\n",
       "        }    #T_dd89f49e_f96a_11e8_af26_acbc3287038frow22_col1 {\n",
       "            background-color:  #dddbec;\n",
       "        }    #T_dd89f49e_f96a_11e8_af26_acbc3287038frow22_col2 {\n",
       "            background-color:  #c9cee4;\n",
       "        }    #T_dd89f49e_f96a_11e8_af26_acbc3287038frow22_col3 {\n",
       "            background-color:  #d0d1e6;\n",
       "        }    #T_dd89f49e_f96a_11e8_af26_acbc3287038frow22_col4 {\n",
       "            background-color:  #d1d2e6;\n",
       "        }    #T_dd89f49e_f96a_11e8_af26_acbc3287038frow22_col5 {\n",
       "            background-color:  #d1d2e6;\n",
       "        }    #T_dd89f49e_f96a_11e8_af26_acbc3287038frow22_col6 {\n",
       "            background-color:  #f7f0f7;\n",
       "        }    #T_dd89f49e_f96a_11e8_af26_acbc3287038frow22_col7 {\n",
       "            background-color:  #83afd3;\n",
       "        }    #T_dd89f49e_f96a_11e8_af26_acbc3287038frow22_col8 {\n",
       "            background-color:  #81aed2;\n",
       "        }    #T_dd89f49e_f96a_11e8_af26_acbc3287038frow22_col9 {\n",
       "            background-color:  #faf3f9;\n",
       "        }    #T_dd89f49e_f96a_11e8_af26_acbc3287038frow22_col10 {\n",
       "            background-color:  #f2ecf5;\n",
       "        }    #T_dd89f49e_f96a_11e8_af26_acbc3287038frow22_col11 {\n",
       "            background-color:  #f8f1f8;\n",
       "        }    #T_dd89f49e_f96a_11e8_af26_acbc3287038frow22_col12 {\n",
       "            background-color:  #eae6f1;\n",
       "        }    #T_dd89f49e_f96a_11e8_af26_acbc3287038frow22_col13 {\n",
       "            background-color:  #f6eff7;\n",
       "        }    #T_dd89f49e_f96a_11e8_af26_acbc3287038frow22_col14 {\n",
       "            background-color:  #faf3f9;\n",
       "        }    #T_dd89f49e_f96a_11e8_af26_acbc3287038frow22_col15 {\n",
       "            background-color:  #fdf5fa;\n",
       "        }    #T_dd89f49e_f96a_11e8_af26_acbc3287038frow22_col16 {\n",
       "            background-color:  #f1ebf4;\n",
       "        }    #T_dd89f49e_f96a_11e8_af26_acbc3287038frow22_col17 {\n",
       "            background-color:  #e7e3f0;\n",
       "        }    #T_dd89f49e_f96a_11e8_af26_acbc3287038frow22_col18 {\n",
       "            background-color:  #f4edf6;\n",
       "        }    #T_dd89f49e_f96a_11e8_af26_acbc3287038frow22_col19 {\n",
       "            background-color:  #e8e4f0;\n",
       "        }    #T_dd89f49e_f96a_11e8_af26_acbc3287038frow22_col20 {\n",
       "            background-color:  #fff7fb;\n",
       "        }    #T_dd89f49e_f96a_11e8_af26_acbc3287038frow22_col21 {\n",
       "            background-color:  #fff7fb;\n",
       "        }    #T_dd89f49e_f96a_11e8_af26_acbc3287038frow22_col22 {\n",
       "            background-color:  #023858;\n",
       "        }    #T_dd89f49e_f96a_11e8_af26_acbc3287038frow22_col23 {\n",
       "            background-color:  #faf3f9;\n",
       "        }    #T_dd89f49e_f96a_11e8_af26_acbc3287038frow23_col0 {\n",
       "            background-color:  #e1dfed;\n",
       "        }    #T_dd89f49e_f96a_11e8_af26_acbc3287038frow23_col1 {\n",
       "            background-color:  #dddbec;\n",
       "        }    #T_dd89f49e_f96a_11e8_af26_acbc3287038frow23_col2 {\n",
       "            background-color:  #c1cae2;\n",
       "        }    #T_dd89f49e_f96a_11e8_af26_acbc3287038frow23_col3 {\n",
       "            background-color:  #cdd0e5;\n",
       "        }    #T_dd89f49e_f96a_11e8_af26_acbc3287038frow23_col4 {\n",
       "            background-color:  #d2d3e7;\n",
       "        }    #T_dd89f49e_f96a_11e8_af26_acbc3287038frow23_col5 {\n",
       "            background-color:  #d2d3e7;\n",
       "        }    #T_dd89f49e_f96a_11e8_af26_acbc3287038frow23_col6 {\n",
       "            background-color:  #fbf3f9;\n",
       "        }    #T_dd89f49e_f96a_11e8_af26_acbc3287038frow23_col7 {\n",
       "            background-color:  #8fb4d6;\n",
       "        }    #T_dd89f49e_f96a_11e8_af26_acbc3287038frow23_col8 {\n",
       "            background-color:  #73a9cf;\n",
       "        }    #T_dd89f49e_f96a_11e8_af26_acbc3287038frow23_col9 {\n",
       "            background-color:  #023858;\n",
       "        }    #T_dd89f49e_f96a_11e8_af26_acbc3287038frow23_col10 {\n",
       "            background-color:  #f1ebf4;\n",
       "        }    #T_dd89f49e_f96a_11e8_af26_acbc3287038frow23_col11 {\n",
       "            background-color:  #f7f0f7;\n",
       "        }    #T_dd89f49e_f96a_11e8_af26_acbc3287038frow23_col12 {\n",
       "            background-color:  #eee8f3;\n",
       "        }    #T_dd89f49e_f96a_11e8_af26_acbc3287038frow23_col13 {\n",
       "            background-color:  #fdf5fa;\n",
       "        }    #T_dd89f49e_f96a_11e8_af26_acbc3287038frow23_col14 {\n",
       "            background-color:  #023858;\n",
       "        }    #T_dd89f49e_f96a_11e8_af26_acbc3287038frow23_col15 {\n",
       "            background-color:  #157ab5;\n",
       "        }    #T_dd89f49e_f96a_11e8_af26_acbc3287038frow23_col16 {\n",
       "            background-color:  #d3d4e7;\n",
       "        }    #T_dd89f49e_f96a_11e8_af26_acbc3287038frow23_col17 {\n",
       "            background-color:  #f5eef6;\n",
       "        }    #T_dd89f49e_f96a_11e8_af26_acbc3287038frow23_col18 {\n",
       "            background-color:  #d5d5e8;\n",
       "        }    #T_dd89f49e_f96a_11e8_af26_acbc3287038frow23_col19 {\n",
       "            background-color:  #fff7fb;\n",
       "        }    #T_dd89f49e_f96a_11e8_af26_acbc3287038frow23_col20 {\n",
       "            background-color:  #04588a;\n",
       "        }    #T_dd89f49e_f96a_11e8_af26_acbc3287038frow23_col21 {\n",
       "            background-color:  #63a2cb;\n",
       "        }    #T_dd89f49e_f96a_11e8_af26_acbc3287038frow23_col22 {\n",
       "            background-color:  #83afd3;\n",
       "        }    #T_dd89f49e_f96a_11e8_af26_acbc3287038frow23_col23 {\n",
       "            background-color:  #023858;\n",
       "        }</style>  \n",
       "<table id=\"T_dd89f49e_f96a_11e8_af26_acbc3287038f\" > \n",
       "<thead>    <tr> \n",
       "        <th class=\"blank level0\" ></th> \n",
       "        <th class=\"col_heading level0 col0\" >Morning</th> \n",
       "        <th class=\"col_heading level0 col1\" >Afternoon</th> \n",
       "        <th class=\"col_heading level0 col2\" >Evening</th> \n",
       "        <th class=\"col_heading level0 col3\" >Fall</th> \n",
       "        <th class=\"col_heading level0 col4\" >Winter</th> \n",
       "        <th class=\"col_heading level0 col5\" >Spring</th> \n",
       "        <th class=\"col_heading level0 col6\" >Pickup_Nq</th> \n",
       "        <th class=\"col_heading level0 col7\" >RateCode_stdrate</th> \n",
       "        <th class=\"col_heading level0 col8\" >RateCode_JFK</th> \n",
       "        <th class=\"col_heading level0 col9\" >avg_temp_C</th> \n",
       "        <th class=\"col_heading level0 col10\" >Rain</th> \n",
       "        <th class=\"col_heading level0 col11\" >Fog</th> \n",
       "        <th class=\"col_heading level0 col12\" >Snow</th> \n",
       "        <th class=\"col_heading level0 col13\" >Holiday</th> \n",
       "        <th class=\"col_heading level0 col14\" >passenger_count</th> \n",
       "        <th class=\"col_heading level0 col15\" >trip_distance</th> \n",
       "        <th class=\"col_heading level0 col16\" >pickup_longitude</th> \n",
       "        <th class=\"col_heading level0 col17\" >pickup_latitude</th> \n",
       "        <th class=\"col_heading level0 col18\" >dropoff_longitude</th> \n",
       "        <th class=\"col_heading level0 col19\" >dropoff_latitude</th> \n",
       "        <th class=\"col_heading level0 col20\" >total_amount</th> \n",
       "        <th class=\"col_heading level0 col21\" >ptype_CCard</th> \n",
       "        <th class=\"col_heading level0 col22\" >ptype_cash</th> \n",
       "        <th class=\"col_heading level0 col23\" >Duration</th> \n",
       "    </tr></thead> \n",
       "<tbody>    <tr> \n",
       "        <th id=\"T_dd89f49e_f96a_11e8_af26_acbc3287038flevel0_row0\" class=\"row_heading level0 row0\" >Morning</th> \n",
       "        <td id=\"T_dd89f49e_f96a_11e8_af26_acbc3287038frow0_col0\" class=\"data row0 col0\" >1</td> \n",
       "        <td id=\"T_dd89f49e_f96a_11e8_af26_acbc3287038frow0_col1\" class=\"data row0 col1\" >-0.131048</td> \n",
       "        <td id=\"T_dd89f49e_f96a_11e8_af26_acbc3287038frow0_col2\" class=\"data row0 col2\" >-0.299115</td> \n",
       "        <td id=\"T_dd89f49e_f96a_11e8_af26_acbc3287038frow0_col3\" class=\"data row0 col3\" >0.00121038</td> \n",
       "        <td id=\"T_dd89f49e_f96a_11e8_af26_acbc3287038frow0_col4\" class=\"data row0 col4\" >0.00109276</td> \n",
       "        <td id=\"T_dd89f49e_f96a_11e8_af26_acbc3287038frow0_col5\" class=\"data row0 col5\" >-0.00784657</td> \n",
       "        <td id=\"T_dd89f49e_f96a_11e8_af26_acbc3287038frow0_col6\" class=\"data row0 col6\" >0.0495326</td> \n",
       "        <td id=\"T_dd89f49e_f96a_11e8_af26_acbc3287038frow0_col7\" class=\"data row0 col7\" >-0.00554895</td> \n",
       "        <td id=\"T_dd89f49e_f96a_11e8_af26_acbc3287038frow0_col8\" class=\"data row0 col8\" >-0.000168864</td> \n",
       "        <td id=\"T_dd89f49e_f96a_11e8_af26_acbc3287038frow0_col9\" class=\"data row0 col9\" >-0.0727519</td> \n",
       "        <td id=\"T_dd89f49e_f96a_11e8_af26_acbc3287038frow0_col10\" class=\"data row0 col10\" >-0.00741601</td> \n",
       "        <td id=\"T_dd89f49e_f96a_11e8_af26_acbc3287038frow0_col11\" class=\"data row0 col11\" >0.00286458</td> \n",
       "        <td id=\"T_dd89f49e_f96a_11e8_af26_acbc3287038frow0_col12\" class=\"data row0 col12\" >0.00594368</td> \n",
       "        <td id=\"T_dd89f49e_f96a_11e8_af26_acbc3287038frow0_col13\" class=\"data row0 col13\" >0.0145076</td> \n",
       "        <td id=\"T_dd89f49e_f96a_11e8_af26_acbc3287038frow0_col14\" class=\"data row0 col14\" >-0.0727519</td> \n",
       "        <td id=\"T_dd89f49e_f96a_11e8_af26_acbc3287038frow0_col15\" class=\"data row0 col15\" >0.0910053</td> \n",
       "        <td id=\"T_dd89f49e_f96a_11e8_af26_acbc3287038frow0_col16\" class=\"data row0 col16\" >-0.0535499</td> \n",
       "        <td id=\"T_dd89f49e_f96a_11e8_af26_acbc3287038frow0_col17\" class=\"data row0 col17\" >-0.113361</td> \n",
       "        <td id=\"T_dd89f49e_f96a_11e8_af26_acbc3287038frow0_col18\" class=\"data row0 col18\" >0.0994102</td> \n",
       "        <td id=\"T_dd89f49e_f96a_11e8_af26_acbc3287038frow0_col19\" class=\"data row0 col19\" >-0.0587011</td> \n",
       "        <td id=\"T_dd89f49e_f96a_11e8_af26_acbc3287038frow0_col20\" class=\"data row0 col20\" >0.0236082</td> \n",
       "        <td id=\"T_dd89f49e_f96a_11e8_af26_acbc3287038frow0_col21\" class=\"data row0 col21\" >-0.00101233</td> \n",
       "        <td id=\"T_dd89f49e_f96a_11e8_af26_acbc3287038frow0_col22\" class=\"data row0 col22\" >-0.000511986</td> \n",
       "        <td id=\"T_dd89f49e_f96a_11e8_af26_acbc3287038frow0_col23\" class=\"data row0 col23\" >-0.0727519</td> \n",
       "    </tr>    <tr> \n",
       "        <th id=\"T_dd89f49e_f96a_11e8_af26_acbc3287038flevel0_row1\" class=\"row_heading level0 row1\" >Afternoon</th> \n",
       "        <td id=\"T_dd89f49e_f96a_11e8_af26_acbc3287038frow1_col0\" class=\"data row1 col0\" >-0.131048</td> \n",
       "        <td id=\"T_dd89f49e_f96a_11e8_af26_acbc3287038frow1_col1\" class=\"data row1 col1\" >1</td> \n",
       "        <td id=\"T_dd89f49e_f96a_11e8_af26_acbc3287038frow1_col2\" class=\"data row1 col2\" >-0.244153</td> \n",
       "        <td id=\"T_dd89f49e_f96a_11e8_af26_acbc3287038frow1_col3\" class=\"data row1 col3\" >-0.00163044</td> \n",
       "        <td id=\"T_dd89f49e_f96a_11e8_af26_acbc3287038frow1_col4\" class=\"data row1 col4\" >-0.00408703</td> \n",
       "        <td id=\"T_dd89f49e_f96a_11e8_af26_acbc3287038frow1_col5\" class=\"data row1 col5\" >0.00730063</td> \n",
       "        <td id=\"T_dd89f49e_f96a_11e8_af26_acbc3287038frow1_col6\" class=\"data row1 col6\" >0.0115421</td> \n",
       "        <td id=\"T_dd89f49e_f96a_11e8_af26_acbc3287038frow1_col7\" class=\"data row1 col7\" >0.00645365</td> \n",
       "        <td id=\"T_dd89f49e_f96a_11e8_af26_acbc3287038frow1_col8\" class=\"data row1 col8\" >-0.00512343</td> \n",
       "        <td id=\"T_dd89f49e_f96a_11e8_af26_acbc3287038frow1_col9\" class=\"data row1 col9\" >-0.00320673</td> \n",
       "        <td id=\"T_dd89f49e_f96a_11e8_af26_acbc3287038frow1_col10\" class=\"data row1 col10\" >0.00613955</td> \n",
       "        <td id=\"T_dd89f49e_f96a_11e8_af26_acbc3287038frow1_col11\" class=\"data row1 col11\" >0.00851587</td> \n",
       "        <td id=\"T_dd89f49e_f96a_11e8_af26_acbc3287038frow1_col12\" class=\"data row1 col12\" >-0.00410831</td> \n",
       "        <td id=\"T_dd89f49e_f96a_11e8_af26_acbc3287038frow1_col13\" class=\"data row1 col13\" >-0.0167328</td> \n",
       "        <td id=\"T_dd89f49e_f96a_11e8_af26_acbc3287038frow1_col14\" class=\"data row1 col14\" >-0.00320673</td> \n",
       "        <td id=\"T_dd89f49e_f96a_11e8_af26_acbc3287038frow1_col15\" class=\"data row1 col15\" >-0.0395745</td> \n",
       "        <td id=\"T_dd89f49e_f96a_11e8_af26_acbc3287038frow1_col16\" class=\"data row1 col16\" >0.0451747</td> \n",
       "        <td id=\"T_dd89f49e_f96a_11e8_af26_acbc3287038frow1_col17\" class=\"data row1 col17\" >0.0753438</td> \n",
       "        <td id=\"T_dd89f49e_f96a_11e8_af26_acbc3287038frow1_col18\" class=\"data row1 col18\" >-0.0318016</td> \n",
       "        <td id=\"T_dd89f49e_f96a_11e8_af26_acbc3287038frow1_col19\" class=\"data row1 col19\" >0.0363143</td> \n",
       "        <td id=\"T_dd89f49e_f96a_11e8_af26_acbc3287038frow1_col20\" class=\"data row1 col20\" >-0.0416873</td> \n",
       "        <td id=\"T_dd89f49e_f96a_11e8_af26_acbc3287038frow1_col21\" class=\"data row1 col21\" >0.00528236</td> \n",
       "        <td id=\"T_dd89f49e_f96a_11e8_af26_acbc3287038frow1_col22\" class=\"data row1 col22\" >-0.0042731</td> \n",
       "        <td id=\"T_dd89f49e_f96a_11e8_af26_acbc3287038frow1_col23\" class=\"data row1 col23\" >-0.00320673</td> \n",
       "    </tr>    <tr> \n",
       "        <th id=\"T_dd89f49e_f96a_11e8_af26_acbc3287038flevel0_row2\" class=\"row_heading level0 row2\" >Evening</th> \n",
       "        <td id=\"T_dd89f49e_f96a_11e8_af26_acbc3287038frow2_col0\" class=\"data row2 col0\" >-0.299115</td> \n",
       "        <td id=\"T_dd89f49e_f96a_11e8_af26_acbc3287038frow2_col1\" class=\"data row2 col1\" >-0.244153</td> \n",
       "        <td id=\"T_dd89f49e_f96a_11e8_af26_acbc3287038frow2_col2\" class=\"data row2 col2\" >1</td> \n",
       "        <td id=\"T_dd89f49e_f96a_11e8_af26_acbc3287038frow2_col3\" class=\"data row2 col3\" >0.000480672</td> \n",
       "        <td id=\"T_dd89f49e_f96a_11e8_af26_acbc3287038frow2_col4\" class=\"data row2 col4\" >0.0103759</td> \n",
       "        <td id=\"T_dd89f49e_f96a_11e8_af26_acbc3287038frow2_col5\" class=\"data row2 col5\" >-0.00289304</td> \n",
       "        <td id=\"T_dd89f49e_f96a_11e8_af26_acbc3287038frow2_col6\" class=\"data row2 col6\" >-0.0239922</td> \n",
       "        <td id=\"T_dd89f49e_f96a_11e8_af26_acbc3287038frow2_col7\" class=\"data row2 col7\" >-0.00625916</td> \n",
       "        <td id=\"T_dd89f49e_f96a_11e8_af26_acbc3287038frow2_col8\" class=\"data row2 col8\" >0.00890118</td> \n",
       "        <td id=\"T_dd89f49e_f96a_11e8_af26_acbc3287038frow2_col9\" class=\"data row2 col9\" >0.0847241</td> \n",
       "        <td id=\"T_dd89f49e_f96a_11e8_af26_acbc3287038frow2_col10\" class=\"data row2 col10\" >-4.20508e-05</td> \n",
       "        <td id=\"T_dd89f49e_f96a_11e8_af26_acbc3287038frow2_col11\" class=\"data row2 col11\" >-0.00299387</td> \n",
       "        <td id=\"T_dd89f49e_f96a_11e8_af26_acbc3287038frow2_col12\" class=\"data row2 col12\" >0.00357183</td> \n",
       "        <td id=\"T_dd89f49e_f96a_11e8_af26_acbc3287038frow2_col13\" class=\"data row2 col13\" >0.0116632</td> \n",
       "        <td id=\"T_dd89f49e_f96a_11e8_af26_acbc3287038frow2_col14\" class=\"data row2 col14\" >0.0847241</td> \n",
       "        <td id=\"T_dd89f49e_f96a_11e8_af26_acbc3287038frow2_col15\" class=\"data row2 col15\" >-0.0568883</td> \n",
       "        <td id=\"T_dd89f49e_f96a_11e8_af26_acbc3287038frow2_col16\" class=\"data row2 col16\" >0.0345999</td> \n",
       "        <td id=\"T_dd89f49e_f96a_11e8_af26_acbc3287038frow2_col17\" class=\"data row2 col17\" >0.0770635</td> \n",
       "        <td id=\"T_dd89f49e_f96a_11e8_af26_acbc3287038frow2_col18\" class=\"data row2 col18\" >-0.0236334</td> \n",
       "        <td id=\"T_dd89f49e_f96a_11e8_af26_acbc3287038frow2_col19\" class=\"data row2 col19\" >0.0623261</td> \n",
       "        <td id=\"T_dd89f49e_f96a_11e8_af26_acbc3287038frow2_col20\" class=\"data row2 col20\" >0.000251432</td> \n",
       "        <td id=\"T_dd89f49e_f96a_11e8_af26_acbc3287038frow2_col21\" class=\"data row2 col21\" >-0.052191</td> \n",
       "        <td id=\"T_dd89f49e_f96a_11e8_af26_acbc3287038frow2_col22\" class=\"data row2 col22\" >0.0523371</td> \n",
       "        <td id=\"T_dd89f49e_f96a_11e8_af26_acbc3287038frow2_col23\" class=\"data row2 col23\" >0.0847241</td> \n",
       "    </tr>    <tr> \n",
       "        <th id=\"T_dd89f49e_f96a_11e8_af26_acbc3287038flevel0_row3\" class=\"row_heading level0 row3\" >Fall</th> \n",
       "        <td id=\"T_dd89f49e_f96a_11e8_af26_acbc3287038frow3_col0\" class=\"data row3 col0\" >0.00121038</td> \n",
       "        <td id=\"T_dd89f49e_f96a_11e8_af26_acbc3287038frow3_col1\" class=\"data row3 col1\" >-0.00163044</td> \n",
       "        <td id=\"T_dd89f49e_f96a_11e8_af26_acbc3287038frow3_col2\" class=\"data row3 col2\" >0.000480672</td> \n",
       "        <td id=\"T_dd89f49e_f96a_11e8_af26_acbc3287038frow3_col3\" class=\"data row3 col3\" >1</td> \n",
       "        <td id=\"T_dd89f49e_f96a_11e8_af26_acbc3287038frow3_col4\" class=\"data row3 col4\" >-0.333198</td> \n",
       "        <td id=\"T_dd89f49e_f96a_11e8_af26_acbc3287038frow3_col5\" class=\"data row3 col5\" >-0.333596</td> \n",
       "        <td id=\"T_dd89f49e_f96a_11e8_af26_acbc3287038frow3_col6\" class=\"data row3 col6\" >-0.00477137</td> \n",
       "        <td id=\"T_dd89f49e_f96a_11e8_af26_acbc3287038frow3_col7\" class=\"data row3 col7\" >-0.00353212</td> \n",
       "        <td id=\"T_dd89f49e_f96a_11e8_af26_acbc3287038frow3_col8\" class=\"data row3 col8\" >0.00233572</td> \n",
       "        <td id=\"T_dd89f49e_f96a_11e8_af26_acbc3287038frow3_col9\" class=\"data row3 col9\" >0.0141688</td> \n",
       "        <td id=\"T_dd89f49e_f96a_11e8_af26_acbc3287038frow3_col10\" class=\"data row3 col10\" >-0.0935851</td> \n",
       "        <td id=\"T_dd89f49e_f96a_11e8_af26_acbc3287038frow3_col11\" class=\"data row3 col11\" >-0.0237526</td> \n",
       "        <td id=\"T_dd89f49e_f96a_11e8_af26_acbc3287038frow3_col12\" class=\"data row3 col12\" >-0.155383</td> \n",
       "        <td id=\"T_dd89f49e_f96a_11e8_af26_acbc3287038frow3_col13\" class=\"data row3 col13\" >-0.0491805</td> \n",
       "        <td id=\"T_dd89f49e_f96a_11e8_af26_acbc3287038frow3_col14\" class=\"data row3 col14\" >0.0141688</td> \n",
       "        <td id=\"T_dd89f49e_f96a_11e8_af26_acbc3287038frow3_col15\" class=\"data row3 col15\" >0.0107884</td> \n",
       "        <td id=\"T_dd89f49e_f96a_11e8_af26_acbc3287038frow3_col16\" class=\"data row3 col16\" >-0.00496838</td> \n",
       "        <td id=\"T_dd89f49e_f96a_11e8_af26_acbc3287038frow3_col17\" class=\"data row3 col17\" >-0.0104444</td> \n",
       "        <td id=\"T_dd89f49e_f96a_11e8_af26_acbc3287038frow3_col18\" class=\"data row3 col18\" >-0.00324851</td> \n",
       "        <td id=\"T_dd89f49e_f96a_11e8_af26_acbc3287038frow3_col19\" class=\"data row3 col19\" >-0.00794453</td> \n",
       "        <td id=\"T_dd89f49e_f96a_11e8_af26_acbc3287038frow3_col20\" class=\"data row3 col20\" >0.0137252</td> \n",
       "        <td id=\"T_dd89f49e_f96a_11e8_af26_acbc3287038frow3_col21\" class=\"data row3 col21\" >-0.0012163</td> \n",
       "        <td id=\"T_dd89f49e_f96a_11e8_af26_acbc3287038frow3_col22\" class=\"data row3 col22\" >0.000794194</td> \n",
       "        <td id=\"T_dd89f49e_f96a_11e8_af26_acbc3287038frow3_col23\" class=\"data row3 col23\" >0.0141688</td> \n",
       "    </tr>    <tr> \n",
       "        <th id=\"T_dd89f49e_f96a_11e8_af26_acbc3287038flevel0_row4\" class=\"row_heading level0 row4\" >Winter</th> \n",
       "        <td id=\"T_dd89f49e_f96a_11e8_af26_acbc3287038frow4_col0\" class=\"data row4 col0\" >0.00109276</td> \n",
       "        <td id=\"T_dd89f49e_f96a_11e8_af26_acbc3287038frow4_col1\" class=\"data row4 col1\" >-0.00408703</td> \n",
       "        <td id=\"T_dd89f49e_f96a_11e8_af26_acbc3287038frow4_col2\" class=\"data row4 col2\" >0.0103759</td> \n",
       "        <td id=\"T_dd89f49e_f96a_11e8_af26_acbc3287038frow4_col3\" class=\"data row4 col3\" >-0.333198</td> \n",
       "        <td id=\"T_dd89f49e_f96a_11e8_af26_acbc3287038frow4_col4\" class=\"data row4 col4\" >1</td> \n",
       "        <td id=\"T_dd89f49e_f96a_11e8_af26_acbc3287038frow4_col5\" class=\"data row4 col5\" >-0.333117</td> \n",
       "        <td id=\"T_dd89f49e_f96a_11e8_af26_acbc3287038frow4_col6\" class=\"data row4 col6\" >0.000170442</td> \n",
       "        <td id=\"T_dd89f49e_f96a_11e8_af26_acbc3287038frow4_col7\" class=\"data row4 col7\" >0.0013241</td> \n",
       "        <td id=\"T_dd89f49e_f96a_11e8_af26_acbc3287038frow4_col8\" class=\"data row4 col8\" >-0.0017379</td> \n",
       "        <td id=\"T_dd89f49e_f96a_11e8_af26_acbc3287038frow4_col9\" class=\"data row4 col9\" >-0.0149299</td> \n",
       "        <td id=\"T_dd89f49e_f96a_11e8_af26_acbc3287038frow4_col10\" class=\"data row4 col10\" >0.0388798</td> \n",
       "        <td id=\"T_dd89f49e_f96a_11e8_af26_acbc3287038frow4_col11\" class=\"data row4 col11\" >-0.053997</td> \n",
       "        <td id=\"T_dd89f49e_f96a_11e8_af26_acbc3287038frow4_col12\" class=\"data row4 col12\" >0.0257552</td> \n",
       "        <td id=\"T_dd89f49e_f96a_11e8_af26_acbc3287038frow4_col13\" class=\"data row4 col13\" >0.0625613</td> \n",
       "        <td id=\"T_dd89f49e_f96a_11e8_af26_acbc3287038frow4_col14\" class=\"data row4 col14\" >-0.0149299</td> \n",
       "        <td id=\"T_dd89f49e_f96a_11e8_af26_acbc3287038frow4_col15\" class=\"data row4 col15\" >-0.00824329</td> \n",
       "        <td id=\"T_dd89f49e_f96a_11e8_af26_acbc3287038frow4_col16\" class=\"data row4 col16\" >0.00393802</td> \n",
       "        <td id=\"T_dd89f49e_f96a_11e8_af26_acbc3287038frow4_col17\" class=\"data row4 col17\" >0.006223</td> \n",
       "        <td id=\"T_dd89f49e_f96a_11e8_af26_acbc3287038frow4_col18\" class=\"data row4 col18\" >0.00142053</td> \n",
       "        <td id=\"T_dd89f49e_f96a_11e8_af26_acbc3287038frow4_col19\" class=\"data row4 col19\" >0.00723305</td> \n",
       "        <td id=\"T_dd89f49e_f96a_11e8_af26_acbc3287038frow4_col20\" class=\"data row4 col20\" >-0.0118139</td> \n",
       "        <td id=\"T_dd89f49e_f96a_11e8_af26_acbc3287038frow4_col21\" class=\"data row4 col21\" >0.00141932</td> \n",
       "        <td id=\"T_dd89f49e_f96a_11e8_af26_acbc3287038frow4_col22\" class=\"data row4 col22\" >-0.00140708</td> \n",
       "        <td id=\"T_dd89f49e_f96a_11e8_af26_acbc3287038frow4_col23\" class=\"data row4 col23\" >-0.0149299</td> \n",
       "    </tr>    <tr> \n",
       "        <th id=\"T_dd89f49e_f96a_11e8_af26_acbc3287038flevel0_row5\" class=\"row_heading level0 row5\" >Spring</th> \n",
       "        <td id=\"T_dd89f49e_f96a_11e8_af26_acbc3287038frow5_col0\" class=\"data row5 col0\" >-0.00784657</td> \n",
       "        <td id=\"T_dd89f49e_f96a_11e8_af26_acbc3287038frow5_col1\" class=\"data row5 col1\" >0.00730063</td> \n",
       "        <td id=\"T_dd89f49e_f96a_11e8_af26_acbc3287038frow5_col2\" class=\"data row5 col2\" >-0.00289304</td> \n",
       "        <td id=\"T_dd89f49e_f96a_11e8_af26_acbc3287038frow5_col3\" class=\"data row5 col3\" >-0.333596</td> \n",
       "        <td id=\"T_dd89f49e_f96a_11e8_af26_acbc3287038frow5_col4\" class=\"data row5 col4\" >-0.333117</td> \n",
       "        <td id=\"T_dd89f49e_f96a_11e8_af26_acbc3287038frow5_col5\" class=\"data row5 col5\" >1</td> \n",
       "        <td id=\"T_dd89f49e_f96a_11e8_af26_acbc3287038frow5_col6\" class=\"data row5 col6\" >0.00469127</td> \n",
       "        <td id=\"T_dd89f49e_f96a_11e8_af26_acbc3287038frow5_col7\" class=\"data row5 col7\" >0.0033029</td> \n",
       "        <td id=\"T_dd89f49e_f96a_11e8_af26_acbc3287038frow5_col8\" class=\"data row5 col8\" >-0.00212327</td> \n",
       "        <td id=\"T_dd89f49e_f96a_11e8_af26_acbc3287038frow5_col9\" class=\"data row5 col9\" >-0.0114203</td> \n",
       "        <td id=\"T_dd89f49e_f96a_11e8_af26_acbc3287038frow5_col10\" class=\"data row5 col10\" >-0.0133963</td> \n",
       "        <td id=\"T_dd89f49e_f96a_11e8_af26_acbc3287038frow5_col11\" class=\"data row5 col11\" >0.0194266</td> \n",
       "        <td id=\"T_dd89f49e_f96a_11e8_af26_acbc3287038frow5_col12\" class=\"data row5 col12\" >0.284976</td> \n",
       "        <td id=\"T_dd89f49e_f96a_11e8_af26_acbc3287038frow5_col13\" class=\"data row5 col13\" >-0.0284189</td> \n",
       "        <td id=\"T_dd89f49e_f96a_11e8_af26_acbc3287038frow5_col14\" class=\"data row5 col14\" >-0.0114203</td> \n",
       "        <td id=\"T_dd89f49e_f96a_11e8_af26_acbc3287038frow5_col15\" class=\"data row5 col15\" >-0.00984536</td> \n",
       "        <td id=\"T_dd89f49e_f96a_11e8_af26_acbc3287038frow5_col16\" class=\"data row5 col16\" >-0.00160101</td> \n",
       "        <td id=\"T_dd89f49e_f96a_11e8_af26_acbc3287038frow5_col17\" class=\"data row5 col17\" >0.00372217</td> \n",
       "        <td id=\"T_dd89f49e_f96a_11e8_af26_acbc3287038frow5_col18\" class=\"data row5 col18\" >0.00167543</td> \n",
       "        <td id=\"T_dd89f49e_f96a_11e8_af26_acbc3287038frow5_col19\" class=\"data row5 col19\" >0.0017678</td> \n",
       "        <td id=\"T_dd89f49e_f96a_11e8_af26_acbc3287038frow5_col20\" class=\"data row5 col20\" >-0.0129124</td> \n",
       "        <td id=\"T_dd89f49e_f96a_11e8_af26_acbc3287038frow5_col21\" class=\"data row5 col21\" >0.00467191</td> \n",
       "        <td id=\"T_dd89f49e_f96a_11e8_af26_acbc3287038frow5_col22\" class=\"data row5 col22\" >-0.00446709</td> \n",
       "        <td id=\"T_dd89f49e_f96a_11e8_af26_acbc3287038frow5_col23\" class=\"data row5 col23\" >-0.0114203</td> \n",
       "    </tr>    <tr> \n",
       "        <th id=\"T_dd89f49e_f96a_11e8_af26_acbc3287038flevel0_row6\" class=\"row_heading level0 row6\" >Pickup_Nq</th> \n",
       "        <td id=\"T_dd89f49e_f96a_11e8_af26_acbc3287038frow6_col0\" class=\"data row6 col0\" >0.0495326</td> \n",
       "        <td id=\"T_dd89f49e_f96a_11e8_af26_acbc3287038frow6_col1\" class=\"data row6 col1\" >0.0115421</td> \n",
       "        <td id=\"T_dd89f49e_f96a_11e8_af26_acbc3287038frow6_col2\" class=\"data row6 col2\" >-0.0239922</td> \n",
       "        <td id=\"T_dd89f49e_f96a_11e8_af26_acbc3287038frow6_col3\" class=\"data row6 col3\" >-0.00477137</td> \n",
       "        <td id=\"T_dd89f49e_f96a_11e8_af26_acbc3287038frow6_col4\" class=\"data row6 col4\" >0.000170442</td> \n",
       "        <td id=\"T_dd89f49e_f96a_11e8_af26_acbc3287038frow6_col5\" class=\"data row6 col5\" >0.00469127</td> \n",
       "        <td id=\"T_dd89f49e_f96a_11e8_af26_acbc3287038frow6_col6\" class=\"data row6 col6\" >1</td> \n",
       "        <td id=\"T_dd89f49e_f96a_11e8_af26_acbc3287038frow6_col7\" class=\"data row6 col7\" >-0.024591</td> \n",
       "        <td id=\"T_dd89f49e_f96a_11e8_af26_acbc3287038frow6_col8\" class=\"data row6 col8\" >0.0261827</td> \n",
       "        <td id=\"T_dd89f49e_f96a_11e8_af26_acbc3287038frow6_col9\" class=\"data row6 col9\" >0.00202823</td> \n",
       "        <td id=\"T_dd89f49e_f96a_11e8_af26_acbc3287038frow6_col10\" class=\"data row6 col10\" >0.00121703</td> \n",
       "        <td id=\"T_dd89f49e_f96a_11e8_af26_acbc3287038frow6_col11\" class=\"data row6 col11\" >0.00192653</td> \n",
       "        <td id=\"T_dd89f49e_f96a_11e8_af26_acbc3287038frow6_col12\" class=\"data row6 col12\" >0.0040905</td> \n",
       "        <td id=\"T_dd89f49e_f96a_11e8_af26_acbc3287038frow6_col13\" class=\"data row6 col13\" >0.00288967</td> \n",
       "        <td id=\"T_dd89f49e_f96a_11e8_af26_acbc3287038frow6_col14\" class=\"data row6 col14\" >0.00202823</td> \n",
       "        <td id=\"T_dd89f49e_f96a_11e8_af26_acbc3287038frow6_col15\" class=\"data row6 col15\" >0.0200099</td> \n",
       "        <td id=\"T_dd89f49e_f96a_11e8_af26_acbc3287038frow6_col16\" class=\"data row6 col16\" >0.173686</td> \n",
       "        <td id=\"T_dd89f49e_f96a_11e8_af26_acbc3287038frow6_col17\" class=\"data row6 col17\" >0.0138656</td> \n",
       "        <td id=\"T_dd89f49e_f96a_11e8_af26_acbc3287038frow6_col18\" class=\"data row6 col18\" >0.126372</td> \n",
       "        <td id=\"T_dd89f49e_f96a_11e8_af26_acbc3287038frow6_col19\" class=\"data row6 col19\" >0.00607647</td> \n",
       "        <td id=\"T_dd89f49e_f96a_11e8_af26_acbc3287038frow6_col20\" class=\"data row6 col20\" >0.0123304</td> \n",
       "        <td id=\"T_dd89f49e_f96a_11e8_af26_acbc3287038frow6_col21\" class=\"data row6 col21\" >-0.0292647</td> \n",
       "        <td id=\"T_dd89f49e_f96a_11e8_af26_acbc3287038frow6_col22\" class=\"data row6 col22\" >0.0284371</td> \n",
       "        <td id=\"T_dd89f49e_f96a_11e8_af26_acbc3287038frow6_col23\" class=\"data row6 col23\" >0.00202823</td> \n",
       "    </tr>    <tr> \n",
       "        <th id=\"T_dd89f49e_f96a_11e8_af26_acbc3287038flevel0_row7\" class=\"row_heading level0 row7\" >RateCode_stdrate</th> \n",
       "        <td id=\"T_dd89f49e_f96a_11e8_af26_acbc3287038frow7_col0\" class=\"data row7 col0\" >-0.00554895</td> \n",
       "        <td id=\"T_dd89f49e_f96a_11e8_af26_acbc3287038frow7_col1\" class=\"data row7 col1\" >0.00645365</td> \n",
       "        <td id=\"T_dd89f49e_f96a_11e8_af26_acbc3287038frow7_col2\" class=\"data row7 col2\" >-0.00625916</td> \n",
       "        <td id=\"T_dd89f49e_f96a_11e8_af26_acbc3287038frow7_col3\" class=\"data row7 col3\" >-0.00353212</td> \n",
       "        <td id=\"T_dd89f49e_f96a_11e8_af26_acbc3287038frow7_col4\" class=\"data row7 col4\" >0.0013241</td> \n",
       "        <td id=\"T_dd89f49e_f96a_11e8_af26_acbc3287038frow7_col5\" class=\"data row7 col5\" >0.0033029</td> \n",
       "        <td id=\"T_dd89f49e_f96a_11e8_af26_acbc3287038frow7_col6\" class=\"data row7 col6\" >-0.024591</td> \n",
       "        <td id=\"T_dd89f49e_f96a_11e8_af26_acbc3287038frow7_col7\" class=\"data row7 col7\" >1</td> \n",
       "        <td id=\"T_dd89f49e_f96a_11e8_af26_acbc3287038frow7_col8\" class=\"data row7 col8\" >-0.868746</td> \n",
       "        <td id=\"T_dd89f49e_f96a_11e8_af26_acbc3287038frow7_col9\" class=\"data row7 col9\" >-0.0642576</td> \n",
       "        <td id=\"T_dd89f49e_f96a_11e8_af26_acbc3287038frow7_col10\" class=\"data row7 col10\" >0.0011537</td> \n",
       "        <td id=\"T_dd89f49e_f96a_11e8_af26_acbc3287038frow7_col11\" class=\"data row7 col11\" >0.00144463</td> \n",
       "        <td id=\"T_dd89f49e_f96a_11e8_af26_acbc3287038frow7_col12\" class=\"data row7 col12\" >0.00415396</td> \n",
       "        <td id=\"T_dd89f49e_f96a_11e8_af26_acbc3287038frow7_col13\" class=\"data row7 col13\" >-0.00225677</td> \n",
       "        <td id=\"T_dd89f49e_f96a_11e8_af26_acbc3287038frow7_col14\" class=\"data row7 col14\" >-0.0642576</td> \n",
       "        <td id=\"T_dd89f49e_f96a_11e8_af26_acbc3287038frow7_col15\" class=\"data row7 col15\" >-0.0898958</td> \n",
       "        <td id=\"T_dd89f49e_f96a_11e8_af26_acbc3287038frow7_col16\" class=\"data row7 col16\" >-0.0847859</td> \n",
       "        <td id=\"T_dd89f49e_f96a_11e8_af26_acbc3287038frow7_col17\" class=\"data row7 col17\" >0.0320028</td> \n",
       "        <td id=\"T_dd89f49e_f96a_11e8_af26_acbc3287038frow7_col18\" class=\"data row7 col18\" >-0.0501026</td> \n",
       "        <td id=\"T_dd89f49e_f96a_11e8_af26_acbc3287038frow7_col19\" class=\"data row7 col19\" >0.0158465</td> \n",
       "        <td id=\"T_dd89f49e_f96a_11e8_af26_acbc3287038frow7_col20\" class=\"data row7 col20\" >-0.17402</td> \n",
       "        <td id=\"T_dd89f49e_f96a_11e8_af26_acbc3287038frow7_col21\" class=\"data row7 col21\" >0.00499424</td> \n",
       "        <td id=\"T_dd89f49e_f96a_11e8_af26_acbc3287038frow7_col22\" class=\"data row7 col22\" >-0.000201344</td> \n",
       "        <td id=\"T_dd89f49e_f96a_11e8_af26_acbc3287038frow7_col23\" class=\"data row7 col23\" >-0.0642576</td> \n",
       "    </tr>    <tr> \n",
       "        <th id=\"T_dd89f49e_f96a_11e8_af26_acbc3287038flevel0_row8\" class=\"row_heading level0 row8\" >RateCode_JFK</th> \n",
       "        <td id=\"T_dd89f49e_f96a_11e8_af26_acbc3287038frow8_col0\" class=\"data row8 col0\" >-0.000168864</td> \n",
       "        <td id=\"T_dd89f49e_f96a_11e8_af26_acbc3287038frow8_col1\" class=\"data row8 col1\" >-0.00512343</td> \n",
       "        <td id=\"T_dd89f49e_f96a_11e8_af26_acbc3287038frow8_col2\" class=\"data row8 col2\" >0.00890118</td> \n",
       "        <td id=\"T_dd89f49e_f96a_11e8_af26_acbc3287038frow8_col3\" class=\"data row8 col3\" >0.00233572</td> \n",
       "        <td id=\"T_dd89f49e_f96a_11e8_af26_acbc3287038frow8_col4\" class=\"data row8 col4\" >-0.0017379</td> \n",
       "        <td id=\"T_dd89f49e_f96a_11e8_af26_acbc3287038frow8_col5\" class=\"data row8 col5\" >-0.00212327</td> \n",
       "        <td id=\"T_dd89f49e_f96a_11e8_af26_acbc3287038frow8_col6\" class=\"data row8 col6\" >0.0261827</td> \n",
       "        <td id=\"T_dd89f49e_f96a_11e8_af26_acbc3287038frow8_col7\" class=\"data row8 col7\" >-0.868746</td> \n",
       "        <td id=\"T_dd89f49e_f96a_11e8_af26_acbc3287038frow8_col8\" class=\"data row8 col8\" >1</td> \n",
       "        <td id=\"T_dd89f49e_f96a_11e8_af26_acbc3287038frow8_col9\" class=\"data row8 col9\" >0.0714389</td> \n",
       "        <td id=\"T_dd89f49e_f96a_11e8_af26_acbc3287038frow8_col10\" class=\"data row8 col10\" >-0.000717402</td> \n",
       "        <td id=\"T_dd89f49e_f96a_11e8_af26_acbc3287038frow8_col11\" class=\"data row8 col11\" >-0.00113031</td> \n",
       "        <td id=\"T_dd89f49e_f96a_11e8_af26_acbc3287038frow8_col12\" class=\"data row8 col12\" >-0.00354165</td> \n",
       "        <td id=\"T_dd89f49e_f96a_11e8_af26_acbc3287038frow8_col13\" class=\"data row8 col13\" >0.00190847</td> \n",
       "        <td id=\"T_dd89f49e_f96a_11e8_af26_acbc3287038frow8_col14\" class=\"data row8 col14\" >0.0714389</td> \n",
       "        <td id=\"T_dd89f49e_f96a_11e8_af26_acbc3287038frow8_col15\" class=\"data row8 col15\" >0.0978656</td> \n",
       "        <td id=\"T_dd89f49e_f96a_11e8_af26_acbc3287038frow8_col16\" class=\"data row8 col16\" >0.0887929</td> \n",
       "        <td id=\"T_dd89f49e_f96a_11e8_af26_acbc3287038frow8_col17\" class=\"data row8 col17\" >-0.0369527</td> \n",
       "        <td id=\"T_dd89f49e_f96a_11e8_af26_acbc3287038frow8_col18\" class=\"data row8 col18\" >0.0447304</td> \n",
       "        <td id=\"T_dd89f49e_f96a_11e8_af26_acbc3287038frow8_col19\" class=\"data row8 col19\" >-0.0176043</td> \n",
       "        <td id=\"T_dd89f49e_f96a_11e8_af26_acbc3287038frow8_col20\" class=\"data row8 col20\" >0.164993</td> \n",
       "        <td id=\"T_dd89f49e_f96a_11e8_af26_acbc3287038frow8_col21\" class=\"data row8 col21\" >-0.00335361</td> \n",
       "        <td id=\"T_dd89f49e_f96a_11e8_af26_acbc3287038frow8_col22\" class=\"data row8 col22\" >8.83641e-05</td> \n",
       "        <td id=\"T_dd89f49e_f96a_11e8_af26_acbc3287038frow8_col23\" class=\"data row8 col23\" >0.0714389</td> \n",
       "    </tr>    <tr> \n",
       "        <th id=\"T_dd89f49e_f96a_11e8_af26_acbc3287038flevel0_row9\" class=\"row_heading level0 row9\" >avg_temp_C</th> \n",
       "        <td id=\"T_dd89f49e_f96a_11e8_af26_acbc3287038frow9_col0\" class=\"data row9 col0\" >-0.0727519</td> \n",
       "        <td id=\"T_dd89f49e_f96a_11e8_af26_acbc3287038frow9_col1\" class=\"data row9 col1\" >-0.00320673</td> \n",
       "        <td id=\"T_dd89f49e_f96a_11e8_af26_acbc3287038frow9_col2\" class=\"data row9 col2\" >0.0847241</td> \n",
       "        <td id=\"T_dd89f49e_f96a_11e8_af26_acbc3287038frow9_col3\" class=\"data row9 col3\" >0.0141688</td> \n",
       "        <td id=\"T_dd89f49e_f96a_11e8_af26_acbc3287038frow9_col4\" class=\"data row9 col4\" >-0.0149299</td> \n",
       "        <td id=\"T_dd89f49e_f96a_11e8_af26_acbc3287038frow9_col5\" class=\"data row9 col5\" >-0.0114203</td> \n",
       "        <td id=\"T_dd89f49e_f96a_11e8_af26_acbc3287038frow9_col6\" class=\"data row9 col6\" >0.00202823</td> \n",
       "        <td id=\"T_dd89f49e_f96a_11e8_af26_acbc3287038frow9_col7\" class=\"data row9 col7\" >-0.0642576</td> \n",
       "        <td id=\"T_dd89f49e_f96a_11e8_af26_acbc3287038frow9_col8\" class=\"data row9 col8\" >0.0714389</td> \n",
       "        <td id=\"T_dd89f49e_f96a_11e8_af26_acbc3287038frow9_col9\" class=\"data row9 col9\" >1</td> \n",
       "        <td id=\"T_dd89f49e_f96a_11e8_af26_acbc3287038frow9_col10\" class=\"data row9 col10\" >0.0104314</td> \n",
       "        <td id=\"T_dd89f49e_f96a_11e8_af26_acbc3287038frow9_col11\" class=\"data row9 col11\" >0.000774478</td> \n",
       "        <td id=\"T_dd89f49e_f96a_11e8_af26_acbc3287038frow9_col12\" class=\"data row9 col12\" >-0.0207605</td> \n",
       "        <td id=\"T_dd89f49e_f96a_11e8_af26_acbc3287038frow9_col13\" class=\"data row9 col13\" >-0.0304755</td> \n",
       "        <td id=\"T_dd89f49e_f96a_11e8_af26_acbc3287038frow9_col14\" class=\"data row9 col14\" >1</td> \n",
       "        <td id=\"T_dd89f49e_f96a_11e8_af26_acbc3287038frow9_col15\" class=\"data row9 col15\" >0.682796</td> \n",
       "        <td id=\"T_dd89f49e_f96a_11e8_af26_acbc3287038frow9_col16\" class=\"data row9 col16\" >0.17252</td> \n",
       "        <td id=\"T_dd89f49e_f96a_11e8_af26_acbc3287038frow9_col17\" class=\"data row9 col17\" >-0.0377568</td> \n",
       "        <td id=\"T_dd89f49e_f96a_11e8_af26_acbc3287038frow9_col18\" class=\"data row9 col18\" >0.189806</td> \n",
       "        <td id=\"T_dd89f49e_f96a_11e8_af26_acbc3287038frow9_col19\" class=\"data row9 col19\" >-0.108035</td> \n",
       "        <td id=\"T_dd89f49e_f96a_11e8_af26_acbc3287038frow9_col20\" class=\"data row9 col20\" >0.855277</td> \n",
       "        <td id=\"T_dd89f49e_f96a_11e8_af26_acbc3287038frow9_col21\" class=\"data row9 col21\" >0.0725481</td> \n",
       "        <td id=\"T_dd89f49e_f96a_11e8_af26_acbc3287038frow9_col22\" class=\"data row9 col22\" >-0.0730557</td> \n",
       "        <td id=\"T_dd89f49e_f96a_11e8_af26_acbc3287038frow9_col23\" class=\"data row9 col23\" >1</td> \n",
       "    </tr>    <tr> \n",
       "        <th id=\"T_dd89f49e_f96a_11e8_af26_acbc3287038flevel0_row10\" class=\"row_heading level0 row10\" >Rain</th> \n",
       "        <td id=\"T_dd89f49e_f96a_11e8_af26_acbc3287038frow10_col0\" class=\"data row10 col0\" >-0.00741601</td> \n",
       "        <td id=\"T_dd89f49e_f96a_11e8_af26_acbc3287038frow10_col1\" class=\"data row10 col1\" >0.00613955</td> \n",
       "        <td id=\"T_dd89f49e_f96a_11e8_af26_acbc3287038frow10_col2\" class=\"data row10 col2\" >-4.20508e-05</td> \n",
       "        <td id=\"T_dd89f49e_f96a_11e8_af26_acbc3287038frow10_col3\" class=\"data row10 col3\" >-0.0935851</td> \n",
       "        <td id=\"T_dd89f49e_f96a_11e8_af26_acbc3287038frow10_col4\" class=\"data row10 col4\" >0.0388798</td> \n",
       "        <td id=\"T_dd89f49e_f96a_11e8_af26_acbc3287038frow10_col5\" class=\"data row10 col5\" >-0.0133963</td> \n",
       "        <td id=\"T_dd89f49e_f96a_11e8_af26_acbc3287038frow10_col6\" class=\"data row10 col6\" >0.00121703</td> \n",
       "        <td id=\"T_dd89f49e_f96a_11e8_af26_acbc3287038frow10_col7\" class=\"data row10 col7\" >0.0011537</td> \n",
       "        <td id=\"T_dd89f49e_f96a_11e8_af26_acbc3287038frow10_col8\" class=\"data row10 col8\" >-0.000717402</td> \n",
       "        <td id=\"T_dd89f49e_f96a_11e8_af26_acbc3287038frow10_col9\" class=\"data row10 col9\" >0.0104314</td> \n",
       "        <td id=\"T_dd89f49e_f96a_11e8_af26_acbc3287038frow10_col10\" class=\"data row10 col10\" >1</td> \n",
       "        <td id=\"T_dd89f49e_f96a_11e8_af26_acbc3287038frow10_col11\" class=\"data row10 col11\" >0.325461</td> \n",
       "        <td id=\"T_dd89f49e_f96a_11e8_af26_acbc3287038frow10_col12\" class=\"data row10 col12\" >0.00876425</td> \n",
       "        <td id=\"T_dd89f49e_f96a_11e8_af26_acbc3287038frow10_col13\" class=\"data row10 col13\" >-0.0222526</td> \n",
       "        <td id=\"T_dd89f49e_f96a_11e8_af26_acbc3287038frow10_col14\" class=\"data row10 col14\" >0.0104314</td> \n",
       "        <td id=\"T_dd89f49e_f96a_11e8_af26_acbc3287038frow10_col15\" class=\"data row10 col15\" >-0.00351396</td> \n",
       "        <td id=\"T_dd89f49e_f96a_11e8_af26_acbc3287038frow10_col16\" class=\"data row10 col16\" >0.00451221</td> \n",
       "        <td id=\"T_dd89f49e_f96a_11e8_af26_acbc3287038frow10_col17\" class=\"data row10 col17\" >0.00696554</td> \n",
       "        <td id=\"T_dd89f49e_f96a_11e8_af26_acbc3287038frow10_col18\" class=\"data row10 col18\" >0.00214503</td> \n",
       "        <td id=\"T_dd89f49e_f96a_11e8_af26_acbc3287038frow10_col19\" class=\"data row10 col19\" >0.00211282</td> \n",
       "        <td id=\"T_dd89f49e_f96a_11e8_af26_acbc3287038frow10_col20\" class=\"data row10 col20\" >0.00258686</td> \n",
       "        <td id=\"T_dd89f49e_f96a_11e8_af26_acbc3287038frow10_col21\" class=\"data row10 col21\" >-0.00213556</td> \n",
       "        <td id=\"T_dd89f49e_f96a_11e8_af26_acbc3287038frow10_col22\" class=\"data row10 col22\" >0.00213649</td> \n",
       "        <td id=\"T_dd89f49e_f96a_11e8_af26_acbc3287038frow10_col23\" class=\"data row10 col23\" >0.0104314</td> \n",
       "    </tr>    <tr> \n",
       "        <th id=\"T_dd89f49e_f96a_11e8_af26_acbc3287038flevel0_row11\" class=\"row_heading level0 row11\" >Fog</th> \n",
       "        <td id=\"T_dd89f49e_f96a_11e8_af26_acbc3287038frow11_col0\" class=\"data row11 col0\" >0.00286458</td> \n",
       "        <td id=\"T_dd89f49e_f96a_11e8_af26_acbc3287038frow11_col1\" class=\"data row11 col1\" >0.00851587</td> \n",
       "        <td id=\"T_dd89f49e_f96a_11e8_af26_acbc3287038frow11_col2\" class=\"data row11 col2\" >-0.00299387</td> \n",
       "        <td id=\"T_dd89f49e_f96a_11e8_af26_acbc3287038frow11_col3\" class=\"data row11 col3\" >-0.0237526</td> \n",
       "        <td id=\"T_dd89f49e_f96a_11e8_af26_acbc3287038frow11_col4\" class=\"data row11 col4\" >-0.053997</td> \n",
       "        <td id=\"T_dd89f49e_f96a_11e8_af26_acbc3287038frow11_col5\" class=\"data row11 col5\" >0.0194266</td> \n",
       "        <td id=\"T_dd89f49e_f96a_11e8_af26_acbc3287038frow11_col6\" class=\"data row11 col6\" >0.00192653</td> \n",
       "        <td id=\"T_dd89f49e_f96a_11e8_af26_acbc3287038frow11_col7\" class=\"data row11 col7\" >0.00144463</td> \n",
       "        <td id=\"T_dd89f49e_f96a_11e8_af26_acbc3287038frow11_col8\" class=\"data row11 col8\" >-0.00113031</td> \n",
       "        <td id=\"T_dd89f49e_f96a_11e8_af26_acbc3287038frow11_col9\" class=\"data row11 col9\" >0.000774478</td> \n",
       "        <td id=\"T_dd89f49e_f96a_11e8_af26_acbc3287038frow11_col10\" class=\"data row11 col10\" >0.325461</td> \n",
       "        <td id=\"T_dd89f49e_f96a_11e8_af26_acbc3287038frow11_col11\" class=\"data row11 col11\" >1</td> \n",
       "        <td id=\"T_dd89f49e_f96a_11e8_af26_acbc3287038frow11_col12\" class=\"data row11 col12\" >0.26143</td> \n",
       "        <td id=\"T_dd89f49e_f96a_11e8_af26_acbc3287038frow11_col13\" class=\"data row11 col13\" >-0.0434155</td> \n",
       "        <td id=\"T_dd89f49e_f96a_11e8_af26_acbc3287038frow11_col14\" class=\"data row11 col14\" >0.000774478</td> \n",
       "        <td id=\"T_dd89f49e_f96a_11e8_af26_acbc3287038frow11_col15\" class=\"data row11 col15\" >-0.0069629</td> \n",
       "        <td id=\"T_dd89f49e_f96a_11e8_af26_acbc3287038frow11_col16\" class=\"data row11 col16\" >-0.00286904</td> \n",
       "        <td id=\"T_dd89f49e_f96a_11e8_af26_acbc3287038frow11_col17\" class=\"data row11 col17\" >-0.00164815</td> \n",
       "        <td id=\"T_dd89f49e_f96a_11e8_af26_acbc3287038frow11_col18\" class=\"data row11 col18\" >-0.000426497</td> \n",
       "        <td id=\"T_dd89f49e_f96a_11e8_af26_acbc3287038frow11_col19\" class=\"data row11 col19\" >-0.00254846</td> \n",
       "        <td id=\"T_dd89f49e_f96a_11e8_af26_acbc3287038frow11_col20\" class=\"data row11 col20\" >-0.005838</td> \n",
       "        <td id=\"T_dd89f49e_f96a_11e8_af26_acbc3287038frow11_col21\" class=\"data row11 col21\" >0.000920082</td> \n",
       "        <td id=\"T_dd89f49e_f96a_11e8_af26_acbc3287038frow11_col22\" class=\"data row11 col22\" >-0.000878641</td> \n",
       "        <td id=\"T_dd89f49e_f96a_11e8_af26_acbc3287038frow11_col23\" class=\"data row11 col23\" >0.000774478</td> \n",
       "    </tr>    <tr> \n",
       "        <th id=\"T_dd89f49e_f96a_11e8_af26_acbc3287038flevel0_row12\" class=\"row_heading level0 row12\" >Snow</th> \n",
       "        <td id=\"T_dd89f49e_f96a_11e8_af26_acbc3287038frow12_col0\" class=\"data row12 col0\" >0.00594368</td> \n",
       "        <td id=\"T_dd89f49e_f96a_11e8_af26_acbc3287038frow12_col1\" class=\"data row12 col1\" >-0.00410831</td> \n",
       "        <td id=\"T_dd89f49e_f96a_11e8_af26_acbc3287038frow12_col2\" class=\"data row12 col2\" >0.00357183</td> \n",
       "        <td id=\"T_dd89f49e_f96a_11e8_af26_acbc3287038frow12_col3\" class=\"data row12 col3\" >-0.155383</td> \n",
       "        <td id=\"T_dd89f49e_f96a_11e8_af26_acbc3287038frow12_col4\" class=\"data row12 col4\" >0.0257552</td> \n",
       "        <td id=\"T_dd89f49e_f96a_11e8_af26_acbc3287038frow12_col5\" class=\"data row12 col5\" >0.284976</td> \n",
       "        <td id=\"T_dd89f49e_f96a_11e8_af26_acbc3287038frow12_col6\" class=\"data row12 col6\" >0.0040905</td> \n",
       "        <td id=\"T_dd89f49e_f96a_11e8_af26_acbc3287038frow12_col7\" class=\"data row12 col7\" >0.00415396</td> \n",
       "        <td id=\"T_dd89f49e_f96a_11e8_af26_acbc3287038frow12_col8\" class=\"data row12 col8\" >-0.00354165</td> \n",
       "        <td id=\"T_dd89f49e_f96a_11e8_af26_acbc3287038frow12_col9\" class=\"data row12 col9\" >-0.0207605</td> \n",
       "        <td id=\"T_dd89f49e_f96a_11e8_af26_acbc3287038frow12_col10\" class=\"data row12 col10\" >0.00876425</td> \n",
       "        <td id=\"T_dd89f49e_f96a_11e8_af26_acbc3287038frow12_col11\" class=\"data row12 col11\" >0.26143</td> \n",
       "        <td id=\"T_dd89f49e_f96a_11e8_af26_acbc3287038frow12_col12\" class=\"data row12 col12\" >1</td> \n",
       "        <td id=\"T_dd89f49e_f96a_11e8_af26_acbc3287038frow12_col13\" class=\"data row12 col13\" >0.0199318</td> \n",
       "        <td id=\"T_dd89f49e_f96a_11e8_af26_acbc3287038frow12_col14\" class=\"data row12 col14\" >-0.0207605</td> \n",
       "        <td id=\"T_dd89f49e_f96a_11e8_af26_acbc3287038frow12_col15\" class=\"data row12 col15\" >-0.0105614</td> \n",
       "        <td id=\"T_dd89f49e_f96a_11e8_af26_acbc3287038frow12_col16\" class=\"data row12 col16\" >-0.00631715</td> \n",
       "        <td id=\"T_dd89f49e_f96a_11e8_af26_acbc3287038frow12_col17\" class=\"data row12 col17\" >-0.00248902</td> \n",
       "        <td id=\"T_dd89f49e_f96a_11e8_af26_acbc3287038frow12_col18\" class=\"data row12 col18\" >-0.00284018</td> \n",
       "        <td id=\"T_dd89f49e_f96a_11e8_af26_acbc3287038frow12_col19\" class=\"data row12 col19\" >-0.000771131</td> \n",
       "        <td id=\"T_dd89f49e_f96a_11e8_af26_acbc3287038frow12_col20\" class=\"data row12 col20\" >-0.0206217</td> \n",
       "        <td id=\"T_dd89f49e_f96a_11e8_af26_acbc3287038frow12_col21\" class=\"data row12 col21\" >-0.00148753</td> \n",
       "        <td id=\"T_dd89f49e_f96a_11e8_af26_acbc3287038frow12_col22\" class=\"data row12 col22\" >0.00182836</td> \n",
       "        <td id=\"T_dd89f49e_f96a_11e8_af26_acbc3287038frow12_col23\" class=\"data row12 col23\" >-0.0207605</td> \n",
       "    </tr>    <tr> \n",
       "        <th id=\"T_dd89f49e_f96a_11e8_af26_acbc3287038flevel0_row13\" class=\"row_heading level0 row13\" >Holiday</th> \n",
       "        <td id=\"T_dd89f49e_f96a_11e8_af26_acbc3287038frow13_col0\" class=\"data row13 col0\" >0.0145076</td> \n",
       "        <td id=\"T_dd89f49e_f96a_11e8_af26_acbc3287038frow13_col1\" class=\"data row13 col1\" >-0.0167328</td> \n",
       "        <td id=\"T_dd89f49e_f96a_11e8_af26_acbc3287038frow13_col2\" class=\"data row13 col2\" >0.0116632</td> \n",
       "        <td id=\"T_dd89f49e_f96a_11e8_af26_acbc3287038frow13_col3\" class=\"data row13 col3\" >-0.0491805</td> \n",
       "        <td id=\"T_dd89f49e_f96a_11e8_af26_acbc3287038frow13_col4\" class=\"data row13 col4\" >0.0625613</td> \n",
       "        <td id=\"T_dd89f49e_f96a_11e8_af26_acbc3287038frow13_col5\" class=\"data row13 col5\" >-0.0284189</td> \n",
       "        <td id=\"T_dd89f49e_f96a_11e8_af26_acbc3287038frow13_col6\" class=\"data row13 col6\" >0.00288967</td> \n",
       "        <td id=\"T_dd89f49e_f96a_11e8_af26_acbc3287038frow13_col7\" class=\"data row13 col7\" >-0.00225677</td> \n",
       "        <td id=\"T_dd89f49e_f96a_11e8_af26_acbc3287038frow13_col8\" class=\"data row13 col8\" >0.00190847</td> \n",
       "        <td id=\"T_dd89f49e_f96a_11e8_af26_acbc3287038frow13_col9\" class=\"data row13 col9\" >-0.0304755</td> \n",
       "        <td id=\"T_dd89f49e_f96a_11e8_af26_acbc3287038frow13_col10\" class=\"data row13 col10\" >-0.0222526</td> \n",
       "        <td id=\"T_dd89f49e_f96a_11e8_af26_acbc3287038frow13_col11\" class=\"data row13 col11\" >-0.0434155</td> \n",
       "        <td id=\"T_dd89f49e_f96a_11e8_af26_acbc3287038frow13_col12\" class=\"data row13 col12\" >0.0199318</td> \n",
       "        <td id=\"T_dd89f49e_f96a_11e8_af26_acbc3287038frow13_col13\" class=\"data row13 col13\" >1</td> \n",
       "        <td id=\"T_dd89f49e_f96a_11e8_af26_acbc3287038frow13_col14\" class=\"data row13 col14\" >-0.0304755</td> \n",
       "        <td id=\"T_dd89f49e_f96a_11e8_af26_acbc3287038frow13_col15\" class=\"data row13 col15\" >0.00770189</td> \n",
       "        <td id=\"T_dd89f49e_f96a_11e8_af26_acbc3287038frow13_col16\" class=\"data row13 col16\" >0.00365826</td> \n",
       "        <td id=\"T_dd89f49e_f96a_11e8_af26_acbc3287038frow13_col17\" class=\"data row13 col17\" >-0.00117826</td> \n",
       "        <td id=\"T_dd89f49e_f96a_11e8_af26_acbc3287038frow13_col18\" class=\"data row13 col18\" >0.00793219</td> \n",
       "        <td id=\"T_dd89f49e_f96a_11e8_af26_acbc3287038frow13_col19\" class=\"data row13 col19\" >0.00149946</td> \n",
       "        <td id=\"T_dd89f49e_f96a_11e8_af26_acbc3287038frow13_col20\" class=\"data row13 col20\" >-0.0109274</td> \n",
       "        <td id=\"T_dd89f49e_f96a_11e8_af26_acbc3287038frow13_col21\" class=\"data row13 col21\" >-0.0139345</td> \n",
       "        <td id=\"T_dd89f49e_f96a_11e8_af26_acbc3287038frow13_col22\" class=\"data row13 col22\" >0.0138993</td> \n",
       "        <td id=\"T_dd89f49e_f96a_11e8_af26_acbc3287038frow13_col23\" class=\"data row13 col23\" >-0.0304755</td> \n",
       "    </tr>    <tr> \n",
       "        <th id=\"T_dd89f49e_f96a_11e8_af26_acbc3287038flevel0_row14\" class=\"row_heading level0 row14\" >passenger_count</th> \n",
       "        <td id=\"T_dd89f49e_f96a_11e8_af26_acbc3287038frow14_col0\" class=\"data row14 col0\" >-0.0727519</td> \n",
       "        <td id=\"T_dd89f49e_f96a_11e8_af26_acbc3287038frow14_col1\" class=\"data row14 col1\" >-0.00320673</td> \n",
       "        <td id=\"T_dd89f49e_f96a_11e8_af26_acbc3287038frow14_col2\" class=\"data row14 col2\" >0.0847241</td> \n",
       "        <td id=\"T_dd89f49e_f96a_11e8_af26_acbc3287038frow14_col3\" class=\"data row14 col3\" >0.0141688</td> \n",
       "        <td id=\"T_dd89f49e_f96a_11e8_af26_acbc3287038frow14_col4\" class=\"data row14 col4\" >-0.0149299</td> \n",
       "        <td id=\"T_dd89f49e_f96a_11e8_af26_acbc3287038frow14_col5\" class=\"data row14 col5\" >-0.0114203</td> \n",
       "        <td id=\"T_dd89f49e_f96a_11e8_af26_acbc3287038frow14_col6\" class=\"data row14 col6\" >0.00202823</td> \n",
       "        <td id=\"T_dd89f49e_f96a_11e8_af26_acbc3287038frow14_col7\" class=\"data row14 col7\" >-0.0642576</td> \n",
       "        <td id=\"T_dd89f49e_f96a_11e8_af26_acbc3287038frow14_col8\" class=\"data row14 col8\" >0.0714389</td> \n",
       "        <td id=\"T_dd89f49e_f96a_11e8_af26_acbc3287038frow14_col9\" class=\"data row14 col9\" >1</td> \n",
       "        <td id=\"T_dd89f49e_f96a_11e8_af26_acbc3287038frow14_col10\" class=\"data row14 col10\" >0.0104314</td> \n",
       "        <td id=\"T_dd89f49e_f96a_11e8_af26_acbc3287038frow14_col11\" class=\"data row14 col11\" >0.000774478</td> \n",
       "        <td id=\"T_dd89f49e_f96a_11e8_af26_acbc3287038frow14_col12\" class=\"data row14 col12\" >-0.0207605</td> \n",
       "        <td id=\"T_dd89f49e_f96a_11e8_af26_acbc3287038frow14_col13\" class=\"data row14 col13\" >-0.0304755</td> \n",
       "        <td id=\"T_dd89f49e_f96a_11e8_af26_acbc3287038frow14_col14\" class=\"data row14 col14\" >1</td> \n",
       "        <td id=\"T_dd89f49e_f96a_11e8_af26_acbc3287038frow14_col15\" class=\"data row14 col15\" >0.682796</td> \n",
       "        <td id=\"T_dd89f49e_f96a_11e8_af26_acbc3287038frow14_col16\" class=\"data row14 col16\" >0.17252</td> \n",
       "        <td id=\"T_dd89f49e_f96a_11e8_af26_acbc3287038frow14_col17\" class=\"data row14 col17\" >-0.0377568</td> \n",
       "        <td id=\"T_dd89f49e_f96a_11e8_af26_acbc3287038frow14_col18\" class=\"data row14 col18\" >0.189806</td> \n",
       "        <td id=\"T_dd89f49e_f96a_11e8_af26_acbc3287038frow14_col19\" class=\"data row14 col19\" >-0.108035</td> \n",
       "        <td id=\"T_dd89f49e_f96a_11e8_af26_acbc3287038frow14_col20\" class=\"data row14 col20\" >0.855277</td> \n",
       "        <td id=\"T_dd89f49e_f96a_11e8_af26_acbc3287038frow14_col21\" class=\"data row14 col21\" >0.0725481</td> \n",
       "        <td id=\"T_dd89f49e_f96a_11e8_af26_acbc3287038frow14_col22\" class=\"data row14 col22\" >-0.0730557</td> \n",
       "        <td id=\"T_dd89f49e_f96a_11e8_af26_acbc3287038frow14_col23\" class=\"data row14 col23\" >1</td> \n",
       "    </tr>    <tr> \n",
       "        <th id=\"T_dd89f49e_f96a_11e8_af26_acbc3287038flevel0_row15\" class=\"row_heading level0 row15\" >trip_distance</th> \n",
       "        <td id=\"T_dd89f49e_f96a_11e8_af26_acbc3287038frow15_col0\" class=\"data row15 col0\" >0.0910053</td> \n",
       "        <td id=\"T_dd89f49e_f96a_11e8_af26_acbc3287038frow15_col1\" class=\"data row15 col1\" >-0.0395745</td> \n",
       "        <td id=\"T_dd89f49e_f96a_11e8_af26_acbc3287038frow15_col2\" class=\"data row15 col2\" >-0.0568883</td> \n",
       "        <td id=\"T_dd89f49e_f96a_11e8_af26_acbc3287038frow15_col3\" class=\"data row15 col3\" >0.0107884</td> \n",
       "        <td id=\"T_dd89f49e_f96a_11e8_af26_acbc3287038frow15_col4\" class=\"data row15 col4\" >-0.00824329</td> \n",
       "        <td id=\"T_dd89f49e_f96a_11e8_af26_acbc3287038frow15_col5\" class=\"data row15 col5\" >-0.00984536</td> \n",
       "        <td id=\"T_dd89f49e_f96a_11e8_af26_acbc3287038frow15_col6\" class=\"data row15 col6\" >0.0200099</td> \n",
       "        <td id=\"T_dd89f49e_f96a_11e8_af26_acbc3287038frow15_col7\" class=\"data row15 col7\" >-0.0898958</td> \n",
       "        <td id=\"T_dd89f49e_f96a_11e8_af26_acbc3287038frow15_col8\" class=\"data row15 col8\" >0.0978656</td> \n",
       "        <td id=\"T_dd89f49e_f96a_11e8_af26_acbc3287038frow15_col9\" class=\"data row15 col9\" >0.682796</td> \n",
       "        <td id=\"T_dd89f49e_f96a_11e8_af26_acbc3287038frow15_col10\" class=\"data row15 col10\" >-0.00351396</td> \n",
       "        <td id=\"T_dd89f49e_f96a_11e8_af26_acbc3287038frow15_col11\" class=\"data row15 col11\" >-0.0069629</td> \n",
       "        <td id=\"T_dd89f49e_f96a_11e8_af26_acbc3287038frow15_col12\" class=\"data row15 col12\" >-0.0105614</td> \n",
       "        <td id=\"T_dd89f49e_f96a_11e8_af26_acbc3287038frow15_col13\" class=\"data row15 col13\" >0.00770189</td> \n",
       "        <td id=\"T_dd89f49e_f96a_11e8_af26_acbc3287038frow15_col14\" class=\"data row15 col14\" >0.682796</td> \n",
       "        <td id=\"T_dd89f49e_f96a_11e8_af26_acbc3287038frow15_col15\" class=\"data row15 col15\" >1</td> \n",
       "        <td id=\"T_dd89f49e_f96a_11e8_af26_acbc3287038frow15_col16\" class=\"data row15 col16\" >0.281234</td> \n",
       "        <td id=\"T_dd89f49e_f96a_11e8_af26_acbc3287038frow15_col17\" class=\"data row15 col17\" >-0.0217624</td> \n",
       "        <td id=\"T_dd89f49e_f96a_11e8_af26_acbc3287038frow15_col18\" class=\"data row15 col18\" >0.35515</td> \n",
       "        <td id=\"T_dd89f49e_f96a_11e8_af26_acbc3287038frow15_col19\" class=\"data row15 col19\" >-0.0713316</td> \n",
       "        <td id=\"T_dd89f49e_f96a_11e8_af26_acbc3287038frow15_col20\" class=\"data row15 col20\" >0.853076</td> \n",
       "        <td id=\"T_dd89f49e_f96a_11e8_af26_acbc3287038frow15_col21\" class=\"data row15 col21\" >0.0751238</td> \n",
       "        <td id=\"T_dd89f49e_f96a_11e8_af26_acbc3287038frow15_col22\" class=\"data row15 col22\" >-0.0756642</td> \n",
       "        <td id=\"T_dd89f49e_f96a_11e8_af26_acbc3287038frow15_col23\" class=\"data row15 col23\" >0.682796</td> \n",
       "    </tr>    <tr> \n",
       "        <th id=\"T_dd89f49e_f96a_11e8_af26_acbc3287038flevel0_row16\" class=\"row_heading level0 row16\" >pickup_longitude</th> \n",
       "        <td id=\"T_dd89f49e_f96a_11e8_af26_acbc3287038frow16_col0\" class=\"data row16 col0\" >-0.0535499</td> \n",
       "        <td id=\"T_dd89f49e_f96a_11e8_af26_acbc3287038frow16_col1\" class=\"data row16 col1\" >0.0451747</td> \n",
       "        <td id=\"T_dd89f49e_f96a_11e8_af26_acbc3287038frow16_col2\" class=\"data row16 col2\" >0.0345999</td> \n",
       "        <td id=\"T_dd89f49e_f96a_11e8_af26_acbc3287038frow16_col3\" class=\"data row16 col3\" >-0.00496838</td> \n",
       "        <td id=\"T_dd89f49e_f96a_11e8_af26_acbc3287038frow16_col4\" class=\"data row16 col4\" >0.00393802</td> \n",
       "        <td id=\"T_dd89f49e_f96a_11e8_af26_acbc3287038frow16_col5\" class=\"data row16 col5\" >-0.00160101</td> \n",
       "        <td id=\"T_dd89f49e_f96a_11e8_af26_acbc3287038frow16_col6\" class=\"data row16 col6\" >0.173686</td> \n",
       "        <td id=\"T_dd89f49e_f96a_11e8_af26_acbc3287038frow16_col7\" class=\"data row16 col7\" >-0.0847859</td> \n",
       "        <td id=\"T_dd89f49e_f96a_11e8_af26_acbc3287038frow16_col8\" class=\"data row16 col8\" >0.0887929</td> \n",
       "        <td id=\"T_dd89f49e_f96a_11e8_af26_acbc3287038frow16_col9\" class=\"data row16 col9\" >0.17252</td> \n",
       "        <td id=\"T_dd89f49e_f96a_11e8_af26_acbc3287038frow16_col10\" class=\"data row16 col10\" >0.00451221</td> \n",
       "        <td id=\"T_dd89f49e_f96a_11e8_af26_acbc3287038frow16_col11\" class=\"data row16 col11\" >-0.00286904</td> \n",
       "        <td id=\"T_dd89f49e_f96a_11e8_af26_acbc3287038frow16_col12\" class=\"data row16 col12\" >-0.00631715</td> \n",
       "        <td id=\"T_dd89f49e_f96a_11e8_af26_acbc3287038frow16_col13\" class=\"data row16 col13\" >0.00365826</td> \n",
       "        <td id=\"T_dd89f49e_f96a_11e8_af26_acbc3287038frow16_col14\" class=\"data row16 col14\" >0.17252</td> \n",
       "        <td id=\"T_dd89f49e_f96a_11e8_af26_acbc3287038frow16_col15\" class=\"data row16 col15\" >0.281234</td> \n",
       "        <td id=\"T_dd89f49e_f96a_11e8_af26_acbc3287038frow16_col16\" class=\"data row16 col16\" >1</td> \n",
       "        <td id=\"T_dd89f49e_f96a_11e8_af26_acbc3287038frow16_col17\" class=\"data row16 col17\" >0.497881</td> \n",
       "        <td id=\"T_dd89f49e_f96a_11e8_af26_acbc3287038frow16_col18\" class=\"data row16 col18\" >0.292321</td> \n",
       "        <td id=\"T_dd89f49e_f96a_11e8_af26_acbc3287038frow16_col19\" class=\"data row16 col19\" >0.17748</td> \n",
       "        <td id=\"T_dd89f49e_f96a_11e8_af26_acbc3287038frow16_col20\" class=\"data row16 col20\" >0.297845</td> \n",
       "        <td id=\"T_dd89f49e_f96a_11e8_af26_acbc3287038frow16_col21\" class=\"data row16 col21\" >-0.018176</td> \n",
       "        <td id=\"T_dd89f49e_f96a_11e8_af26_acbc3287038frow16_col22\" class=\"data row16 col22\" >0.0178567</td> \n",
       "        <td id=\"T_dd89f49e_f96a_11e8_af26_acbc3287038frow16_col23\" class=\"data row16 col23\" >0.17252</td> \n",
       "    </tr>    <tr> \n",
       "        <th id=\"T_dd89f49e_f96a_11e8_af26_acbc3287038flevel0_row17\" class=\"row_heading level0 row17\" >pickup_latitude</th> \n",
       "        <td id=\"T_dd89f49e_f96a_11e8_af26_acbc3287038frow17_col0\" class=\"data row17 col0\" >-0.113361</td> \n",
       "        <td id=\"T_dd89f49e_f96a_11e8_af26_acbc3287038frow17_col1\" class=\"data row17 col1\" >0.0753438</td> \n",
       "        <td id=\"T_dd89f49e_f96a_11e8_af26_acbc3287038frow17_col2\" class=\"data row17 col2\" >0.0770635</td> \n",
       "        <td id=\"T_dd89f49e_f96a_11e8_af26_acbc3287038frow17_col3\" class=\"data row17 col3\" >-0.0104444</td> \n",
       "        <td id=\"T_dd89f49e_f96a_11e8_af26_acbc3287038frow17_col4\" class=\"data row17 col4\" >0.006223</td> \n",
       "        <td id=\"T_dd89f49e_f96a_11e8_af26_acbc3287038frow17_col5\" class=\"data row17 col5\" >0.00372217</td> \n",
       "        <td id=\"T_dd89f49e_f96a_11e8_af26_acbc3287038frow17_col6\" class=\"data row17 col6\" >0.0138656</td> \n",
       "        <td id=\"T_dd89f49e_f96a_11e8_af26_acbc3287038frow17_col7\" class=\"data row17 col7\" >0.0320028</td> \n",
       "        <td id=\"T_dd89f49e_f96a_11e8_af26_acbc3287038frow17_col8\" class=\"data row17 col8\" >-0.0369527</td> \n",
       "        <td id=\"T_dd89f49e_f96a_11e8_af26_acbc3287038frow17_col9\" class=\"data row17 col9\" >-0.0377568</td> \n",
       "        <td id=\"T_dd89f49e_f96a_11e8_af26_acbc3287038frow17_col10\" class=\"data row17 col10\" >0.00696554</td> \n",
       "        <td id=\"T_dd89f49e_f96a_11e8_af26_acbc3287038frow17_col11\" class=\"data row17 col11\" >-0.00164815</td> \n",
       "        <td id=\"T_dd89f49e_f96a_11e8_af26_acbc3287038frow17_col12\" class=\"data row17 col12\" >-0.00248902</td> \n",
       "        <td id=\"T_dd89f49e_f96a_11e8_af26_acbc3287038frow17_col13\" class=\"data row17 col13\" >-0.00117826</td> \n",
       "        <td id=\"T_dd89f49e_f96a_11e8_af26_acbc3287038frow17_col14\" class=\"data row17 col14\" >-0.0377568</td> \n",
       "        <td id=\"T_dd89f49e_f96a_11e8_af26_acbc3287038frow17_col15\" class=\"data row17 col15\" >-0.0217624</td> \n",
       "        <td id=\"T_dd89f49e_f96a_11e8_af26_acbc3287038frow17_col16\" class=\"data row17 col16\" >0.497881</td> \n",
       "        <td id=\"T_dd89f49e_f96a_11e8_af26_acbc3287038frow17_col17\" class=\"data row17 col17\" >1</td> \n",
       "        <td id=\"T_dd89f49e_f96a_11e8_af26_acbc3287038frow17_col18\" class=\"data row17 col18\" >0.203377</td> \n",
       "        <td id=\"T_dd89f49e_f96a_11e8_af26_acbc3287038frow17_col19\" class=\"data row17 col19\" >0.481622</td> \n",
       "        <td id=\"T_dd89f49e_f96a_11e8_af26_acbc3287038frow17_col20\" class=\"data row17 col20\" >-0.0235068</td> \n",
       "        <td id=\"T_dd89f49e_f96a_11e8_af26_acbc3287038frow17_col21\" class=\"data row17 col21\" >-0.0501746</td> \n",
       "        <td id=\"T_dd89f49e_f96a_11e8_af26_acbc3287038frow17_col22\" class=\"data row17 col22\" >0.0505399</td> \n",
       "        <td id=\"T_dd89f49e_f96a_11e8_af26_acbc3287038frow17_col23\" class=\"data row17 col23\" >-0.0377568</td> \n",
       "    </tr>    <tr> \n",
       "        <th id=\"T_dd89f49e_f96a_11e8_af26_acbc3287038flevel0_row18\" class=\"row_heading level0 row18\" >dropoff_longitude</th> \n",
       "        <td id=\"T_dd89f49e_f96a_11e8_af26_acbc3287038frow18_col0\" class=\"data row18 col0\" >0.0994102</td> \n",
       "        <td id=\"T_dd89f49e_f96a_11e8_af26_acbc3287038frow18_col1\" class=\"data row18 col1\" >-0.0318016</td> \n",
       "        <td id=\"T_dd89f49e_f96a_11e8_af26_acbc3287038frow18_col2\" class=\"data row18 col2\" >-0.0236334</td> \n",
       "        <td id=\"T_dd89f49e_f96a_11e8_af26_acbc3287038frow18_col3\" class=\"data row18 col3\" >-0.00324851</td> \n",
       "        <td id=\"T_dd89f49e_f96a_11e8_af26_acbc3287038frow18_col4\" class=\"data row18 col4\" >0.00142053</td> \n",
       "        <td id=\"T_dd89f49e_f96a_11e8_af26_acbc3287038frow18_col5\" class=\"data row18 col5\" >0.00167543</td> \n",
       "        <td id=\"T_dd89f49e_f96a_11e8_af26_acbc3287038frow18_col6\" class=\"data row18 col6\" >0.126372</td> \n",
       "        <td id=\"T_dd89f49e_f96a_11e8_af26_acbc3287038frow18_col7\" class=\"data row18 col7\" >-0.0501026</td> \n",
       "        <td id=\"T_dd89f49e_f96a_11e8_af26_acbc3287038frow18_col8\" class=\"data row18 col8\" >0.0447304</td> \n",
       "        <td id=\"T_dd89f49e_f96a_11e8_af26_acbc3287038frow18_col9\" class=\"data row18 col9\" >0.189806</td> \n",
       "        <td id=\"T_dd89f49e_f96a_11e8_af26_acbc3287038frow18_col10\" class=\"data row18 col10\" >0.00214503</td> \n",
       "        <td id=\"T_dd89f49e_f96a_11e8_af26_acbc3287038frow18_col11\" class=\"data row18 col11\" >-0.000426497</td> \n",
       "        <td id=\"T_dd89f49e_f96a_11e8_af26_acbc3287038frow18_col12\" class=\"data row18 col12\" >-0.00284018</td> \n",
       "        <td id=\"T_dd89f49e_f96a_11e8_af26_acbc3287038frow18_col13\" class=\"data row18 col13\" >0.00793219</td> \n",
       "        <td id=\"T_dd89f49e_f96a_11e8_af26_acbc3287038frow18_col14\" class=\"data row18 col14\" >0.189806</td> \n",
       "        <td id=\"T_dd89f49e_f96a_11e8_af26_acbc3287038frow18_col15\" class=\"data row18 col15\" >0.35515</td> \n",
       "        <td id=\"T_dd89f49e_f96a_11e8_af26_acbc3287038frow18_col16\" class=\"data row18 col16\" >0.292321</td> \n",
       "        <td id=\"T_dd89f49e_f96a_11e8_af26_acbc3287038frow18_col17\" class=\"data row18 col17\" >0.203377</td> \n",
       "        <td id=\"T_dd89f49e_f96a_11e8_af26_acbc3287038frow18_col18\" class=\"data row18 col18\" >1</td> \n",
       "        <td id=\"T_dd89f49e_f96a_11e8_af26_acbc3287038frow18_col19\" class=\"data row18 col19\" >0.384885</td> \n",
       "        <td id=\"T_dd89f49e_f96a_11e8_af26_acbc3287038frow18_col20\" class=\"data row18 col20\" >0.325338</td> \n",
       "        <td id=\"T_dd89f49e_f96a_11e8_af26_acbc3287038frow18_col21\" class=\"data row18 col21\" >-0.0305562</td> \n",
       "        <td id=\"T_dd89f49e_f96a_11e8_af26_acbc3287038frow18_col22\" class=\"data row18 col22\" >0.0291909</td> \n",
       "        <td id=\"T_dd89f49e_f96a_11e8_af26_acbc3287038frow18_col23\" class=\"data row18 col23\" >0.189806</td> \n",
       "    </tr>    <tr> \n",
       "        <th id=\"T_dd89f49e_f96a_11e8_af26_acbc3287038flevel0_row19\" class=\"row_heading level0 row19\" >dropoff_latitude</th> \n",
       "        <td id=\"T_dd89f49e_f96a_11e8_af26_acbc3287038frow19_col0\" class=\"data row19 col0\" >-0.0587011</td> \n",
       "        <td id=\"T_dd89f49e_f96a_11e8_af26_acbc3287038frow19_col1\" class=\"data row19 col1\" >0.0363143</td> \n",
       "        <td id=\"T_dd89f49e_f96a_11e8_af26_acbc3287038frow19_col2\" class=\"data row19 col2\" >0.0623261</td> \n",
       "        <td id=\"T_dd89f49e_f96a_11e8_af26_acbc3287038frow19_col3\" class=\"data row19 col3\" >-0.00794453</td> \n",
       "        <td id=\"T_dd89f49e_f96a_11e8_af26_acbc3287038frow19_col4\" class=\"data row19 col4\" >0.00723305</td> \n",
       "        <td id=\"T_dd89f49e_f96a_11e8_af26_acbc3287038frow19_col5\" class=\"data row19 col5\" >0.0017678</td> \n",
       "        <td id=\"T_dd89f49e_f96a_11e8_af26_acbc3287038frow19_col6\" class=\"data row19 col6\" >0.00607647</td> \n",
       "        <td id=\"T_dd89f49e_f96a_11e8_af26_acbc3287038frow19_col7\" class=\"data row19 col7\" >0.0158465</td> \n",
       "        <td id=\"T_dd89f49e_f96a_11e8_af26_acbc3287038frow19_col8\" class=\"data row19 col8\" >-0.0176043</td> \n",
       "        <td id=\"T_dd89f49e_f96a_11e8_af26_acbc3287038frow19_col9\" class=\"data row19 col9\" >-0.108035</td> \n",
       "        <td id=\"T_dd89f49e_f96a_11e8_af26_acbc3287038frow19_col10\" class=\"data row19 col10\" >0.00211282</td> \n",
       "        <td id=\"T_dd89f49e_f96a_11e8_af26_acbc3287038frow19_col11\" class=\"data row19 col11\" >-0.00254846</td> \n",
       "        <td id=\"T_dd89f49e_f96a_11e8_af26_acbc3287038frow19_col12\" class=\"data row19 col12\" >-0.000771131</td> \n",
       "        <td id=\"T_dd89f49e_f96a_11e8_af26_acbc3287038frow19_col13\" class=\"data row19 col13\" >0.00149946</td> \n",
       "        <td id=\"T_dd89f49e_f96a_11e8_af26_acbc3287038frow19_col14\" class=\"data row19 col14\" >-0.108035</td> \n",
       "        <td id=\"T_dd89f49e_f96a_11e8_af26_acbc3287038frow19_col15\" class=\"data row19 col15\" >-0.0713316</td> \n",
       "        <td id=\"T_dd89f49e_f96a_11e8_af26_acbc3287038frow19_col16\" class=\"data row19 col16\" >0.17748</td> \n",
       "        <td id=\"T_dd89f49e_f96a_11e8_af26_acbc3287038frow19_col17\" class=\"data row19 col17\" >0.481622</td> \n",
       "        <td id=\"T_dd89f49e_f96a_11e8_af26_acbc3287038frow19_col18\" class=\"data row19 col18\" >0.384885</td> \n",
       "        <td id=\"T_dd89f49e_f96a_11e8_af26_acbc3287038frow19_col19\" class=\"data row19 col19\" >1</td> \n",
       "        <td id=\"T_dd89f49e_f96a_11e8_af26_acbc3287038frow19_col20\" class=\"data row19 col20\" >-0.0886514</td> \n",
       "        <td id=\"T_dd89f49e_f96a_11e8_af26_acbc3287038frow19_col21\" class=\"data row19 col21\" >-0.0493215</td> \n",
       "        <td id=\"T_dd89f49e_f96a_11e8_af26_acbc3287038frow19_col22\" class=\"data row19 col22\" >0.0495383</td> \n",
       "        <td id=\"T_dd89f49e_f96a_11e8_af26_acbc3287038frow19_col23\" class=\"data row19 col23\" >-0.108035</td> \n",
       "    </tr>    <tr> \n",
       "        <th id=\"T_dd89f49e_f96a_11e8_af26_acbc3287038flevel0_row20\" class=\"row_heading level0 row20\" >total_amount</th> \n",
       "        <td id=\"T_dd89f49e_f96a_11e8_af26_acbc3287038frow20_col0\" class=\"data row20 col0\" >0.0236082</td> \n",
       "        <td id=\"T_dd89f49e_f96a_11e8_af26_acbc3287038frow20_col1\" class=\"data row20 col1\" >-0.0416873</td> \n",
       "        <td id=\"T_dd89f49e_f96a_11e8_af26_acbc3287038frow20_col2\" class=\"data row20 col2\" >0.000251432</td> \n",
       "        <td id=\"T_dd89f49e_f96a_11e8_af26_acbc3287038frow20_col3\" class=\"data row20 col3\" >0.0137252</td> \n",
       "        <td id=\"T_dd89f49e_f96a_11e8_af26_acbc3287038frow20_col4\" class=\"data row20 col4\" >-0.0118139</td> \n",
       "        <td id=\"T_dd89f49e_f96a_11e8_af26_acbc3287038frow20_col5\" class=\"data row20 col5\" >-0.0129124</td> \n",
       "        <td id=\"T_dd89f49e_f96a_11e8_af26_acbc3287038frow20_col6\" class=\"data row20 col6\" >0.0123304</td> \n",
       "        <td id=\"T_dd89f49e_f96a_11e8_af26_acbc3287038frow20_col7\" class=\"data row20 col7\" >-0.17402</td> \n",
       "        <td id=\"T_dd89f49e_f96a_11e8_af26_acbc3287038frow20_col8\" class=\"data row20 col8\" >0.164993</td> \n",
       "        <td id=\"T_dd89f49e_f96a_11e8_af26_acbc3287038frow20_col9\" class=\"data row20 col9\" >0.855277</td> \n",
       "        <td id=\"T_dd89f49e_f96a_11e8_af26_acbc3287038frow20_col10\" class=\"data row20 col10\" >0.00258686</td> \n",
       "        <td id=\"T_dd89f49e_f96a_11e8_af26_acbc3287038frow20_col11\" class=\"data row20 col11\" >-0.005838</td> \n",
       "        <td id=\"T_dd89f49e_f96a_11e8_af26_acbc3287038frow20_col12\" class=\"data row20 col12\" >-0.0206217</td> \n",
       "        <td id=\"T_dd89f49e_f96a_11e8_af26_acbc3287038frow20_col13\" class=\"data row20 col13\" >-0.0109274</td> \n",
       "        <td id=\"T_dd89f49e_f96a_11e8_af26_acbc3287038frow20_col14\" class=\"data row20 col14\" >0.855277</td> \n",
       "        <td id=\"T_dd89f49e_f96a_11e8_af26_acbc3287038frow20_col15\" class=\"data row20 col15\" >0.853076</td> \n",
       "        <td id=\"T_dd89f49e_f96a_11e8_af26_acbc3287038frow20_col16\" class=\"data row20 col16\" >0.297845</td> \n",
       "        <td id=\"T_dd89f49e_f96a_11e8_af26_acbc3287038frow20_col17\" class=\"data row20 col17\" >-0.0235068</td> \n",
       "        <td id=\"T_dd89f49e_f96a_11e8_af26_acbc3287038frow20_col18\" class=\"data row20 col18\" >0.325338</td> \n",
       "        <td id=\"T_dd89f49e_f96a_11e8_af26_acbc3287038frow20_col19\" class=\"data row20 col19\" >-0.0886514</td> \n",
       "        <td id=\"T_dd89f49e_f96a_11e8_af26_acbc3287038frow20_col20\" class=\"data row20 col20\" >1</td> \n",
       "        <td id=\"T_dd89f49e_f96a_11e8_af26_acbc3287038frow20_col21\" class=\"data row20 col21\" >0.199105</td> \n",
       "        <td id=\"T_dd89f49e_f96a_11e8_af26_acbc3287038frow20_col22\" class=\"data row20 col22\" >-0.198927</td> \n",
       "        <td id=\"T_dd89f49e_f96a_11e8_af26_acbc3287038frow20_col23\" class=\"data row20 col23\" >0.855277</td> \n",
       "    </tr>    <tr> \n",
       "        <th id=\"T_dd89f49e_f96a_11e8_af26_acbc3287038flevel0_row21\" class=\"row_heading level0 row21\" >ptype_CCard</th> \n",
       "        <td id=\"T_dd89f49e_f96a_11e8_af26_acbc3287038frow21_col0\" class=\"data row21 col0\" >-0.00101233</td> \n",
       "        <td id=\"T_dd89f49e_f96a_11e8_af26_acbc3287038frow21_col1\" class=\"data row21 col1\" >0.00528236</td> \n",
       "        <td id=\"T_dd89f49e_f96a_11e8_af26_acbc3287038frow21_col2\" class=\"data row21 col2\" >-0.052191</td> \n",
       "        <td id=\"T_dd89f49e_f96a_11e8_af26_acbc3287038frow21_col3\" class=\"data row21 col3\" >-0.0012163</td> \n",
       "        <td id=\"T_dd89f49e_f96a_11e8_af26_acbc3287038frow21_col4\" class=\"data row21 col4\" >0.00141932</td> \n",
       "        <td id=\"T_dd89f49e_f96a_11e8_af26_acbc3287038frow21_col5\" class=\"data row21 col5\" >0.00467191</td> \n",
       "        <td id=\"T_dd89f49e_f96a_11e8_af26_acbc3287038frow21_col6\" class=\"data row21 col6\" >-0.0292647</td> \n",
       "        <td id=\"T_dd89f49e_f96a_11e8_af26_acbc3287038frow21_col7\" class=\"data row21 col7\" >0.00499424</td> \n",
       "        <td id=\"T_dd89f49e_f96a_11e8_af26_acbc3287038frow21_col8\" class=\"data row21 col8\" >-0.00335361</td> \n",
       "        <td id=\"T_dd89f49e_f96a_11e8_af26_acbc3287038frow21_col9\" class=\"data row21 col9\" >0.0725481</td> \n",
       "        <td id=\"T_dd89f49e_f96a_11e8_af26_acbc3287038frow21_col10\" class=\"data row21 col10\" >-0.00213556</td> \n",
       "        <td id=\"T_dd89f49e_f96a_11e8_af26_acbc3287038frow21_col11\" class=\"data row21 col11\" >0.000920082</td> \n",
       "        <td id=\"T_dd89f49e_f96a_11e8_af26_acbc3287038frow21_col12\" class=\"data row21 col12\" >-0.00148753</td> \n",
       "        <td id=\"T_dd89f49e_f96a_11e8_af26_acbc3287038frow21_col13\" class=\"data row21 col13\" >-0.0139345</td> \n",
       "        <td id=\"T_dd89f49e_f96a_11e8_af26_acbc3287038frow21_col14\" class=\"data row21 col14\" >0.0725481</td> \n",
       "        <td id=\"T_dd89f49e_f96a_11e8_af26_acbc3287038frow21_col15\" class=\"data row21 col15\" >0.0751238</td> \n",
       "        <td id=\"T_dd89f49e_f96a_11e8_af26_acbc3287038frow21_col16\" class=\"data row21 col16\" >-0.018176</td> \n",
       "        <td id=\"T_dd89f49e_f96a_11e8_af26_acbc3287038frow21_col17\" class=\"data row21 col17\" >-0.0501746</td> \n",
       "        <td id=\"T_dd89f49e_f96a_11e8_af26_acbc3287038frow21_col18\" class=\"data row21 col18\" >-0.0305562</td> \n",
       "        <td id=\"T_dd89f49e_f96a_11e8_af26_acbc3287038frow21_col19\" class=\"data row21 col19\" >-0.0493215</td> \n",
       "        <td id=\"T_dd89f49e_f96a_11e8_af26_acbc3287038frow21_col20\" class=\"data row21 col20\" >0.199105</td> \n",
       "        <td id=\"T_dd89f49e_f96a_11e8_af26_acbc3287038frow21_col21\" class=\"data row21 col21\" >1</td> \n",
       "        <td id=\"T_dd89f49e_f96a_11e8_af26_acbc3287038frow21_col22\" class=\"data row21 col22\" >-0.993253</td> \n",
       "        <td id=\"T_dd89f49e_f96a_11e8_af26_acbc3287038frow21_col23\" class=\"data row21 col23\" >0.0725481</td> \n",
       "    </tr>    <tr> \n",
       "        <th id=\"T_dd89f49e_f96a_11e8_af26_acbc3287038flevel0_row22\" class=\"row_heading level0 row22\" >ptype_cash</th> \n",
       "        <td id=\"T_dd89f49e_f96a_11e8_af26_acbc3287038frow22_col0\" class=\"data row22 col0\" >-0.000511986</td> \n",
       "        <td id=\"T_dd89f49e_f96a_11e8_af26_acbc3287038frow22_col1\" class=\"data row22 col1\" >-0.0042731</td> \n",
       "        <td id=\"T_dd89f49e_f96a_11e8_af26_acbc3287038frow22_col2\" class=\"data row22 col2\" >0.0523371</td> \n",
       "        <td id=\"T_dd89f49e_f96a_11e8_af26_acbc3287038frow22_col3\" class=\"data row22 col3\" >0.000794194</td> \n",
       "        <td id=\"T_dd89f49e_f96a_11e8_af26_acbc3287038frow22_col4\" class=\"data row22 col4\" >-0.00140708</td> \n",
       "        <td id=\"T_dd89f49e_f96a_11e8_af26_acbc3287038frow22_col5\" class=\"data row22 col5\" >-0.00446709</td> \n",
       "        <td id=\"T_dd89f49e_f96a_11e8_af26_acbc3287038frow22_col6\" class=\"data row22 col6\" >0.0284371</td> \n",
       "        <td id=\"T_dd89f49e_f96a_11e8_af26_acbc3287038frow22_col7\" class=\"data row22 col7\" >-0.000201344</td> \n",
       "        <td id=\"T_dd89f49e_f96a_11e8_af26_acbc3287038frow22_col8\" class=\"data row22 col8\" >8.83641e-05</td> \n",
       "        <td id=\"T_dd89f49e_f96a_11e8_af26_acbc3287038frow22_col9\" class=\"data row22 col9\" >-0.0730557</td> \n",
       "        <td id=\"T_dd89f49e_f96a_11e8_af26_acbc3287038frow22_col10\" class=\"data row22 col10\" >0.00213649</td> \n",
       "        <td id=\"T_dd89f49e_f96a_11e8_af26_acbc3287038frow22_col11\" class=\"data row22 col11\" >-0.000878641</td> \n",
       "        <td id=\"T_dd89f49e_f96a_11e8_af26_acbc3287038frow22_col12\" class=\"data row22 col12\" >0.00182836</td> \n",
       "        <td id=\"T_dd89f49e_f96a_11e8_af26_acbc3287038frow22_col13\" class=\"data row22 col13\" >0.0138993</td> \n",
       "        <td id=\"T_dd89f49e_f96a_11e8_af26_acbc3287038frow22_col14\" class=\"data row22 col14\" >-0.0730557</td> \n",
       "        <td id=\"T_dd89f49e_f96a_11e8_af26_acbc3287038frow22_col15\" class=\"data row22 col15\" >-0.0756642</td> \n",
       "        <td id=\"T_dd89f49e_f96a_11e8_af26_acbc3287038frow22_col16\" class=\"data row22 col16\" >0.0178567</td> \n",
       "        <td id=\"T_dd89f49e_f96a_11e8_af26_acbc3287038frow22_col17\" class=\"data row22 col17\" >0.0505399</td> \n",
       "        <td id=\"T_dd89f49e_f96a_11e8_af26_acbc3287038frow22_col18\" class=\"data row22 col18\" >0.0291909</td> \n",
       "        <td id=\"T_dd89f49e_f96a_11e8_af26_acbc3287038frow22_col19\" class=\"data row22 col19\" >0.0495383</td> \n",
       "        <td id=\"T_dd89f49e_f96a_11e8_af26_acbc3287038frow22_col20\" class=\"data row22 col20\" >-0.198927</td> \n",
       "        <td id=\"T_dd89f49e_f96a_11e8_af26_acbc3287038frow22_col21\" class=\"data row22 col21\" >-0.993253</td> \n",
       "        <td id=\"T_dd89f49e_f96a_11e8_af26_acbc3287038frow22_col22\" class=\"data row22 col22\" >1</td> \n",
       "        <td id=\"T_dd89f49e_f96a_11e8_af26_acbc3287038frow22_col23\" class=\"data row22 col23\" >-0.0730557</td> \n",
       "    </tr>    <tr> \n",
       "        <th id=\"T_dd89f49e_f96a_11e8_af26_acbc3287038flevel0_row23\" class=\"row_heading level0 row23\" >Duration</th> \n",
       "        <td id=\"T_dd89f49e_f96a_11e8_af26_acbc3287038frow23_col0\" class=\"data row23 col0\" >-0.0727519</td> \n",
       "        <td id=\"T_dd89f49e_f96a_11e8_af26_acbc3287038frow23_col1\" class=\"data row23 col1\" >-0.00320673</td> \n",
       "        <td id=\"T_dd89f49e_f96a_11e8_af26_acbc3287038frow23_col2\" class=\"data row23 col2\" >0.0847241</td> \n",
       "        <td id=\"T_dd89f49e_f96a_11e8_af26_acbc3287038frow23_col3\" class=\"data row23 col3\" >0.0141688</td> \n",
       "        <td id=\"T_dd89f49e_f96a_11e8_af26_acbc3287038frow23_col4\" class=\"data row23 col4\" >-0.0149299</td> \n",
       "        <td id=\"T_dd89f49e_f96a_11e8_af26_acbc3287038frow23_col5\" class=\"data row23 col5\" >-0.0114203</td> \n",
       "        <td id=\"T_dd89f49e_f96a_11e8_af26_acbc3287038frow23_col6\" class=\"data row23 col6\" >0.00202823</td> \n",
       "        <td id=\"T_dd89f49e_f96a_11e8_af26_acbc3287038frow23_col7\" class=\"data row23 col7\" >-0.0642576</td> \n",
       "        <td id=\"T_dd89f49e_f96a_11e8_af26_acbc3287038frow23_col8\" class=\"data row23 col8\" >0.0714389</td> \n",
       "        <td id=\"T_dd89f49e_f96a_11e8_af26_acbc3287038frow23_col9\" class=\"data row23 col9\" >1</td> \n",
       "        <td id=\"T_dd89f49e_f96a_11e8_af26_acbc3287038frow23_col10\" class=\"data row23 col10\" >0.0104314</td> \n",
       "        <td id=\"T_dd89f49e_f96a_11e8_af26_acbc3287038frow23_col11\" class=\"data row23 col11\" >0.000774478</td> \n",
       "        <td id=\"T_dd89f49e_f96a_11e8_af26_acbc3287038frow23_col12\" class=\"data row23 col12\" >-0.0207605</td> \n",
       "        <td id=\"T_dd89f49e_f96a_11e8_af26_acbc3287038frow23_col13\" class=\"data row23 col13\" >-0.0304755</td> \n",
       "        <td id=\"T_dd89f49e_f96a_11e8_af26_acbc3287038frow23_col14\" class=\"data row23 col14\" >1</td> \n",
       "        <td id=\"T_dd89f49e_f96a_11e8_af26_acbc3287038frow23_col15\" class=\"data row23 col15\" >0.682796</td> \n",
       "        <td id=\"T_dd89f49e_f96a_11e8_af26_acbc3287038frow23_col16\" class=\"data row23 col16\" >0.17252</td> \n",
       "        <td id=\"T_dd89f49e_f96a_11e8_af26_acbc3287038frow23_col17\" class=\"data row23 col17\" >-0.0377568</td> \n",
       "        <td id=\"T_dd89f49e_f96a_11e8_af26_acbc3287038frow23_col18\" class=\"data row23 col18\" >0.189806</td> \n",
       "        <td id=\"T_dd89f49e_f96a_11e8_af26_acbc3287038frow23_col19\" class=\"data row23 col19\" >-0.108035</td> \n",
       "        <td id=\"T_dd89f49e_f96a_11e8_af26_acbc3287038frow23_col20\" class=\"data row23 col20\" >0.855277</td> \n",
       "        <td id=\"T_dd89f49e_f96a_11e8_af26_acbc3287038frow23_col21\" class=\"data row23 col21\" >0.0725481</td> \n",
       "        <td id=\"T_dd89f49e_f96a_11e8_af26_acbc3287038frow23_col22\" class=\"data row23 col22\" >-0.0730557</td> \n",
       "        <td id=\"T_dd89f49e_f96a_11e8_af26_acbc3287038frow23_col23\" class=\"data row23 col23\" >1</td> \n",
       "    </tr></tbody> \n",
       "</table> "
      ],
      "text/plain": [
       "<pandas.io.formats.style.Styler at 0x12df1d160>"
      ]
     },
     "execution_count": 90,
     "metadata": {},
     "output_type": "execute_result"
    }
   ],
   "source": [
    "import pandas as pd\n",
    "import numpy as np\n",
    "\n",
    "rs = np.random.RandomState(0)\n",
    "#df = pd.DataFrame(rs.rand(10, 10))\n",
    "corr = dummy_df_clean_61cols_Pandas2.corr()\n",
    "corr.style.background_gradient()"
   ]
  },
  {
   "cell_type": "code",
   "execution_count": 91,
   "metadata": {},
   "outputs": [
    {
     "data": {
      "text/plain": [
       "<matplotlib.axes._subplots.AxesSubplot at 0x12d968a90>"
      ]
     },
     "execution_count": 91,
     "metadata": {},
     "output_type": "execute_result"
    },
    {
     "data": {
      "image/png": "[encoded data removed]",
      "text/plain": [
       "<Figure size 792x648 with 2 Axes>"
      ]
     },
     "metadata": {},
     "output_type": "display_data"
    }
   ],
   "source": [
    "from string import ascii_letters\n",
    "import numpy as np\n",
    "import pandas as pd\n",
    "import seaborn as sns\n",
    "import matplotlib.pyplot as plt\n",
    "\n",
    "sns.set(style=\"white\")\n",
    "\n",
    "\n",
    "# Compute the correlation matrix\n",
    "corr = dummy_df_clean_61cols_Pandas2.corr()\n",
    "\n",
    "# Generate a mask for the upper triangle\n",
    "mask = np.zeros_like(corr, dtype=np.bool)\n",
    "mask[np.triu_indices_from(mask)] = True\n",
    "\n",
    "# Set up the matplotlib figure\n",
    "f, ax = plt.subplots(figsize=(11, 9))\n",
    "\n",
    "# Generate a custom diverging colormap\n",
    "cmap = sns.diverging_palette(220, 10, as_cmap=True)\n",
    "\n",
    "# Draw the heatmap with the mask and correct aspect ratio\n",
    "sns.heatmap(corr, mask=mask, cmap=cmap, vmax=1.0, center=0,\n",
    "            square=True, linewidths=.5, cbar_kws={\"shrink\": .5})"
   ]
  },
  {
   "cell_type": "code",
   "execution_count": null,
   "metadata": {},
   "outputs": [],
   "source": [
    "#PCA"
   ]
  },
  {
   "cell_type": "code",
   "execution_count": 310,
   "metadata": {},
   "outputs": [],
   "source": [
    "va_PCA=feature.VectorAssembler(inputCols=[c for c in numeric_data.columns],\n",
    "                           outputCol='features')\n",
    "sc_PCA=feature.StandardScaler(withMean=True,\n",
    "                           inputCol='features', outputCol='zfeatures'\n",
    "                          )\n",
    "pca= feature.PCA(k=6, inputCol='zfeatures', outputCol='PCAloadings')"
   ]
  },
  {
   "cell_type": "code",
   "execution_count": 311,
   "metadata": {},
   "outputs": [],
   "source": [
    "pipeline_one_PCA = Pipeline(stages=[ va_PCA,sc_PCA,pca]).fit(dummy_df_clean_61cols_Spark)"
   ]
  },
  {
   "cell_type": "code",
   "execution_count": 283,
   "metadata": {},
   "outputs": [],
   "source": [
    "explainedVariance = pipeline_one_PCA.stages[-1].explainedVariance"
   ]
  },
  {
   "cell_type": "code",
   "execution_count": 312,
   "metadata": {},
   "outputs": [
    {
     "data": {
      "text/plain": [
       "4"
      ]
     },
     "execution_count": 312,
     "metadata": {},
     "output_type": "execute_result"
    }
   ],
   "source": [
    "best_k = 0\n",
    "for k in range(len(explainedVariance)):\n",
    "    if explainedVariance[k] < 0.05:\n",
    "        best_k = k-1\n",
    "        break\n",
    "best_k"
   ]
  },
  {
   "cell_type": "code",
   "execution_count": 313,
   "metadata": {},
   "outputs": [
    {
     "data": {
      "text/plain": [
       "0.057540153757355404"
      ]
     },
     "execution_count": 313,
     "metadata": {},
     "output_type": "execute_result"
    }
   ],
   "source": [
    "explainedVariance[best_k]"
   ]
  },
  {
   "cell_type": "code",
   "execution_count": 314,
   "metadata": {},
   "outputs": [],
   "source": [
    "principal_components = pipeline_one_PCA.stages[-1].pc.toArray()"
   ]
  },
  {
   "cell_type": "code",
   "execution_count": 315,
   "metadata": {},
   "outputs": [
    {
     "data": {
      "text/plain": [
       "array([[-0.52639206,  0.3837901 , -0.02447939,  0.23772706, -0.0300041 ,\n",
       "         0.71944625],\n",
       "       [-0.42124128, -0.22758543,  0.58199093, -0.43978061,  0.48850642,\n",
       "        -0.00130838],\n",
       "       [-0.25167869, -0.5557811 ,  0.35765083,  0.28167669, -0.64845205,\n",
       "         0.00438992],\n",
       "       [-0.43006642, -0.1502623 , -0.58369045, -0.60325007, -0.28872113,\n",
       "        -0.06707479],\n",
       "       [-0.1844926 , -0.56091676, -0.43787431,  0.45008447,  0.50650996,\n",
       "         0.02173906],\n",
       "       [-0.51296235,  0.39346032,  0.01856723,  0.32287834,  0.00767764,\n",
       "        -0.69094464]])"
      ]
     },
     "execution_count": 315,
     "metadata": {},
     "output_type": "execute_result"
    }
   ],
   "source": [
    "principal_components"
   ]
  },
  {
   "cell_type": "code",
   "execution_count": 316,
   "metadata": {},
   "outputs": [],
   "source": [
    "z = pipeline_one_PCA.transform(dummy_df_clean_61cols_Spark).select('zfeatures', 'PCAloadings').first()['zfeatures']"
   ]
  },
  {
   "cell_type": "code",
   "execution_count": 317,
   "metadata": {},
   "outputs": [
    {
     "data": {
      "text/plain": [
       "array([ 0.92203183, -1.02685208,  0.21456233, -0.03637755, -0.16163563,\n",
       "        0.04985908])"
      ]
     },
     "execution_count": 317,
     "metadata": {},
     "output_type": "execute_result"
    }
   ],
   "source": [
    "z.dot(principal_components)"
   ]
  },
  {
   "cell_type": "code",
   "execution_count": 327,
   "metadata": {},
   "outputs": [],
   "source": [
    "abs_loading_list=list(zip([c for c in numeric_data.columns],principal_components[:, 5]))"
   ]
  },
  {
   "cell_type": "code",
   "execution_count": 328,
   "metadata": {},
   "outputs": [],
   "source": [
    "pc_best = pipeline_one_PCA.stages[-1].pc.toArray()[:, 5].tolist()"
   ]
  },
  {
   "cell_type": "code",
   "execution_count": 329,
   "metadata": {},
   "outputs": [
    {
     "data": {
      "text/plain": [
       "[('trip_distance', 0.7194462527899649),\n",
       " ('pickup_longitude', -0.0013083750165691216),\n",
       " ('pickup_latitude', 0.00438991561735012),\n",
       " ('dropoff_longitude', -0.06707478874493442),\n",
       " ('dropoff_latitude', 0.021739061209638255),\n",
       " ('total_amount', -0.6909446374889328)]"
      ]
     },
     "execution_count": 329,
     "metadata": {},
     "output_type": "execute_result"
    }
   ],
   "source": [
    "abs_loading_list"
   ]
  },
  {
   "cell_type": "code",
   "execution_count": 330,
   "metadata": {},
   "outputs": [],
   "source": [
    "pc_loadings = pd.DataFrame(abs_loading_list).rename(columns={0: 'Feature', \n",
    "                                                                          1: 'pc_best',})"
   ]
  },
  {
   "cell_type": "code",
   "execution_count": 331,
   "metadata": {},
   "outputs": [
    {
     "data": {
      "text/html": [
       "<div>\n",
       "<style scoped>\n",
       "    .dataframe tbody tr th:only-of-type {\n",
       "        vertical-align: middle;\n",
       "    }\n",
       "\n",
       "    .dataframe tbody tr th {\n",
       "        vertical-align: top;\n",
       "    }\n",
       "\n",
       "    .dataframe thead th {\n",
       "        text-align: right;\n",
       "    }\n",
       "</style>\n",
       "<table border=\"1\" class=\"dataframe\">\n",
       "  <thead>\n",
       "    <tr style=\"text-align: right;\">\n",
       "      <th></th>\n",
       "      <th>Feature</th>\n",
       "      <th>pc_best</th>\n",
       "    </tr>\n",
       "  </thead>\n",
       "  <tbody>\n",
       "    <tr>\n",
       "      <th>0</th>\n",
       "      <td>trip_distance</td>\n",
       "      <td>0.719446</td>\n",
       "    </tr>\n",
       "    <tr>\n",
       "      <th>1</th>\n",
       "      <td>pickup_longitude</td>\n",
       "      <td>-0.001308</td>\n",
       "    </tr>\n",
       "    <tr>\n",
       "      <th>2</th>\n",
       "      <td>pickup_latitude</td>\n",
       "      <td>0.004390</td>\n",
       "    </tr>\n",
       "    <tr>\n",
       "      <th>3</th>\n",
       "      <td>dropoff_longitude</td>\n",
       "      <td>-0.067075</td>\n",
       "    </tr>\n",
       "    <tr>\n",
       "      <th>4</th>\n",
       "      <td>dropoff_latitude</td>\n",
       "      <td>0.021739</td>\n",
       "    </tr>\n",
       "  </tbody>\n",
       "</table>\n",
       "</div>"
      ],
      "text/plain": [
       "             Feature   pc_best\n",
       "0      trip_distance  0.719446\n",
       "1   pickup_longitude -0.001308\n",
       "2    pickup_latitude  0.004390\n",
       "3  dropoff_longitude -0.067075\n",
       "4   dropoff_latitude  0.021739"
      ]
     },
     "execution_count": 331,
     "metadata": {},
     "output_type": "execute_result"
    }
   ],
   "source": [
    "pc_loadings.head()"
   ]
  },
  {
   "cell_type": "code",
   "execution_count": 332,
   "metadata": {},
   "outputs": [],
   "source": [
    "feature_engineering_duration=pc_loadings.sort_values('pc_best').\\\n",
    "    apply({'Feature': lambda x: x, 'pc_best': np.abs}, axis=0)"
   ]
  },
  {
   "cell_type": "code",
   "execution_count": 333,
   "metadata": {},
   "outputs": [
    {
     "data": {
      "text/html": [
       "<div>\n",
       "<style scoped>\n",
       "    .dataframe tbody tr th:only-of-type {\n",
       "        vertical-align: middle;\n",
       "    }\n",
       "\n",
       "    .dataframe tbody tr th {\n",
       "        vertical-align: top;\n",
       "    }\n",
       "\n",
       "    .dataframe thead th {\n",
       "        text-align: right;\n",
       "    }\n",
       "</style>\n",
       "<table border=\"1\" class=\"dataframe\">\n",
       "  <thead>\n",
       "    <tr style=\"text-align: right;\">\n",
       "      <th></th>\n",
       "      <th>Feature</th>\n",
       "      <th>pc_best</th>\n",
       "    </tr>\n",
       "  </thead>\n",
       "  <tbody>\n",
       "    <tr>\n",
       "      <th>5</th>\n",
       "      <td>total_amount</td>\n",
       "      <td>0.690945</td>\n",
       "    </tr>\n",
       "    <tr>\n",
       "      <th>3</th>\n",
       "      <td>dropoff_longitude</td>\n",
       "      <td>0.067075</td>\n",
       "    </tr>\n",
       "    <tr>\n",
       "      <th>1</th>\n",
       "      <td>pickup_longitude</td>\n",
       "      <td>0.001308</td>\n",
       "    </tr>\n",
       "    <tr>\n",
       "      <th>2</th>\n",
       "      <td>pickup_latitude</td>\n",
       "      <td>0.004390</td>\n",
       "    </tr>\n",
       "    <tr>\n",
       "      <th>4</th>\n",
       "      <td>dropoff_latitude</td>\n",
       "      <td>0.021739</td>\n",
       "    </tr>\n",
       "    <tr>\n",
       "      <th>0</th>\n",
       "      <td>trip_distance</td>\n",
       "      <td>0.719446</td>\n",
       "    </tr>\n",
       "  </tbody>\n",
       "</table>\n",
       "</div>"
      ],
      "text/plain": [
       "             Feature   pc_best\n",
       "5       total_amount  0.690945\n",
       "3  dropoff_longitude  0.067075\n",
       "1   pickup_longitude  0.001308\n",
       "2    pickup_latitude  0.004390\n",
       "4   dropoff_latitude  0.021739\n",
       "0      trip_distance  0.719446"
      ]
     },
     "execution_count": 333,
     "metadata": {},
     "output_type": "execute_result"
    }
   ],
   "source": [
    "feature_engineering_duration"
   ]
  },
  {
   "cell_type": "code",
   "execution_count": 306,
   "metadata": {},
   "outputs": [],
   "source": [
    "selected_features=feature_engineering_duration[feature_engineering_duration['pc_best']>0.01]"
   ]
  },
  {
   "cell_type": "code",
   "execution_count": 307,
   "metadata": {},
   "outputs": [
    {
     "data": {
      "text/plain": [
       "['total_amount', 'dropoff_longitude', 'dropoff_latitude', 'trip_distance']"
      ]
     },
     "execution_count": 307,
     "metadata": {},
     "output_type": "execute_result"
    }
   ],
   "source": [
    "selected_features['Feature'].tolist()"
   ]
  },
  {
   "cell_type": "code",
   "execution_count": 92,
   "metadata": {},
   "outputs": [],
   "source": [
    "#Exploratory Data Analysis:"
   ]
  },
  {
   "cell_type": "code",
   "execution_count": 341,
   "metadata": {},
   "outputs": [
    {
     "data": {
      "text/plain": [
       "Index(['VendorID_1_0', 'store_and_fwd_flag_1_0', 'RateCode_stdrate',\n",
       "       'RateCode_JFK', 'RateCode_Newark', 'RateCode_Nassau_W',\n",
       "       'RateCode_Negotiated', 'RateCode_Group', 'avg_temp_C', 'Rain', 'Fog',\n",
       "       'Snow', 'Holiday', 'pickup_datetime', 'dropoff_datetime',\n",
       "       'passenger_count', 'trip_distance', 'pickup_longitude',\n",
       "       'pickup_latitude', 'dropoff_longitude', 'dropoff_latitude',\n",
       "       'total_amount', 'pickup_neighborhood', 'dropoff_neighborhood',\n",
       "       'ptype_CCard', 'ptype_cash', 'ptype_nocharge', 'ptype_dispute',\n",
       "       'ptype_voidtrip', 'Duration', 'day_of_week', 'pickup_hour', 'month'],\n",
       "      dtype='object')"
      ]
     },
     "execution_count": 341,
     "metadata": {},
     "output_type": "execute_result"
    }
   ],
   "source": [
    "dummy_df1.columns"
   ]
  },
  {
   "cell_type": "code",
   "execution_count": 342,
   "metadata": {},
   "outputs": [
    {
     "data": {
      "text/plain": [
       "pandas.core.frame.DataFrame"
      ]
     },
     "execution_count": 342,
     "metadata": {},
     "output_type": "execute_result"
    }
   ],
   "source": [
    "type(dummy_df1)"
   ]
  },
  {
   "cell_type": "code",
   "execution_count": 343,
   "metadata": {},
   "outputs": [
    {
     "data": {
      "image/png": "[encoded data removed]",
      "text/plain": [
       "<Figure size 1080x432 with 1 Axes>"
      ]
     },
     "metadata": {},
     "output_type": "display_data"
    }
   ],
   "source": [
    "plt.figure(figsize=(15, 6)) \n",
    "dummy_df1.pickup_hour.value_counts().plot(kind='bar',color=[\"red\",\"gold\"],align='center',width=0.3)\n",
    "plt.xlabel(\"Hour\")\n",
    "plt.xticks(rotation='horizontal')\n",
    "plt.ylabel(\"Number of trips\")\n",
    "plt.title(\"Total pickups at each hour\");"
   ]
  },
  {
   "cell_type": "code",
   "execution_count": 346,
   "metadata": {},
   "outputs": [],
   "source": [
    "from datetime import datetime as dt\n"
   ]
  },
  {
   "cell_type": "code",
   "execution_count": 348,
   "metadata": {},
   "outputs": [],
   "source": [
    "dummy_df1[\"dropOff_hour\"]=dummy_df1.dropoff_datetime.dt.hour"
   ]
  },
  {
   "cell_type": "code",
   "execution_count": 349,
   "metadata": {},
   "outputs": [
    {
     "data": {
      "image/png": "[encoded data removed]",
      "text/plain": [
       "<Figure size 432x288 with 1 Axes>"
      ]
     },
     "metadata": {},
     "output_type": "display_data"
    }
   ],
   "source": [
    "sns.boxplot(dummy_df1['Duration'], palette=\"Set3\" )\n",
    "plt.xlabel('Duration ')\n",
    "plt.title('Distribution of Duration')\n",
    "plt.show()"
   ]
  },
  {
   "cell_type": "code",
   "execution_count": 351,
   "metadata": {},
   "outputs": [
    {
     "data": {
      "image/png": "[encoded data removed]",
      "text/plain": [
       "<Figure size 432x288 with 1 Axes>"
      ]
     },
     "metadata": {},
     "output_type": "display_data"
    }
   ],
   "source": [
    "taxi_rate = dummy_df1.groupby(['month']).mean()\n",
    "\n",
    "plt.plot(taxi_rate.index, taxi_rate.total_amount, color = 'r')\n",
    "\n",
    "plt.xlabel('Year')\n",
    "plt.ylabel('Average Fare Price Per Month')\n",
    "plt.title('Average Fare Price Over a Month')\n",
    "plt.show()"
   ]
  },
  {
   "cell_type": "code",
   "execution_count": null,
   "metadata": {},
   "outputs": [],
   "source": [
    "#####################--------------------------Scaling:------------------------------#########################"
   ]
  },
  {
   "cell_type": "code",
   "execution_count": 93,
   "metadata": {},
   "outputs": [],
   "source": [
    "dummy_df_toBe_Scaled= dummy_df_clean_61cols_Spark"
   ]
  },
  {
   "cell_type": "code",
   "execution_count": 94,
   "metadata": {},
   "outputs": [
    {
     "data": {
      "text/plain": [
       "61"
      ]
     },
     "execution_count": 94,
     "metadata": {},
     "output_type": "execute_result"
    }
   ],
   "source": [
    "len(dummy_df_toBe_Scaled.columns)"
   ]
  },
  {
   "cell_type": "code",
   "execution_count": 95,
   "metadata": {},
   "outputs": [],
   "source": [
    "data = dummy_df_toBe_Scaled"
   ]
  },
  {
   "cell_type": "code",
   "execution_count": 96,
   "metadata": {},
   "outputs": [],
   "source": [
    "#dummy_df_toBe_Scaled.toPandas().to_csv(header=True, path_or_buf='/Users/apsharma/IST718 Dropbox/Final/dummy_df_toBe_ScaledForTotalAmt_Dec5.csv')"
   ]
  },
  {
   "cell_type": "code",
   "execution_count": 97,
   "metadata": {},
   "outputs": [],
   "source": [
    "#read data if server error--"
   ]
  },
  {
   "cell_type": "code",
   "execution_count": 100,
   "metadata": {},
   "outputs": [],
   "source": [
    "#read data :\n",
    "#data1 = pd.read_csv(\"/Users/apsharma/IST718 Dropbox/Final/dummy_df_toBe_ScaledForTotalAmt_Dec5.csv\")"
   ]
  },
  {
   "cell_type": "code",
   "execution_count": 102,
   "metadata": {},
   "outputs": [
    {
     "name": "stdout",
     "output_type": "stream",
     "text": [
      "root\n",
      " |-- Morning: integer (nullable = false)\n",
      " |-- Afternoon: integer (nullable = false)\n",
      " |-- Evening: integer (nullable = false)\n",
      " |-- Fall: integer (nullable = false)\n",
      " |-- Winter: integer (nullable = false)\n",
      " |-- Spring: integer (nullable = false)\n",
      " |-- Monday: integer (nullable = false)\n",
      " |-- Tuesday: integer (nullable = false)\n",
      " |-- Wednesday: integer (nullable = false)\n",
      " |-- Thursday: integer (nullable = false)\n",
      " |-- Friday: integer (nullable = false)\n",
      " |-- Saturday: integer (nullable = false)\n",
      " |-- Sunday: integer (nullable = false)\n",
      " |-- dropoff_cc: integer (nullable = false)\n",
      " |-- dropoff_GM: integer (nullable = false)\n",
      " |-- dropoff_ues: integer (nullable = false)\n",
      " |-- dropoff_Gvs: integer (nullable = false)\n",
      " |-- dropoff_Uws: integer (nullable = false)\n",
      " |-- dropoff_Les: integer (nullable = false)\n",
      " |-- dropoff_Lm: integer (nullable = false)\n",
      " |-- dropoff_Wq: integer (nullable = false)\n",
      " |-- dropoff_Nb: integer (nullable = false)\n",
      " |-- dropoff_ch: integer (nullable = false)\n",
      " |-- Pickup_cc: integer (nullable = false)\n",
      " |-- Pickup_GM: integer (nullable = false)\n",
      " |-- Pickup_ues: integer (nullable = false)\n",
      " |-- Pickup_Gvs: integer (nullable = false)\n",
      " |-- Pickup_Uws: integer (nullable = false)\n",
      " |-- Pickup_Les: integer (nullable = false)\n",
      " |-- Pickup_Lm: integer (nullable = false)\n",
      " |-- Pickup_Wq: integer (nullable = false)\n",
      " |-- Pickup_Nb: integer (nullable = false)\n",
      " |-- Pickup_Nq: integer (nullable = false)\n",
      " |-- VendorID_1_0: long (nullable = true)\n",
      " |-- store_and_fwd_flag_1_0: long (nullable = true)\n",
      " |-- RateCode_stdrate: long (nullable = true)\n",
      " |-- RateCode_JFK: long (nullable = true)\n",
      " |-- RateCode_Newark: long (nullable = true)\n",
      " |-- RateCode_Nassau_W: long (nullable = true)\n",
      " |-- RateCode_Negotiated: long (nullable = true)\n",
      " |-- RateCode_Group: long (nullable = true)\n",
      " |-- avg_temp_C: integer (nullable = true)\n",
      " |-- Rain: long (nullable = true)\n",
      " |-- Fog: long (nullable = true)\n",
      " |-- Snow: long (nullable = true)\n",
      " |-- Holiday: long (nullable = true)\n",
      " |-- pickup_datetime: timestamp (nullable = true)\n",
      " |-- dropoff_datetime: timestamp (nullable = true)\n",
      " |-- passenger_count: integer (nullable = true)\n",
      " |-- trip_distance: double (nullable = true)\n",
      " |-- pickup_longitude: double (nullable = true)\n",
      " |-- pickup_latitude: double (nullable = true)\n",
      " |-- dropoff_longitude: double (nullable = true)\n",
      " |-- dropoff_latitude: double (nullable = true)\n",
      " |-- total_amount: double (nullable = true)\n",
      " |-- ptype_CCard: long (nullable = true)\n",
      " |-- ptype_cash: long (nullable = true)\n",
      " |-- ptype_nocharge: long (nullable = true)\n",
      " |-- ptype_dispute: long (nullable = true)\n",
      " |-- ptype_voidtrip: long (nullable = true)\n",
      " |-- Duration: integer (nullable = true)\n",
      "\n"
     ]
    }
   ],
   "source": [
    "data.printSchema()"
   ]
  },
  {
   "cell_type": "code",
   "execution_count": 103,
   "metadata": {},
   "outputs": [],
   "source": [
    "##  Scaling and Standardization:"
   ]
  },
  {
   "cell_type": "code",
   "execution_count": 104,
   "metadata": {},
   "outputs": [],
   "source": [
    "#Important - Removing some columns for Total Amount and Duration prediction !!!\n",
    "data = data.drop(\"pickup_datetime\",\"dropoff_datetime\",\"pickup_weekday_name\",\"trip_distance\",\"passenger_count\")"
   ]
  },
  {
   "cell_type": "code",
   "execution_count": 105,
   "metadata": {},
   "outputs": [
    {
     "data": {
      "text/plain": [
       "57"
      ]
     },
     "execution_count": 105,
     "metadata": {},
     "output_type": "execute_result"
    }
   ],
   "source": [
    "len(data.columns)"
   ]
  },
  {
   "cell_type": "code",
   "execution_count": 106,
   "metadata": {},
   "outputs": [
    {
     "data": {
      "text/plain": [
       "['Morning',\n",
       " 'Afternoon',\n",
       " 'Evening',\n",
       " 'Fall',\n",
       " 'Winter',\n",
       " 'Spring',\n",
       " 'Monday',\n",
       " 'Tuesday',\n",
       " 'Wednesday',\n",
       " 'Thursday',\n",
       " 'Friday',\n",
       " 'Saturday',\n",
       " 'Sunday',\n",
       " 'dropoff_cc',\n",
       " 'dropoff_GM',\n",
       " 'dropoff_ues',\n",
       " 'dropoff_Gvs',\n",
       " 'dropoff_Uws',\n",
       " 'dropoff_Les',\n",
       " 'dropoff_Lm',\n",
       " 'dropoff_Wq',\n",
       " 'dropoff_Nb',\n",
       " 'dropoff_ch',\n",
       " 'Pickup_cc',\n",
       " 'Pickup_GM',\n",
       " 'Pickup_ues',\n",
       " 'Pickup_Gvs',\n",
       " 'Pickup_Uws',\n",
       " 'Pickup_Les',\n",
       " 'Pickup_Lm',\n",
       " 'Pickup_Wq',\n",
       " 'Pickup_Nb',\n",
       " 'Pickup_Nq',\n",
       " 'VendorID_1_0',\n",
       " 'store_and_fwd_flag_1_0',\n",
       " 'RateCode_stdrate',\n",
       " 'RateCode_JFK',\n",
       " 'RateCode_Newark',\n",
       " 'RateCode_Nassau_W',\n",
       " 'RateCode_Negotiated',\n",
       " 'RateCode_Group',\n",
       " 'avg_temp_C',\n",
       " 'Rain',\n",
       " 'Fog',\n",
       " 'Snow',\n",
       " 'Holiday',\n",
       " 'pickup_longitude',\n",
       " 'pickup_latitude',\n",
       " 'dropoff_longitude',\n",
       " 'dropoff_latitude',\n",
       " 'total_amount',\n",
       " 'ptype_CCard',\n",
       " 'ptype_cash',\n",
       " 'ptype_nocharge',\n",
       " 'ptype_dispute',\n",
       " 'ptype_voidtrip',\n",
       " 'Duration']"
      ]
     },
     "execution_count": 106,
     "metadata": {},
     "output_type": "execute_result"
    }
   ],
   "source": [
    "data.columns"
   ]
  },
  {
   "cell_type": "code",
   "execution_count": 107,
   "metadata": {},
   "outputs": [],
   "source": [
    "from pyspark.ml.feature import StandardScaler\n",
    "from pyspark.ml.feature import MinMaxScaler\n",
    "from pyspark.ml.linalg import Vectors\n",
    "va = feature.VectorAssembler(inputCols=['Morning',\n",
    " 'Afternoon',\n",
    " 'Evening',\n",
    " 'Fall',\n",
    " 'Winter',\n",
    " 'Spring',\n",
    " 'Monday',\n",
    " 'Tuesday',\n",
    " 'Wednesday',\n",
    " 'Thursday',\n",
    " 'Friday',\n",
    " 'Saturday',\n",
    " 'Sunday',\n",
    " 'dropoff_cc',\n",
    " 'dropoff_GM',\n",
    " 'dropoff_ues',\n",
    " 'dropoff_Gvs',\n",
    " 'dropoff_Uws',\n",
    " 'dropoff_Les',\n",
    " 'dropoff_Lm',\n",
    " 'dropoff_Wq',\n",
    " 'dropoff_Nb',\n",
    " 'dropoff_ch',\n",
    " 'Pickup_cc',\n",
    " 'Pickup_GM',\n",
    " 'Pickup_ues',\n",
    " 'Pickup_Gvs',\n",
    " 'Pickup_Uws',\n",
    " 'Pickup_Les',\n",
    " 'Pickup_Lm',\n",
    " 'Pickup_Wq',\n",
    " 'Pickup_Nb',\n",
    " 'Pickup_Nq',\n",
    " 'VendorID_1_0',\n",
    " 'store_and_fwd_flag_1_0',\n",
    " 'RateCode_stdrate',\n",
    " 'RateCode_JFK',\n",
    " 'RateCode_Newark',\n",
    " 'RateCode_Nassau_W',\n",
    " 'RateCode_Negotiated',\n",
    " 'RateCode_Group',\n",
    " 'avg_temp_C',\n",
    " 'Rain',\n",
    " 'Fog',\n",
    " 'Snow',\n",
    " 'Holiday',\n",
    " 'pickup_longitude',\n",
    " 'pickup_latitude',\n",
    " 'dropoff_longitude',\n",
    " 'dropoff_latitude',\n",
    " 'ptype_CCard',\n",
    " 'ptype_cash',\n",
    " 'ptype_nocharge',\n",
    " 'ptype_dispute',\n",
    " 'ptype_voidtrip'] , outputCol='features')\n",
    "vec_df= va.transform(data)\n",
    "scaler = MinMaxScaler(inputCol='features', outputCol='scaledFeatures')"
   ]
  },
  {
   "cell_type": "code",
   "execution_count": 108,
   "metadata": {},
   "outputs": [],
   "source": [
    "scalerModel = scaler.fit(vec_df)\n",
    "scaled_df = scalerModel.transform(vec_df)"
   ]
  },
  {
   "cell_type": "code",
   "execution_count": 109,
   "metadata": {},
   "outputs": [
    {
     "data": {
      "text/plain": [
       "['Morning',\n",
       " 'Afternoon',\n",
       " 'Evening',\n",
       " 'Fall',\n",
       " 'Winter',\n",
       " 'Spring',\n",
       " 'Monday',\n",
       " 'Tuesday',\n",
       " 'Wednesday',\n",
       " 'Thursday',\n",
       " 'Friday',\n",
       " 'Saturday',\n",
       " 'Sunday',\n",
       " 'dropoff_cc',\n",
       " 'dropoff_GM',\n",
       " 'dropoff_ues',\n",
       " 'dropoff_Gvs',\n",
       " 'dropoff_Uws',\n",
       " 'dropoff_Les',\n",
       " 'dropoff_Lm',\n",
       " 'dropoff_Wq',\n",
       " 'dropoff_Nb',\n",
       " 'dropoff_ch',\n",
       " 'Pickup_cc',\n",
       " 'Pickup_GM',\n",
       " 'Pickup_ues',\n",
       " 'Pickup_Gvs',\n",
       " 'Pickup_Uws',\n",
       " 'Pickup_Les',\n",
       " 'Pickup_Lm',\n",
       " 'Pickup_Wq',\n",
       " 'Pickup_Nb',\n",
       " 'Pickup_Nq',\n",
       " 'VendorID_1_0',\n",
       " 'store_and_fwd_flag_1_0',\n",
       " 'RateCode_stdrate',\n",
       " 'RateCode_JFK',\n",
       " 'RateCode_Newark',\n",
       " 'RateCode_Nassau_W',\n",
       " 'RateCode_Negotiated',\n",
       " 'RateCode_Group',\n",
       " 'avg_temp_C',\n",
       " 'Rain',\n",
       " 'Fog',\n",
       " 'Snow',\n",
       " 'Holiday',\n",
       " 'pickup_longitude',\n",
       " 'pickup_latitude',\n",
       " 'dropoff_longitude',\n",
       " 'dropoff_latitude',\n",
       " 'total_amount',\n",
       " 'ptype_CCard',\n",
       " 'ptype_cash',\n",
       " 'ptype_nocharge',\n",
       " 'ptype_dispute',\n",
       " 'ptype_voidtrip',\n",
       " 'Duration',\n",
       " 'features',\n",
       " 'scaledFeatures']"
      ]
     },
     "execution_count": 109,
     "metadata": {},
     "output_type": "execute_result"
    }
   ],
   "source": [
    "scaled_df.columns"
   ]
  },
  {
   "cell_type": "code",
   "execution_count": 110,
   "metadata": {},
   "outputs": [
    {
     "data": {
      "text/plain": [
       "59"
      ]
     },
     "execution_count": 110,
     "metadata": {},
     "output_type": "execute_result"
    }
   ],
   "source": [
    "len(scaled_df.columns)"
   ]
  },
  {
   "cell_type": "code",
   "execution_count": 111,
   "metadata": {},
   "outputs": [
    {
     "name": "stdout",
     "output_type": "stream",
     "text": [
      "+-------+---------+-------+----+------+------+------+-------+---------+--------+------+--------+------+----------+----------+-----------+-----------+-----------+-----------+----------+----------+----------+----------+---------+---------+----------+----------+----------+----------+---------+---------+---------+---------+------------+----------------------+----------------+------------+---------------+-----------------+-------------------+--------------+----------+----+---+----+-------+------------------+------------------+-----------------+------------------+------------+-----------+----------+--------------+-------------+--------------+--------+--------------------+--------------------+\n",
      "|Morning|Afternoon|Evening|Fall|Winter|Spring|Monday|Tuesday|Wednesday|Thursday|Friday|Saturday|Sunday|dropoff_cc|dropoff_GM|dropoff_ues|dropoff_Gvs|dropoff_Uws|dropoff_Les|dropoff_Lm|dropoff_Wq|dropoff_Nb|dropoff_ch|Pickup_cc|Pickup_GM|Pickup_ues|Pickup_Gvs|Pickup_Uws|Pickup_Les|Pickup_Lm|Pickup_Wq|Pickup_Nb|Pickup_Nq|VendorID_1_0|store_and_fwd_flag_1_0|RateCode_stdrate|RateCode_JFK|RateCode_Newark|RateCode_Nassau_W|RateCode_Negotiated|RateCode_Group|avg_temp_C|Rain|Fog|Snow|Holiday|  pickup_longitude|   pickup_latitude|dropoff_longitude|  dropoff_latitude|total_amount|ptype_CCard|ptype_cash|ptype_nocharge|ptype_dispute|ptype_voidtrip|Duration|            features|      scaledFeatures|\n",
      "+-------+---------+-------+----+------+------+------+-------+---------+--------+------+--------+------+----------+----------+-----------+-----------+-----------+-----------+----------+----------+----------+----------+---------+---------+----------+----------+----------+----------+---------+---------+---------+---------+------------+----------------------+----------------+------------+---------------+-----------------+-------------------+--------------+----------+----+---+----+-------+------------------+------------------+-----------------+------------------+------------+-----------+----------+--------------+-------------+--------------+--------+--------------------+--------------------+\n",
      "|      0|        0|      1|   0|     0|     1|     1|      0|        0|       0|     0|       0|     0|         1|         0|          0|          0|          0|          0|         0|         0|         0|         0|        1|        0|         0|         0|         0|         0|        0|        0|        0|        0|           1|                     0|               1|           0|              0|                0|                  0|             0|       161|   1|  0|   0|      0|-73.98040771484375|40.764930725097656|-73.9839859008789|40.759315490722656|         5.8|          0|         1|             0|            0|             0|     161|(55,[2,5,6,13,23,...|[0.0,0.0,1.0,0.0,...|\n",
      "+-------+---------+-------+----+------+------+------+-------+---------+--------+------+--------+------+----------+----------+-----------+-----------+-----------+-----------+----------+----------+----------+----------+---------+---------+----------+----------+----------+----------+---------+---------+---------+---------+------------+----------------------+----------------+------------+---------------+-----------------+-------------------+--------------+----------+----+---+----+-------+------------------+------------------+-----------------+------------------+------------+-----------+----------+--------------+-------------+--------------+--------+--------------------+--------------------+\n",
      "only showing top 1 row\n",
      "\n"
     ]
    }
   ],
   "source": [
    "scaled_df.show(1)"
   ]
  },
  {
   "cell_type": "code",
   "execution_count": 112,
   "metadata": {},
   "outputs": [],
   "source": [
    "#SPLITTING:\n",
    "# splitting the scaled dataframe into training, validation and test dataframe"
   ]
  },
  {
   "cell_type": "code",
   "execution_count": 113,
   "metadata": {},
   "outputs": [],
   "source": [
    "training_df_Dec5, validation_df_Dec5, testing_df_Dec5 = scaled_df.randomSplit([0.6, 0.3, 0.1], seed=12)"
   ]
  },
  {
   "cell_type": "code",
   "execution_count": 114,
   "metadata": {},
   "outputs": [],
   "source": [
    "#training_df_Dec5.toPandas().to_csv(header=True, path_or_buf='/Users/apsharma/IST718 Dropbox/Final/training_df_Dec5.csv')"
   ]
  },
  {
   "cell_type": "code",
   "execution_count": 115,
   "metadata": {},
   "outputs": [],
   "source": [
    "#print(\"# points in training: \", training_df_Nov16.count()) "
   ]
  },
  {
   "cell_type": "code",
   "execution_count": 116,
   "metadata": {},
   "outputs": [],
   "source": [
    "#validation_df_Dec5.toPandas().to_csv(header=True, path_or_buf='/Users/apsharma/IST718 Dropbox/Final/validation_df_Dec5.csv')"
   ]
  },
  {
   "cell_type": "code",
   "execution_count": 117,
   "metadata": {},
   "outputs": [],
   "source": [
    "#print(\"# points in validation: \", validation_df_Nov16.count()) "
   ]
  },
  {
   "cell_type": "code",
   "execution_count": 118,
   "metadata": {},
   "outputs": [],
   "source": [
    "#testing_df_Dec5.toPandas().to_csv(header=True, path_or_buf='/Users/apsharma/IST718 Dropbox/Final/testing_df_Dec5.csv')"
   ]
  },
  {
   "cell_type": "code",
   "execution_count": 119,
   "metadata": {},
   "outputs": [],
   "source": [
    "#print(\"# points in testing: \", testing_df_Nov16.count()) "
   ]
  },
  {
   "cell_type": "code",
   "execution_count": 120,
   "metadata": {},
   "outputs": [],
   "source": [
    "training_df = training_df_Dec5\n",
    "validation_df = validation_df_Dec5\n",
    "testing_df = testing_df_Dec5"
   ]
  },
  {
   "cell_type": "code",
   "execution_count": 121,
   "metadata": {},
   "outputs": [],
   "source": [
    "####--------------------------------------------MODELLING ANALYSIS ---------------------------------------"
   ]
  },
  {
   "cell_type": "code",
   "execution_count": 122,
   "metadata": {},
   "outputs": [],
   "source": [
    "#Linear Model:"
   ]
  },
  {
   "cell_type": "code",
   "execution_count": 123,
   "metadata": {},
   "outputs": [],
   "source": [
    "# 1) linear regression model for the total amount prediction------------------------------------"
   ]
  },
  {
   "cell_type": "code",
   "execution_count": 124,
   "metadata": {},
   "outputs": [],
   "source": [
    "# defining the linear regression model object\n",
    "linearmodel_amt = regression.LinearRegression(featuresCol=\"scaledFeatures\", labelCol = \"total_amount\")"
   ]
  },
  {
   "cell_type": "code",
   "execution_count": 125,
   "metadata": {},
   "outputs": [],
   "source": [
    "# fit the model on the training data \n",
    "modellinear_amt = linearmodel_amt.fit(training_df)"
   ]
  },
  {
   "cell_type": "code",
   "execution_count": 126,
   "metadata": {},
   "outputs": [],
   "source": [
    "# transform the validation data\n",
    "predictionslinear = modellinear_amt.transform(validation_df)"
   ]
  },
  {
   "cell_type": "code",
   "execution_count": 127,
   "metadata": {},
   "outputs": [],
   "source": [
    "# calculate the rmse on the validation data\n",
    "rmse1_df_amt_linear = predictionslinear.select(fn.sqrt\n",
    "                                (fn.sum\n",
    "                                 (fn.pow\n",
    "                                  (predictionslinear.prediction - predictionslinear.total_amount,\n",
    "                                   fn.lit(2)\n",
    "                                  )\n",
    "                                 )\n",
    "                                 /predictionslinear.count()\n",
    "                                ).alias(\"rmse_amt\"))"
   ]
  },
  {
   "cell_type": "code",
   "execution_count": 128,
   "metadata": {},
   "outputs": [
    {
     "name": "stdout",
     "output_type": "stream",
     "text": [
      "+-----------------+\n",
      "|         rmse_amt|\n",
      "+-----------------+\n",
      "|3.665235900726855|\n",
      "+-----------------+\n",
      "\n"
     ]
    }
   ],
   "source": [
    "rmse1_df_amt_linear.show()"
   ]
  },
  {
   "cell_type": "code",
   "execution_count": 129,
   "metadata": {},
   "outputs": [],
   "source": [
    "# 2) random forest regression model for the total amount prediction"
   ]
  },
  {
   "cell_type": "code",
   "execution_count": 130,
   "metadata": {},
   "outputs": [],
   "source": [
    "from pyspark.ml.regression import RandomForestRegressor\n",
    "from pyspark.ml.feature import VectorIndexer\n",
    "from pyspark.ml.evaluation import RegressionEvaluator\n",
    "from pyspark.ml.regression import GBTRegressor\n",
    "\n",
    "randomf_amt = RandomForestRegressor(featuresCol=\"scaledFeatures\", labelCol = \"total_amount\")"
   ]
  },
  {
   "cell_type": "code",
   "execution_count": 131,
   "metadata": {},
   "outputs": [],
   "source": [
    "# fit the model on the training data\n",
    "\n",
    "modelrandom_amt = randomf_amt.fit(training_df)"
   ]
  },
  {
   "cell_type": "code",
   "execution_count": 132,
   "metadata": {},
   "outputs": [],
   "source": [
    "# transform the validation data\n",
    "\n",
    "predictionsrandom_amt = modelrandom_amt.transform(validation_df)"
   ]
  },
  {
   "cell_type": "code",
   "execution_count": 133,
   "metadata": {},
   "outputs": [
    {
     "name": "stdout",
     "output_type": "stream",
     "text": [
      "Root Mean Squared Error (RMSE) on validation = 3.90161\n"
     ]
    }
   ],
   "source": [
    "# calculation of rmse on the validation data\n",
    "evaluatorrandom_amt = RegressionEvaluator(labelCol=\"total_amount\", predictionCol=\"prediction\", metricName=\"rmse\")\n",
    "\n",
    "rmserandom_amt = evaluatorrandom_amt.evaluate(predictionsrandom_amt)\n",
    "\n",
    "print(\"Root Mean Squared Error (RMSE) on validation = %g\" % rmserandom_amt)"
   ]
  },
  {
   "cell_type": "code",
   "execution_count": 134,
   "metadata": {},
   "outputs": [],
   "source": [
    "# gradient boosting regression model for the total amount prediction---------------------------"
   ]
  },
  {
   "cell_type": "code",
   "execution_count": 135,
   "metadata": {},
   "outputs": [],
   "source": [
    "from pyspark.ml.regression import GBTRegressor"
   ]
  },
  {
   "cell_type": "code",
   "execution_count": 136,
   "metadata": {},
   "outputs": [],
   "source": [
    "# defining the gradient boosting object\n",
    "gbt_amt = GBTRegressor(featuresCol=\"scaledFeatures\", labelCol = \"total_amount\", maxIter=10)"
   ]
  },
  {
   "cell_type": "code",
   "execution_count": 137,
   "metadata": {},
   "outputs": [],
   "source": [
    "# fit the model on the training data\n",
    "modelgbt_amt = gbt_amt.fit(training_df)"
   ]
  },
  {
   "cell_type": "code",
   "execution_count": 138,
   "metadata": {},
   "outputs": [],
   "source": [
    "# transform the validation data\n",
    "predictionsgbt_amt = modelgbt_amt.transform(validation_df)"
   ]
  },
  {
   "cell_type": "code",
   "execution_count": 139,
   "metadata": {},
   "outputs": [
    {
     "name": "stdout",
     "output_type": "stream",
     "text": [
      "Root Mean Squared Error (RMSE) for total amount on validation data = 3.31603\n"
     ]
    }
   ],
   "source": [
    "# calculating the rmse on validation data\n",
    "evaluatorgbt = RegressionEvaluator(labelCol=\"total_amount\", predictionCol=\"prediction\", metricName=\"rmse\")\n",
    "\n",
    "rmsegbt_amt = evaluatorgbt.evaluate(predictionsgbt_amt)\n",
    "\n",
    "print(\"Root Mean Squared Error (RMSE) for total amount on validation data = %g\" % rmsegbt_amt)"
   ]
  },
  {
   "cell_type": "code",
   "execution_count": 140,
   "metadata": {},
   "outputs": [],
   "source": [
    "# After removing target leakage contributing features and dropping correlated coluns,\n",
    "#the best model is the gradient boosting as per the given rmse values"
   ]
  },
  {
   "cell_type": "code",
   "execution_count": 141,
   "metadata": {},
   "outputs": [],
   "source": [
    "best_model_amt = modelgbt_amt"
   ]
  },
  {
   "cell_type": "code",
   "execution_count": 142,
   "metadata": {},
   "outputs": [],
   "source": [
    "# transform the testing data on the best model\n",
    "prediction_best = best_model_amt.transform(testing_df)"
   ]
  },
  {
   "cell_type": "code",
   "execution_count": 143,
   "metadata": {},
   "outputs": [
    {
     "name": "stdout",
     "output_type": "stream",
     "text": [
      "Root Mean Squared Error (RMSE) on testing data = 3.01548\n"
     ]
    }
   ],
   "source": [
    "# calculating the best_rmse on testing data\n",
    "evaluatorbest = RegressionEvaluator(labelCol=\"total_amount\", predictionCol=\"prediction\", metricName=\"rmse\")\n",
    "\n",
    "rmsetest = evaluatorbest.evaluate(prediction_best)\n",
    "\n",
    "print(\"Root Mean Squared Error (RMSE) on testing data = %g\" % rmsetest)\n"
   ]
  },
  {
   "cell_type": "markdown",
   "metadata": {},
   "source": [
    "   ### The best rmse for predicting the total amount on the testing data is $2.95069"
   ]
  },
  {
   "cell_type": "code",
   "execution_count": 144,
   "metadata": {},
   "outputs": [],
   "source": [
    "# predicting the duration based on three models ---------------------------------------------------------"
   ]
  },
  {
   "cell_type": "code",
   "execution_count": 145,
   "metadata": {},
   "outputs": [],
   "source": [
    "# 1) linear model for predicting duration\n",
    "\n",
    "linearmodel_dura = regression.LinearRegression(featuresCol=\"scaledFeatures\", labelCol = \"Duration\")"
   ]
  },
  {
   "cell_type": "code",
   "execution_count": 146,
   "metadata": {},
   "outputs": [],
   "source": [
    "modellinear_dura = linearmodel_dura.fit(training_df)"
   ]
  },
  {
   "cell_type": "code",
   "execution_count": 147,
   "metadata": {},
   "outputs": [],
   "source": [
    "predictionslinear_dura = modellinear_dura.transform(validation_df)"
   ]
  },
  {
   "cell_type": "code",
   "execution_count": 148,
   "metadata": {},
   "outputs": [],
   "source": [
    "rmse1_df_dura = predictionslinear_dura.select(fn.sqrt\n",
    "                                (fn.sum\n",
    "                                 (fn.pow\n",
    "                                  (predictionslinear_dura.prediction - predictionslinear_dura.Duration,\n",
    "                                   fn.lit(2)\n",
    "                                  )\n",
    "                                 )\n",
    "                                 /predictionslinear_dura.count()\n",
    "                                ).alias(\"rmse_dura\"))"
   ]
  },
  {
   "cell_type": "code",
   "execution_count": 149,
   "metadata": {},
   "outputs": [
    {
     "name": "stdout",
     "output_type": "stream",
     "text": [
      "+-------------------+\n",
      "|          rmse_dura|\n",
      "+-------------------+\n",
      "|0.01482460564774702|\n",
      "+-------------------+\n",
      "\n"
     ]
    }
   ],
   "source": [
    "rmse1_df_dura.show()"
   ]
  },
  {
   "cell_type": "code",
   "execution_count": 150,
   "metadata": {},
   "outputs": [],
   "source": [
    "# 2) Random forest model for the trip duration prediction------------------------------------"
   ]
  },
  {
   "cell_type": "code",
   "execution_count": 151,
   "metadata": {},
   "outputs": [],
   "source": [
    "randomf_dura = RandomForestRegressor(featuresCol=\"scaledFeatures\", labelCol = \"Duration\")"
   ]
  },
  {
   "cell_type": "code",
   "execution_count": 152,
   "metadata": {},
   "outputs": [],
   "source": [
    "modelrandom_dura = randomf_dura.fit(training_df)"
   ]
  },
  {
   "cell_type": "code",
   "execution_count": 153,
   "metadata": {},
   "outputs": [],
   "source": [
    "predictionsrandom_dura = modelrandom_dura.transform(validation_df)"
   ]
  },
  {
   "cell_type": "code",
   "execution_count": 154,
   "metadata": {},
   "outputs": [
    {
     "name": "stdout",
     "output_type": "stream",
     "text": [
      "Root Mean Squared Error (RMSE) of random forest on validation = 166.27\n"
     ]
    }
   ],
   "source": [
    "evaluatorrandom_dura = RegressionEvaluator(labelCol=\"Duration\", predictionCol=\"prediction\", metricName=\"rmse\")\n",
    "\n",
    "rmserandom_dura = evaluatorrandom_dura.evaluate(predictionsrandom_dura)\n",
    "\n",
    "print(\"Root Mean Squared Error (RMSE) of random forest on validation = %g\" % rmserandom_dura)"
   ]
  },
  {
   "cell_type": "code",
   "execution_count": 155,
   "metadata": {},
   "outputs": [],
   "source": [
    "# 3) Gradient Boosting model for the trip duration prediction------------------------------------"
   ]
  },
  {
   "cell_type": "code",
   "execution_count": 156,
   "metadata": {},
   "outputs": [],
   "source": [
    "gbt_dura = GBTRegressor(featuresCol=\"scaledFeatures\", labelCol = \"Duration\", maxIter=10)"
   ]
  },
  {
   "cell_type": "code",
   "execution_count": 157,
   "metadata": {},
   "outputs": [],
   "source": [
    "modelgbt_dura = gbt_dura.fit(training_df)"
   ]
  },
  {
   "cell_type": "code",
   "execution_count": 158,
   "metadata": {},
   "outputs": [],
   "source": [
    "predictionsgbt_dura = modelgbt_dura.transform(validation_df)"
   ]
  },
  {
   "cell_type": "code",
   "execution_count": 159,
   "metadata": {},
   "outputs": [
    {
     "name": "stdout",
     "output_type": "stream",
     "text": [
      "Root Mean Squared Error (RMSE) of GBT on validation data = 104.476\n"
     ]
    }
   ],
   "source": [
    "evaluatorgbt_dura = RegressionEvaluator(labelCol=\"Duration\", predictionCol=\"prediction\", metricName=\"rmse\")\n",
    "\n",
    "rmsegbt_dura = evaluatorgbt_dura.evaluate(predictionsgbt_dura)\n",
    "\n",
    "print(\"Root Mean Squared Error (RMSE) of GBT on validation data = %g\" % rmsegbt_dura)"
   ]
  },
  {
   "cell_type": "code",
   "execution_count": 160,
   "metadata": {},
   "outputs": [],
   "source": [
    "best_model_dur = modelgbt_dura"
   ]
  },
  {
   "cell_type": "code",
   "execution_count": 161,
   "metadata": {},
   "outputs": [],
   "source": [
    "# transform the testing data on the best model\n",
    "predictionsgbt_best_dur = best_model_dur.transform(testing_df)"
   ]
  },
  {
   "cell_type": "code",
   "execution_count": 162,
   "metadata": {},
   "outputs": [
    {
     "name": "stdout",
     "output_type": "stream",
     "text": [
      "Root Mean Squared Error (RMSE) on testing data = 83.6365\n"
     ]
    }
   ],
   "source": [
    "# calculating the best_rmse on testing data\n",
    "evaluatorgbt_best = RegressionEvaluator(labelCol=\"Duration\", predictionCol=\"prediction\", metricName=\"rmse\")\n",
    "\n",
    "rmsegbt_dur = evaluatorgbt_best.evaluate(predictionsgbt_best_dur)\n",
    "\n",
    "print(\"Root Mean Squared Error (RMSE) on testing data = %g\" % rmsegbt_dur)"
   ]
  },
  {
   "cell_type": "markdown",
   "metadata": {},
   "source": [
    "##### The best rmse for predicting the duration on the testing data is 103 sec"
   ]
  },
  {
   "cell_type": "code",
   "execution_count": 163,
   "metadata": {},
   "outputs": [],
   "source": [
    "#Acuna Values:"
   ]
  },
  {
   "cell_type": "code",
   "execution_count": 164,
   "metadata": {},
   "outputs": [],
   "source": [
    "#Predicting duration on Professor's hypothetical scenario:"
   ]
  },
  {
   "cell_type": "code",
   "execution_count": 165,
   "metadata": {},
   "outputs": [],
   "source": [
    "acunavalues=[0,0,1,0,1,0,0,0,0,0,1,0,0,0,0,0,0,0,0,0,1,0,0,0,0,1,0,0,0,0,1,0,0,0,0,0,1,0,0,0,0,\n",
    "2,\n",
    "1,\n",
    "0,\n",
    "0,\n",
    "1,\n",
    "73.87,\n",
    "40.77,\n",
    "73.96,\n",
    "40.78,\n",
    "1,\n",
    "0,\n",
    "0,\n",
    "0,\n",
    "0]"
   ]
  },
  {
   "cell_type": "code",
   "execution_count": 166,
   "metadata": {},
   "outputs": [],
   "source": [
    "#Creating datafarme:\n",
    "xyz=pd.DataFrame(acunavalues)"
   ]
  },
  {
   "cell_type": "code",
   "execution_count": 167,
   "metadata": {},
   "outputs": [
    {
     "data": {
      "text/html": [
       "<div>\n",
       "<style scoped>\n",
       "    .dataframe tbody tr th:only-of-type {\n",
       "        vertical-align: middle;\n",
       "    }\n",
       "\n",
       "    .dataframe tbody tr th {\n",
       "        vertical-align: top;\n",
       "    }\n",
       "\n",
       "    .dataframe thead th {\n",
       "        text-align: right;\n",
       "    }\n",
       "</style>\n",
       "<table border=\"1\" class=\"dataframe\">\n",
       "  <thead>\n",
       "    <tr style=\"text-align: right;\">\n",
       "      <th></th>\n",
       "      <th>0</th>\n",
       "      <th>1</th>\n",
       "      <th>2</th>\n",
       "      <th>3</th>\n",
       "      <th>4</th>\n",
       "      <th>5</th>\n",
       "      <th>6</th>\n",
       "      <th>7</th>\n",
       "      <th>8</th>\n",
       "      <th>9</th>\n",
       "      <th>...</th>\n",
       "      <th>45</th>\n",
       "      <th>46</th>\n",
       "      <th>47</th>\n",
       "      <th>48</th>\n",
       "      <th>49</th>\n",
       "      <th>50</th>\n",
       "      <th>51</th>\n",
       "      <th>52</th>\n",
       "      <th>53</th>\n",
       "      <th>54</th>\n",
       "    </tr>\n",
       "  </thead>\n",
       "  <tbody>\n",
       "    <tr>\n",
       "      <th>0</th>\n",
       "      <td>0.0</td>\n",
       "      <td>0.0</td>\n",
       "      <td>1.0</td>\n",
       "      <td>0.0</td>\n",
       "      <td>1.0</td>\n",
       "      <td>0.0</td>\n",
       "      <td>0.0</td>\n",
       "      <td>0.0</td>\n",
       "      <td>0.0</td>\n",
       "      <td>0.0</td>\n",
       "      <td>...</td>\n",
       "      <td>1.0</td>\n",
       "      <td>73.87</td>\n",
       "      <td>40.77</td>\n",
       "      <td>73.96</td>\n",
       "      <td>40.78</td>\n",
       "      <td>1.0</td>\n",
       "      <td>0.0</td>\n",
       "      <td>0.0</td>\n",
       "      <td>0.0</td>\n",
       "      <td>0.0</td>\n",
       "    </tr>\n",
       "  </tbody>\n",
       "</table>\n",
       "<p>1 rows × 55 columns</p>\n",
       "</div>"
      ],
      "text/plain": [
       "    0    1    2    3    4    5    6    7    8    9  ...    45     46     47  \\\n",
       "0  0.0  0.0  1.0  0.0  1.0  0.0  0.0  0.0  0.0  0.0 ...   1.0  73.87  40.77   \n",
       "\n",
       "      48     49   50   51   52   53   54  \n",
       "0  73.96  40.78  1.0  0.0  0.0  0.0  0.0  \n",
       "\n",
       "[1 rows x 55 columns]"
      ]
     },
     "execution_count": 167,
     "metadata": {},
     "output_type": "execute_result"
    }
   ],
   "source": [
    "type(xyz)\n",
    "xyz.T"
   ]
  },
  {
   "cell_type": "code",
   "execution_count": 168,
   "metadata": {},
   "outputs": [
    {
     "data": {
      "text/plain": [
       "pandas.core.frame.DataFrame"
      ]
     },
     "execution_count": 168,
     "metadata": {},
     "output_type": "execute_result"
    }
   ],
   "source": [
    "type(xyz)"
   ]
  },
  {
   "cell_type": "code",
   "execution_count": 169,
   "metadata": {},
   "outputs": [],
   "source": [
    "#xyz"
   ]
  },
  {
   "cell_type": "code",
   "execution_count": 170,
   "metadata": {},
   "outputs": [],
   "source": [
    "xyz1=xyz.T.rename(columns={0:'Morning',1: 'Afternoon',2:'Evening',3: 'Fall',4: 'Winter',5:'Spring',6:'Monday',\n",
    "7: 'Tuesday',8: 'Wednesday',9: 'Thursday',10: 'Friday',11: 'Saturday',12: 'Sunday',13: 'dropoff_cc',14: 'dropoff_GM',\n",
    "15: 'dropoff_ues',16: 'dropoff_Gvs',17: 'dropoff_Uws',18: 'dropoff_Les',19: 'dropoff_Lm',20: 'dropoff_Wq',\n",
    "21: 'dropoff_Nb',22: 'dropoff_ch',23: 'Pickup_cc',24: 'Pickup_GM',25: 'Pickup_ues',26: 'Pickup_Gvs',27: 'Pickup_Uws',\n",
    "28: 'Pickup_Les',29: 'Pickup_Lm',30: 'Pickup_Wq',31:'Pickup_Nb',32: 'Pickup_Nq',33: 'VendorID_1_0',\n",
    "34: 'store_and_fwd_flag_1_0',35: 'RateCode_stdrate',36: 'RateCode_JFK',37: 'RateCode_Newark',38: 'RateCode_Nassau_W',\n",
    "39: 'RateCode_Negotiated',40:'RateCode_Group',41:'avg_temp_C',42: 'Rain',43: 'Fog',44: 'Snow',45: 'Holiday',\n",
    "46: 'pickup_longitude',47: 'pickup_latitude',48: 'dropoff_longitude',49: 'dropoff_latitude',\n",
    "50: 'ptype_CCard',51: 'ptype_cash',52: 'ptype_nocharge',53: 'ptype_dispute',54: 'ptype_voidtrip'})"
   ]
  },
  {
   "cell_type": "code",
   "execution_count": 171,
   "metadata": {},
   "outputs": [
    {
     "data": {
      "text/html": [
       "<div>\n",
       "<style scoped>\n",
       "    .dataframe tbody tr th:only-of-type {\n",
       "        vertical-align: middle;\n",
       "    }\n",
       "\n",
       "    .dataframe tbody tr th {\n",
       "        vertical-align: top;\n",
       "    }\n",
       "\n",
       "    .dataframe thead th {\n",
       "        text-align: right;\n",
       "    }\n",
       "</style>\n",
       "<table border=\"1\" class=\"dataframe\">\n",
       "  <thead>\n",
       "    <tr style=\"text-align: right;\">\n",
       "      <th></th>\n",
       "      <th>0</th>\n",
       "    </tr>\n",
       "  </thead>\n",
       "  <tbody>\n",
       "    <tr>\n",
       "      <th>Morning</th>\n",
       "      <td>0.00</td>\n",
       "    </tr>\n",
       "    <tr>\n",
       "      <th>Afternoon</th>\n",
       "      <td>0.00</td>\n",
       "    </tr>\n",
       "    <tr>\n",
       "      <th>Evening</th>\n",
       "      <td>1.00</td>\n",
       "    </tr>\n",
       "    <tr>\n",
       "      <th>Fall</th>\n",
       "      <td>0.00</td>\n",
       "    </tr>\n",
       "    <tr>\n",
       "      <th>Winter</th>\n",
       "      <td>1.00</td>\n",
       "    </tr>\n",
       "    <tr>\n",
       "      <th>Spring</th>\n",
       "      <td>0.00</td>\n",
       "    </tr>\n",
       "    <tr>\n",
       "      <th>Monday</th>\n",
       "      <td>0.00</td>\n",
       "    </tr>\n",
       "    <tr>\n",
       "      <th>Tuesday</th>\n",
       "      <td>0.00</td>\n",
       "    </tr>\n",
       "    <tr>\n",
       "      <th>Wednesday</th>\n",
       "      <td>0.00</td>\n",
       "    </tr>\n",
       "    <tr>\n",
       "      <th>Thursday</th>\n",
       "      <td>0.00</td>\n",
       "    </tr>\n",
       "    <tr>\n",
       "      <th>Friday</th>\n",
       "      <td>1.00</td>\n",
       "    </tr>\n",
       "    <tr>\n",
       "      <th>Saturday</th>\n",
       "      <td>0.00</td>\n",
       "    </tr>\n",
       "    <tr>\n",
       "      <th>Sunday</th>\n",
       "      <td>0.00</td>\n",
       "    </tr>\n",
       "    <tr>\n",
       "      <th>dropoff_cc</th>\n",
       "      <td>0.00</td>\n",
       "    </tr>\n",
       "    <tr>\n",
       "      <th>dropoff_GM</th>\n",
       "      <td>0.00</td>\n",
       "    </tr>\n",
       "    <tr>\n",
       "      <th>dropoff_ues</th>\n",
       "      <td>0.00</td>\n",
       "    </tr>\n",
       "    <tr>\n",
       "      <th>dropoff_Gvs</th>\n",
       "      <td>0.00</td>\n",
       "    </tr>\n",
       "    <tr>\n",
       "      <th>dropoff_Uws</th>\n",
       "      <td>0.00</td>\n",
       "    </tr>\n",
       "    <tr>\n",
       "      <th>dropoff_Les</th>\n",
       "      <td>0.00</td>\n",
       "    </tr>\n",
       "    <tr>\n",
       "      <th>dropoff_Lm</th>\n",
       "      <td>0.00</td>\n",
       "    </tr>\n",
       "    <tr>\n",
       "      <th>dropoff_Wq</th>\n",
       "      <td>1.00</td>\n",
       "    </tr>\n",
       "    <tr>\n",
       "      <th>dropoff_Nb</th>\n",
       "      <td>0.00</td>\n",
       "    </tr>\n",
       "    <tr>\n",
       "      <th>dropoff_ch</th>\n",
       "      <td>0.00</td>\n",
       "    </tr>\n",
       "    <tr>\n",
       "      <th>Pickup_cc</th>\n",
       "      <td>0.00</td>\n",
       "    </tr>\n",
       "    <tr>\n",
       "      <th>Pickup_GM</th>\n",
       "      <td>0.00</td>\n",
       "    </tr>\n",
       "    <tr>\n",
       "      <th>Pickup_ues</th>\n",
       "      <td>1.00</td>\n",
       "    </tr>\n",
       "    <tr>\n",
       "      <th>Pickup_Gvs</th>\n",
       "      <td>0.00</td>\n",
       "    </tr>\n",
       "    <tr>\n",
       "      <th>Pickup_Uws</th>\n",
       "      <td>0.00</td>\n",
       "    </tr>\n",
       "    <tr>\n",
       "      <th>Pickup_Les</th>\n",
       "      <td>0.00</td>\n",
       "    </tr>\n",
       "    <tr>\n",
       "      <th>Pickup_Lm</th>\n",
       "      <td>0.00</td>\n",
       "    </tr>\n",
       "    <tr>\n",
       "      <th>Pickup_Wq</th>\n",
       "      <td>1.00</td>\n",
       "    </tr>\n",
       "    <tr>\n",
       "      <th>Pickup_Nb</th>\n",
       "      <td>0.00</td>\n",
       "    </tr>\n",
       "    <tr>\n",
       "      <th>Pickup_Nq</th>\n",
       "      <td>0.00</td>\n",
       "    </tr>\n",
       "    <tr>\n",
       "      <th>VendorID_1_0</th>\n",
       "      <td>0.00</td>\n",
       "    </tr>\n",
       "    <tr>\n",
       "      <th>store_and_fwd_flag_1_0</th>\n",
       "      <td>0.00</td>\n",
       "    </tr>\n",
       "    <tr>\n",
       "      <th>RateCode_stdrate</th>\n",
       "      <td>0.00</td>\n",
       "    </tr>\n",
       "    <tr>\n",
       "      <th>RateCode_JFK</th>\n",
       "      <td>1.00</td>\n",
       "    </tr>\n",
       "    <tr>\n",
       "      <th>RateCode_Newark</th>\n",
       "      <td>0.00</td>\n",
       "    </tr>\n",
       "    <tr>\n",
       "      <th>RateCode_Nassau_W</th>\n",
       "      <td>0.00</td>\n",
       "    </tr>\n",
       "    <tr>\n",
       "      <th>RateCode_Negotiated</th>\n",
       "      <td>0.00</td>\n",
       "    </tr>\n",
       "    <tr>\n",
       "      <th>RateCode_Group</th>\n",
       "      <td>0.00</td>\n",
       "    </tr>\n",
       "    <tr>\n",
       "      <th>avg_temp_C</th>\n",
       "      <td>2.00</td>\n",
       "    </tr>\n",
       "    <tr>\n",
       "      <th>Rain</th>\n",
       "      <td>1.00</td>\n",
       "    </tr>\n",
       "    <tr>\n",
       "      <th>Fog</th>\n",
       "      <td>0.00</td>\n",
       "    </tr>\n",
       "    <tr>\n",
       "      <th>Snow</th>\n",
       "      <td>0.00</td>\n",
       "    </tr>\n",
       "    <tr>\n",
       "      <th>Holiday</th>\n",
       "      <td>1.00</td>\n",
       "    </tr>\n",
       "    <tr>\n",
       "      <th>pickup_longitude</th>\n",
       "      <td>73.87</td>\n",
       "    </tr>\n",
       "    <tr>\n",
       "      <th>pickup_latitude</th>\n",
       "      <td>40.77</td>\n",
       "    </tr>\n",
       "    <tr>\n",
       "      <th>dropoff_longitude</th>\n",
       "      <td>73.96</td>\n",
       "    </tr>\n",
       "    <tr>\n",
       "      <th>dropoff_latitude</th>\n",
       "      <td>40.78</td>\n",
       "    </tr>\n",
       "    <tr>\n",
       "      <th>ptype_CCard</th>\n",
       "      <td>1.00</td>\n",
       "    </tr>\n",
       "    <tr>\n",
       "      <th>ptype_cash</th>\n",
       "      <td>0.00</td>\n",
       "    </tr>\n",
       "    <tr>\n",
       "      <th>ptype_nocharge</th>\n",
       "      <td>0.00</td>\n",
       "    </tr>\n",
       "    <tr>\n",
       "      <th>ptype_dispute</th>\n",
       "      <td>0.00</td>\n",
       "    </tr>\n",
       "    <tr>\n",
       "      <th>ptype_voidtrip</th>\n",
       "      <td>0.00</td>\n",
       "    </tr>\n",
       "  </tbody>\n",
       "</table>\n",
       "</div>"
      ],
      "text/plain": [
       "                            0\n",
       "Morning                  0.00\n",
       "Afternoon                0.00\n",
       "Evening                  1.00\n",
       "Fall                     0.00\n",
       "Winter                   1.00\n",
       "Spring                   0.00\n",
       "Monday                   0.00\n",
       "Tuesday                  0.00\n",
       "Wednesday                0.00\n",
       "Thursday                 0.00\n",
       "Friday                   1.00\n",
       "Saturday                 0.00\n",
       "Sunday                   0.00\n",
       "dropoff_cc               0.00\n",
       "dropoff_GM               0.00\n",
       "dropoff_ues              0.00\n",
       "dropoff_Gvs              0.00\n",
       "dropoff_Uws              0.00\n",
       "dropoff_Les              0.00\n",
       "dropoff_Lm               0.00\n",
       "dropoff_Wq               1.00\n",
       "dropoff_Nb               0.00\n",
       "dropoff_ch               0.00\n",
       "Pickup_cc                0.00\n",
       "Pickup_GM                0.00\n",
       "Pickup_ues               1.00\n",
       "Pickup_Gvs               0.00\n",
       "Pickup_Uws               0.00\n",
       "Pickup_Les               0.00\n",
       "Pickup_Lm                0.00\n",
       "Pickup_Wq                1.00\n",
       "Pickup_Nb                0.00\n",
       "Pickup_Nq                0.00\n",
       "VendorID_1_0             0.00\n",
       "store_and_fwd_flag_1_0   0.00\n",
       "RateCode_stdrate         0.00\n",
       "RateCode_JFK             1.00\n",
       "RateCode_Newark          0.00\n",
       "RateCode_Nassau_W        0.00\n",
       "RateCode_Negotiated      0.00\n",
       "RateCode_Group           0.00\n",
       "avg_temp_C               2.00\n",
       "Rain                     1.00\n",
       "Fog                      0.00\n",
       "Snow                     0.00\n",
       "Holiday                  1.00\n",
       "pickup_longitude        73.87\n",
       "pickup_latitude         40.77\n",
       "dropoff_longitude       73.96\n",
       "dropoff_latitude        40.78\n",
       "ptype_CCard              1.00\n",
       "ptype_cash               0.00\n",
       "ptype_nocharge           0.00\n",
       "ptype_dispute            0.00\n",
       "ptype_voidtrip           0.00"
      ]
     },
     "execution_count": 171,
     "metadata": {},
     "output_type": "execute_result"
    }
   ],
   "source": [
    "xyz1.T.head(55)"
   ]
  },
  {
   "cell_type": "code",
   "execution_count": 172,
   "metadata": {},
   "outputs": [],
   "source": [
    "xyzspark=spark.createDataFrame(xyz1)"
   ]
  },
  {
   "cell_type": "code",
   "execution_count": 173,
   "metadata": {},
   "outputs": [],
   "source": [
    "va3 = feature.VectorAssembler(inputCols=['Morning',\n",
    " 'Afternoon',\n",
    " 'Evening',\n",
    " 'Fall',\n",
    " 'Winter',\n",
    " 'Spring',\n",
    " 'Monday',\n",
    " 'Tuesday',\n",
    " 'Wednesday',\n",
    " 'Thursday',\n",
    " 'Friday',\n",
    " 'Saturday',\n",
    " 'Sunday',\n",
    " 'dropoff_cc',\n",
    " 'dropoff_GM',\n",
    " 'dropoff_ues',\n",
    " 'dropoff_Gvs',\n",
    " 'dropoff_Uws',\n",
    " 'dropoff_Les',\n",
    " 'dropoff_Lm',\n",
    " 'dropoff_Wq',\n",
    " 'dropoff_Nb',\n",
    " 'dropoff_ch',\n",
    " 'Pickup_cc',\n",
    " 'Pickup_GM',\n",
    " 'Pickup_ues',\n",
    " 'Pickup_Gvs',\n",
    " 'Pickup_Uws',\n",
    " 'Pickup_Les',\n",
    " 'Pickup_Lm',\n",
    " 'Pickup_Wq',\n",
    " 'Pickup_Nb',\n",
    " 'Pickup_Nq',\n",
    " 'VendorID_1_0',\n",
    " 'store_and_fwd_flag_1_0',\n",
    " 'RateCode_stdrate',\n",
    " 'RateCode_JFK',\n",
    " 'RateCode_Newark',\n",
    " 'RateCode_Nassau_W',\n",
    " 'RateCode_Negotiated',\n",
    " 'RateCode_Group',\n",
    " 'avg_temp_C',\n",
    " 'Rain',\n",
    " 'Fog',\n",
    " 'Snow',\n",
    " 'Holiday',\n",
    " 'pickup_longitude',\n",
    " 'pickup_latitude',\n",
    " 'dropoff_longitude',\n",
    " 'dropoff_latitude',\n",
    " 'ptype_CCard',\n",
    " 'ptype_cash',\n",
    " 'ptype_nocharge',\n",
    " 'ptype_dispute',\n",
    " 'ptype_voidtrip'] , outputCol='features')\n",
    "vec_df3= va3.transform(xyzspark)\n"
   ]
  },
  {
   "cell_type": "code",
   "execution_count": 174,
   "metadata": {},
   "outputs": [],
   "source": [
    "scaled_df_new = scalerModel.transform(vec_df3)"
   ]
  },
  {
   "cell_type": "code",
   "execution_count": 175,
   "metadata": {},
   "outputs": [
    {
     "name": "stdout",
     "output_type": "stream",
     "text": [
      "+-------+---------+-------+----+------+------+------+-------+---------+--------+------+--------+------+----------+----------+-----------+-----------+-----------+-----------+----------+----------+----------+----------+---------+---------+----------+----------+----------+----------+---------+---------+---------+---------+------------+----------------------+----------------+------------+---------------+-----------------+-------------------+--------------+----------+----+---+----+-------+----------------+---------------+-----------------+----------------+-----------+----------+--------------+-------------+--------------+--------------------+--------------------+\n",
      "|Morning|Afternoon|Evening|Fall|Winter|Spring|Monday|Tuesday|Wednesday|Thursday|Friday|Saturday|Sunday|dropoff_cc|dropoff_GM|dropoff_ues|dropoff_Gvs|dropoff_Uws|dropoff_Les|dropoff_Lm|dropoff_Wq|dropoff_Nb|dropoff_ch|Pickup_cc|Pickup_GM|Pickup_ues|Pickup_Gvs|Pickup_Uws|Pickup_Les|Pickup_Lm|Pickup_Wq|Pickup_Nb|Pickup_Nq|VendorID_1_0|store_and_fwd_flag_1_0|RateCode_stdrate|RateCode_JFK|RateCode_Newark|RateCode_Nassau_W|RateCode_Negotiated|RateCode_Group|avg_temp_C|Rain|Fog|Snow|Holiday|pickup_longitude|pickup_latitude|dropoff_longitude|dropoff_latitude|ptype_CCard|ptype_cash|ptype_nocharge|ptype_dispute|ptype_voidtrip|            features|      scaledFeatures|\n",
      "+-------+---------+-------+----+------+------+------+-------+---------+--------+------+--------+------+----------+----------+-----------+-----------+-----------+-----------+----------+----------+----------+----------+---------+---------+----------+----------+----------+----------+---------+---------+---------+---------+------------+----------------------+----------------+------------+---------------+-----------------+-------------------+--------------+----------+----+---+----+-------+----------------+---------------+-----------------+----------------+-----------+----------+--------------+-------------+--------------+--------------------+--------------------+\n",
      "|    0.0|      0.0|    1.0| 0.0|   1.0|   0.0|   0.0|    0.0|      0.0|     0.0|   1.0|     0.0|   0.0|       0.0|       0.0|        0.0|        0.0|        0.0|        0.0|       0.0|       1.0|       0.0|       0.0|      0.0|      0.0|       1.0|       0.0|       0.0|       0.0|      0.0|      1.0|      0.0|      0.0|         0.0|                   0.0|             0.0|         1.0|            0.0|              0.0|                0.0|           0.0|       2.0| 1.0|0.0| 0.0|    1.0|           73.87|          40.77|            73.96|           40.78|        1.0|       0.0|           0.0|          0.0|           0.0|(55,[2,4,10,20,25...|[0.0,0.0,1.0,0.0,...|\n",
      "+-------+---------+-------+----+------+------+------+-------+---------+--------+------+--------+------+----------+----------+-----------+-----------+-----------+-----------+----------+----------+----------+----------+---------+---------+----------+----------+----------+----------+---------+---------+---------+---------+------------+----------------------+----------------+------------+---------------+-----------------+-------------------+--------------+----------+----+---+----+-------+----------------+---------------+-----------------+----------------+-----------+----------+--------------+-------------+--------------+--------------------+--------------------+\n",
      "\n"
     ]
    }
   ],
   "source": [
    "scaled_df_new.show()"
   ]
  },
  {
   "cell_type": "code",
   "execution_count": 176,
   "metadata": {},
   "outputs": [],
   "source": [
    "predictionsgbt_acuna = modelrandom_dura.transform(scaled_df_new)"
   ]
  },
  {
   "cell_type": "code",
   "execution_count": 177,
   "metadata": {
    "scrolled": true
   },
   "outputs": [
    {
     "name": "stdout",
     "output_type": "stream",
     "text": [
      "+-------+---------+-------+----+------+------+------+-------+---------+--------+------+--------+------+----------+----------+-----------+-----------+-----------+-----------+----------+----------+----------+----------+---------+---------+----------+----------+----------+----------+---------+---------+---------+---------+------------+----------------------+----------------+------------+---------------+-----------------+-------------------+--------------+----------+----+---+----+-------+----------------+---------------+-----------------+----------------+-----------+----------+--------------+-------------+--------------+--------------------+--------------------+-----------------+\n",
      "|Morning|Afternoon|Evening|Fall|Winter|Spring|Monday|Tuesday|Wednesday|Thursday|Friday|Saturday|Sunday|dropoff_cc|dropoff_GM|dropoff_ues|dropoff_Gvs|dropoff_Uws|dropoff_Les|dropoff_Lm|dropoff_Wq|dropoff_Nb|dropoff_ch|Pickup_cc|Pickup_GM|Pickup_ues|Pickup_Gvs|Pickup_Uws|Pickup_Les|Pickup_Lm|Pickup_Wq|Pickup_Nb|Pickup_Nq|VendorID_1_0|store_and_fwd_flag_1_0|RateCode_stdrate|RateCode_JFK|RateCode_Newark|RateCode_Nassau_W|RateCode_Negotiated|RateCode_Group|avg_temp_C|Rain|Fog|Snow|Holiday|pickup_longitude|pickup_latitude|dropoff_longitude|dropoff_latitude|ptype_CCard|ptype_cash|ptype_nocharge|ptype_dispute|ptype_voidtrip|            features|      scaledFeatures|       prediction|\n",
      "+-------+---------+-------+----+------+------+------+-------+---------+--------+------+--------+------+----------+----------+-----------+-----------+-----------+-----------+----------+----------+----------+----------+---------+---------+----------+----------+----------+----------+---------+---------+---------+---------+------------+----------------------+----------------+------------+---------------+-----------------+-------------------+--------------+----------+----+---+----+-------+----------------+---------------+-----------------+----------------+-----------+----------+--------------+-------------+--------------+--------------------+--------------------+-----------------+\n",
      "|    0.0|      0.0|    1.0| 0.0|   1.0|   0.0|   0.0|    0.0|      0.0|     0.0|   1.0|     0.0|   0.0|       0.0|       0.0|        0.0|        0.0|        0.0|        0.0|       0.0|       1.0|       0.0|       0.0|      0.0|      0.0|       1.0|       0.0|       0.0|       0.0|      0.0|      1.0|      0.0|      0.0|         0.0|                   0.0|             0.0|         1.0|            0.0|              0.0|                0.0|           0.0|       2.0| 1.0|0.0| 0.0|    1.0|           73.87|          40.77|            73.96|           40.78|        1.0|       0.0|           0.0|          0.0|           0.0|(55,[2,4,10,20,25...|[0.0,0.0,1.0,0.0,...|438.7822636011389|\n",
      "+-------+---------+-------+----+------+------+------+-------+---------+--------+------+--------+------+----------+----------+-----------+-----------+-----------+-----------+----------+----------+----------+----------+---------+---------+----------+----------+----------+----------+---------+---------+---------+---------+------------+----------------------+----------------+------------+---------------+-----------------+-------------------+--------------+----------+----+---+----+-------+----------------+---------------+-----------------+----------------+-----------+----------+--------------+-------------+--------------+--------------------+--------------------+-----------------+\n",
      "\n"
     ]
    }
   ],
   "source": [
    "predictionsgbt_acuna.show()"
   ]
  },
  {
   "cell_type": "code",
   "execution_count": 178,
   "metadata": {},
   "outputs": [],
   "source": [
    "#Total Amount prediction:"
   ]
  },
  {
   "cell_type": "code",
   "execution_count": 179,
   "metadata": {},
   "outputs": [],
   "source": [
    "predictionsrandom_amt_acuna = modelrandom_amt.transform(scaled_df_new)"
   ]
  },
  {
   "cell_type": "code",
   "execution_count": 180,
   "metadata": {},
   "outputs": [
    {
     "name": "stdout",
     "output_type": "stream",
     "text": [
      "+-------+---------+-------+----+------+------+------+-------+---------+--------+------+--------+------+----------+----------+-----------+-----------+-----------+-----------+----------+----------+----------+----------+---------+---------+----------+----------+----------+----------+---------+---------+---------+---------+------------+----------------------+----------------+------------+---------------+-----------------+-------------------+--------------+----------+----+---+----+-------+----------------+---------------+-----------------+----------------+-----------+----------+--------------+-------------+--------------+--------------------+--------------------+-----------------+\n",
      "|Morning|Afternoon|Evening|Fall|Winter|Spring|Monday|Tuesday|Wednesday|Thursday|Friday|Saturday|Sunday|dropoff_cc|dropoff_GM|dropoff_ues|dropoff_Gvs|dropoff_Uws|dropoff_Les|dropoff_Lm|dropoff_Wq|dropoff_Nb|dropoff_ch|Pickup_cc|Pickup_GM|Pickup_ues|Pickup_Gvs|Pickup_Uws|Pickup_Les|Pickup_Lm|Pickup_Wq|Pickup_Nb|Pickup_Nq|VendorID_1_0|store_and_fwd_flag_1_0|RateCode_stdrate|RateCode_JFK|RateCode_Newark|RateCode_Nassau_W|RateCode_Negotiated|RateCode_Group|avg_temp_C|Rain|Fog|Snow|Holiday|pickup_longitude|pickup_latitude|dropoff_longitude|dropoff_latitude|ptype_CCard|ptype_cash|ptype_nocharge|ptype_dispute|ptype_voidtrip|            features|      scaledFeatures|       prediction|\n",
      "+-------+---------+-------+----+------+------+------+-------+---------+--------+------+--------+------+----------+----------+-----------+-----------+-----------+-----------+----------+----------+----------+----------+---------+---------+----------+----------+----------+----------+---------+---------+---------+---------+------------+----------------------+----------------+------------+---------------+-----------------+-------------------+--------------+----------+----+---+----+-------+----------------+---------------+-----------------+----------------+-----------+----------+--------------+-------------+--------------+--------------------+--------------------+-----------------+\n",
      "|    0.0|      0.0|    1.0| 0.0|   1.0|   0.0|   0.0|    0.0|      0.0|     0.0|   1.0|     0.0|   0.0|       0.0|       0.0|        0.0|        0.0|        0.0|        0.0|       0.0|       1.0|       0.0|       0.0|      0.0|      0.0|       1.0|       0.0|       0.0|       0.0|      0.0|      1.0|      0.0|      0.0|         0.0|                   0.0|             0.0|         1.0|            0.0|              0.0|                0.0|           0.0|       2.0| 1.0|0.0| 0.0|    1.0|           73.87|          40.77|            73.96|           40.78|        1.0|       0.0|           0.0|          0.0|           0.0|(55,[2,4,10,20,25...|[0.0,0.0,1.0,0.0,...|33.18474478011039|\n",
      "+-------+---------+-------+----+------+------+------+-------+---------+--------+------+--------+------+----------+----------+-----------+-----------+-----------+-----------+----------+----------+----------+----------+---------+---------+----------+----------+----------+----------+---------+---------+---------+---------+------------+----------------------+----------------+------------+---------------+-----------------+-------------------+--------------+----------+----+---+----+-------+----------------+---------------+-----------------+----------------+-----------+----------+--------------+-------------+--------------+--------------------+--------------------+-----------------+\n",
      "\n"
     ]
    }
   ],
   "source": [
    "predictionsrandom_amt_acuna.show()"
   ]
  },
  {
   "cell_type": "code",
   "execution_count": 181,
   "metadata": {},
   "outputs": [],
   "source": [
    "#Predicted Time duration for Professor Acuna's trip: 601 seconds\n",
    "#Predicted Fare for Professor Acuna's trip: $ 35.141 "
   ]
  },
  {
   "cell_type": "code",
   "execution_count": 182,
   "metadata": {},
   "outputs": [],
   "source": [
    "#----------------------------------------------XGB-------------------------------------------------------------------"
   ]
  },
  {
   "cell_type": "code",
   "execution_count": 183,
   "metadata": {},
   "outputs": [],
   "source": [
    "# XG Boosting Model and feature importance"
   ]
  },
  {
   "cell_type": "code",
   "execution_count": 184,
   "metadata": {},
   "outputs": [],
   "source": [
    "# 1) XG boost and important features for total amount\n",
    "import xgboost as xgb"
   ]
  },
  {
   "cell_type": "code",
   "execution_count": 185,
   "metadata": {},
   "outputs": [],
   "source": [
    "import os\n",
    "\n",
    "import findspark\n",
    "findspark.init()\n",
    "\n",
    "import pyspark\n",
    "from pyspark.sql.session import SparkSession\n",
    "from pyspark.sql.types import *\n",
    "from pyspark.ml.feature import StringIndexer, VectorAssembler\n",
    "from pyspark.ml import Pipeline\n",
    "from pyspark.sql.functions import col"
   ]
  },
  {
   "cell_type": "code",
   "execution_count": 186,
   "metadata": {},
   "outputs": [],
   "source": [
    "spark.sparkContext.addPyFile(\"/Users/apsharma/Downloads/sparkxgb.zip\")"
   ]
  },
  {
   "cell_type": "code",
   "execution_count": 187,
   "metadata": {},
   "outputs": [],
   "source": [
    "import xgboost as xgb"
   ]
  },
  {
   "cell_type": "code",
   "execution_count": 188,
   "metadata": {},
   "outputs": [],
   "source": [
    "from sparkxgb import XGBoostEstimator"
   ]
  },
  {
   "cell_type": "code",
   "execution_count": 189,
   "metadata": {},
   "outputs": [],
   "source": [
    "import os\n",
    "os.environ['PYSPARK_SUBMIT_ARGS'] = '--jars /Users/apsharma/Downloads/xgboost4j-spark-0.81.jar,/Users/apsharma/Downloads/xgboost4j-0.81.jar pyspark-shell'"
   ]
  },
  {
   "cell_type": "code",
   "execution_count": 190,
   "metadata": {},
   "outputs": [],
   "source": [
    "from numpy import loadtxt\n",
    "from xgboost import XGBClassifier\n",
    "from sklearn.model_selection import train_test_split\n",
    "from sklearn.metrics import accuracy_score\n"
   ]
  },
  {
   "cell_type": "code",
   "execution_count": 191,
   "metadata": {},
   "outputs": [
    {
     "data": {
      "text/plain": [
       "['Morning',\n",
       " 'Afternoon',\n",
       " 'Evening',\n",
       " 'Fall',\n",
       " 'Winter',\n",
       " 'Spring',\n",
       " 'Monday',\n",
       " 'Tuesday',\n",
       " 'Wednesday',\n",
       " 'Thursday',\n",
       " 'Friday',\n",
       " 'Saturday',\n",
       " 'Sunday',\n",
       " 'dropoff_cc',\n",
       " 'dropoff_GM',\n",
       " 'dropoff_ues',\n",
       " 'dropoff_Gvs',\n",
       " 'dropoff_Uws',\n",
       " 'dropoff_Les',\n",
       " 'dropoff_Lm',\n",
       " 'dropoff_Wq',\n",
       " 'dropoff_Nb',\n",
       " 'dropoff_ch',\n",
       " 'Pickup_cc',\n",
       " 'Pickup_GM',\n",
       " 'Pickup_ues',\n",
       " 'Pickup_Gvs',\n",
       " 'Pickup_Uws',\n",
       " 'Pickup_Les',\n",
       " 'Pickup_Lm',\n",
       " 'Pickup_Wq',\n",
       " 'Pickup_Nb',\n",
       " 'Pickup_Nq',\n",
       " 'VendorID_1_0',\n",
       " 'store_and_fwd_flag_1_0',\n",
       " 'RateCode_stdrate',\n",
       " 'RateCode_JFK',\n",
       " 'RateCode_Newark',\n",
       " 'RateCode_Nassau_W',\n",
       " 'RateCode_Negotiated',\n",
       " 'RateCode_Group',\n",
       " 'avg_temp_C',\n",
       " 'Rain',\n",
       " 'Fog',\n",
       " 'Snow',\n",
       " 'Holiday',\n",
       " 'pickup_longitude',\n",
       " 'pickup_latitude',\n",
       " 'dropoff_longitude',\n",
       " 'dropoff_latitude',\n",
       " 'total_amount',\n",
       " 'ptype_CCard',\n",
       " 'ptype_cash',\n",
       " 'ptype_nocharge',\n",
       " 'ptype_dispute',\n",
       " 'ptype_voidtrip',\n",
       " 'Duration',\n",
       " 'features',\n",
       " 'scaledFeatures']"
      ]
     },
     "execution_count": 191,
     "metadata": {},
     "output_type": "execute_result"
    }
   ],
   "source": [
    "scaled_df.columns"
   ]
  },
  {
   "cell_type": "code",
   "execution_count": 192,
   "metadata": {},
   "outputs": [],
   "source": [
    "scaled_df_Pandas = scaled_df.toPandas()"
   ]
  },
  {
   "cell_type": "code",
   "execution_count": 193,
   "metadata": {},
   "outputs": [],
   "source": [
    "scaled_df_Pandasnew = scaled_df_Pandas"
   ]
  },
  {
   "cell_type": "code",
   "execution_count": 194,
   "metadata": {},
   "outputs": [],
   "source": [
    "scaled_df_numpy = scaled_df_Pandasnew.values"
   ]
  },
  {
   "cell_type": "code",
   "execution_count": 195,
   "metadata": {},
   "outputs": [
    {
     "data": {
      "text/plain": [
       "Index(['Morning', 'Afternoon', 'Evening', 'Fall', 'Winter', 'Spring', 'Monday',\n",
       "       'Tuesday', 'Wednesday', 'Thursday', 'Friday', 'Saturday', 'Sunday',\n",
       "       'dropoff_cc', 'dropoff_GM', 'dropoff_ues', 'dropoff_Gvs', 'dropoff_Uws',\n",
       "       'dropoff_Les', 'dropoff_Lm', 'dropoff_Wq', 'dropoff_Nb', 'dropoff_ch',\n",
       "       'Pickup_cc', 'Pickup_GM', 'Pickup_ues', 'Pickup_Gvs', 'Pickup_Uws',\n",
       "       'Pickup_Les', 'Pickup_Lm', 'Pickup_Wq', 'Pickup_Nb', 'Pickup_Nq',\n",
       "       'VendorID_1_0', 'store_and_fwd_flag_1_0', 'RateCode_stdrate',\n",
       "       'RateCode_JFK', 'RateCode_Newark', 'RateCode_Nassau_W',\n",
       "       'RateCode_Negotiated', 'RateCode_Group', 'avg_temp_C', 'Rain', 'Fog',\n",
       "       'Snow', 'Holiday', 'pickup_longitude', 'pickup_latitude',\n",
       "       'dropoff_longitude', 'dropoff_latitude', 'total_amount', 'ptype_CCard',\n",
       "       'ptype_cash', 'ptype_nocharge', 'ptype_dispute', 'ptype_voidtrip',\n",
       "       'Duration', 'features', 'scaledFeatures'],\n",
       "      dtype='object')"
      ]
     },
     "execution_count": 195,
     "metadata": {},
     "output_type": "execute_result"
    }
   ],
   "source": [
    "scaled_df_Pandas.columns"
   ]
  },
  {
   "cell_type": "code",
   "execution_count": 196,
   "metadata": {},
   "outputs": [
    {
     "data": {
      "text/plain": [
       "59"
      ]
     },
     "execution_count": 196,
     "metadata": {},
     "output_type": "execute_result"
    }
   ],
   "source": [
    "len(scaled_df_Pandas.columns)"
   ]
  },
  {
   "cell_type": "code",
   "execution_count": 197,
   "metadata": {},
   "outputs": [],
   "source": [
    "scaled_df_Pandas_Amt = scaled_df_Pandas"
   ]
  },
  {
   "cell_type": "code",
   "execution_count": 198,
   "metadata": {},
   "outputs": [
    {
     "data": {
      "text/plain": [
       "50"
      ]
     },
     "execution_count": 198,
     "metadata": {},
     "output_type": "execute_result"
    }
   ],
   "source": [
    "scaled_df_Pandas.columns.get_loc(\"total_amount\")"
   ]
  },
  {
   "cell_type": "code",
   "execution_count": 199,
   "metadata": {},
   "outputs": [],
   "source": [
    "scaled_df_Pandas_np= scaled_df_Pandas.values"
   ]
  },
  {
   "cell_type": "code",
   "execution_count": 200,
   "metadata": {},
   "outputs": [
    {
     "data": {
      "text/plain": [
       "array([[0, 0, 1, ..., 161,\n",
       "        SparseVector(55, {2: 1.0, 5: 1.0, 6: 1.0, 13: 1.0, 23: 1.0, 33: 1.0, 35: 1.0, 41: 161.0, 42: 1.0, 46: -73.9804, 47: 40.7649, 48: -73.984, 49: 40.7593, 51: 1.0}),\n",
       "        DenseVector([0.0, 0.0, 1.0, 0.0, 0.0, 1.0, 1.0, 0.0, 0.0, 0.0, 0.0, 0.0, 0.0, 1.0, 0.0, 0.0, 0.0, 0.0, 0.0, 0.0, 0.0, 0.0, 0.5, 1.0, 0.0, 0.0, 0.0, 0.0, 0.0, 0.0, 0.0, 0.0, 0.0, 1.0, 0.0, 1.0, 0.0, 0.0, 0.0, 0.0, 0.5, 0.0141, 1.0, 0.0, 0.0, 0.0, 0.3003, 0.5937, 0.3925, 0.5795, 0.0, 1.0, 0.0, 0.0, 0.5])],\n",
       "       [0, 0, 0, ..., 2115,\n",
       "        SparseVector(55, {5: 1.0, 6: 1.0, 23: 1.0, 35: 1.0, 41: 2115.0, 42: 1.0, 46: -73.9961, 47: 40.7382, 48: -74.0029, 49: 40.6248, 51: 1.0}),\n",
       "        DenseVector([0.0, 0.0, 0.0, 0.0, 0.0, 1.0, 1.0, 0.0, 0.0, 0.0, 0.0, 0.0, 0.0, 0.0, 0.0, 0.0, 0.0, 0.0, 0.0, 0.0, 0.0, 0.0, 0.5, 1.0, 0.0, 0.0, 0.0, 0.0, 0.0, 0.0, 0.0, 0.0, 0.0, 0.0, 0.0, 1.0, 0.0, 0.0, 0.0, 0.0, 0.5, 0.2899, 1.0, 0.0, 0.0, 0.0, 0.2562, 0.5054, 0.3514, 0.204, 0.0, 1.0, 0.0, 0.0, 0.5])],\n",
       "       [0, 1, 0, ..., 248,\n",
       "        SparseVector(55, {1: 1.0, 5: 1.0, 6: 1.0, 13: 1.0, 23: 1.0, 35: 1.0, 41: 248.0, 42: 1.0, 46: -73.9922, 47: 40.7484, 48: -74.0039, 49: 40.7428, 51: 1.0}),\n",
       "        DenseVector([0.0, 1.0, 0.0, 0.0, 0.0, 1.0, 1.0, 0.0, 0.0, 0.0, 0.0, 0.0, 0.0, 1.0, 0.0, 0.0, 0.0, 0.0, 0.0, 0.0, 0.0, 0.0, 0.5, 1.0, 0.0, 0.0, 0.0, 0.0, 0.0, 0.0, 0.0, 0.0, 0.0, 0.0, 0.0, 1.0, 0.0, 0.0, 0.0, 0.0, 0.5, 0.0264, 1.0, 0.0, 0.0, 0.0, 0.2673, 0.5392, 0.3491, 0.5334, 0.0, 1.0, 0.0, 0.0, 0.5])],\n",
       "       ...,\n",
       "       [1, 0, 0, ..., 422,\n",
       "        SparseVector(55, {0: 1.0, 8: 1.0, 13: 1.0, 23: 1.0, 35: 1.0, 41: 422.0, 46: -73.9872, 47: 40.7609, 48: -74.0041, 49: 40.7429, 50: 1.0}),\n",
       "        DenseVector([1.0, 0.0, 0.0, 0.0, 0.0, 0.0, 0.0, 0.0, 1.0, 0.0, 0.0, 0.0, 0.0, 1.0, 0.0, 0.0, 0.0, 0.0, 0.0, 0.0, 0.0, 0.0, 0.5, 1.0, 0.0, 0.0, 0.0, 0.0, 0.0, 0.0, 0.0, 0.0, 0.0, 0.0, 0.0, 1.0, 0.0, 0.0, 0.0, 0.0, 0.5, 0.051, 0.0, 0.0, 0.0, 0.0, 0.2814, 0.5805, 0.3488, 0.5336, 1.0, 0.0, 0.0, 0.0, 0.5])],\n",
       "       [0, 0, 0, ..., 2099,\n",
       "        SparseVector(55, {8: 1.0, 13: 1.0, 23: 1.0, 33: 1.0, 35: 1.0, 41: 2099.0, 46: -73.989, 47: 40.7541, 48: -73.9798, 49: 40.666, 51: 1.0}),\n",
       "        DenseVector([0.0, 0.0, 0.0, 0.0, 0.0, 0.0, 0.0, 0.0, 1.0, 0.0, 0.0, 0.0, 0.0, 1.0, 0.0, 0.0, 0.0, 0.0, 0.0, 0.0, 0.0, 0.0, 0.5, 1.0, 0.0, 0.0, 0.0, 0.0, 0.0, 0.0, 0.0, 0.0, 0.0, 1.0, 0.0, 1.0, 0.0, 0.0, 0.0, 0.0, 0.5, 0.2876, 0.0, 0.0, 0.0, 0.0, 0.2761, 0.558, 0.4017, 0.319, 0.0, 1.0, 0.0, 0.0, 0.5])],\n",
       "       [0, 0, 0, ..., 334,\n",
       "        SparseVector(55, {8: 1.0, 17: 1.0, 27: 1.0, 35: 1.0, 41: 334.0, 46: -73.9755, 47: 40.7896, 48: -73.9596, 49: 40.7797, 51: 1.0}),\n",
       "        DenseVector([0.0, 0.0, 0.0, 0.0, 0.0, 0.0, 0.0, 0.0, 1.0, 0.0, 0.0, 0.0, 0.0, 0.0, 0.0, 0.0, 0.0, 1.0, 0.0, 0.0, 0.0, 0.0, 0.5, 0.0, 0.0, 0.0, 0.0, 1.0, 0.0, 0.0, 0.0, 0.0, 0.0, 0.0, 0.0, 1.0, 0.0, 0.0, 0.0, 0.0, 0.5, 0.0385, 0.0, 0.0, 0.0, 0.0, 0.3141, 0.6752, 0.4458, 0.6365, 0.0, 1.0, 0.0, 0.0, 0.5])]],\n",
       "      dtype=object)"
      ]
     },
     "execution_count": 200,
     "metadata": {},
     "output_type": "execute_result"
    }
   ],
   "source": [
    "scaled_df_Pandas_np"
   ]
  },
  {
   "cell_type": "code",
   "execution_count": 201,
   "metadata": {},
   "outputs": [],
   "source": [
    "# split data into X and y\n",
    "X = scaled_df_Pandas_np[:,0:49]\n",
    "Y = scaled_df_Pandas_np[:,49]"
   ]
  },
  {
   "cell_type": "code",
   "execution_count": 202,
   "metadata": {},
   "outputs": [
    {
     "data": {
      "text/plain": [
       "array([40.759315490722656, 40.62480163574219, 40.742774963378906, ...,\n",
       "       40.74285507202149, 40.66598129272461, 40.779727935791016],\n",
       "      dtype=object)"
      ]
     },
     "execution_count": 202,
     "metadata": {},
     "output_type": "execute_result"
    }
   ],
   "source": [
    "Y"
   ]
  },
  {
   "cell_type": "code",
   "execution_count": 203,
   "metadata": {},
   "outputs": [],
   "source": [
    "# split data into train and test sets\n",
    "seed = 7\n",
    "test_size = 0.33\n",
    "X_train, X_test, y_train, y_test = train_test_split(X, Y, test_size=test_size, random_state=seed)"
   ]
  },
  {
   "cell_type": "code",
   "execution_count": 204,
   "metadata": {},
   "outputs": [
    {
     "data": {
      "text/plain": [
       "XGBRegressor(base_score=0.5, booster='gbtree', colsample_bylevel=1,\n",
       "       colsample_bytree=1, gamma=0, learning_rate=0.5, max_delta_step=0,\n",
       "       max_depth=3, min_child_weight=1, missing=None, n_estimators=100,\n",
       "       n_jobs=1, nthread=None, objective='reg:linear', random_state=0,\n",
       "       reg_alpha=0, reg_lambda=1, scale_pos_weight=1, seed=None,\n",
       "       silent=True, subsample=1)"
      ]
     },
     "execution_count": 204,
     "metadata": {},
     "output_type": "execute_result"
    }
   ],
   "source": [
    "# fit model on training data\n",
    "model_amt = xgb.XGBRegressor(base_score=0.5, booster='gbtree', colsample_bylevel=1,\n",
    "       colsample_bytree=1, gamma=0, learning_rate=0.5, max_delta_step=0,\n",
    "       max_depth=3, min_child_weight=1, missing=None, n_estimators=100,\n",
    "       n_jobs=1, nthread=None, objective='reg:linear', random_state=0,\n",
    "       reg_alpha=0, reg_lambda=1, scale_pos_weight=1, seed=None,\n",
    "       silent=True, subsample=1)\n",
    "model_amt.fit(X_train, y_train)"
   ]
  },
  {
   "cell_type": "code",
   "execution_count": 205,
   "metadata": {},
   "outputs": [],
   "source": [
    "# make predictions for test data\n",
    "y_pred_amt = model_amt.predict(X_test)\n",
    "predictions_amt = [round(value) for value in y_pred_amt]\n"
   ]
  },
  {
   "cell_type": "code",
   "execution_count": 206,
   "metadata": {},
   "outputs": [],
   "source": [
    "#evaluate predictions\n",
    "#accuracy = accuracy_score(y_test, predictions_amt)\n",
    "#print(\"Accuracy: %.2f%%\" % (accuracy * 100.0))"
   ]
  },
  {
   "cell_type": "code",
   "execution_count": 207,
   "metadata": {},
   "outputs": [],
   "source": [
    "#Accuracy: 77.95%"
   ]
  },
  {
   "cell_type": "code",
   "execution_count": 208,
   "metadata": {},
   "outputs": [
    {
     "name": "stdout",
     "output_type": "stream",
     "text": [
      "[0.02028081 0.01560062 0.01092044 0.00624025 0.00468019 0.00312012\n",
      " 0.00312012 0.00312012 0.00312012 0.00312012 0.00468019 0.00156006\n",
      " 0.00936037 0.00624025 0.00936037 0.00468019 0.00780031 0.00780031\n",
      " 0.00936037 0.01092044 0.01404056 0.00780031 0.         0.01404056\n",
      " 0.00936037 0.00468019 0.01716069 0.00468019 0.00936037 0.00312012\n",
      " 0.00468019 0.00312012 0.00312012 0.         0.00156006 0.00156006\n",
      " 0.         0.         0.         0.         0.         0.20436817\n",
      " 0.00156006 0.00156006 0.00156006 0.         0.10920437 0.15132606\n",
      " 0.28705147]\n"
     ]
    }
   ],
   "source": [
    "print(model_amt.feature_importances_)"
   ]
  },
  {
   "cell_type": "code",
   "execution_count": 209,
   "metadata": {},
   "outputs": [
    {
     "data": {
      "image/png": "[encoded data removed]",
      "text/plain": [
       "<Figure size 432x288 with 1 Axes>"
      ]
     },
     "metadata": {},
     "output_type": "display_data"
    }
   ],
   "source": [
    "import matplotlib.pyplot as plt\n",
    "plt.bar(range(len(model_amt.feature_importances_)), model_amt.feature_importances_)\n",
    "plt.show()"
   ]
  },
  {
   "cell_type": "code",
   "execution_count": 210,
   "metadata": {},
   "outputs": [
    {
     "data": {
      "image/png": "[encoded data removed]",
      "text/plain": [
       "<Figure size 432x288 with 1 Axes>"
      ]
     },
     "metadata": {},
     "output_type": "display_data"
    }
   ],
   "source": [
    "import matplotlib.pyplot as pyplot\n",
    "# plot feature importance using built-in function\n",
    "from numpy import loadtxt\n",
    "from xgboost import plot_importance\n",
    "plot_importance(model_amt)\n",
    "pyplot.show()"
   ]
  },
  {
   "cell_type": "code",
   "execution_count": 211,
   "metadata": {},
   "outputs": [
    {
     "data": {
      "text/plain": [
       "'dropoff_longitude'"
      ]
     },
     "execution_count": 211,
     "metadata": {},
     "output_type": "execute_result"
    }
   ],
   "source": [
    "scaled_df_Pandasnew.columns[48]"
   ]
  },
  {
   "cell_type": "code",
   "execution_count": 212,
   "metadata": {},
   "outputs": [],
   "source": [
    "feature_array_amt = model_amt.feature_importances_"
   ]
  },
  {
   "cell_type": "code",
   "execution_count": 213,
   "metadata": {},
   "outputs": [
    {
     "data": {
      "text/plain": [
       "array([0.02028081, 0.01560062, 0.01092044, 0.00624025, 0.00468019,\n",
       "       0.00312012, 0.00312012, 0.00312012, 0.00312012, 0.00312012,\n",
       "       0.00468019, 0.00156006, 0.00936037, 0.00624025, 0.00936037,\n",
       "       0.00468019, 0.00780031, 0.00780031, 0.00936037, 0.01092044,\n",
       "       0.01404056, 0.00780031, 0.        , 0.01404056, 0.00936037,\n",
       "       0.00468019, 0.01716069, 0.00468019, 0.00936037, 0.00312012,\n",
       "       0.00468019, 0.00312012, 0.00312012, 0.        , 0.00156006,\n",
       "       0.00156006, 0.        , 0.        , 0.        , 0.        ,\n",
       "       0.        , 0.20436817, 0.00156006, 0.00156006, 0.00156006,\n",
       "       0.        , 0.10920437, 0.15132606, 0.28705147], dtype=float32)"
      ]
     },
     "execution_count": 213,
     "metadata": {},
     "output_type": "execute_result"
    }
   ],
   "source": [
    "feature_array_amt"
   ]
  },
  {
   "cell_type": "code",
   "execution_count": 214,
   "metadata": {},
   "outputs": [
    {
     "data": {
      "text/plain": [
       "49"
      ]
     },
     "execution_count": 214,
     "metadata": {},
     "output_type": "execute_result"
    }
   ],
   "source": [
    "len(feature_array_amt)"
   ]
  },
  {
   "cell_type": "code",
   "execution_count": 215,
   "metadata": {},
   "outputs": [],
   "source": [
    "feature_array_sorted_amt = -np.sort(-feature_array_amt)"
   ]
  },
  {
   "cell_type": "code",
   "execution_count": 216,
   "metadata": {},
   "outputs": [
    {
     "name": "stdout",
     "output_type": "stream",
     "text": [
      "[0.28705147 0.20436817 0.15132606 0.10920437 0.02028081 0.01716069\n",
      " 0.01560062 0.01404056 0.01404056 0.01092044 0.01092044 0.00936037\n",
      " 0.00936037 0.00936037 0.00936037 0.00936037 0.00780031 0.00780031\n",
      " 0.00780031 0.00624025 0.00624025 0.00468019 0.00468019 0.00468019\n",
      " 0.00468019 0.00468019 0.00468019 0.00312012 0.00312012 0.00312012\n",
      " 0.00312012 0.00312012 0.00312012 0.00312012 0.00312012 0.00156006\n",
      " 0.00156006 0.00156006 0.00156006 0.00156006 0.00156006 0.\n",
      " 0.         0.         0.         0.         0.         0.\n",
      " 0.        ]\n"
     ]
    }
   ],
   "source": [
    "print(feature_array_sorted_amt)"
   ]
  },
  {
   "cell_type": "code",
   "execution_count": 217,
   "metadata": {},
   "outputs": [
    {
     "data": {
      "text/plain": [
       "array([0.28705147, 0.20436817, 0.15132606, 0.10920437, 0.02028081,\n",
       "       0.01716069, 0.01560062, 0.01404056, 0.01404056, 0.01092044,\n",
       "       0.01092044, 0.00936037, 0.00936037, 0.00936037, 0.00936037],\n",
       "      dtype=float32)"
      ]
     },
     "execution_count": 217,
     "metadata": {},
     "output_type": "execute_result"
    }
   ],
   "source": [
    "feature_array_sorted_amt[0:15]"
   ]
  },
  {
   "cell_type": "code",
   "execution_count": 218,
   "metadata": {},
   "outputs": [],
   "source": [
    "feature_importance_amt = pd.DataFrame(list(zip(scaled_df_Pandasnew.columns[0:62],feature_array_amt)),\n",
    "            columns = ['feature', 'importance']).sort_values('importance', ascending = False)"
   ]
  },
  {
   "cell_type": "code",
   "execution_count": 219,
   "metadata": {},
   "outputs": [
    {
     "data": {
      "text/html": [
       "<div>\n",
       "<style scoped>\n",
       "    .dataframe tbody tr th:only-of-type {\n",
       "        vertical-align: middle;\n",
       "    }\n",
       "\n",
       "    .dataframe tbody tr th {\n",
       "        vertical-align: top;\n",
       "    }\n",
       "\n",
       "    .dataframe thead th {\n",
       "        text-align: right;\n",
       "    }\n",
       "</style>\n",
       "<table border=\"1\" class=\"dataframe\">\n",
       "  <thead>\n",
       "    <tr style=\"text-align: right;\">\n",
       "      <th></th>\n",
       "      <th>feature</th>\n",
       "      <th>importance</th>\n",
       "    </tr>\n",
       "  </thead>\n",
       "  <tbody>\n",
       "    <tr>\n",
       "      <th>48</th>\n",
       "      <td>dropoff_longitude</td>\n",
       "      <td>0.287051</td>\n",
       "    </tr>\n",
       "    <tr>\n",
       "      <th>41</th>\n",
       "      <td>avg_temp_C</td>\n",
       "      <td>0.204368</td>\n",
       "    </tr>\n",
       "    <tr>\n",
       "      <th>47</th>\n",
       "      <td>pickup_latitude</td>\n",
       "      <td>0.151326</td>\n",
       "    </tr>\n",
       "    <tr>\n",
       "      <th>46</th>\n",
       "      <td>pickup_longitude</td>\n",
       "      <td>0.109204</td>\n",
       "    </tr>\n",
       "    <tr>\n",
       "      <th>0</th>\n",
       "      <td>Morning</td>\n",
       "      <td>0.020281</td>\n",
       "    </tr>\n",
       "    <tr>\n",
       "      <th>26</th>\n",
       "      <td>Pickup_Gvs</td>\n",
       "      <td>0.017161</td>\n",
       "    </tr>\n",
       "    <tr>\n",
       "      <th>1</th>\n",
       "      <td>Afternoon</td>\n",
       "      <td>0.015601</td>\n",
       "    </tr>\n",
       "    <tr>\n",
       "      <th>23</th>\n",
       "      <td>Pickup_cc</td>\n",
       "      <td>0.014041</td>\n",
       "    </tr>\n",
       "    <tr>\n",
       "      <th>20</th>\n",
       "      <td>dropoff_Wq</td>\n",
       "      <td>0.014041</td>\n",
       "    </tr>\n",
       "    <tr>\n",
       "      <th>2</th>\n",
       "      <td>Evening</td>\n",
       "      <td>0.010920</td>\n",
       "    </tr>\n",
       "    <tr>\n",
       "      <th>19</th>\n",
       "      <td>dropoff_Lm</td>\n",
       "      <td>0.010920</td>\n",
       "    </tr>\n",
       "    <tr>\n",
       "      <th>18</th>\n",
       "      <td>dropoff_Les</td>\n",
       "      <td>0.009360</td>\n",
       "    </tr>\n",
       "    <tr>\n",
       "      <th>24</th>\n",
       "      <td>Pickup_GM</td>\n",
       "      <td>0.009360</td>\n",
       "    </tr>\n",
       "    <tr>\n",
       "      <th>12</th>\n",
       "      <td>Sunday</td>\n",
       "      <td>0.009360</td>\n",
       "    </tr>\n",
       "    <tr>\n",
       "      <th>28</th>\n",
       "      <td>Pickup_Les</td>\n",
       "      <td>0.009360</td>\n",
       "    </tr>\n",
       "    <tr>\n",
       "      <th>14</th>\n",
       "      <td>dropoff_GM</td>\n",
       "      <td>0.009360</td>\n",
       "    </tr>\n",
       "    <tr>\n",
       "      <th>16</th>\n",
       "      <td>dropoff_Gvs</td>\n",
       "      <td>0.007800</td>\n",
       "    </tr>\n",
       "    <tr>\n",
       "      <th>17</th>\n",
       "      <td>dropoff_Uws</td>\n",
       "      <td>0.007800</td>\n",
       "    </tr>\n",
       "    <tr>\n",
       "      <th>21</th>\n",
       "      <td>dropoff_Nb</td>\n",
       "      <td>0.007800</td>\n",
       "    </tr>\n",
       "    <tr>\n",
       "      <th>13</th>\n",
       "      <td>dropoff_cc</td>\n",
       "      <td>0.006240</td>\n",
       "    </tr>\n",
       "    <tr>\n",
       "      <th>3</th>\n",
       "      <td>Fall</td>\n",
       "      <td>0.006240</td>\n",
       "    </tr>\n",
       "    <tr>\n",
       "      <th>30</th>\n",
       "      <td>Pickup_Wq</td>\n",
       "      <td>0.004680</td>\n",
       "    </tr>\n",
       "    <tr>\n",
       "      <th>4</th>\n",
       "      <td>Winter</td>\n",
       "      <td>0.004680</td>\n",
       "    </tr>\n",
       "    <tr>\n",
       "      <th>25</th>\n",
       "      <td>Pickup_ues</td>\n",
       "      <td>0.004680</td>\n",
       "    </tr>\n",
       "    <tr>\n",
       "      <th>27</th>\n",
       "      <td>Pickup_Uws</td>\n",
       "      <td>0.004680</td>\n",
       "    </tr>\n",
       "    <tr>\n",
       "      <th>15</th>\n",
       "      <td>dropoff_ues</td>\n",
       "      <td>0.004680</td>\n",
       "    </tr>\n",
       "    <tr>\n",
       "      <th>10</th>\n",
       "      <td>Friday</td>\n",
       "      <td>0.004680</td>\n",
       "    </tr>\n",
       "    <tr>\n",
       "      <th>5</th>\n",
       "      <td>Spring</td>\n",
       "      <td>0.003120</td>\n",
       "    </tr>\n",
       "    <tr>\n",
       "      <th>31</th>\n",
       "      <td>Pickup_Nb</td>\n",
       "      <td>0.003120</td>\n",
       "    </tr>\n",
       "    <tr>\n",
       "      <th>8</th>\n",
       "      <td>Wednesday</td>\n",
       "      <td>0.003120</td>\n",
       "    </tr>\n",
       "    <tr>\n",
       "      <th>32</th>\n",
       "      <td>Pickup_Nq</td>\n",
       "      <td>0.003120</td>\n",
       "    </tr>\n",
       "    <tr>\n",
       "      <th>7</th>\n",
       "      <td>Tuesday</td>\n",
       "      <td>0.003120</td>\n",
       "    </tr>\n",
       "    <tr>\n",
       "      <th>29</th>\n",
       "      <td>Pickup_Lm</td>\n",
       "      <td>0.003120</td>\n",
       "    </tr>\n",
       "    <tr>\n",
       "      <th>6</th>\n",
       "      <td>Monday</td>\n",
       "      <td>0.003120</td>\n",
       "    </tr>\n",
       "    <tr>\n",
       "      <th>9</th>\n",
       "      <td>Thursday</td>\n",
       "      <td>0.003120</td>\n",
       "    </tr>\n",
       "    <tr>\n",
       "      <th>42</th>\n",
       "      <td>Rain</td>\n",
       "      <td>0.001560</td>\n",
       "    </tr>\n",
       "    <tr>\n",
       "      <th>34</th>\n",
       "      <td>store_and_fwd_flag_1_0</td>\n",
       "      <td>0.001560</td>\n",
       "    </tr>\n",
       "    <tr>\n",
       "      <th>35</th>\n",
       "      <td>RateCode_stdrate</td>\n",
       "      <td>0.001560</td>\n",
       "    </tr>\n",
       "    <tr>\n",
       "      <th>11</th>\n",
       "      <td>Saturday</td>\n",
       "      <td>0.001560</td>\n",
       "    </tr>\n",
       "    <tr>\n",
       "      <th>44</th>\n",
       "      <td>Snow</td>\n",
       "      <td>0.001560</td>\n",
       "    </tr>\n",
       "    <tr>\n",
       "      <th>43</th>\n",
       "      <td>Fog</td>\n",
       "      <td>0.001560</td>\n",
       "    </tr>\n",
       "    <tr>\n",
       "      <th>45</th>\n",
       "      <td>Holiday</td>\n",
       "      <td>0.000000</td>\n",
       "    </tr>\n",
       "    <tr>\n",
       "      <th>22</th>\n",
       "      <td>dropoff_ch</td>\n",
       "      <td>0.000000</td>\n",
       "    </tr>\n",
       "    <tr>\n",
       "      <th>40</th>\n",
       "      <td>RateCode_Group</td>\n",
       "      <td>0.000000</td>\n",
       "    </tr>\n",
       "    <tr>\n",
       "      <th>39</th>\n",
       "      <td>RateCode_Negotiated</td>\n",
       "      <td>0.000000</td>\n",
       "    </tr>\n",
       "    <tr>\n",
       "      <th>38</th>\n",
       "      <td>RateCode_Nassau_W</td>\n",
       "      <td>0.000000</td>\n",
       "    </tr>\n",
       "    <tr>\n",
       "      <th>36</th>\n",
       "      <td>RateCode_JFK</td>\n",
       "      <td>0.000000</td>\n",
       "    </tr>\n",
       "    <tr>\n",
       "      <th>33</th>\n",
       "      <td>VendorID_1_0</td>\n",
       "      <td>0.000000</td>\n",
       "    </tr>\n",
       "    <tr>\n",
       "      <th>37</th>\n",
       "      <td>RateCode_Newark</td>\n",
       "      <td>0.000000</td>\n",
       "    </tr>\n",
       "  </tbody>\n",
       "</table>\n",
       "</div>"
      ],
      "text/plain": [
       "                   feature  importance\n",
       "48       dropoff_longitude    0.287051\n",
       "41              avg_temp_C    0.204368\n",
       "47         pickup_latitude    0.151326\n",
       "46        pickup_longitude    0.109204\n",
       "0                  Morning    0.020281\n",
       "26              Pickup_Gvs    0.017161\n",
       "1                Afternoon    0.015601\n",
       "23               Pickup_cc    0.014041\n",
       "20              dropoff_Wq    0.014041\n",
       "2                  Evening    0.010920\n",
       "19              dropoff_Lm    0.010920\n",
       "18             dropoff_Les    0.009360\n",
       "24               Pickup_GM    0.009360\n",
       "12                  Sunday    0.009360\n",
       "28              Pickup_Les    0.009360\n",
       "14              dropoff_GM    0.009360\n",
       "16             dropoff_Gvs    0.007800\n",
       "17             dropoff_Uws    0.007800\n",
       "21              dropoff_Nb    0.007800\n",
       "13              dropoff_cc    0.006240\n",
       "3                     Fall    0.006240\n",
       "30               Pickup_Wq    0.004680\n",
       "4                   Winter    0.004680\n",
       "25              Pickup_ues    0.004680\n",
       "27              Pickup_Uws    0.004680\n",
       "15             dropoff_ues    0.004680\n",
       "10                  Friday    0.004680\n",
       "5                   Spring    0.003120\n",
       "31               Pickup_Nb    0.003120\n",
       "8                Wednesday    0.003120\n",
       "32               Pickup_Nq    0.003120\n",
       "7                  Tuesday    0.003120\n",
       "29               Pickup_Lm    0.003120\n",
       "6                   Monday    0.003120\n",
       "9                 Thursday    0.003120\n",
       "42                    Rain    0.001560\n",
       "34  store_and_fwd_flag_1_0    0.001560\n",
       "35        RateCode_stdrate    0.001560\n",
       "11                Saturday    0.001560\n",
       "44                    Snow    0.001560\n",
       "43                     Fog    0.001560\n",
       "45                 Holiday    0.000000\n",
       "22              dropoff_ch    0.000000\n",
       "40          RateCode_Group    0.000000\n",
       "39     RateCode_Negotiated    0.000000\n",
       "38       RateCode_Nassau_W    0.000000\n",
       "36            RateCode_JFK    0.000000\n",
       "33            VendorID_1_0    0.000000\n",
       "37         RateCode_Newark    0.000000"
      ]
     },
     "execution_count": 219,
     "metadata": {},
     "output_type": "execute_result"
    }
   ],
   "source": [
    "feature_importance_amt\n",
    "#Most important features for predicting Total Amount"
   ]
  },
  {
   "cell_type": "code",
   "execution_count": 220,
   "metadata": {},
   "outputs": [],
   "source": [
    "#XG Bosst and feature importance for duration"
   ]
  },
  {
   "cell_type": "code",
   "execution_count": 221,
   "metadata": {},
   "outputs": [
    {
     "data": {
      "text/plain": [
       "59"
      ]
     },
     "execution_count": 221,
     "metadata": {},
     "output_type": "execute_result"
    }
   ],
   "source": [
    "len(scaled_df_Pandas.columns)"
   ]
  },
  {
   "cell_type": "code",
   "execution_count": 222,
   "metadata": {},
   "outputs": [
    {
     "data": {
      "text/plain": [
       "56"
      ]
     },
     "execution_count": 222,
     "metadata": {},
     "output_type": "execute_result"
    }
   ],
   "source": [
    "scaled_df_Pandas.columns.get_loc(\"Duration\")"
   ]
  },
  {
   "cell_type": "code",
   "execution_count": 223,
   "metadata": {},
   "outputs": [],
   "source": [
    "# split data into X and y\n",
    "X = scaled_df_numpy[:,0:56]\n",
    "Y = scaled_df_numpy[:,56]"
   ]
  },
  {
   "cell_type": "code",
   "execution_count": 224,
   "metadata": {},
   "outputs": [
    {
     "data": {
      "text/plain": [
       "array([161, 2115, 248, ..., 422, 2099, 334], dtype=object)"
      ]
     },
     "execution_count": 224,
     "metadata": {},
     "output_type": "execute_result"
    }
   ],
   "source": [
    "Y"
   ]
  },
  {
   "cell_type": "code",
   "execution_count": 225,
   "metadata": {},
   "outputs": [],
   "source": [
    "# split data into train and test sets\n",
    "seed = 7\n",
    "test_size = 0.33\n",
    "X_train, X_test, y_train, y_test = train_test_split(X, Y, test_size=test_size, random_state=seed)"
   ]
  },
  {
   "cell_type": "code",
   "execution_count": 226,
   "metadata": {},
   "outputs": [
    {
     "data": {
      "text/plain": [
       "XGBRegressor(base_score=0.5, booster='gbtree', colsample_bylevel=1,\n",
       "       colsample_bytree=1, gamma=0, learning_rate=0.3, max_delta_step=0,\n",
       "       max_depth=3, min_child_weight=1, missing=None, n_estimators=1000,\n",
       "       n_jobs=1, nthread=None, objective='reg:linear', random_state=0,\n",
       "       reg_alpha=0, reg_lambda=1, scale_pos_weight=1, seed=None,\n",
       "       silent=True, subsample=1)"
      ]
     },
     "execution_count": 226,
     "metadata": {},
     "output_type": "execute_result"
    }
   ],
   "source": [
    "# fit model on training data\n",
    "model_dura = xgb.XGBRegressor(base_score=0.5, booster='gbtree', colsample_bylevel=1,\n",
    "       colsample_bytree=1, gamma=0, learning_rate=0.3, max_delta_step=0,\n",
    "       max_depth=3, min_child_weight=1, missing=None, n_estimators=1000,\n",
    "       n_jobs=1, nthread=None, objective='reg:linear', random_state=0,\n",
    "       reg_alpha=0, reg_lambda=1, scale_pos_weight=1, seed=None,\n",
    "       silent=True, subsample=1)\n",
    "model_dura.fit(X_train, y_train)"
   ]
  },
  {
   "cell_type": "code",
   "execution_count": 227,
   "metadata": {},
   "outputs": [],
   "source": [
    "# make predictions for test data\n",
    "y_pred = model_dura.predict(X_test)\n",
    "predictions_dura = [round(value) for value in y_pred]\n"
   ]
  },
  {
   "cell_type": "code",
   "execution_count": 228,
   "metadata": {},
   "outputs": [],
   "source": [
    "# # evaluate predictions\n",
    "# accuracy_dura = accuracy_score(y_test, predictions_dura)\n",
    "# print(\"Accuracy: %.2f%%\" % (accuracy_dura * 100.0))\n",
    "#Accuracy for Duration: 63.9%"
   ]
  },
  {
   "cell_type": "code",
   "execution_count": 229,
   "metadata": {},
   "outputs": [
    {
     "name": "stdout",
     "output_type": "stream",
     "text": [
      "[3.5304502e-03 3.5304502e-03 2.5007355e-03 3.6775523e-03 2.2065314e-03\n",
      " 2.7949398e-03 2.0594292e-03 2.3536335e-03 4.5601646e-03 2.3536335e-03\n",
      " 2.6478376e-03 4.4130627e-04 2.3536335e-03 4.4130627e-04 8.8261254e-04\n",
      " 5.8840838e-04 4.4130627e-04 1.4710210e-04 8.8261254e-04 2.9420419e-04\n",
      " 7.3551043e-04 0.0000000e+00 0.0000000e+00 4.4130627e-04 5.8840838e-04\n",
      " 2.9420419e-04 1.6181230e-03 1.4710210e-04 4.4130627e-04 4.4130627e-04\n",
      " 4.4130627e-04 0.0000000e+00 7.3551043e-04 2.0594292e-03 5.8840838e-04\n",
      " 1.4710210e-04 1.4710210e-04 0.0000000e+00 0.0000000e+00 4.4130627e-04\n",
      " 0.0000000e+00 7.7993530e-01 1.6181230e-03 8.8261254e-04 5.8840838e-04\n",
      " 0.0000000e+00 3.3392172e-02 2.8096499e-02 2.9567519e-02 4.2512503e-02\n",
      " 3.3833481e-02 4.4130627e-04 5.8840838e-04 4.4130627e-04 1.4710210e-04\n",
      " 0.0000000e+00]\n"
     ]
    }
   ],
   "source": [
    "print(model_dura.feature_importances_)"
   ]
  },
  {
   "cell_type": "code",
   "execution_count": 230,
   "metadata": {},
   "outputs": [
    {
     "data": {
      "image/png": "[encoded data removed]",
      "text/plain": [
       "<Figure size 432x288 with 1 Axes>"
      ]
     },
     "metadata": {},
     "output_type": "display_data"
    }
   ],
   "source": [
    "import matplotlib.pyplot as plt\n",
    "plt.bar(range(len(model_dura.feature_importances_)), model_dura.feature_importances_)\n",
    "plt.show()\n"
   ]
  },
  {
   "cell_type": "code",
   "execution_count": 231,
   "metadata": {},
   "outputs": [
    {
     "data": {
      "image/png": "[encoded data removed]",
      "text/plain": [
       "<Figure size 432x288 with 1 Axes>"
      ]
     },
     "metadata": {},
     "output_type": "display_data"
    }
   ],
   "source": [
    "\n",
    "# plot feature importance using built-in function\n",
    "from numpy import loadtxt\n",
    "from xgboost import plot_importance\n",
    "plot_importance(model_dura)\n",
    "pyplot.show()"
   ]
  },
  {
   "cell_type": "code",
   "execution_count": 232,
   "metadata": {},
   "outputs": [
    {
     "data": {
      "text/plain": [
       "'dropoff_longitude'"
      ]
     },
     "execution_count": 232,
     "metadata": {},
     "output_type": "execute_result"
    }
   ],
   "source": [
    "scaled_df_Pandas.columns[48]"
   ]
  },
  {
   "cell_type": "code",
   "execution_count": 233,
   "metadata": {},
   "outputs": [],
   "source": [
    "feature_array_dura = model_dura.feature_importances_"
   ]
  },
  {
   "cell_type": "code",
   "execution_count": 234,
   "metadata": {},
   "outputs": [
    {
     "data": {
      "text/plain": [
       "array([3.5304502e-03, 3.5304502e-03, 2.5007355e-03, 3.6775523e-03,\n",
       "       2.2065314e-03, 2.7949398e-03, 2.0594292e-03, 2.3536335e-03,\n",
       "       4.5601646e-03, 2.3536335e-03, 2.6478376e-03, 4.4130627e-04,\n",
       "       2.3536335e-03, 4.4130627e-04, 8.8261254e-04, 5.8840838e-04,\n",
       "       4.4130627e-04, 1.4710210e-04, 8.8261254e-04, 2.9420419e-04,\n",
       "       7.3551043e-04, 0.0000000e+00, 0.0000000e+00, 4.4130627e-04,\n",
       "       5.8840838e-04, 2.9420419e-04, 1.6181230e-03, 1.4710210e-04,\n",
       "       4.4130627e-04, 4.4130627e-04, 4.4130627e-04, 0.0000000e+00,\n",
       "       7.3551043e-04, 2.0594292e-03, 5.8840838e-04, 1.4710210e-04,\n",
       "       1.4710210e-04, 0.0000000e+00, 0.0000000e+00, 4.4130627e-04,\n",
       "       0.0000000e+00, 7.7993530e-01, 1.6181230e-03, 8.8261254e-04,\n",
       "       5.8840838e-04, 0.0000000e+00, 3.3392172e-02, 2.8096499e-02,\n",
       "       2.9567519e-02, 4.2512503e-02, 3.3833481e-02, 4.4130627e-04,\n",
       "       5.8840838e-04, 4.4130627e-04, 1.4710210e-04, 0.0000000e+00],\n",
       "      dtype=float32)"
      ]
     },
     "execution_count": 234,
     "metadata": {},
     "output_type": "execute_result"
    }
   ],
   "source": [
    "feature_array_dura"
   ]
  },
  {
   "cell_type": "code",
   "execution_count": 235,
   "metadata": {},
   "outputs": [
    {
     "data": {
      "text/plain": [
       "56"
      ]
     },
     "execution_count": 235,
     "metadata": {},
     "output_type": "execute_result"
    }
   ],
   "source": [
    "len(feature_array_dura)"
   ]
  },
  {
   "cell_type": "code",
   "execution_count": 236,
   "metadata": {},
   "outputs": [],
   "source": [
    "feature_array_sorted_dura = -np.sort(-feature_array_dura)"
   ]
  },
  {
   "cell_type": "code",
   "execution_count": 237,
   "metadata": {},
   "outputs": [
    {
     "name": "stdout",
     "output_type": "stream",
     "text": [
      "[7.7993530e-01 4.2512503e-02 3.3833481e-02 3.3392172e-02 2.9567519e-02\n",
      " 2.8096499e-02 4.5601646e-03 3.6775523e-03 3.5304502e-03 3.5304502e-03\n",
      " 2.7949398e-03 2.6478376e-03 2.5007355e-03 2.3536335e-03 2.3536335e-03\n",
      " 2.3536335e-03 2.2065314e-03 2.0594292e-03 2.0594292e-03 1.6181230e-03\n",
      " 1.6181230e-03 8.8261254e-04 8.8261254e-04 8.8261254e-04 7.3551043e-04\n",
      " 7.3551043e-04 5.8840838e-04 5.8840838e-04 5.8840838e-04 5.8840838e-04\n",
      " 5.8840838e-04 4.4130627e-04 4.4130627e-04 4.4130627e-04 4.4130627e-04\n",
      " 4.4130627e-04 4.4130627e-04 4.4130627e-04 4.4130627e-04 4.4130627e-04\n",
      " 4.4130627e-04 2.9420419e-04 2.9420419e-04 1.4710210e-04 1.4710210e-04\n",
      " 1.4710210e-04 1.4710210e-04 1.4710210e-04 0.0000000e+00 0.0000000e+00\n",
      " 0.0000000e+00 0.0000000e+00 0.0000000e+00 0.0000000e+00 0.0000000e+00\n",
      " 0.0000000e+00]\n"
     ]
    }
   ],
   "source": [
    "print(feature_array_sorted_dura)"
   ]
  },
  {
   "cell_type": "code",
   "execution_count": 238,
   "metadata": {},
   "outputs": [
    {
     "data": {
      "text/plain": [
       "array([0.7799353 , 0.0425125 , 0.03383348, 0.03339217, 0.02956752,\n",
       "       0.0280965 , 0.00456016, 0.00367755, 0.00353045, 0.00353045,\n",
       "       0.00279494, 0.00264784, 0.00250074, 0.00235363, 0.00235363],\n",
       "      dtype=float32)"
      ]
     },
     "execution_count": 238,
     "metadata": {},
     "output_type": "execute_result"
    }
   ],
   "source": [
    "feature_array_sorted_dura[0:15]"
   ]
  },
  {
   "cell_type": "code",
   "execution_count": 239,
   "metadata": {},
   "outputs": [],
   "source": [
    "feature_importance_dura = pd.DataFrame(list(zip(scaled_df_Pandas.columns[0:58],feature_array_dura)),\n",
    "            columns = ['feature', 'importance']).sort_values('importance', ascending = False)"
   ]
  },
  {
   "cell_type": "code",
   "execution_count": 240,
   "metadata": {},
   "outputs": [
    {
     "data": {
      "text/html": [
       "<div>\n",
       "<style scoped>\n",
       "    .dataframe tbody tr th:only-of-type {\n",
       "        vertical-align: middle;\n",
       "    }\n",
       "\n",
       "    .dataframe tbody tr th {\n",
       "        vertical-align: top;\n",
       "    }\n",
       "\n",
       "    .dataframe thead th {\n",
       "        text-align: right;\n",
       "    }\n",
       "</style>\n",
       "<table border=\"1\" class=\"dataframe\">\n",
       "  <thead>\n",
       "    <tr style=\"text-align: right;\">\n",
       "      <th></th>\n",
       "      <th>feature</th>\n",
       "      <th>importance</th>\n",
       "    </tr>\n",
       "  </thead>\n",
       "  <tbody>\n",
       "    <tr>\n",
       "      <th>41</th>\n",
       "      <td>avg_temp_C</td>\n",
       "      <td>0.779935</td>\n",
       "    </tr>\n",
       "    <tr>\n",
       "      <th>49</th>\n",
       "      <td>dropoff_latitude</td>\n",
       "      <td>0.042513</td>\n",
       "    </tr>\n",
       "    <tr>\n",
       "      <th>50</th>\n",
       "      <td>total_amount</td>\n",
       "      <td>0.033833</td>\n",
       "    </tr>\n",
       "    <tr>\n",
       "      <th>46</th>\n",
       "      <td>pickup_longitude</td>\n",
       "      <td>0.033392</td>\n",
       "    </tr>\n",
       "    <tr>\n",
       "      <th>48</th>\n",
       "      <td>dropoff_longitude</td>\n",
       "      <td>0.029568</td>\n",
       "    </tr>\n",
       "    <tr>\n",
       "      <th>47</th>\n",
       "      <td>pickup_latitude</td>\n",
       "      <td>0.028096</td>\n",
       "    </tr>\n",
       "    <tr>\n",
       "      <th>8</th>\n",
       "      <td>Wednesday</td>\n",
       "      <td>0.004560</td>\n",
       "    </tr>\n",
       "    <tr>\n",
       "      <th>3</th>\n",
       "      <td>Fall</td>\n",
       "      <td>0.003678</td>\n",
       "    </tr>\n",
       "    <tr>\n",
       "      <th>1</th>\n",
       "      <td>Afternoon</td>\n",
       "      <td>0.003530</td>\n",
       "    </tr>\n",
       "    <tr>\n",
       "      <th>0</th>\n",
       "      <td>Morning</td>\n",
       "      <td>0.003530</td>\n",
       "    </tr>\n",
       "    <tr>\n",
       "      <th>5</th>\n",
       "      <td>Spring</td>\n",
       "      <td>0.002795</td>\n",
       "    </tr>\n",
       "    <tr>\n",
       "      <th>10</th>\n",
       "      <td>Friday</td>\n",
       "      <td>0.002648</td>\n",
       "    </tr>\n",
       "    <tr>\n",
       "      <th>2</th>\n",
       "      <td>Evening</td>\n",
       "      <td>0.002501</td>\n",
       "    </tr>\n",
       "    <tr>\n",
       "      <th>9</th>\n",
       "      <td>Thursday</td>\n",
       "      <td>0.002354</td>\n",
       "    </tr>\n",
       "    <tr>\n",
       "      <th>12</th>\n",
       "      <td>Sunday</td>\n",
       "      <td>0.002354</td>\n",
       "    </tr>\n",
       "    <tr>\n",
       "      <th>7</th>\n",
       "      <td>Tuesday</td>\n",
       "      <td>0.002354</td>\n",
       "    </tr>\n",
       "    <tr>\n",
       "      <th>4</th>\n",
       "      <td>Winter</td>\n",
       "      <td>0.002207</td>\n",
       "    </tr>\n",
       "    <tr>\n",
       "      <th>6</th>\n",
       "      <td>Monday</td>\n",
       "      <td>0.002059</td>\n",
       "    </tr>\n",
       "    <tr>\n",
       "      <th>33</th>\n",
       "      <td>VendorID_1_0</td>\n",
       "      <td>0.002059</td>\n",
       "    </tr>\n",
       "    <tr>\n",
       "      <th>26</th>\n",
       "      <td>Pickup_Gvs</td>\n",
       "      <td>0.001618</td>\n",
       "    </tr>\n",
       "    <tr>\n",
       "      <th>42</th>\n",
       "      <td>Rain</td>\n",
       "      <td>0.001618</td>\n",
       "    </tr>\n",
       "    <tr>\n",
       "      <th>18</th>\n",
       "      <td>dropoff_Les</td>\n",
       "      <td>0.000883</td>\n",
       "    </tr>\n",
       "    <tr>\n",
       "      <th>43</th>\n",
       "      <td>Fog</td>\n",
       "      <td>0.000883</td>\n",
       "    </tr>\n",
       "    <tr>\n",
       "      <th>14</th>\n",
       "      <td>dropoff_GM</td>\n",
       "      <td>0.000883</td>\n",
       "    </tr>\n",
       "    <tr>\n",
       "      <th>20</th>\n",
       "      <td>dropoff_Wq</td>\n",
       "      <td>0.000736</td>\n",
       "    </tr>\n",
       "    <tr>\n",
       "      <th>32</th>\n",
       "      <td>Pickup_Nq</td>\n",
       "      <td>0.000736</td>\n",
       "    </tr>\n",
       "    <tr>\n",
       "      <th>34</th>\n",
       "      <td>store_and_fwd_flag_1_0</td>\n",
       "      <td>0.000588</td>\n",
       "    </tr>\n",
       "    <tr>\n",
       "      <th>15</th>\n",
       "      <td>dropoff_ues</td>\n",
       "      <td>0.000588</td>\n",
       "    </tr>\n",
       "    <tr>\n",
       "      <th>24</th>\n",
       "      <td>Pickup_GM</td>\n",
       "      <td>0.000588</td>\n",
       "    </tr>\n",
       "    <tr>\n",
       "      <th>44</th>\n",
       "      <td>Snow</td>\n",
       "      <td>0.000588</td>\n",
       "    </tr>\n",
       "    <tr>\n",
       "      <th>52</th>\n",
       "      <td>ptype_cash</td>\n",
       "      <td>0.000588</td>\n",
       "    </tr>\n",
       "    <tr>\n",
       "      <th>51</th>\n",
       "      <td>ptype_CCard</td>\n",
       "      <td>0.000441</td>\n",
       "    </tr>\n",
       "    <tr>\n",
       "      <th>53</th>\n",
       "      <td>ptype_nocharge</td>\n",
       "      <td>0.000441</td>\n",
       "    </tr>\n",
       "    <tr>\n",
       "      <th>39</th>\n",
       "      <td>RateCode_Negotiated</td>\n",
       "      <td>0.000441</td>\n",
       "    </tr>\n",
       "    <tr>\n",
       "      <th>28</th>\n",
       "      <td>Pickup_Les</td>\n",
       "      <td>0.000441</td>\n",
       "    </tr>\n",
       "    <tr>\n",
       "      <th>11</th>\n",
       "      <td>Saturday</td>\n",
       "      <td>0.000441</td>\n",
       "    </tr>\n",
       "    <tr>\n",
       "      <th>13</th>\n",
       "      <td>dropoff_cc</td>\n",
       "      <td>0.000441</td>\n",
       "    </tr>\n",
       "    <tr>\n",
       "      <th>16</th>\n",
       "      <td>dropoff_Gvs</td>\n",
       "      <td>0.000441</td>\n",
       "    </tr>\n",
       "    <tr>\n",
       "      <th>30</th>\n",
       "      <td>Pickup_Wq</td>\n",
       "      <td>0.000441</td>\n",
       "    </tr>\n",
       "    <tr>\n",
       "      <th>29</th>\n",
       "      <td>Pickup_Lm</td>\n",
       "      <td>0.000441</td>\n",
       "    </tr>\n",
       "    <tr>\n",
       "      <th>23</th>\n",
       "      <td>Pickup_cc</td>\n",
       "      <td>0.000441</td>\n",
       "    </tr>\n",
       "    <tr>\n",
       "      <th>19</th>\n",
       "      <td>dropoff_Lm</td>\n",
       "      <td>0.000294</td>\n",
       "    </tr>\n",
       "    <tr>\n",
       "      <th>25</th>\n",
       "      <td>Pickup_ues</td>\n",
       "      <td>0.000294</td>\n",
       "    </tr>\n",
       "    <tr>\n",
       "      <th>35</th>\n",
       "      <td>RateCode_stdrate</td>\n",
       "      <td>0.000147</td>\n",
       "    </tr>\n",
       "    <tr>\n",
       "      <th>54</th>\n",
       "      <td>ptype_dispute</td>\n",
       "      <td>0.000147</td>\n",
       "    </tr>\n",
       "    <tr>\n",
       "      <th>27</th>\n",
       "      <td>Pickup_Uws</td>\n",
       "      <td>0.000147</td>\n",
       "    </tr>\n",
       "    <tr>\n",
       "      <th>36</th>\n",
       "      <td>RateCode_JFK</td>\n",
       "      <td>0.000147</td>\n",
       "    </tr>\n",
       "    <tr>\n",
       "      <th>17</th>\n",
       "      <td>dropoff_Uws</td>\n",
       "      <td>0.000147</td>\n",
       "    </tr>\n",
       "    <tr>\n",
       "      <th>45</th>\n",
       "      <td>Holiday</td>\n",
       "      <td>0.000000</td>\n",
       "    </tr>\n",
       "    <tr>\n",
       "      <th>21</th>\n",
       "      <td>dropoff_Nb</td>\n",
       "      <td>0.000000</td>\n",
       "    </tr>\n",
       "    <tr>\n",
       "      <th>22</th>\n",
       "      <td>dropoff_ch</td>\n",
       "      <td>0.000000</td>\n",
       "    </tr>\n",
       "    <tr>\n",
       "      <th>40</th>\n",
       "      <td>RateCode_Group</td>\n",
       "      <td>0.000000</td>\n",
       "    </tr>\n",
       "    <tr>\n",
       "      <th>31</th>\n",
       "      <td>Pickup_Nb</td>\n",
       "      <td>0.000000</td>\n",
       "    </tr>\n",
       "    <tr>\n",
       "      <th>38</th>\n",
       "      <td>RateCode_Nassau_W</td>\n",
       "      <td>0.000000</td>\n",
       "    </tr>\n",
       "    <tr>\n",
       "      <th>37</th>\n",
       "      <td>RateCode_Newark</td>\n",
       "      <td>0.000000</td>\n",
       "    </tr>\n",
       "    <tr>\n",
       "      <th>55</th>\n",
       "      <td>ptype_voidtrip</td>\n",
       "      <td>0.000000</td>\n",
       "    </tr>\n",
       "  </tbody>\n",
       "</table>\n",
       "</div>"
      ],
      "text/plain": [
       "                   feature  importance\n",
       "41              avg_temp_C    0.779935\n",
       "49        dropoff_latitude    0.042513\n",
       "50            total_amount    0.033833\n",
       "46        pickup_longitude    0.033392\n",
       "48       dropoff_longitude    0.029568\n",
       "47         pickup_latitude    0.028096\n",
       "8                Wednesday    0.004560\n",
       "3                     Fall    0.003678\n",
       "1                Afternoon    0.003530\n",
       "0                  Morning    0.003530\n",
       "5                   Spring    0.002795\n",
       "10                  Friday    0.002648\n",
       "2                  Evening    0.002501\n",
       "9                 Thursday    0.002354\n",
       "12                  Sunday    0.002354\n",
       "7                  Tuesday    0.002354\n",
       "4                   Winter    0.002207\n",
       "6                   Monday    0.002059\n",
       "33            VendorID_1_0    0.002059\n",
       "26              Pickup_Gvs    0.001618\n",
       "42                    Rain    0.001618\n",
       "18             dropoff_Les    0.000883\n",
       "43                     Fog    0.000883\n",
       "14              dropoff_GM    0.000883\n",
       "20              dropoff_Wq    0.000736\n",
       "32               Pickup_Nq    0.000736\n",
       "34  store_and_fwd_flag_1_0    0.000588\n",
       "15             dropoff_ues    0.000588\n",
       "24               Pickup_GM    0.000588\n",
       "44                    Snow    0.000588\n",
       "52              ptype_cash    0.000588\n",
       "51             ptype_CCard    0.000441\n",
       "53          ptype_nocharge    0.000441\n",
       "39     RateCode_Negotiated    0.000441\n",
       "28              Pickup_Les    0.000441\n",
       "11                Saturday    0.000441\n",
       "13              dropoff_cc    0.000441\n",
       "16             dropoff_Gvs    0.000441\n",
       "30               Pickup_Wq    0.000441\n",
       "29               Pickup_Lm    0.000441\n",
       "23               Pickup_cc    0.000441\n",
       "19              dropoff_Lm    0.000294\n",
       "25              Pickup_ues    0.000294\n",
       "35        RateCode_stdrate    0.000147\n",
       "54           ptype_dispute    0.000147\n",
       "27              Pickup_Uws    0.000147\n",
       "36            RateCode_JFK    0.000147\n",
       "17             dropoff_Uws    0.000147\n",
       "45                 Holiday    0.000000\n",
       "21              dropoff_Nb    0.000000\n",
       "22              dropoff_ch    0.000000\n",
       "40          RateCode_Group    0.000000\n",
       "31               Pickup_Nb    0.000000\n",
       "38       RateCode_Nassau_W    0.000000\n",
       "37         RateCode_Newark    0.000000\n",
       "55          ptype_voidtrip    0.000000"
      ]
     },
     "execution_count": 240,
     "metadata": {},
     "output_type": "execute_result"
    }
   ],
   "source": [
    "#Most important features for predicting Duration\n",
    "feature_importance_dura"
   ]
  },
  {
   "cell_type": "code",
   "execution_count": 241,
   "metadata": {},
   "outputs": [],
   "source": [
    "##----------------------------------Model Comparison:--------------------------------------------------------"
   ]
  },
  {
   "cell_type": "code",
   "execution_count": 242,
   "metadata": {},
   "outputs": [],
   "source": [
    "#1)Trip Duration---------------"
   ]
  },
  {
   "cell_type": "code",
   "execution_count": 243,
   "metadata": {},
   "outputs": [
    {
     "data": {
      "text/plain": [
       "float"
      ]
     },
     "execution_count": 243,
     "metadata": {},
     "output_type": "execute_result"
    }
   ],
   "source": [
    "type(rmsegbt_dur)"
   ]
  },
  {
   "cell_type": "code",
   "execution_count": 244,
   "metadata": {},
   "outputs": [
    {
     "data": {
      "text/plain": [
       "float"
      ]
     },
     "execution_count": 244,
     "metadata": {},
     "output_type": "execute_result"
    }
   ],
   "source": [
    "type(rmserandom_dura)"
   ]
  },
  {
   "cell_type": "code",
   "execution_count": 245,
   "metadata": {},
   "outputs": [
    {
     "data": {
      "text/plain": [
       "pyspark.sql.dataframe.DataFrame"
      ]
     },
     "execution_count": 245,
     "metadata": {},
     "output_type": "execute_result"
    }
   ],
   "source": [
    "type(rmse1_df_dura)"
   ]
  },
  {
   "cell_type": "code",
   "execution_count": 246,
   "metadata": {},
   "outputs": [],
   "source": [
    "#result\n",
    "pdrmse_dura=rmse1_df_dura.toPandas()"
   ]
  },
  {
   "cell_type": "code",
   "execution_count": 247,
   "metadata": {},
   "outputs": [
    {
     "data": {
      "text/html": [
       "<div>\n",
       "<style scoped>\n",
       "    .dataframe tbody tr th:only-of-type {\n",
       "        vertical-align: middle;\n",
       "    }\n",
       "\n",
       "    .dataframe tbody tr th {\n",
       "        vertical-align: top;\n",
       "    }\n",
       "\n",
       "    .dataframe thead th {\n",
       "        text-align: right;\n",
       "    }\n",
       "</style>\n",
       "<table border=\"1\" class=\"dataframe\">\n",
       "  <thead>\n",
       "    <tr style=\"text-align: right;\">\n",
       "      <th></th>\n",
       "      <th>rmse_dura</th>\n",
       "    </tr>\n",
       "  </thead>\n",
       "  <tbody>\n",
       "    <tr>\n",
       "      <th>0</th>\n",
       "      <td>0.014825</td>\n",
       "    </tr>\n",
       "  </tbody>\n",
       "</table>\n",
       "</div>"
      ],
      "text/plain": [
       "   rmse_dura\n",
       "0   0.014825"
      ]
     },
     "execution_count": 247,
     "metadata": {},
     "output_type": "execute_result"
    }
   ],
   "source": [
    "pdrmse_dura.head()"
   ]
  },
  {
   "cell_type": "code",
   "execution_count": 248,
   "metadata": {},
   "outputs": [],
   "source": [
    "value_dura= pdrmse_dura.iloc[0,0]"
   ]
  },
  {
   "cell_type": "code",
   "execution_count": 249,
   "metadata": {},
   "outputs": [
    {
     "data": {
      "text/plain": [
       "0.01482460564774702"
      ]
     },
     "execution_count": 249,
     "metadata": {},
     "output_type": "execute_result"
    }
   ],
   "source": [
    "value_dura"
   ]
  },
  {
   "cell_type": "code",
   "execution_count": 250,
   "metadata": {},
   "outputs": [],
   "source": [
    "regression_dura = pd.DataFrame({\"regression\" : [\"Linear Regression\", \"Random Forest\", \"Gradient Boosting Regression\"], \"rmse\" : [value_dura, rmserandom_dura, rmsegbt_dur]}, columns = [\"regression\", \"rmse\"])"
   ]
  },
  {
   "cell_type": "code",
   "execution_count": 251,
   "metadata": {},
   "outputs": [],
   "source": [
    "regression_dura = regression_dura.sort_values(by = \"rmse\", ascending = False)"
   ]
  },
  {
   "cell_type": "code",
   "execution_count": 334,
   "metadata": {},
   "outputs": [],
   "source": [
    "# import seaborn as sns\n",
    "# sns.barplot(regression_dura[\"rmse\"], regression_dura[\"regression\"])\n",
    "# plt.xlabel(\"Root Mean Square Error\")\n",
    "# plt.ylabel(\"Regression Type\")\n",
    "# plt.title(\"Comparing the different types of Regression models Used for Duration\")"
   ]
  },
  {
   "cell_type": "code",
   "execution_count": 253,
   "metadata": {},
   "outputs": [],
   "source": [
    "#2)Total Amount---------------"
   ]
  },
  {
   "cell_type": "code",
   "execution_count": 254,
   "metadata": {},
   "outputs": [
    {
     "data": {
      "text/plain": [
       "float"
      ]
     },
     "execution_count": 254,
     "metadata": {},
     "output_type": "execute_result"
    }
   ],
   "source": [
    "type(rmsegbt_amt)"
   ]
  },
  {
   "cell_type": "code",
   "execution_count": 255,
   "metadata": {},
   "outputs": [
    {
     "data": {
      "text/plain": [
       "float"
      ]
     },
     "execution_count": 255,
     "metadata": {},
     "output_type": "execute_result"
    }
   ],
   "source": [
    "type(rmserandom_amt)"
   ]
  },
  {
   "cell_type": "code",
   "execution_count": 256,
   "metadata": {},
   "outputs": [
    {
     "data": {
      "text/plain": [
       "pyspark.sql.dataframe.DataFrame"
      ]
     },
     "execution_count": 256,
     "metadata": {},
     "output_type": "execute_result"
    }
   ],
   "source": [
    "type(rmse1_df_amt_linear)"
   ]
  },
  {
   "cell_type": "code",
   "execution_count": 257,
   "metadata": {},
   "outputs": [],
   "source": [
    "#result\n",
    "pdrmse=rmse1_df_amt_linear.toPandas()"
   ]
  },
  {
   "cell_type": "code",
   "execution_count": 258,
   "metadata": {},
   "outputs": [
    {
     "data": {
      "text/html": [
       "<div>\n",
       "<style scoped>\n",
       "    .dataframe tbody tr th:only-of-type {\n",
       "        vertical-align: middle;\n",
       "    }\n",
       "\n",
       "    .dataframe tbody tr th {\n",
       "        vertical-align: top;\n",
       "    }\n",
       "\n",
       "    .dataframe thead th {\n",
       "        text-align: right;\n",
       "    }\n",
       "</style>\n",
       "<table border=\"1\" class=\"dataframe\">\n",
       "  <thead>\n",
       "    <tr style=\"text-align: right;\">\n",
       "      <th></th>\n",
       "      <th>rmse_amt</th>\n",
       "    </tr>\n",
       "  </thead>\n",
       "  <tbody>\n",
       "    <tr>\n",
       "      <th>0</th>\n",
       "      <td>3.665236</td>\n",
       "    </tr>\n",
       "  </tbody>\n",
       "</table>\n",
       "</div>"
      ],
      "text/plain": [
       "   rmse_amt\n",
       "0  3.665236"
      ]
     },
     "execution_count": 258,
     "metadata": {},
     "output_type": "execute_result"
    }
   ],
   "source": [
    "pdrmse.head()"
   ]
  },
  {
   "cell_type": "code",
   "execution_count": 259,
   "metadata": {},
   "outputs": [],
   "source": [
    "value= pdrmse.iloc[0,0]"
   ]
  },
  {
   "cell_type": "code",
   "execution_count": 260,
   "metadata": {},
   "outputs": [
    {
     "data": {
      "text/plain": [
       "3.665235900726855"
      ]
     },
     "execution_count": 260,
     "metadata": {},
     "output_type": "execute_result"
    }
   ],
   "source": [
    "value"
   ]
  },
  {
   "cell_type": "code",
   "execution_count": 261,
   "metadata": {},
   "outputs": [],
   "source": [
    "regression = pd.DataFrame({\"regression\" : [\"Linear Regression\", \"Random Forest\", \"Gradient Boosting Regression\"], \"rmse\" : [value, rmserandom_amt, rmsegbt_amt]}, columns = [\"regression\", \"rmse\"])"
   ]
  },
  {
   "cell_type": "code",
   "execution_count": 262,
   "metadata": {},
   "outputs": [],
   "source": [
    "regression = regression.sort_values(by = \"rmse\", ascending = False)"
   ]
  },
  {
   "cell_type": "code",
   "execution_count": 263,
   "metadata": {},
   "outputs": [
    {
     "data": {
      "text/plain": [
       "Text(0.5,1,'Comparing the different types of Regression models Used for Total Amount')"
      ]
     },
     "execution_count": 263,
     "metadata": {},
     "output_type": "execute_result"
    },
    {
     "data": {
      "image/png": "[encoded data removed]",
      "text/plain": [
       "<Figure size 432x288 with 1 Axes>"
      ]
     },
     "metadata": {},
     "output_type": "display_data"
    }
   ],
   "source": [
    "import seaborn as sns\n",
    "sns.barplot(regression[\"rmse\"], regression[\"regression\"])\n",
    "plt.xlabel(\"Root Mean Square Error\")\n",
    "plt.ylabel(\"Regression Type\")\n",
    "plt.title(\"Comparing the different types of Regression models Used for Total Amount\")"
   ]
  },
  {
   "cell_type": "code",
   "execution_count": 264,
   "metadata": {},
   "outputs": [],
   "source": [
    "#This concludes our work."
   ]
  },
  {
   "cell_type": "code",
   "execution_count": null,
   "metadata": {},
   "outputs": [],
   "source": []
  },
  {
   "cell_type": "code",
   "execution_count": null,
   "metadata": {},
   "outputs": [],
   "source": []
  },
  {
   "cell_type": "code",
   "execution_count": null,
   "metadata": {},
   "outputs": [],
   "source": []
  }
 ],
 "metadata": {
  "anaconda-cloud": {},
  "kernelspec": {
   "display_name": "Python 3",
   "language": "python",
   "name": "python3"
  },
  "language_info": {
   "codemirror_mode": {
    "name": "ipython",
    "version": 3
   },
   "file_extension": ".py",
   "mimetype": "text/x-python",
   "name": "python",
   "nbconvert_exporter": "python",
   "pygments_lexer": "ipython3",
   "version": "3.6.8"
  },
  "toc": {
   "base_numbering": 1,
   "nav_menu": {},
   "number_sections": true,
   "sideBar": true,
   "skip_h1_title": false,
   "title_cell": "Table of Contents",
   "title_sidebar": "Contents",
   "toc_cell": false,
   "toc_position": {},
   "toc_section_display": true,
   "toc_window_display": false
  },
  "varInspector": {
   "cols": {
    "lenName": 16,
    "lenType": 16,
    "lenVar": 40
   },
   "kernels_config": {
    "python": {
     "delete_cmd_postfix": "",
     "delete_cmd_prefix": "del ",
     "library": "var_list.py",
     "varRefreshCmd": "print(var_dic_list())"
    },
    "r": {
     "delete_cmd_postfix": ") ",
     "delete_cmd_prefix": "rm(",
     "library": "var_list.r",
     "varRefreshCmd": "cat(var_dic_list()) "
    }
   },
   "types_to_exclude": [
    "module",
    "function",
    "builtin_function_or_method",
    "instance",
    "_Feature"
   ],
   "window_display": false
  }
 },
 "nbformat": 4,
 "nbformat_minor": 2
}
